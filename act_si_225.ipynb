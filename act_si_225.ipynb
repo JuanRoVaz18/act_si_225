{
  "nbformat": 4,
  "nbformat_minor": 0,
  "metadata": {
    "colab": {
      "provenance": [],
      "include_colab_link": true
    },
    "kernelspec": {
      "name": "python3",
      "display_name": "Python 3"
    },
    "language_info": {
      "name": "python"
    }
  },
  "cells": [
    {
      "cell_type": "markdown",
      "metadata": {
        "id": "view-in-github",
        "colab_type": "text"
      },
      "source": [
        "<a href=\"https://colab.research.google.com/github/JuanRoVaz18/act_si_225/blob/main/act_si_225.ipynb\" target=\"_parent\"><img src=\"https://colab.research.google.com/assets/colab-badge.svg\" alt=\"Open In Colab\"/></a>"
      ]
    },
    {
      "cell_type": "markdown",
      "source": [
        "#1) Setup (cloning and installation)\n",
        "What you do:\n",
        "\n",
        "git clone downloads the code for the tool (the scraper).\n",
        "\n",
        "%cd enters that folder.\n",
        "\n",
        "pip install -r ... installs the exact library versions the scraper needs"
      ],
      "metadata": {
        "id": "bzIwDsYt04lK"
      }
    },
    {
      "cell_type": "code",
      "execution_count": 1,
      "metadata": {
        "colab": {
          "base_uri": "https://localhost:8080/"
        },
        "id": "SCKKaaQtaDZE",
        "outputId": "5d09631b-9830-47bb-a85f-0959965a0b00"
      },
      "outputs": [
        {
          "output_type": "stream",
          "name": "stdout",
          "text": [
            "fatal: destination path 'booking-reviews-scraper' already exists and is not an empty directory.\n",
            "/content/booking-reviews-scraper\n",
            "Requirement already satisfied: beautifulsoup4==4.12.2 in /usr/local/lib/python3.12/dist-packages (from -r requirements.txt (line 1)) (4.12.2)\n",
            "Requirement already satisfied: numpy==1.26.2 in /usr/local/lib/python3.12/dist-packages (from -r requirements.txt (line 2)) (1.26.2)\n",
            "Requirement already satisfied: pydantic==2.4.2 in /usr/local/lib/python3.12/dist-packages (from -r requirements.txt (line 3)) (2.4.2)\n",
            "Requirement already satisfied: python_dateutil==2.8.2 in /usr/local/lib/python3.12/dist-packages (from -r requirements.txt (line 4)) (2.8.2)\n",
            "Requirement already satisfied: PyYAML==6.0.1 in /usr/local/lib/python3.12/dist-packages (from -r requirements.txt (line 5)) (6.0.1)\n",
            "Requirement already satisfied: Requests==2.31.0 in /usr/local/lib/python3.12/dist-packages (from -r requirements.txt (line 6)) (2.31.0)\n",
            "Requirement already satisfied: typer==0.9.0 in /usr/local/lib/python3.12/dist-packages (from -r requirements.txt (line 7)) (0.9.0)\n",
            "Requirement already satisfied: typing_extensions==4.8.0 in /usr/local/lib/python3.12/dist-packages (from -r requirements.txt (line 8)) (4.8.0)\n",
            "Requirement already satisfied: soupsieve>1.2 in /usr/local/lib/python3.12/dist-packages (from beautifulsoup4==4.12.2->-r requirements.txt (line 1)) (2.8)\n",
            "Requirement already satisfied: annotated-types>=0.4.0 in /usr/local/lib/python3.12/dist-packages (from pydantic==2.4.2->-r requirements.txt (line 3)) (0.7.0)\n",
            "Requirement already satisfied: pydantic-core==2.10.1 in /usr/local/lib/python3.12/dist-packages (from pydantic==2.4.2->-r requirements.txt (line 3)) (2.10.1)\n",
            "Requirement already satisfied: six>=1.5 in /usr/local/lib/python3.12/dist-packages (from python_dateutil==2.8.2->-r requirements.txt (line 4)) (1.17.0)\n",
            "Requirement already satisfied: charset-normalizer<4,>=2 in /usr/local/lib/python3.12/dist-packages (from Requests==2.31.0->-r requirements.txt (line 6)) (3.4.3)\n",
            "Requirement already satisfied: idna<4,>=2.5 in /usr/local/lib/python3.12/dist-packages (from Requests==2.31.0->-r requirements.txt (line 6)) (3.10)\n",
            "Requirement already satisfied: urllib3<3,>=1.21.1 in /usr/local/lib/python3.12/dist-packages (from Requests==2.31.0->-r requirements.txt (line 6)) (2.5.0)\n",
            "Requirement already satisfied: certifi>=2017.4.17 in /usr/local/lib/python3.12/dist-packages (from Requests==2.31.0->-r requirements.txt (line 6)) (2025.8.3)\n",
            "Requirement already satisfied: click<9.0.0,>=7.1.1 in /usr/local/lib/python3.12/dist-packages (from typer==0.9.0->-r requirements.txt (line 7)) (8.3.0)\n"
          ]
        }
      ],
      "source": [
        "# 1) Clone the scraper and install its dependencies\n",
        "!git clone https://github.com/sudoknight/booking-reviews-scraper.git\n",
        "%cd /content/booking-reviews-scraper\n",
        "!pip install -r requirements.txt\n"
      ]
    },
    {
      "cell_type": "markdown",
      "source": [
        "#2) Parameters and OUTPUT_DIR\n",
        "What you do: Define the extraction parameters and tell the scraper where to save the CSVs.\n",
        "\n",
        "Why: Parameterization = reproducibility. If you don't specify OUTPUT_DIR, the CSV won't appear.\n",
        "\n",
        "What you should see: OUTPUT_DIR: /content/data."
      ],
      "metadata": {
        "id": "cbkUAGeA07OO"
      }
    },
    {
      "cell_type": "code",
      "source": [
        "# 2) Set parameters (hotel slug, country, sort, requested number of reviews) and output folder\n",
        "import yaml, pathlib, os\n",
        "\n",
        "HOTEL_NAME = \"ibis-quito\"       # hotel slug after /hotel/<country>/ in the Booking URL\n",
        "COUNTRY    = \"ec\"               # ISO alpha-2: \"ec\" for Ecuador, \"us\" for USA, etc.\n",
        "SORT_BY    = \"newest_first\"     # or: most_relevant, oldest_first, highest_scores, lowest_scores\n",
        "N_REVIEWS  = 1500               # ask for ~1500 to try to capture ~1200 available; actual may be less\n",
        "\n",
        "OUTPUT_DIR = \"/content/data\"\n",
        "pathlib.Path(OUTPUT_DIR).mkdir(parents=True, exist_ok=True)\n",
        "\n",
        "# write OUTPUT_DIR into the project's config.yml so the scraper saves there\n",
        "cfg_path = \"/content/booking-reviews-scraper/config.yml\"\n",
        "with open(cfg_path) as f:\n",
        "    cfg = yaml.safe_load(f)\n",
        "cfg[\"OUTPUT_DIR\"] = OUTPUT_DIR\n",
        "with open(cfg_path, \"w\") as f:\n",
        "    yaml.safe_dump(cfg, f)\n",
        "\n",
        "print(\"OUTPUT_DIR:\", cfg[\"OUTPUT_DIR\"])\n"
      ],
      "metadata": {
        "colab": {
          "base_uri": "https://localhost:8080/"
        },
        "id": "lFD1D8kaaJuM",
        "outputId": "ec45b0d3-9880-4c1a-8403-248c73ba7132"
      },
      "execution_count": 2,
      "outputs": [
        {
          "output_type": "stream",
          "name": "stdout",
          "text": [
            "OUTPUT_DIR: /content/data\n"
          ]
        }
      ]
    },
    {
      "cell_type": "markdown",
      "source": [
        "3) Run the scraper\n",
        "What you do: Run the tool's CLI run.py with your hotel (ibis-quito) and country (ec). Why: Downloads the review pages, parses them, and creates CSVs. What you should see: Process logs; upon completion, there will be a timestamped folder inside /content/data containing reviews_*.csv."
      ],
      "metadata": {
        "id": "rqeppjw-Ha17"
      }
    },
    {
      "cell_type": "code",
      "source": [
        "# 1) Ir a la carpeta del proyecto\n",
        "%cd /content/booking-reviews-scraper\n",
        "\n",
        "# 2) Importar y ejecutar directamente (sin Typer/CLI)\n",
        "from run import execute\n",
        "\n",
        "# Usa tus variables ya definidas en la celda de parámetros\n",
        "execute(HOTEL_NAME, COUNTRY, SORT_BY, N_REVIEWS)\n"
      ],
      "metadata": {
        "colab": {
          "base_uri": "https://localhost:8080/"
        },
        "id": "5-hF3ieoHd04",
        "outputId": "a972dc03-6530-479c-84a6-8f383cc53553"
      },
      "execution_count": 3,
      "outputs": [
        {
          "output_type": "stream",
          "name": "stdout",
          "text": [
            "/content/booking-reviews-scraper\n"
          ]
        },
        {
          "output_type": "stream",
          "name": "stderr",
          "text": [
            "INFO:root:\n",
            "\n",
            "******** Input Params ********\n",
            "-->  country: ec\n",
            "-->  hotel_name: ibis-quito\n",
            "-->  sort_by: newest_first\n",
            "-->  n_rows: 1500\n",
            "-->  stop_critera: None\n",
            "************************\n",
            "\n",
            "\n"
          ]
        },
        {
          "output_type": "stream",
          "name": "stdout",
          "text": [
            "2025-10-04 21:22:32,959 - root - INFO - \n",
            "\n",
            "******** Input Params ********\n",
            "-->  country: ec\n",
            "-->  hotel_name: ibis-quito\n",
            "-->  sort_by: newest_first\n",
            "-->  n_rows: 1500\n",
            "-->  stop_critera: None\n",
            "************************\n",
            "\n",
            "\n"
          ]
        },
        {
          "output_type": "stream",
          "name": "stderr",
          "text": [
            "INFO:root:Creating URLs\n"
          ]
        },
        {
          "output_type": "stream",
          "name": "stdout",
          "text": [
            "2025-10-04 21:22:32,962 - root - INFO - Creating URLs\n"
          ]
        },
        {
          "output_type": "stream",
          "name": "stderr",
          "text": [
            "INFO:root:Checking max offset parameter value\n"
          ]
        },
        {
          "output_type": "stream",
          "name": "stdout",
          "text": [
            "2025-10-04 21:22:32,965 - root - INFO - Checking max offset parameter value\n"
          ]
        },
        {
          "output_type": "stream",
          "name": "stderr",
          "text": [
            "INFO:root:Offset parameter max value: 1200\n"
          ]
        },
        {
          "output_type": "stream",
          "name": "stdout",
          "text": [
            "2025-10-04 21:22:33,572 - root - INFO - Offset parameter max value: 1200\n"
          ]
        },
        {
          "output_type": "stream",
          "name": "stderr",
          "text": [
            "INFO:root:Created URLs: 121\n"
          ]
        },
        {
          "output_type": "stream",
          "name": "stdout",
          "text": [
            "2025-10-04 21:22:33,590 - root - INFO - Created URLs: 121\n"
          ]
        },
        {
          "output_type": "stream",
          "name": "stderr",
          "text": [
            "INFO:root:Progress Monitoring Thread Started\n"
          ]
        },
        {
          "output_type": "stream",
          "name": "stdout",
          "text": [
            "2025-10-04 21:22:33,593 - root - INFO - Progress Monitoring Thread Started\n"
          ]
        },
        {
          "output_type": "stream",
          "name": "stderr",
          "text": [
            "INFO:root:Starting Conditional Scraping on 121 urls\n"
          ]
        },
        {
          "output_type": "stream",
          "name": "stdout",
          "text": [
            "2025-10-04 21:22:33,594 - root - INFO - Starting Conditional Scraping on 121 urls\n"
          ]
        },
        {
          "output_type": "stream",
          "name": "stderr",
          "text": [
            "WARNING:root:Retrying 1 ... https://www.booking.com/reviewlist.en-gb.html?cc1=ec&pagename=ibis-quito&rows=10&sort=f_recent_desc&offset=10\n"
          ]
        },
        {
          "output_type": "stream",
          "name": "stdout",
          "text": [
            "2025-10-04 21:22:34,650 - root - WARNING - Retrying 1 ... https://www.booking.com/reviewlist.en-gb.html?cc1=ec&pagename=ibis-quito&rows=10&sort=f_recent_desc&offset=10\n"
          ]
        },
        {
          "output_type": "stream",
          "name": "stderr",
          "text": [
            "INFO:root:Processed 2/121\n"
          ]
        },
        {
          "output_type": "stream",
          "name": "stdout",
          "text": [
            "2025-10-04 21:22:35,602 - root - INFO - Processed 2/121\n"
          ]
        },
        {
          "output_type": "stream",
          "name": "stderr",
          "text": [
            "INFO:root:Processed 4/121\n"
          ]
        },
        {
          "output_type": "stream",
          "name": "stdout",
          "text": [
            "2025-10-04 21:22:37,609 - root - INFO - Processed 4/121\n"
          ]
        },
        {
          "output_type": "stream",
          "name": "stderr",
          "text": [
            "WARNING:root:Retrying 1 ... https://www.booking.com/reviewlist.en-gb.html?cc1=ec&pagename=ibis-quito&rows=10&sort=f_recent_desc&offset=50\n"
          ]
        },
        {
          "output_type": "stream",
          "name": "stdout",
          "text": [
            "2025-10-04 21:22:38,379 - root - WARNING - Retrying 1 ... https://www.booking.com/reviewlist.en-gb.html?cc1=ec&pagename=ibis-quito&rows=10&sort=f_recent_desc&offset=50\n"
          ]
        },
        {
          "output_type": "stream",
          "name": "stderr",
          "text": [
            "WARNING:root:Retrying 2 ... https://www.booking.com/reviewlist.en-gb.html?cc1=ec&pagename=ibis-quito&rows=10&sort=f_recent_desc&offset=50\n"
          ]
        },
        {
          "output_type": "stream",
          "name": "stdout",
          "text": [
            "2025-10-04 21:22:38,781 - root - WARNING - Retrying 2 ... https://www.booking.com/reviewlist.en-gb.html?cc1=ec&pagename=ibis-quito&rows=10&sort=f_recent_desc&offset=50\n"
          ]
        },
        {
          "output_type": "stream",
          "name": "stderr",
          "text": [
            "INFO:root:Processed 6/121\n"
          ]
        },
        {
          "output_type": "stream",
          "name": "stdout",
          "text": [
            "2025-10-04 21:22:39,612 - root - INFO - Processed 6/121\n"
          ]
        },
        {
          "output_type": "stream",
          "name": "stderr",
          "text": [
            "WARNING:root:Retrying 1 ... https://www.booking.com/reviewlist.en-gb.html?cc1=ec&pagename=ibis-quito&rows=10&sort=f_recent_desc&offset=60\n"
          ]
        },
        {
          "output_type": "stream",
          "name": "stdout",
          "text": [
            "2025-10-04 21:22:39,884 - root - WARNING - Retrying 1 ... https://www.booking.com/reviewlist.en-gb.html?cc1=ec&pagename=ibis-quito&rows=10&sort=f_recent_desc&offset=60\n"
          ]
        },
        {
          "output_type": "stream",
          "name": "stderr",
          "text": [
            "INFO:root:Processed 8/121\n"
          ]
        },
        {
          "output_type": "stream",
          "name": "stdout",
          "text": [
            "2025-10-04 21:22:41,620 - root - INFO - Processed 8/121\n"
          ]
        },
        {
          "output_type": "stream",
          "name": "stderr",
          "text": [
            "INFO:root:Processed 12/121\n"
          ]
        },
        {
          "output_type": "stream",
          "name": "stdout",
          "text": [
            "2025-10-04 21:22:43,622 - root - INFO - Processed 12/121\n"
          ]
        },
        {
          "output_type": "stream",
          "name": "stderr",
          "text": [
            "WARNING:root:Retrying 1 ... https://www.booking.com/reviewlist.en-gb.html?cc1=ec&pagename=ibis-quito&rows=10&sort=f_recent_desc&offset=120\n"
          ]
        },
        {
          "output_type": "stream",
          "name": "stdout",
          "text": [
            "2025-10-04 21:22:43,767 - root - WARNING - Retrying 1 ... https://www.booking.com/reviewlist.en-gb.html?cc1=ec&pagename=ibis-quito&rows=10&sort=f_recent_desc&offset=120\n"
          ]
        },
        {
          "output_type": "stream",
          "name": "stderr",
          "text": [
            "WARNING:root:Retrying 2 ... https://www.booking.com/reviewlist.en-gb.html?cc1=ec&pagename=ibis-quito&rows=10&sort=f_recent_desc&offset=120\n"
          ]
        },
        {
          "output_type": "stream",
          "name": "stdout",
          "text": [
            "2025-10-04 21:22:44,095 - root - WARNING - Retrying 2 ... https://www.booking.com/reviewlist.en-gb.html?cc1=ec&pagename=ibis-quito&rows=10&sort=f_recent_desc&offset=120\n"
          ]
        },
        {
          "output_type": "stream",
          "name": "stderr",
          "text": [
            "WARNING:root:Retrying 1 ... https://www.booking.com/reviewlist.en-gb.html?cc1=ec&pagename=ibis-quito&rows=10&sort=f_recent_desc&offset=130\n"
          ]
        },
        {
          "output_type": "stream",
          "name": "stdout",
          "text": [
            "2025-10-04 21:22:44,981 - root - WARNING - Retrying 1 ... https://www.booking.com/reviewlist.en-gb.html?cc1=ec&pagename=ibis-quito&rows=10&sort=f_recent_desc&offset=130\n"
          ]
        },
        {
          "output_type": "stream",
          "name": "stderr",
          "text": [
            "WARNING:root:Retrying 2 ... https://www.booking.com/reviewlist.en-gb.html?cc1=ec&pagename=ibis-quito&rows=10&sort=f_recent_desc&offset=130\n"
          ]
        },
        {
          "output_type": "stream",
          "name": "stdout",
          "text": [
            "2025-10-04 21:22:45,319 - root - WARNING - Retrying 2 ... https://www.booking.com/reviewlist.en-gb.html?cc1=ec&pagename=ibis-quito&rows=10&sort=f_recent_desc&offset=130\n"
          ]
        },
        {
          "output_type": "stream",
          "name": "stderr",
          "text": [
            "INFO:root:Processed 13/121\n"
          ]
        },
        {
          "output_type": "stream",
          "name": "stdout",
          "text": [
            "2025-10-04 21:22:45,625 - root - INFO - Processed 13/121\n"
          ]
        },
        {
          "output_type": "stream",
          "name": "stderr",
          "text": [
            "WARNING:root:Retrying 1 ... https://www.booking.com/reviewlist.en-gb.html?cc1=ec&pagename=ibis-quito&rows=10&sort=f_recent_desc&offset=140\n"
          ]
        },
        {
          "output_type": "stream",
          "name": "stdout",
          "text": [
            "2025-10-04 21:22:46,240 - root - WARNING - Retrying 1 ... https://www.booking.com/reviewlist.en-gb.html?cc1=ec&pagename=ibis-quito&rows=10&sort=f_recent_desc&offset=140\n"
          ]
        },
        {
          "output_type": "stream",
          "name": "stderr",
          "text": [
            "INFO:root:Processed 16/121\n"
          ]
        },
        {
          "output_type": "stream",
          "name": "stdout",
          "text": [
            "2025-10-04 21:22:47,627 - root - INFO - Processed 16/121\n"
          ]
        },
        {
          "output_type": "stream",
          "name": "stderr",
          "text": [
            "WARNING:root:Retrying 1 ... https://www.booking.com/reviewlist.en-gb.html?cc1=ec&pagename=ibis-quito&rows=10&sort=f_recent_desc&offset=170\n"
          ]
        },
        {
          "output_type": "stream",
          "name": "stdout",
          "text": [
            "2025-10-04 21:22:48,339 - root - WARNING - Retrying 1 ... https://www.booking.com/reviewlist.en-gb.html?cc1=ec&pagename=ibis-quito&rows=10&sort=f_recent_desc&offset=170\n"
          ]
        },
        {
          "output_type": "stream",
          "name": "stderr",
          "text": [
            "WARNING:root:Retrying 1 ... https://www.booking.com/reviewlist.en-gb.html?cc1=ec&pagename=ibis-quito&rows=10&sort=f_recent_desc&offset=180\n"
          ]
        },
        {
          "output_type": "stream",
          "name": "stdout",
          "text": [
            "2025-10-04 21:22:49,244 - root - WARNING - Retrying 1 ... https://www.booking.com/reviewlist.en-gb.html?cc1=ec&pagename=ibis-quito&rows=10&sort=f_recent_desc&offset=180\n"
          ]
        },
        {
          "output_type": "stream",
          "name": "stderr",
          "text": [
            "INFO:root:Processed 18/121\n"
          ]
        },
        {
          "output_type": "stream",
          "name": "stdout",
          "text": [
            "2025-10-04 21:22:49,630 - root - INFO - Processed 18/121\n"
          ]
        },
        {
          "output_type": "stream",
          "name": "stderr",
          "text": [
            "WARNING:root:Retrying 1 ... https://www.booking.com/reviewlist.en-gb.html?cc1=ec&pagename=ibis-quito&rows=10&sort=f_recent_desc&offset=190\n"
          ]
        },
        {
          "output_type": "stream",
          "name": "stdout",
          "text": [
            "2025-10-04 21:22:50,210 - root - WARNING - Retrying 1 ... https://www.booking.com/reviewlist.en-gb.html?cc1=ec&pagename=ibis-quito&rows=10&sort=f_recent_desc&offset=190\n"
          ]
        },
        {
          "output_type": "stream",
          "name": "stderr",
          "text": [
            "WARNING:root:Retrying 2 ... https://www.booking.com/reviewlist.en-gb.html?cc1=ec&pagename=ibis-quito&rows=10&sort=f_recent_desc&offset=190\n"
          ]
        },
        {
          "output_type": "stream",
          "name": "stdout",
          "text": [
            "2025-10-04 21:22:50,532 - root - WARNING - Retrying 2 ... https://www.booking.com/reviewlist.en-gb.html?cc1=ec&pagename=ibis-quito&rows=10&sort=f_recent_desc&offset=190\n"
          ]
        },
        {
          "output_type": "stream",
          "name": "stderr",
          "text": [
            "WARNING:root:Retrying 3 ... https://www.booking.com/reviewlist.en-gb.html?cc1=ec&pagename=ibis-quito&rows=10&sort=f_recent_desc&offset=190\n"
          ]
        },
        {
          "output_type": "stream",
          "name": "stdout",
          "text": [
            "2025-10-04 21:22:51,332 - root - WARNING - Retrying 3 ... https://www.booking.com/reviewlist.en-gb.html?cc1=ec&pagename=ibis-quito&rows=10&sort=f_recent_desc&offset=190\n"
          ]
        },
        {
          "output_type": "stream",
          "name": "stderr",
          "text": [
            "INFO:root:Processed 20/121\n"
          ]
        },
        {
          "output_type": "stream",
          "name": "stdout",
          "text": [
            "2025-10-04 21:22:51,633 - root - INFO - Processed 20/121\n"
          ]
        },
        {
          "output_type": "stream",
          "name": "stderr",
          "text": [
            "WARNING:root:Retrying 1 ... https://www.booking.com/reviewlist.en-gb.html?cc1=ec&pagename=ibis-quito&rows=10&sort=f_recent_desc&offset=200\n"
          ]
        },
        {
          "output_type": "stream",
          "name": "stdout",
          "text": [
            "2025-10-04 21:22:51,672 - root - WARNING - Retrying 1 ... https://www.booking.com/reviewlist.en-gb.html?cc1=ec&pagename=ibis-quito&rows=10&sort=f_recent_desc&offset=200\n"
          ]
        },
        {
          "output_type": "stream",
          "name": "stderr",
          "text": [
            "WARNING:root:Retrying 2 ... https://www.booking.com/reviewlist.en-gb.html?cc1=ec&pagename=ibis-quito&rows=10&sort=f_recent_desc&offset=200\n"
          ]
        },
        {
          "output_type": "stream",
          "name": "stdout",
          "text": [
            "2025-10-04 21:22:51,994 - root - WARNING - Retrying 2 ... https://www.booking.com/reviewlist.en-gb.html?cc1=ec&pagename=ibis-quito&rows=10&sort=f_recent_desc&offset=200\n"
          ]
        },
        {
          "output_type": "stream",
          "name": "stderr",
          "text": [
            "WARNING:root:Retrying 3 ... https://www.booking.com/reviewlist.en-gb.html?cc1=ec&pagename=ibis-quito&rows=10&sort=f_recent_desc&offset=200\n"
          ]
        },
        {
          "output_type": "stream",
          "name": "stdout",
          "text": [
            "2025-10-04 21:22:52,789 - root - WARNING - Retrying 3 ... https://www.booking.com/reviewlist.en-gb.html?cc1=ec&pagename=ibis-quito&rows=10&sort=f_recent_desc&offset=200\n"
          ]
        },
        {
          "output_type": "stream",
          "name": "stderr",
          "text": [
            "INFO:root:Processed 22/121\n"
          ]
        },
        {
          "output_type": "stream",
          "name": "stdout",
          "text": [
            "2025-10-04 21:22:53,636 - root - INFO - Processed 22/121\n"
          ]
        },
        {
          "output_type": "stream",
          "name": "stderr",
          "text": [
            "WARNING:root:Retrying 1 ... https://www.booking.com/reviewlist.en-gb.html?cc1=ec&pagename=ibis-quito&rows=10&sort=f_recent_desc&offset=220\n"
          ]
        },
        {
          "output_type": "stream",
          "name": "stdout",
          "text": [
            "2025-10-04 21:22:53,746 - root - WARNING - Retrying 1 ... https://www.booking.com/reviewlist.en-gb.html?cc1=ec&pagename=ibis-quito&rows=10&sort=f_recent_desc&offset=220\n"
          ]
        },
        {
          "output_type": "stream",
          "name": "stderr",
          "text": [
            "WARNING:root:Retrying 2 ... https://www.booking.com/reviewlist.en-gb.html?cc1=ec&pagename=ibis-quito&rows=10&sort=f_recent_desc&offset=220\n"
          ]
        },
        {
          "output_type": "stream",
          "name": "stdout",
          "text": [
            "2025-10-04 21:22:54,096 - root - WARNING - Retrying 2 ... https://www.booking.com/reviewlist.en-gb.html?cc1=ec&pagename=ibis-quito&rows=10&sort=f_recent_desc&offset=220\n"
          ]
        },
        {
          "output_type": "stream",
          "name": "stderr",
          "text": [
            "WARNING:root:Retrying 3 ... https://www.booking.com/reviewlist.en-gb.html?cc1=ec&pagename=ibis-quito&rows=10&sort=f_recent_desc&offset=220\n"
          ]
        },
        {
          "output_type": "stream",
          "name": "stdout",
          "text": [
            "2025-10-04 21:22:54,470 - root - WARNING - Retrying 3 ... https://www.booking.com/reviewlist.en-gb.html?cc1=ec&pagename=ibis-quito&rows=10&sort=f_recent_desc&offset=220\n"
          ]
        },
        {
          "output_type": "stream",
          "name": "stderr",
          "text": [
            "WARNING:root:Retrying 1 ... https://www.booking.com/reviewlist.en-gb.html?cc1=ec&pagename=ibis-quito&rows=10&sort=f_recent_desc&offset=230\n"
          ]
        },
        {
          "output_type": "stream",
          "name": "stdout",
          "text": [
            "2025-10-04 21:22:54,838 - root - WARNING - Retrying 1 ... https://www.booking.com/reviewlist.en-gb.html?cc1=ec&pagename=ibis-quito&rows=10&sort=f_recent_desc&offset=230\n"
          ]
        },
        {
          "output_type": "stream",
          "name": "stderr",
          "text": [
            "INFO:root:Processed 24/121\n"
          ]
        },
        {
          "output_type": "stream",
          "name": "stdout",
          "text": [
            "2025-10-04 21:22:55,639 - root - INFO - Processed 24/121\n"
          ]
        },
        {
          "output_type": "stream",
          "name": "stderr",
          "text": [
            "WARNING:root:Retrying 1 ... https://www.booking.com/reviewlist.en-gb.html?cc1=ec&pagename=ibis-quito&rows=10&sort=f_recent_desc&offset=260\n"
          ]
        },
        {
          "output_type": "stream",
          "name": "stdout",
          "text": [
            "2025-10-04 21:22:56,956 - root - WARNING - Retrying 1 ... https://www.booking.com/reviewlist.en-gb.html?cc1=ec&pagename=ibis-quito&rows=10&sort=f_recent_desc&offset=260\n"
          ]
        },
        {
          "output_type": "stream",
          "name": "stderr",
          "text": [
            "WARNING:root:Retrying 2 ... https://www.booking.com/reviewlist.en-gb.html?cc1=ec&pagename=ibis-quito&rows=10&sort=f_recent_desc&offset=260\n"
          ]
        },
        {
          "output_type": "stream",
          "name": "stdout",
          "text": [
            "2025-10-04 21:22:57,269 - root - WARNING - Retrying 2 ... https://www.booking.com/reviewlist.en-gb.html?cc1=ec&pagename=ibis-quito&rows=10&sort=f_recent_desc&offset=260\n"
          ]
        },
        {
          "output_type": "stream",
          "name": "stderr",
          "text": [
            "WARNING:root:Retrying 3 ... https://www.booking.com/reviewlist.en-gb.html?cc1=ec&pagename=ibis-quito&rows=10&sort=f_recent_desc&offset=260\n"
          ]
        },
        {
          "output_type": "stream",
          "name": "stdout",
          "text": [
            "2025-10-04 21:22:57,582 - root - WARNING - Retrying 3 ... https://www.booking.com/reviewlist.en-gb.html?cc1=ec&pagename=ibis-quito&rows=10&sort=f_recent_desc&offset=260\n"
          ]
        },
        {
          "output_type": "stream",
          "name": "stderr",
          "text": [
            "INFO:root:Processed 27/121\n"
          ]
        },
        {
          "output_type": "stream",
          "name": "stdout",
          "text": [
            "2025-10-04 21:22:57,641 - root - INFO - Processed 27/121\n"
          ]
        },
        {
          "output_type": "stream",
          "name": "stderr",
          "text": [
            "WARNING:root:Retrying 1 ... https://www.booking.com/reviewlist.en-gb.html?cc1=ec&pagename=ibis-quito&rows=10&sort=f_recent_desc&offset=280\n"
          ]
        },
        {
          "output_type": "stream",
          "name": "stdout",
          "text": [
            "2025-10-04 21:22:58,512 - root - WARNING - Retrying 1 ... https://www.booking.com/reviewlist.en-gb.html?cc1=ec&pagename=ibis-quito&rows=10&sort=f_recent_desc&offset=280\n"
          ]
        },
        {
          "output_type": "stream",
          "name": "stderr",
          "text": [
            "WARNING:root:Retrying 2 ... https://www.booking.com/reviewlist.en-gb.html?cc1=ec&pagename=ibis-quito&rows=10&sort=f_recent_desc&offset=280\n"
          ]
        },
        {
          "output_type": "stream",
          "name": "stdout",
          "text": [
            "2025-10-04 21:22:58,842 - root - WARNING - Retrying 2 ... https://www.booking.com/reviewlist.en-gb.html?cc1=ec&pagename=ibis-quito&rows=10&sort=f_recent_desc&offset=280\n"
          ]
        },
        {
          "output_type": "stream",
          "name": "stderr",
          "text": [
            "WARNING:root:Retrying 3 ... https://www.booking.com/reviewlist.en-gb.html?cc1=ec&pagename=ibis-quito&rows=10&sort=f_recent_desc&offset=280\n"
          ]
        },
        {
          "output_type": "stream",
          "name": "stdout",
          "text": [
            "2025-10-04 21:22:59,190 - root - WARNING - Retrying 3 ... https://www.booking.com/reviewlist.en-gb.html?cc1=ec&pagename=ibis-quito&rows=10&sort=f_recent_desc&offset=280\n"
          ]
        },
        {
          "output_type": "stream",
          "name": "stderr",
          "text": [
            "WARNING:root:Retrying 1 ... https://www.booking.com/reviewlist.en-gb.html?cc1=ec&pagename=ibis-quito&rows=10&sort=f_recent_desc&offset=290\n"
          ]
        },
        {
          "output_type": "stream",
          "name": "stdout",
          "text": [
            "2025-10-04 21:22:59,514 - root - WARNING - Retrying 1 ... https://www.booking.com/reviewlist.en-gb.html?cc1=ec&pagename=ibis-quito&rows=10&sort=f_recent_desc&offset=290\n"
          ]
        },
        {
          "output_type": "stream",
          "name": "stderr",
          "text": [
            "INFO:root:Processed 29/121\n"
          ]
        },
        {
          "output_type": "stream",
          "name": "stdout",
          "text": [
            "2025-10-04 21:22:59,644 - root - INFO - Processed 29/121\n"
          ]
        },
        {
          "output_type": "stream",
          "name": "stderr",
          "text": [
            "WARNING:root:Retrying 2 ... https://www.booking.com/reviewlist.en-gb.html?cc1=ec&pagename=ibis-quito&rows=10&sort=f_recent_desc&offset=290\n"
          ]
        },
        {
          "output_type": "stream",
          "name": "stdout",
          "text": [
            "2025-10-04 21:22:59,853 - root - WARNING - Retrying 2 ... https://www.booking.com/reviewlist.en-gb.html?cc1=ec&pagename=ibis-quito&rows=10&sort=f_recent_desc&offset=290\n"
          ]
        },
        {
          "output_type": "stream",
          "name": "stderr",
          "text": [
            "WARNING:root:Retrying 3 ... https://www.booking.com/reviewlist.en-gb.html?cc1=ec&pagename=ibis-quito&rows=10&sort=f_recent_desc&offset=290\n"
          ]
        },
        {
          "output_type": "stream",
          "name": "stdout",
          "text": [
            "2025-10-04 21:23:00,190 - root - WARNING - Retrying 3 ... https://www.booking.com/reviewlist.en-gb.html?cc1=ec&pagename=ibis-quito&rows=10&sort=f_recent_desc&offset=290\n"
          ]
        },
        {
          "output_type": "stream",
          "name": "stderr",
          "text": [
            "WARNING:root:Retrying 1 ... https://www.booking.com/reviewlist.en-gb.html?cc1=ec&pagename=ibis-quito&rows=10&sort=f_recent_desc&offset=310\n"
          ]
        },
        {
          "output_type": "stream",
          "name": "stdout",
          "text": [
            "2025-10-04 21:23:01,080 - root - WARNING - Retrying 1 ... https://www.booking.com/reviewlist.en-gb.html?cc1=ec&pagename=ibis-quito&rows=10&sort=f_recent_desc&offset=310\n"
          ]
        },
        {
          "output_type": "stream",
          "name": "stderr",
          "text": [
            "INFO:root:Processed 31/121\n"
          ]
        },
        {
          "output_type": "stream",
          "name": "stdout",
          "text": [
            "2025-10-04 21:23:01,672 - root - INFO - Processed 31/121\n"
          ]
        },
        {
          "output_type": "stream",
          "name": "stderr",
          "text": [
            "WARNING:root:Retrying 1 ... https://www.booking.com/reviewlist.en-gb.html?cc1=ec&pagename=ibis-quito&rows=10&sort=f_recent_desc&offset=330\n"
          ]
        },
        {
          "output_type": "stream",
          "name": "stdout",
          "text": [
            "2025-10-04 21:23:02,684 - root - WARNING - Retrying 1 ... https://www.booking.com/reviewlist.en-gb.html?cc1=ec&pagename=ibis-quito&rows=10&sort=f_recent_desc&offset=330\n"
          ]
        },
        {
          "output_type": "stream",
          "name": "stderr",
          "text": [
            "WARNING:root:Retrying 2 ... https://www.booking.com/reviewlist.en-gb.html?cc1=ec&pagename=ibis-quito&rows=10&sort=f_recent_desc&offset=330\n"
          ]
        },
        {
          "output_type": "stream",
          "name": "stdout",
          "text": [
            "2025-10-04 21:23:03,015 - root - WARNING - Retrying 2 ... https://www.booking.com/reviewlist.en-gb.html?cc1=ec&pagename=ibis-quito&rows=10&sort=f_recent_desc&offset=330\n"
          ]
        },
        {
          "output_type": "stream",
          "name": "stderr",
          "text": [
            "WARNING:root:Retrying 3 ... https://www.booking.com/reviewlist.en-gb.html?cc1=ec&pagename=ibis-quito&rows=10&sort=f_recent_desc&offset=330\n"
          ]
        },
        {
          "output_type": "stream",
          "name": "stdout",
          "text": [
            "2025-10-04 21:23:03,347 - root - WARNING - Retrying 3 ... https://www.booking.com/reviewlist.en-gb.html?cc1=ec&pagename=ibis-quito&rows=10&sort=f_recent_desc&offset=330\n"
          ]
        },
        {
          "output_type": "stream",
          "name": "stderr",
          "text": [
            "INFO:root:Processed 34/121\n"
          ]
        },
        {
          "output_type": "stream",
          "name": "stdout",
          "text": [
            "2025-10-04 21:23:03,697 - root - INFO - Processed 34/121\n"
          ]
        },
        {
          "output_type": "stream",
          "name": "stderr",
          "text": [
            "WARNING:root:Retrying 1 ... https://www.booking.com/reviewlist.en-gb.html?cc1=ec&pagename=ibis-quito&rows=10&sort=f_recent_desc&offset=340\n"
          ]
        },
        {
          "output_type": "stream",
          "name": "stdout",
          "text": [
            "2025-10-04 21:23:03,748 - root - WARNING - Retrying 1 ... https://www.booking.com/reviewlist.en-gb.html?cc1=ec&pagename=ibis-quito&rows=10&sort=f_recent_desc&offset=340\n"
          ]
        },
        {
          "output_type": "stream",
          "name": "stderr",
          "text": [
            "WARNING:root:Retrying 2 ... https://www.booking.com/reviewlist.en-gb.html?cc1=ec&pagename=ibis-quito&rows=10&sort=f_recent_desc&offset=340\n"
          ]
        },
        {
          "output_type": "stream",
          "name": "stdout",
          "text": [
            "2025-10-04 21:23:04,070 - root - WARNING - Retrying 2 ... https://www.booking.com/reviewlist.en-gb.html?cc1=ec&pagename=ibis-quito&rows=10&sort=f_recent_desc&offset=340\n"
          ]
        },
        {
          "output_type": "stream",
          "name": "stderr",
          "text": [
            "INFO:root:Processed 36/121\n"
          ]
        },
        {
          "output_type": "stream",
          "name": "stdout",
          "text": [
            "2025-10-04 21:23:05,701 - root - INFO - Processed 36/121\n"
          ]
        },
        {
          "output_type": "stream",
          "name": "stderr",
          "text": [
            "WARNING:root:Retrying 1 ... https://www.booking.com/reviewlist.en-gb.html?cc1=ec&pagename=ibis-quito&rows=10&sort=f_recent_desc&offset=360\n"
          ]
        },
        {
          "output_type": "stream",
          "name": "stdout",
          "text": [
            "2025-10-04 21:23:06,004 - root - WARNING - Retrying 1 ... https://www.booking.com/reviewlist.en-gb.html?cc1=ec&pagename=ibis-quito&rows=10&sort=f_recent_desc&offset=360\n"
          ]
        },
        {
          "output_type": "stream",
          "name": "stderr",
          "text": [
            "WARNING:root:Retrying 2 ... https://www.booking.com/reviewlist.en-gb.html?cc1=ec&pagename=ibis-quito&rows=10&sort=f_recent_desc&offset=360\n"
          ]
        },
        {
          "output_type": "stream",
          "name": "stdout",
          "text": [
            "2025-10-04 21:23:06,408 - root - WARNING - Retrying 2 ... https://www.booking.com/reviewlist.en-gb.html?cc1=ec&pagename=ibis-quito&rows=10&sort=f_recent_desc&offset=360\n"
          ]
        },
        {
          "output_type": "stream",
          "name": "stderr",
          "text": [
            "WARNING:root:Retrying 3 ... https://www.booking.com/reviewlist.en-gb.html?cc1=ec&pagename=ibis-quito&rows=10&sort=f_recent_desc&offset=360\n"
          ]
        },
        {
          "output_type": "stream",
          "name": "stdout",
          "text": [
            "2025-10-04 21:23:06,779 - root - WARNING - Retrying 3 ... https://www.booking.com/reviewlist.en-gb.html?cc1=ec&pagename=ibis-quito&rows=10&sort=f_recent_desc&offset=360\n"
          ]
        },
        {
          "output_type": "stream",
          "name": "stderr",
          "text": [
            "WARNING:root:Retrying 1 ... https://www.booking.com/reviewlist.en-gb.html?cc1=ec&pagename=ibis-quito&rows=10&sort=f_recent_desc&offset=370\n"
          ]
        },
        {
          "output_type": "stream",
          "name": "stdout",
          "text": [
            "2025-10-04 21:23:07,134 - root - WARNING - Retrying 1 ... https://www.booking.com/reviewlist.en-gb.html?cc1=ec&pagename=ibis-quito&rows=10&sort=f_recent_desc&offset=370\n"
          ]
        },
        {
          "output_type": "stream",
          "name": "stderr",
          "text": [
            "INFO:root:Processed 37/121\n"
          ]
        },
        {
          "output_type": "stream",
          "name": "stdout",
          "text": [
            "2025-10-04 21:23:07,744 - root - INFO - Processed 37/121\n"
          ]
        },
        {
          "output_type": "stream",
          "name": "stderr",
          "text": [
            "INFO:root:Processed 41/121\n"
          ]
        },
        {
          "output_type": "stream",
          "name": "stdout",
          "text": [
            "2025-10-04 21:23:09,750 - root - INFO - Processed 41/121\n"
          ]
        },
        {
          "output_type": "stream",
          "name": "stderr",
          "text": [
            "WARNING:root:Retrying 1 ... https://www.booking.com/reviewlist.en-gb.html?cc1=ec&pagename=ibis-quito&rows=10&sort=f_recent_desc&offset=430\n"
          ]
        },
        {
          "output_type": "stream",
          "name": "stdout",
          "text": [
            "2025-10-04 21:23:11,423 - root - WARNING - Retrying 1 ... https://www.booking.com/reviewlist.en-gb.html?cc1=ec&pagename=ibis-quito&rows=10&sort=f_recent_desc&offset=430\n"
          ]
        },
        {
          "output_type": "stream",
          "name": "stderr",
          "text": [
            "INFO:root:Processed 43/121\n"
          ]
        },
        {
          "output_type": "stream",
          "name": "stdout",
          "text": [
            "2025-10-04 21:23:11,753 - root - INFO - Processed 43/121\n"
          ]
        },
        {
          "output_type": "stream",
          "name": "stderr",
          "text": [
            "INFO:root:Processed 47/121\n"
          ]
        },
        {
          "output_type": "stream",
          "name": "stdout",
          "text": [
            "2025-10-04 21:23:13,755 - root - INFO - Processed 47/121\n"
          ]
        },
        {
          "output_type": "stream",
          "name": "stderr",
          "text": [
            "WARNING:root:Retrying 1 ... https://www.booking.com/reviewlist.en-gb.html?cc1=ec&pagename=ibis-quito&rows=10&sort=f_recent_desc&offset=470\n"
          ]
        },
        {
          "output_type": "stream",
          "name": "stdout",
          "text": [
            "2025-10-04 21:23:14,004 - root - WARNING - Retrying 1 ... https://www.booking.com/reviewlist.en-gb.html?cc1=ec&pagename=ibis-quito&rows=10&sort=f_recent_desc&offset=470\n"
          ]
        },
        {
          "output_type": "stream",
          "name": "stderr",
          "text": [
            "WARNING:root:Retrying 2 ... https://www.booking.com/reviewlist.en-gb.html?cc1=ec&pagename=ibis-quito&rows=10&sort=f_recent_desc&offset=470\n"
          ]
        },
        {
          "output_type": "stream",
          "name": "stdout",
          "text": [
            "2025-10-04 21:23:14,350 - root - WARNING - Retrying 2 ... https://www.booking.com/reviewlist.en-gb.html?cc1=ec&pagename=ibis-quito&rows=10&sort=f_recent_desc&offset=470\n"
          ]
        },
        {
          "output_type": "stream",
          "name": "stderr",
          "text": [
            "INFO:root:Processed 49/121\n"
          ]
        },
        {
          "output_type": "stream",
          "name": "stdout",
          "text": [
            "2025-10-04 21:23:15,760 - root - INFO - Processed 49/121\n"
          ]
        },
        {
          "output_type": "stream",
          "name": "stderr",
          "text": [
            "WARNING:root:Retrying 1 ... https://www.booking.com/reviewlist.en-gb.html?cc1=ec&pagename=ibis-quito&rows=10&sort=f_recent_desc&offset=490\n"
          ]
        },
        {
          "output_type": "stream",
          "name": "stdout",
          "text": [
            "2025-10-04 21:23:15,794 - root - WARNING - Retrying 1 ... https://www.booking.com/reviewlist.en-gb.html?cc1=ec&pagename=ibis-quito&rows=10&sort=f_recent_desc&offset=490\n"
          ]
        },
        {
          "output_type": "stream",
          "name": "stderr",
          "text": [
            "INFO:root:Processed 52/121\n"
          ]
        },
        {
          "output_type": "stream",
          "name": "stdout",
          "text": [
            "2025-10-04 21:23:17,762 - root - INFO - Processed 52/121\n"
          ]
        },
        {
          "output_type": "stream",
          "name": "stderr",
          "text": [
            "WARNING:root:Retrying 1 ... https://www.booking.com/reviewlist.en-gb.html?cc1=ec&pagename=ibis-quito&rows=10&sort=f_recent_desc&offset=520\n"
          ]
        },
        {
          "output_type": "stream",
          "name": "stdout",
          "text": [
            "2025-10-04 21:23:17,978 - root - WARNING - Retrying 1 ... https://www.booking.com/reviewlist.en-gb.html?cc1=ec&pagename=ibis-quito&rows=10&sort=f_recent_desc&offset=520\n"
          ]
        },
        {
          "output_type": "stream",
          "name": "stderr",
          "text": [
            "WARNING:root:Retrying 1 ... https://www.booking.com/reviewlist.en-gb.html?cc1=ec&pagename=ibis-quito&rows=10&sort=f_recent_desc&offset=530\n"
          ]
        },
        {
          "output_type": "stream",
          "name": "stdout",
          "text": [
            "2025-10-04 21:23:19,033 - root - WARNING - Retrying 1 ... https://www.booking.com/reviewlist.en-gb.html?cc1=ec&pagename=ibis-quito&rows=10&sort=f_recent_desc&offset=530\n"
          ]
        },
        {
          "output_type": "stream",
          "name": "stderr",
          "text": [
            "INFO:root:Processed 54/121\n"
          ]
        },
        {
          "output_type": "stream",
          "name": "stdout",
          "text": [
            "2025-10-04 21:23:19,765 - root - INFO - Processed 54/121\n"
          ]
        },
        {
          "output_type": "stream",
          "name": "stderr",
          "text": [
            "WARNING:root:Retrying 1 ... https://www.booking.com/reviewlist.en-gb.html?cc1=ec&pagename=ibis-quito&rows=10&sort=f_recent_desc&offset=550\n"
          ]
        },
        {
          "output_type": "stream",
          "name": "stdout",
          "text": [
            "2025-10-04 21:23:20,558 - root - WARNING - Retrying 1 ... https://www.booking.com/reviewlist.en-gb.html?cc1=ec&pagename=ibis-quito&rows=10&sort=f_recent_desc&offset=550\n"
          ]
        },
        {
          "output_type": "stream",
          "name": "stderr",
          "text": [
            "INFO:root:Processed 56/121\n"
          ]
        },
        {
          "output_type": "stream",
          "name": "stdout",
          "text": [
            "2025-10-04 21:23:21,768 - root - INFO - Processed 56/121\n"
          ]
        },
        {
          "output_type": "stream",
          "name": "stderr",
          "text": [
            "WARNING:root:Retrying 1 ... https://www.booking.com/reviewlist.en-gb.html?cc1=ec&pagename=ibis-quito&rows=10&sort=f_recent_desc&offset=560\n"
          ]
        },
        {
          "output_type": "stream",
          "name": "stdout",
          "text": [
            "2025-10-04 21:23:22,059 - root - WARNING - Retrying 1 ... https://www.booking.com/reviewlist.en-gb.html?cc1=ec&pagename=ibis-quito&rows=10&sort=f_recent_desc&offset=560\n"
          ]
        },
        {
          "output_type": "stream",
          "name": "stderr",
          "text": [
            "INFO:root:Processed 58/121\n"
          ]
        },
        {
          "output_type": "stream",
          "name": "stdout",
          "text": [
            "2025-10-04 21:23:23,796 - root - INFO - Processed 58/121\n"
          ]
        },
        {
          "output_type": "stream",
          "name": "stderr",
          "text": [
            "WARNING:root:Retrying 1 ... https://www.booking.com/reviewlist.en-gb.html?cc1=ec&pagename=ibis-quito&rows=10&sort=f_recent_desc&offset=600\n"
          ]
        },
        {
          "output_type": "stream",
          "name": "stdout",
          "text": [
            "2025-10-04 21:23:24,690 - root - WARNING - Retrying 1 ... https://www.booking.com/reviewlist.en-gb.html?cc1=ec&pagename=ibis-quito&rows=10&sort=f_recent_desc&offset=600\n"
          ]
        },
        {
          "output_type": "stream",
          "name": "stderr",
          "text": [
            "INFO:root:Processed 62/121\n"
          ]
        },
        {
          "output_type": "stream",
          "name": "stdout",
          "text": [
            "2025-10-04 21:23:25,820 - root - INFO - Processed 62/121\n"
          ]
        },
        {
          "output_type": "stream",
          "name": "stderr",
          "text": [
            "WARNING:root:Retrying 1 ... https://www.booking.com/reviewlist.en-gb.html?cc1=ec&pagename=ibis-quito&rows=10&sort=f_recent_desc&offset=630\n"
          ]
        },
        {
          "output_type": "stream",
          "name": "stdout",
          "text": [
            "2025-10-04 21:23:26,649 - root - WARNING - Retrying 1 ... https://www.booking.com/reviewlist.en-gb.html?cc1=ec&pagename=ibis-quito&rows=10&sort=f_recent_desc&offset=630\n"
          ]
        },
        {
          "output_type": "stream",
          "name": "stderr",
          "text": [
            "WARNING:root:Retrying 1 ... https://www.booking.com/reviewlist.en-gb.html?cc1=ec&pagename=ibis-quito&rows=10&sort=f_recent_desc&offset=640\n"
          ]
        },
        {
          "output_type": "stream",
          "name": "stdout",
          "text": [
            "2025-10-04 21:23:27,570 - root - WARNING - Retrying 1 ... https://www.booking.com/reviewlist.en-gb.html?cc1=ec&pagename=ibis-quito&rows=10&sort=f_recent_desc&offset=640\n"
          ]
        },
        {
          "output_type": "stream",
          "name": "stderr",
          "text": [
            "INFO:root:Processed 64/121\n"
          ]
        },
        {
          "output_type": "stream",
          "name": "stdout",
          "text": [
            "2025-10-04 21:23:27,824 - root - INFO - Processed 64/121\n"
          ]
        },
        {
          "output_type": "stream",
          "name": "stderr",
          "text": [
            "WARNING:root:Retrying 1 ... https://www.booking.com/reviewlist.en-gb.html?cc1=ec&pagename=ibis-quito&rows=10&sort=f_recent_desc&offset=650\n"
          ]
        },
        {
          "output_type": "stream",
          "name": "stdout",
          "text": [
            "2025-10-04 21:23:28,510 - root - WARNING - Retrying 1 ... https://www.booking.com/reviewlist.en-gb.html?cc1=ec&pagename=ibis-quito&rows=10&sort=f_recent_desc&offset=650\n"
          ]
        },
        {
          "output_type": "stream",
          "name": "stderr",
          "text": [
            "WARNING:root:Retrying 2 ... https://www.booking.com/reviewlist.en-gb.html?cc1=ec&pagename=ibis-quito&rows=10&sort=f_recent_desc&offset=650\n"
          ]
        },
        {
          "output_type": "stream",
          "name": "stdout",
          "text": [
            "2025-10-04 21:23:28,866 - root - WARNING - Retrying 2 ... https://www.booking.com/reviewlist.en-gb.html?cc1=ec&pagename=ibis-quito&rows=10&sort=f_recent_desc&offset=650\n"
          ]
        },
        {
          "output_type": "stream",
          "name": "stderr",
          "text": [
            "WARNING:root:Retrying 3 ... https://www.booking.com/reviewlist.en-gb.html?cc1=ec&pagename=ibis-quito&rows=10&sort=f_recent_desc&offset=650\n"
          ]
        },
        {
          "output_type": "stream",
          "name": "stdout",
          "text": [
            "2025-10-04 21:23:29,188 - root - WARNING - Retrying 3 ... https://www.booking.com/reviewlist.en-gb.html?cc1=ec&pagename=ibis-quito&rows=10&sort=f_recent_desc&offset=650\n"
          ]
        },
        {
          "output_type": "stream",
          "name": "stderr",
          "text": [
            "INFO:root:Processed 67/121\n"
          ]
        },
        {
          "output_type": "stream",
          "name": "stdout",
          "text": [
            "2025-10-04 21:23:29,826 - root - INFO - Processed 67/121\n"
          ]
        },
        {
          "output_type": "stream",
          "name": "stderr",
          "text": [
            "WARNING:root:Retrying 1 ... https://www.booking.com/reviewlist.en-gb.html?cc1=ec&pagename=ibis-quito&rows=10&sort=f_recent_desc&offset=680\n"
          ]
        },
        {
          "output_type": "stream",
          "name": "stdout",
          "text": [
            "2025-10-04 21:23:30,830 - root - WARNING - Retrying 1 ... https://www.booking.com/reviewlist.en-gb.html?cc1=ec&pagename=ibis-quito&rows=10&sort=f_recent_desc&offset=680\n"
          ]
        },
        {
          "output_type": "stream",
          "name": "stderr",
          "text": [
            "WARNING:root:Retrying 2 ... https://www.booking.com/reviewlist.en-gb.html?cc1=ec&pagename=ibis-quito&rows=10&sort=f_recent_desc&offset=680\n"
          ]
        },
        {
          "output_type": "stream",
          "name": "stdout",
          "text": [
            "2025-10-04 21:23:31,579 - root - WARNING - Retrying 2 ... https://www.booking.com/reviewlist.en-gb.html?cc1=ec&pagename=ibis-quito&rows=10&sort=f_recent_desc&offset=680\n"
          ]
        },
        {
          "output_type": "stream",
          "name": "stderr",
          "text": [
            "INFO:root:Processed 68/121\n"
          ]
        },
        {
          "output_type": "stream",
          "name": "stdout",
          "text": [
            "2025-10-04 21:23:31,829 - root - INFO - Processed 68/121\n"
          ]
        },
        {
          "output_type": "stream",
          "name": "stderr",
          "text": [
            "WARNING:root:Retrying 3 ... https://www.booking.com/reviewlist.en-gb.html?cc1=ec&pagename=ibis-quito&rows=10&sort=f_recent_desc&offset=680\n"
          ]
        },
        {
          "output_type": "stream",
          "name": "stdout",
          "text": [
            "2025-10-04 21:23:31,911 - root - WARNING - Retrying 3 ... https://www.booking.com/reviewlist.en-gb.html?cc1=ec&pagename=ibis-quito&rows=10&sort=f_recent_desc&offset=680\n"
          ]
        },
        {
          "output_type": "stream",
          "name": "stderr",
          "text": [
            "WARNING:root:Retrying 1 ... https://www.booking.com/reviewlist.en-gb.html?cc1=ec&pagename=ibis-quito&rows=10&sort=f_recent_desc&offset=690\n"
          ]
        },
        {
          "output_type": "stream",
          "name": "stdout",
          "text": [
            "2025-10-04 21:23:32,253 - root - WARNING - Retrying 1 ... https://www.booking.com/reviewlist.en-gb.html?cc1=ec&pagename=ibis-quito&rows=10&sort=f_recent_desc&offset=690\n"
          ]
        },
        {
          "output_type": "stream",
          "name": "stderr",
          "text": [
            "WARNING:root:Retrying 1 ... https://www.booking.com/reviewlist.en-gb.html?cc1=ec&pagename=ibis-quito&rows=10&sort=f_recent_desc&offset=700\n"
          ]
        },
        {
          "output_type": "stream",
          "name": "stdout",
          "text": [
            "2025-10-04 21:23:33,167 - root - WARNING - Retrying 1 ... https://www.booking.com/reviewlist.en-gb.html?cc1=ec&pagename=ibis-quito&rows=10&sort=f_recent_desc&offset=700\n"
          ]
        },
        {
          "output_type": "stream",
          "name": "stderr",
          "text": [
            "INFO:root:Processed 71/121\n"
          ]
        },
        {
          "output_type": "stream",
          "name": "stdout",
          "text": [
            "2025-10-04 21:23:33,832 - root - INFO - Processed 71/121\n"
          ]
        },
        {
          "output_type": "stream",
          "name": "stderr",
          "text": [
            "WARNING:root:Retrying 1 ... https://www.booking.com/reviewlist.en-gb.html?cc1=ec&pagename=ibis-quito&rows=10&sort=f_recent_desc&offset=710\n"
          ]
        },
        {
          "output_type": "stream",
          "name": "stdout",
          "text": [
            "2025-10-04 21:23:34,139 - root - WARNING - Retrying 1 ... https://www.booking.com/reviewlist.en-gb.html?cc1=ec&pagename=ibis-quito&rows=10&sort=f_recent_desc&offset=710\n"
          ]
        },
        {
          "output_type": "stream",
          "name": "stderr",
          "text": [
            "WARNING:root:Retrying 2 ... https://www.booking.com/reviewlist.en-gb.html?cc1=ec&pagename=ibis-quito&rows=10&sort=f_recent_desc&offset=710\n"
          ]
        },
        {
          "output_type": "stream",
          "name": "stdout",
          "text": [
            "2025-10-04 21:23:34,454 - root - WARNING - Retrying 2 ... https://www.booking.com/reviewlist.en-gb.html?cc1=ec&pagename=ibis-quito&rows=10&sort=f_recent_desc&offset=710\n"
          ]
        },
        {
          "output_type": "stream",
          "name": "stderr",
          "text": [
            "WARNING:root:Retrying 3 ... https://www.booking.com/reviewlist.en-gb.html?cc1=ec&pagename=ibis-quito&rows=10&sort=f_recent_desc&offset=710\n"
          ]
        },
        {
          "output_type": "stream",
          "name": "stdout",
          "text": [
            "2025-10-04 21:23:34,803 - root - WARNING - Retrying 3 ... https://www.booking.com/reviewlist.en-gb.html?cc1=ec&pagename=ibis-quito&rows=10&sort=f_recent_desc&offset=710\n"
          ]
        },
        {
          "output_type": "stream",
          "name": "stderr",
          "text": [
            "INFO:root:Processed 73/121\n"
          ]
        },
        {
          "output_type": "stream",
          "name": "stdout",
          "text": [
            "2025-10-04 21:23:35,834 - root - INFO - Processed 73/121\n"
          ]
        },
        {
          "output_type": "stream",
          "name": "stderr",
          "text": [
            "WARNING:root:Retrying 1 ... https://www.booking.com/reviewlist.en-gb.html?cc1=ec&pagename=ibis-quito&rows=10&sort=f_recent_desc&offset=740\n"
          ]
        },
        {
          "output_type": "stream",
          "name": "stdout",
          "text": [
            "2025-10-04 21:23:36,361 - root - WARNING - Retrying 1 ... https://www.booking.com/reviewlist.en-gb.html?cc1=ec&pagename=ibis-quito&rows=10&sort=f_recent_desc&offset=740\n"
          ]
        },
        {
          "output_type": "stream",
          "name": "stderr",
          "text": [
            "WARNING:root:Retrying 2 ... https://www.booking.com/reviewlist.en-gb.html?cc1=ec&pagename=ibis-quito&rows=10&sort=f_recent_desc&offset=740\n"
          ]
        },
        {
          "output_type": "stream",
          "name": "stdout",
          "text": [
            "2025-10-04 21:23:36,737 - root - WARNING - Retrying 2 ... https://www.booking.com/reviewlist.en-gb.html?cc1=ec&pagename=ibis-quito&rows=10&sort=f_recent_desc&offset=740\n"
          ]
        },
        {
          "output_type": "stream",
          "name": "stderr",
          "text": [
            "WARNING:root:Retrying 3 ... https://www.booking.com/reviewlist.en-gb.html?cc1=ec&pagename=ibis-quito&rows=10&sort=f_recent_desc&offset=740\n"
          ]
        },
        {
          "output_type": "stream",
          "name": "stdout",
          "text": [
            "2025-10-04 21:23:37,076 - root - WARNING - Retrying 3 ... https://www.booking.com/reviewlist.en-gb.html?cc1=ec&pagename=ibis-quito&rows=10&sort=f_recent_desc&offset=740\n"
          ]
        },
        {
          "output_type": "stream",
          "name": "stderr",
          "text": [
            "INFO:root:Processed 76/121\n"
          ]
        },
        {
          "output_type": "stream",
          "name": "stdout",
          "text": [
            "2025-10-04 21:23:37,837 - root - INFO - Processed 76/121\n"
          ]
        },
        {
          "output_type": "stream",
          "name": "stderr",
          "text": [
            "WARNING:root:Retrying 1 ... https://www.booking.com/reviewlist.en-gb.html?cc1=ec&pagename=ibis-quito&rows=10&sort=f_recent_desc&offset=770\n"
          ]
        },
        {
          "output_type": "stream",
          "name": "stdout",
          "text": [
            "2025-10-04 21:23:38,656 - root - WARNING - Retrying 1 ... https://www.booking.com/reviewlist.en-gb.html?cc1=ec&pagename=ibis-quito&rows=10&sort=f_recent_desc&offset=770\n"
          ]
        },
        {
          "output_type": "stream",
          "name": "stderr",
          "text": [
            "WARNING:root:Retrying 2 ... https://www.booking.com/reviewlist.en-gb.html?cc1=ec&pagename=ibis-quito&rows=10&sort=f_recent_desc&offset=770\n"
          ]
        },
        {
          "output_type": "stream",
          "name": "stdout",
          "text": [
            "2025-10-04 21:23:38,967 - root - WARNING - Retrying 2 ... https://www.booking.com/reviewlist.en-gb.html?cc1=ec&pagename=ibis-quito&rows=10&sort=f_recent_desc&offset=770\n"
          ]
        },
        {
          "output_type": "stream",
          "name": "stderr",
          "text": [
            "INFO:root:Processed 78/121\n"
          ]
        },
        {
          "output_type": "stream",
          "name": "stdout",
          "text": [
            "2025-10-04 21:23:39,839 - root - INFO - Processed 78/121\n"
          ]
        },
        {
          "output_type": "stream",
          "name": "stderr",
          "text": [
            "INFO:root:Processed 81/121\n"
          ]
        },
        {
          "output_type": "stream",
          "name": "stdout",
          "text": [
            "2025-10-04 21:23:41,842 - root - INFO - Processed 81/121\n"
          ]
        },
        {
          "output_type": "stream",
          "name": "stderr",
          "text": [
            "WARNING:root:Retrying 1 ... https://www.booking.com/reviewlist.en-gb.html?cc1=ec&pagename=ibis-quito&rows=10&sort=f_recent_desc&offset=830\n"
          ]
        },
        {
          "output_type": "stream",
          "name": "stdout",
          "text": [
            "2025-10-04 21:23:43,182 - root - WARNING - Retrying 1 ... https://www.booking.com/reviewlist.en-gb.html?cc1=ec&pagename=ibis-quito&rows=10&sort=f_recent_desc&offset=830\n"
          ]
        },
        {
          "output_type": "stream",
          "name": "stderr",
          "text": [
            "INFO:root:Processed 84/121\n"
          ]
        },
        {
          "output_type": "stream",
          "name": "stdout",
          "text": [
            "2025-10-04 21:23:43,845 - root - INFO - Processed 84/121\n"
          ]
        },
        {
          "output_type": "stream",
          "name": "stderr",
          "text": [
            "WARNING:root:Retrying 1 ... https://www.booking.com/reviewlist.en-gb.html?cc1=ec&pagename=ibis-quito&rows=10&sort=f_recent_desc&offset=850\n"
          ]
        },
        {
          "output_type": "stream",
          "name": "stdout",
          "text": [
            "2025-10-04 21:23:44,701 - root - WARNING - Retrying 1 ... https://www.booking.com/reviewlist.en-gb.html?cc1=ec&pagename=ibis-quito&rows=10&sort=f_recent_desc&offset=850\n"
          ]
        },
        {
          "output_type": "stream",
          "name": "stderr",
          "text": [
            "WARNING:root:Retrying 2 ... https://www.booking.com/reviewlist.en-gb.html?cc1=ec&pagename=ibis-quito&rows=10&sort=f_recent_desc&offset=850\n"
          ]
        },
        {
          "output_type": "stream",
          "name": "stdout",
          "text": [
            "2025-10-04 21:23:45,013 - root - WARNING - Retrying 2 ... https://www.booking.com/reviewlist.en-gb.html?cc1=ec&pagename=ibis-quito&rows=10&sort=f_recent_desc&offset=850\n"
          ]
        },
        {
          "output_type": "stream",
          "name": "stderr",
          "text": [
            "INFO:root:Processed 86/121\n"
          ]
        },
        {
          "output_type": "stream",
          "name": "stdout",
          "text": [
            "2025-10-04 21:23:45,848 - root - INFO - Processed 86/121\n"
          ]
        },
        {
          "output_type": "stream",
          "name": "stderr",
          "text": [
            "WARNING:root:Retrying 1 ... https://www.booking.com/reviewlist.en-gb.html?cc1=ec&pagename=ibis-quito&rows=10&sort=f_recent_desc&offset=860\n"
          ]
        },
        {
          "output_type": "stream",
          "name": "stdout",
          "text": [
            "2025-10-04 21:23:45,892 - root - WARNING - Retrying 1 ... https://www.booking.com/reviewlist.en-gb.html?cc1=ec&pagename=ibis-quito&rows=10&sort=f_recent_desc&offset=860\n"
          ]
        },
        {
          "output_type": "stream",
          "name": "stderr",
          "text": [
            "WARNING:root:Retrying 2 ... https://www.booking.com/reviewlist.en-gb.html?cc1=ec&pagename=ibis-quito&rows=10&sort=f_recent_desc&offset=860\n"
          ]
        },
        {
          "output_type": "stream",
          "name": "stdout",
          "text": [
            "2025-10-04 21:23:46,225 - root - WARNING - Retrying 2 ... https://www.booking.com/reviewlist.en-gb.html?cc1=ec&pagename=ibis-quito&rows=10&sort=f_recent_desc&offset=860\n"
          ]
        },
        {
          "output_type": "stream",
          "name": "stderr",
          "text": [
            "INFO:root:Processed 88/121\n"
          ]
        },
        {
          "output_type": "stream",
          "name": "stdout",
          "text": [
            "2025-10-04 21:23:47,850 - root - INFO - Processed 88/121\n"
          ]
        },
        {
          "output_type": "stream",
          "name": "stderr",
          "text": [
            "WARNING:root:Retrying 1 ... https://www.booking.com/reviewlist.en-gb.html?cc1=ec&pagename=ibis-quito&rows=10&sort=f_recent_desc&offset=910\n"
          ]
        },
        {
          "output_type": "stream",
          "name": "stdout",
          "text": [
            "2025-10-04 21:23:49,460 - root - WARNING - Retrying 1 ... https://www.booking.com/reviewlist.en-gb.html?cc1=ec&pagename=ibis-quito&rows=10&sort=f_recent_desc&offset=910\n"
          ]
        },
        {
          "output_type": "stream",
          "name": "stderr",
          "text": [
            "INFO:root:Processed 91/121\n"
          ]
        },
        {
          "output_type": "stream",
          "name": "stdout",
          "text": [
            "2025-10-04 21:23:49,853 - root - INFO - Processed 91/121\n"
          ]
        },
        {
          "output_type": "stream",
          "name": "stderr",
          "text": [
            "INFO:root:Processed 95/121\n"
          ]
        },
        {
          "output_type": "stream",
          "name": "stdout",
          "text": [
            "2025-10-04 21:23:51,856 - root - INFO - Processed 95/121\n"
          ]
        },
        {
          "output_type": "stream",
          "name": "stderr",
          "text": [
            "WARNING:root:Retrying 1 ... https://www.booking.com/reviewlist.en-gb.html?cc1=ec&pagename=ibis-quito&rows=10&sort=f_recent_desc&offset=970\n"
          ]
        },
        {
          "output_type": "stream",
          "name": "stdout",
          "text": [
            "2025-10-04 21:23:53,043 - root - WARNING - Retrying 1 ... https://www.booking.com/reviewlist.en-gb.html?cc1=ec&pagename=ibis-quito&rows=10&sort=f_recent_desc&offset=970\n"
          ]
        },
        {
          "output_type": "stream",
          "name": "stderr",
          "text": [
            "WARNING:root:Retrying 2 ... https://www.booking.com/reviewlist.en-gb.html?cc1=ec&pagename=ibis-quito&rows=10&sort=f_recent_desc&offset=970\n"
          ]
        },
        {
          "output_type": "stream",
          "name": "stdout",
          "text": [
            "2025-10-04 21:23:53,365 - root - WARNING - Retrying 2 ... https://www.booking.com/reviewlist.en-gb.html?cc1=ec&pagename=ibis-quito&rows=10&sort=f_recent_desc&offset=970\n"
          ]
        },
        {
          "output_type": "stream",
          "name": "stderr",
          "text": [
            "WARNING:root:Retrying 3 ... https://www.booking.com/reviewlist.en-gb.html?cc1=ec&pagename=ibis-quito&rows=10&sort=f_recent_desc&offset=970\n"
          ]
        },
        {
          "output_type": "stream",
          "name": "stdout",
          "text": [
            "2025-10-04 21:23:53,685 - root - WARNING - Retrying 3 ... https://www.booking.com/reviewlist.en-gb.html?cc1=ec&pagename=ibis-quito&rows=10&sort=f_recent_desc&offset=970\n"
          ]
        },
        {
          "output_type": "stream",
          "name": "stderr",
          "text": [
            "INFO:root:Processed 98/121\n"
          ]
        },
        {
          "output_type": "stream",
          "name": "stdout",
          "text": [
            "2025-10-04 21:23:53,858 - root - INFO - Processed 98/121\n"
          ]
        },
        {
          "output_type": "stream",
          "name": "stderr",
          "text": [
            "WARNING:root:Retrying 1 ... https://www.booking.com/reviewlist.en-gb.html?cc1=ec&pagename=ibis-quito&rows=10&sort=f_recent_desc&offset=990\n"
          ]
        },
        {
          "output_type": "stream",
          "name": "stdout",
          "text": [
            "2025-10-04 21:23:54,701 - root - WARNING - Retrying 1 ... https://www.booking.com/reviewlist.en-gb.html?cc1=ec&pagename=ibis-quito&rows=10&sort=f_recent_desc&offset=990\n"
          ]
        },
        {
          "output_type": "stream",
          "name": "stderr",
          "text": [
            "WARNING:root:Retrying 2 ... https://www.booking.com/reviewlist.en-gb.html?cc1=ec&pagename=ibis-quito&rows=10&sort=f_recent_desc&offset=990\n"
          ]
        },
        {
          "output_type": "stream",
          "name": "stdout",
          "text": [
            "2025-10-04 21:23:55,073 - root - WARNING - Retrying 2 ... https://www.booking.com/reviewlist.en-gb.html?cc1=ec&pagename=ibis-quito&rows=10&sort=f_recent_desc&offset=990\n"
          ]
        },
        {
          "output_type": "stream",
          "name": "stderr",
          "text": [
            "INFO:root:Processed 100/121\n"
          ]
        },
        {
          "output_type": "stream",
          "name": "stdout",
          "text": [
            "2025-10-04 21:23:55,864 - root - INFO - Processed 100/121\n"
          ]
        },
        {
          "output_type": "stream",
          "name": "stderr",
          "text": [
            "WARNING:root:Retrying 1 ... https://www.booking.com/reviewlist.en-gb.html?cc1=ec&pagename=ibis-quito&rows=10&sort=f_recent_desc&offset=1000\n"
          ]
        },
        {
          "output_type": "stream",
          "name": "stdout",
          "text": [
            "2025-10-04 21:23:56,218 - root - WARNING - Retrying 1 ... https://www.booking.com/reviewlist.en-gb.html?cc1=ec&pagename=ibis-quito&rows=10&sort=f_recent_desc&offset=1000\n"
          ]
        },
        {
          "output_type": "stream",
          "name": "stderr",
          "text": [
            "WARNING:root:Retrying 2 ... https://www.booking.com/reviewlist.en-gb.html?cc1=ec&pagename=ibis-quito&rows=10&sort=f_recent_desc&offset=1000\n"
          ]
        },
        {
          "output_type": "stream",
          "name": "stdout",
          "text": [
            "2025-10-04 21:23:56,561 - root - WARNING - Retrying 2 ... https://www.booking.com/reviewlist.en-gb.html?cc1=ec&pagename=ibis-quito&rows=10&sort=f_recent_desc&offset=1000\n"
          ]
        },
        {
          "output_type": "stream",
          "name": "stderr",
          "text": [
            "INFO:root:Processed 102/121\n"
          ]
        },
        {
          "output_type": "stream",
          "name": "stdout",
          "text": [
            "2025-10-04 21:23:57,867 - root - INFO - Processed 102/121\n"
          ]
        },
        {
          "output_type": "stream",
          "name": "stderr",
          "text": [
            "WARNING:root:Retrying 1 ... https://www.booking.com/reviewlist.en-gb.html?cc1=ec&pagename=ibis-quito&rows=10&sort=f_recent_desc&offset=1040\n"
          ]
        },
        {
          "output_type": "stream",
          "name": "stdout",
          "text": [
            "2025-10-04 21:23:59,187 - root - WARNING - Retrying 1 ... https://www.booking.com/reviewlist.en-gb.html?cc1=ec&pagename=ibis-quito&rows=10&sort=f_recent_desc&offset=1040\n"
          ]
        },
        {
          "output_type": "stream",
          "name": "stderr",
          "text": [
            "WARNING:root:Retrying 2 ... https://www.booking.com/reviewlist.en-gb.html?cc1=ec&pagename=ibis-quito&rows=10&sort=f_recent_desc&offset=1040\n"
          ]
        },
        {
          "output_type": "stream",
          "name": "stdout",
          "text": [
            "2025-10-04 21:23:59,511 - root - WARNING - Retrying 2 ... https://www.booking.com/reviewlist.en-gb.html?cc1=ec&pagename=ibis-quito&rows=10&sort=f_recent_desc&offset=1040\n"
          ]
        },
        {
          "output_type": "stream",
          "name": "stderr",
          "text": [
            "INFO:root:Processed 104/121\n"
          ]
        },
        {
          "output_type": "stream",
          "name": "stdout",
          "text": [
            "2025-10-04 21:23:59,870 - root - INFO - Processed 104/121\n"
          ]
        },
        {
          "output_type": "stream",
          "name": "stderr",
          "text": [
            "WARNING:root:Retrying 1 ... https://www.booking.com/reviewlist.en-gb.html?cc1=ec&pagename=ibis-quito&rows=10&sort=f_recent_desc&offset=1060\n"
          ]
        },
        {
          "output_type": "stream",
          "name": "stdout",
          "text": [
            "2025-10-04 21:24:00,959 - root - WARNING - Retrying 1 ... https://www.booking.com/reviewlist.en-gb.html?cc1=ec&pagename=ibis-quito&rows=10&sort=f_recent_desc&offset=1060\n"
          ]
        },
        {
          "output_type": "stream",
          "name": "stderr",
          "text": [
            "INFO:root:Processed 107/121\n"
          ]
        },
        {
          "output_type": "stream",
          "name": "stdout",
          "text": [
            "2025-10-04 21:24:01,873 - root - INFO - Processed 107/121\n"
          ]
        },
        {
          "output_type": "stream",
          "name": "stderr",
          "text": [
            "WARNING:root:Retrying 1 ... https://www.booking.com/reviewlist.en-gb.html?cc1=ec&pagename=ibis-quito&rows=10&sort=f_recent_desc&offset=1070\n"
          ]
        },
        {
          "output_type": "stream",
          "name": "stdout",
          "text": [
            "2025-10-04 21:24:01,951 - root - WARNING - Retrying 1 ... https://www.booking.com/reviewlist.en-gb.html?cc1=ec&pagename=ibis-quito&rows=10&sort=f_recent_desc&offset=1070\n"
          ]
        },
        {
          "output_type": "stream",
          "name": "stderr",
          "text": [
            "WARNING:root:Retrying 2 ... https://www.booking.com/reviewlist.en-gb.html?cc1=ec&pagename=ibis-quito&rows=10&sort=f_recent_desc&offset=1070\n"
          ]
        },
        {
          "output_type": "stream",
          "name": "stdout",
          "text": [
            "2025-10-04 21:24:02,255 - root - WARNING - Retrying 2 ... https://www.booking.com/reviewlist.en-gb.html?cc1=ec&pagename=ibis-quito&rows=10&sort=f_recent_desc&offset=1070\n"
          ]
        },
        {
          "output_type": "stream",
          "name": "stderr",
          "text": [
            "WARNING:root:Retrying 3 ... https://www.booking.com/reviewlist.en-gb.html?cc1=ec&pagename=ibis-quito&rows=10&sort=f_recent_desc&offset=1070\n"
          ]
        },
        {
          "output_type": "stream",
          "name": "stdout",
          "text": [
            "2025-10-04 21:24:02,587 - root - WARNING - Retrying 3 ... https://www.booking.com/reviewlist.en-gb.html?cc1=ec&pagename=ibis-quito&rows=10&sort=f_recent_desc&offset=1070\n"
          ]
        },
        {
          "output_type": "stream",
          "name": "stderr",
          "text": [
            "WARNING:root:Retrying 1 ... https://www.booking.com/reviewlist.en-gb.html?cc1=ec&pagename=ibis-quito&rows=10&sort=f_recent_desc&offset=1080\n"
          ]
        },
        {
          "output_type": "stream",
          "name": "stdout",
          "text": [
            "2025-10-04 21:24:02,930 - root - WARNING - Retrying 1 ... https://www.booking.com/reviewlist.en-gb.html?cc1=ec&pagename=ibis-quito&rows=10&sort=f_recent_desc&offset=1080\n"
          ]
        },
        {
          "output_type": "stream",
          "name": "stderr",
          "text": [
            "WARNING:root:Retrying 2 ... https://www.booking.com/reviewlist.en-gb.html?cc1=ec&pagename=ibis-quito&rows=10&sort=f_recent_desc&offset=1080\n"
          ]
        },
        {
          "output_type": "stream",
          "name": "stdout",
          "text": [
            "2025-10-04 21:24:03,738 - root - WARNING - Retrying 2 ... https://www.booking.com/reviewlist.en-gb.html?cc1=ec&pagename=ibis-quito&rows=10&sort=f_recent_desc&offset=1080\n"
          ]
        },
        {
          "output_type": "stream",
          "name": "stderr",
          "text": [
            "INFO:root:Processed 108/121\n"
          ]
        },
        {
          "output_type": "stream",
          "name": "stdout",
          "text": [
            "2025-10-04 21:24:03,876 - root - INFO - Processed 108/121\n"
          ]
        },
        {
          "output_type": "stream",
          "name": "stderr",
          "text": [
            "WARNING:root:Retrying 3 ... https://www.booking.com/reviewlist.en-gb.html?cc1=ec&pagename=ibis-quito&rows=10&sort=f_recent_desc&offset=1080\n"
          ]
        },
        {
          "output_type": "stream",
          "name": "stdout",
          "text": [
            "2025-10-04 21:24:04,139 - root - WARNING - Retrying 3 ... https://www.booking.com/reviewlist.en-gb.html?cc1=ec&pagename=ibis-quito&rows=10&sort=f_recent_desc&offset=1080\n"
          ]
        },
        {
          "output_type": "stream",
          "name": "stderr",
          "text": [
            "WARNING:root:Retrying 1 ... https://www.booking.com/reviewlist.en-gb.html?cc1=ec&pagename=ibis-quito&rows=10&sort=f_recent_desc&offset=1090\n"
          ]
        },
        {
          "output_type": "stream",
          "name": "stdout",
          "text": [
            "2025-10-04 21:24:04,490 - root - WARNING - Retrying 1 ... https://www.booking.com/reviewlist.en-gb.html?cc1=ec&pagename=ibis-quito&rows=10&sort=f_recent_desc&offset=1090\n"
          ]
        },
        {
          "output_type": "stream",
          "name": "stderr",
          "text": [
            "WARNING:root:Retrying 2 ... https://www.booking.com/reviewlist.en-gb.html?cc1=ec&pagename=ibis-quito&rows=10&sort=f_recent_desc&offset=1090\n"
          ]
        },
        {
          "output_type": "stream",
          "name": "stdout",
          "text": [
            "2025-10-04 21:24:04,865 - root - WARNING - Retrying 2 ... https://www.booking.com/reviewlist.en-gb.html?cc1=ec&pagename=ibis-quito&rows=10&sort=f_recent_desc&offset=1090\n"
          ]
        },
        {
          "output_type": "stream",
          "name": "stderr",
          "text": [
            "INFO:root:Processed 110/121\n"
          ]
        },
        {
          "output_type": "stream",
          "name": "stdout",
          "text": [
            "2025-10-04 21:24:05,878 - root - INFO - Processed 110/121\n"
          ]
        },
        {
          "output_type": "stream",
          "name": "stderr",
          "text": [
            "WARNING:root:Retrying 1 ... https://www.booking.com/reviewlist.en-gb.html?cc1=ec&pagename=ibis-quito&rows=10&sort=f_recent_desc&offset=1130\n"
          ]
        },
        {
          "output_type": "stream",
          "name": "stdout",
          "text": [
            "2025-10-04 21:24:07,567 - root - WARNING - Retrying 1 ... https://www.booking.com/reviewlist.en-gb.html?cc1=ec&pagename=ibis-quito&rows=10&sort=f_recent_desc&offset=1130\n"
          ]
        },
        {
          "output_type": "stream",
          "name": "stderr",
          "text": [
            "INFO:root:Processed 113/121\n"
          ]
        },
        {
          "output_type": "stream",
          "name": "stdout",
          "text": [
            "2025-10-04 21:24:07,881 - root - INFO - Processed 113/121\n"
          ]
        },
        {
          "output_type": "stream",
          "name": "stderr",
          "text": [
            "WARNING:root:Retrying 2 ... https://www.booking.com/reviewlist.en-gb.html?cc1=ec&pagename=ibis-quito&rows=10&sort=f_recent_desc&offset=1130\n"
          ]
        },
        {
          "output_type": "stream",
          "name": "stdout",
          "text": [
            "2025-10-04 21:24:07,940 - root - WARNING - Retrying 2 ... https://www.booking.com/reviewlist.en-gb.html?cc1=ec&pagename=ibis-quito&rows=10&sort=f_recent_desc&offset=1130\n"
          ]
        },
        {
          "output_type": "stream",
          "name": "stderr",
          "text": [
            "WARNING:root:Retrying 3 ... https://www.booking.com/reviewlist.en-gb.html?cc1=ec&pagename=ibis-quito&rows=10&sort=f_recent_desc&offset=1130\n"
          ]
        },
        {
          "output_type": "stream",
          "name": "stdout",
          "text": [
            "2025-10-04 21:24:08,315 - root - WARNING - Retrying 3 ... https://www.booking.com/reviewlist.en-gb.html?cc1=ec&pagename=ibis-quito&rows=10&sort=f_recent_desc&offset=1130\n"
          ]
        },
        {
          "output_type": "stream",
          "name": "stderr",
          "text": [
            "WARNING:root:Retrying 1 ... https://www.booking.com/reviewlist.en-gb.html?cc1=ec&pagename=ibis-quito&rows=10&sort=f_recent_desc&offset=1150\n"
          ]
        },
        {
          "output_type": "stream",
          "name": "stdout",
          "text": [
            "2025-10-04 21:24:09,544 - root - WARNING - Retrying 1 ... https://www.booking.com/reviewlist.en-gb.html?cc1=ec&pagename=ibis-quito&rows=10&sort=f_recent_desc&offset=1150\n"
          ]
        },
        {
          "output_type": "stream",
          "name": "stderr",
          "text": [
            "INFO:root:Processed 115/121\n"
          ]
        },
        {
          "output_type": "stream",
          "name": "stdout",
          "text": [
            "2025-10-04 21:24:09,885 - root - INFO - Processed 115/121\n"
          ]
        },
        {
          "output_type": "stream",
          "name": "stderr",
          "text": [
            "WARNING:root:Retrying 1 ... https://www.booking.com/reviewlist.en-gb.html?cc1=ec&pagename=ibis-quito&rows=10&sort=f_recent_desc&offset=1160\n"
          ]
        },
        {
          "output_type": "stream",
          "name": "stdout",
          "text": [
            "2025-10-04 21:24:10,503 - root - WARNING - Retrying 1 ... https://www.booking.com/reviewlist.en-gb.html?cc1=ec&pagename=ibis-quito&rows=10&sort=f_recent_desc&offset=1160\n"
          ]
        },
        {
          "output_type": "stream",
          "name": "stderr",
          "text": [
            "WARNING:root:Retrying 2 ... https://www.booking.com/reviewlist.en-gb.html?cc1=ec&pagename=ibis-quito&rows=10&sort=f_recent_desc&offset=1160\n"
          ]
        },
        {
          "output_type": "stream",
          "name": "stdout",
          "text": [
            "2025-10-04 21:24:10,843 - root - WARNING - Retrying 2 ... https://www.booking.com/reviewlist.en-gb.html?cc1=ec&pagename=ibis-quito&rows=10&sort=f_recent_desc&offset=1160\n"
          ]
        },
        {
          "output_type": "stream",
          "name": "stderr",
          "text": [
            "WARNING:root:Retrying 1 ... https://www.booking.com/reviewlist.en-gb.html?cc1=ec&pagename=ibis-quito&rows=10&sort=f_recent_desc&offset=1170\n"
          ]
        },
        {
          "output_type": "stream",
          "name": "stdout",
          "text": [
            "2025-10-04 21:24:11,733 - root - WARNING - Retrying 1 ... https://www.booking.com/reviewlist.en-gb.html?cc1=ec&pagename=ibis-quito&rows=10&sort=f_recent_desc&offset=1170\n"
          ]
        },
        {
          "output_type": "stream",
          "name": "stderr",
          "text": [
            "INFO:root:Processed 117/121\n"
          ]
        },
        {
          "output_type": "stream",
          "name": "stdout",
          "text": [
            "2025-10-04 21:24:11,887 - root - INFO - Processed 117/121\n"
          ]
        },
        {
          "output_type": "stream",
          "name": "stderr",
          "text": [
            "WARNING:root:Retrying 2 ... https://www.booking.com/reviewlist.en-gb.html?cc1=ec&pagename=ibis-quito&rows=10&sort=f_recent_desc&offset=1170\n"
          ]
        },
        {
          "output_type": "stream",
          "name": "stdout",
          "text": [
            "2025-10-04 21:24:12,057 - root - WARNING - Retrying 2 ... https://www.booking.com/reviewlist.en-gb.html?cc1=ec&pagename=ibis-quito&rows=10&sort=f_recent_desc&offset=1170\n"
          ]
        },
        {
          "output_type": "stream",
          "name": "stderr",
          "text": [
            "WARNING:root:Retrying 3 ... https://www.booking.com/reviewlist.en-gb.html?cc1=ec&pagename=ibis-quito&rows=10&sort=f_recent_desc&offset=1170\n"
          ]
        },
        {
          "output_type": "stream",
          "name": "stdout",
          "text": [
            "2025-10-04 21:24:12,392 - root - WARNING - Retrying 3 ... https://www.booking.com/reviewlist.en-gb.html?cc1=ec&pagename=ibis-quito&rows=10&sort=f_recent_desc&offset=1170\n"
          ]
        },
        {
          "output_type": "stream",
          "name": "stderr",
          "text": [
            "WARNING:root:Retrying 1 ... https://www.booking.com/reviewlist.en-gb.html?cc1=ec&pagename=ibis-quito&rows=10&sort=f_recent_desc&offset=1190\n"
          ]
        },
        {
          "output_type": "stream",
          "name": "stdout",
          "text": [
            "2025-10-04 21:24:13,399 - root - WARNING - Retrying 1 ... https://www.booking.com/reviewlist.en-gb.html?cc1=ec&pagename=ibis-quito&rows=10&sort=f_recent_desc&offset=1190\n"
          ]
        },
        {
          "output_type": "stream",
          "name": "stderr",
          "text": [
            "INFO:root:Processed 119/121\n"
          ]
        },
        {
          "output_type": "stream",
          "name": "stdout",
          "text": [
            "2025-10-04 21:24:13,889 - root - INFO - Processed 119/121\n"
          ]
        },
        {
          "output_type": "stream",
          "name": "stderr",
          "text": [
            "INFO:root:Finished Conditional Scraping: 1032 in 100.9 seconds\n"
          ]
        },
        {
          "output_type": "stream",
          "name": "stdout",
          "text": [
            "2025-10-04 21:24:14,509 - root - INFO - Finished Conditional Scraping: 1032 in 100.9 seconds\n"
          ]
        },
        {
          "output_type": "stream",
          "name": "stderr",
          "text": [
            "INFO:root:Process complete 101.6 seconds\n"
          ]
        },
        {
          "output_type": "stream",
          "name": "stdout",
          "text": [
            "2025-10-04 21:24:14,514 - root - INFO - Process complete 101.6 seconds\n"
          ]
        },
        {
          "output_type": "stream",
          "name": "stderr",
          "text": [
            "INFO:root:Reviews found: 1032\n"
          ]
        },
        {
          "output_type": "stream",
          "name": "stdout",
          "text": [
            "2025-10-04 21:24:14,516 - root - INFO - Reviews found: 1032\n",
            "Scrapping Complete: Total Reviews  1032\n"
          ]
        }
      ]
    },
    {
      "cell_type": "markdown",
      "source": [
        "# 4) Locate the CSV and rename it\n",
        "What you do: Find the generated CSV in subfolders and rename it to ibis-quito-hotel.csv (required format).\n",
        "Why: The guide asks to \"save with the hotel name.\"\n",
        "What you should see: Final CSV file: /content/ibis-quito-hotel.csv"
      ],
      "metadata": {
        "id": "x7OXblEHHk7-"
      }
    },
    {
      "cell_type": "code",
      "source": [
        "# 4) Find the latest reviews_*.csv produced and copy it as <hotel>-hotel.csv\n",
        "import glob, os, pandas as pd\n",
        "\n",
        "candidates = sorted(glob.glob(f\"{OUTPUT_DIR}/**/reviews_*.csv\", recursive=True))\n",
        "print(\"Found CSVs:\", candidates)\n",
        "assert candidates, \"No reviews CSV found in OUTPUT_DIR (with subfolders).\"\n",
        "\n",
        "src = max(candidates, key=os.path.getmtime)     # most recent\n",
        "dst = f\"/content/{HOTEL_NAME}-hotel.csv\"\n",
        "\n",
        "pd.read_csv(src).to_csv(dst, index=False)\n",
        "print(\"Final CSV ready:\", dst)\n"
      ],
      "metadata": {
        "id": "I1_KNRYXHl0g",
        "colab": {
          "base_uri": "https://localhost:8080/"
        },
        "outputId": "77018cd9-766b-401b-d36d-0f588044e1f6"
      },
      "execution_count": 4,
      "outputs": [
        {
          "output_type": "stream",
          "name": "stderr",
          "text": [
            "INFO:numexpr.utils:NumExpr defaulting to 2 threads.\n"
          ]
        },
        {
          "output_type": "stream",
          "name": "stdout",
          "text": [
            "2025-10-04 21:24:14,699 - numexpr.utils - INFO - NumExpr defaulting to 2 threads.\n",
            "Found CSVs: ['/content/data/ibis-quito_2025_10_04_21_21_56/reviews_newest_first.csv', '/content/data/ibis-quito_2025_10_04_21_22_32/reviews_newest_first.csv']\n",
            "Final CSV ready: /content/ibis-quito-hotel.csv\n"
          ]
        }
      ]
    },
    {
      "cell_type": "markdown",
      "source": [
        "#5) Load and basic exploration\n",
        "What you do: Load the CSV into the DataFrame df and review the overall structure.\n",
        "\n",
        "What you should see (you saw something like this):\n",
        "\n",
        "Shape: (400, 16) → 400 reviews, 16 columns.\n",
        "\n",
        "info() with types (object, float64, int64) and non-null count."
      ],
      "metadata": {
        "id": "9TtRROIY1q0k"
      }
    },
    {
      "cell_type": "code",
      "source": [
        "# 5) Load the dataset and inspect its structure\n",
        "import pandas as pd\n",
        "import matplotlib.pyplot as plt\n",
        "\n",
        "csv_path = f\"/content/{HOTEL_NAME}-hotel.csv\"\n",
        "df = pd.read_csv(csv_path)\n",
        "\n",
        "print(\"Shape:\", df.shape)                 # (rows, columns)\n",
        "print(\"Columns:\", df.columns.tolist())    # column names\n",
        "df.info()                                 # dtypes and non-null counts\n",
        "\n",
        "# Descriptive stats: numeric vs. categorical\n",
        "num_cols = df.select_dtypes(include=\"number\").columns\n",
        "cat_cols = df.select_dtypes(include=[\"object\",\"category\"]).columns\n",
        "\n",
        "display(df[num_cols].describe())          # mean, std, min, quartiles, max\n",
        "display(df[cat_cols].describe())          # count, unique, top, freq\n"
      ],
      "metadata": {
        "id": "bXTtUWZ7aP6D",
        "colab": {
          "base_uri": "https://localhost:8080/",
          "height": 963
        },
        "outputId": "e2c67c28-21e8-4f0a-9f78-f035e9e3c2b4"
      },
      "execution_count": 5,
      "outputs": [
        {
          "output_type": "stream",
          "name": "stdout",
          "text": [
            "Shape: (1032, 16)\n",
            "Columns: ['username', 'user_country', 'room_view', 'stay_duration', 'stay_type', 'review_post_date', 'review_title', 'rating', 'original_lang', 'review_text_liked', 'review_text_disliked', 'full_review', 'en_full_review', 'found_helpful', 'found_unhelpful', 'owner_resp_text']\n",
            "<class 'pandas.core.frame.DataFrame'>\n",
            "RangeIndex: 1032 entries, 0 to 1031\n",
            "Data columns (total 16 columns):\n",
            " #   Column                Non-Null Count  Dtype  \n",
            "---  ------                --------------  -----  \n",
            " 0   username              1032 non-null   object \n",
            " 1   user_country          1031 non-null   object \n",
            " 2   room_view             1014 non-null   object \n",
            " 3   stay_duration         1032 non-null   object \n",
            " 4   stay_type             1032 non-null   object \n",
            " 5   review_post_date      1032 non-null   object \n",
            " 6   review_title          1031 non-null   object \n",
            " 7   rating                1032 non-null   float64\n",
            " 8   original_lang         1032 non-null   object \n",
            " 9   review_text_liked     510 non-null    object \n",
            " 10  review_text_disliked  365 non-null    object \n",
            " 11  full_review           1032 non-null   object \n",
            " 12  en_full_review        108 non-null    object \n",
            " 13  found_helpful         1032 non-null   int64  \n",
            " 14  found_unhelpful       1032 non-null   int64  \n",
            " 15  owner_resp_text       217 non-null    object \n",
            "dtypes: float64(1), int64(2), object(13)\n",
            "memory usage: 129.1+ KB\n"
          ]
        },
        {
          "output_type": "display_data",
          "data": {
            "text/plain": [
              "            rating  found_helpful  found_unhelpful\n",
              "count  1032.000000    1032.000000           1032.0\n",
              "mean      8.647287       0.005814              0.0\n",
              "std       1.888659       0.087896              0.0\n",
              "min       1.000000       0.000000              0.0\n",
              "25%       8.000000       0.000000              0.0\n",
              "50%       9.000000       0.000000              0.0\n",
              "75%      10.000000       0.000000              0.0\n",
              "max      10.000000       2.000000              0.0"
            ],
            "text/html": [
              "\n",
              "  <div id=\"df-249450fd-0c65-4d22-a65e-73d4637d671d\" class=\"colab-df-container\">\n",
              "    <div>\n",
              "<style scoped>\n",
              "    .dataframe tbody tr th:only-of-type {\n",
              "        vertical-align: middle;\n",
              "    }\n",
              "\n",
              "    .dataframe tbody tr th {\n",
              "        vertical-align: top;\n",
              "    }\n",
              "\n",
              "    .dataframe thead th {\n",
              "        text-align: right;\n",
              "    }\n",
              "</style>\n",
              "<table border=\"1\" class=\"dataframe\">\n",
              "  <thead>\n",
              "    <tr style=\"text-align: right;\">\n",
              "      <th></th>\n",
              "      <th>rating</th>\n",
              "      <th>found_helpful</th>\n",
              "      <th>found_unhelpful</th>\n",
              "    </tr>\n",
              "  </thead>\n",
              "  <tbody>\n",
              "    <tr>\n",
              "      <th>count</th>\n",
              "      <td>1032.000000</td>\n",
              "      <td>1032.000000</td>\n",
              "      <td>1032.0</td>\n",
              "    </tr>\n",
              "    <tr>\n",
              "      <th>mean</th>\n",
              "      <td>8.647287</td>\n",
              "      <td>0.005814</td>\n",
              "      <td>0.0</td>\n",
              "    </tr>\n",
              "    <tr>\n",
              "      <th>std</th>\n",
              "      <td>1.888659</td>\n",
              "      <td>0.087896</td>\n",
              "      <td>0.0</td>\n",
              "    </tr>\n",
              "    <tr>\n",
              "      <th>min</th>\n",
              "      <td>1.000000</td>\n",
              "      <td>0.000000</td>\n",
              "      <td>0.0</td>\n",
              "    </tr>\n",
              "    <tr>\n",
              "      <th>25%</th>\n",
              "      <td>8.000000</td>\n",
              "      <td>0.000000</td>\n",
              "      <td>0.0</td>\n",
              "    </tr>\n",
              "    <tr>\n",
              "      <th>50%</th>\n",
              "      <td>9.000000</td>\n",
              "      <td>0.000000</td>\n",
              "      <td>0.0</td>\n",
              "    </tr>\n",
              "    <tr>\n",
              "      <th>75%</th>\n",
              "      <td>10.000000</td>\n",
              "      <td>0.000000</td>\n",
              "      <td>0.0</td>\n",
              "    </tr>\n",
              "    <tr>\n",
              "      <th>max</th>\n",
              "      <td>10.000000</td>\n",
              "      <td>2.000000</td>\n",
              "      <td>0.0</td>\n",
              "    </tr>\n",
              "  </tbody>\n",
              "</table>\n",
              "</div>\n",
              "    <div class=\"colab-df-buttons\">\n",
              "\n",
              "  <div class=\"colab-df-container\">\n",
              "    <button class=\"colab-df-convert\" onclick=\"convertToInteractive('df-249450fd-0c65-4d22-a65e-73d4637d671d')\"\n",
              "            title=\"Convert this dataframe to an interactive table.\"\n",
              "            style=\"display:none;\">\n",
              "\n",
              "  <svg xmlns=\"http://www.w3.org/2000/svg\" height=\"24px\" viewBox=\"0 -960 960 960\">\n",
              "    <path d=\"M120-120v-720h720v720H120Zm60-500h600v-160H180v160Zm220 220h160v-160H400v160Zm0 220h160v-160H400v160ZM180-400h160v-160H180v160Zm440 0h160v-160H620v160ZM180-180h160v-160H180v160Zm440 0h160v-160H620v160Z\"/>\n",
              "  </svg>\n",
              "    </button>\n",
              "\n",
              "  <style>\n",
              "    .colab-df-container {\n",
              "      display:flex;\n",
              "      gap: 12px;\n",
              "    }\n",
              "\n",
              "    .colab-df-convert {\n",
              "      background-color: #E8F0FE;\n",
              "      border: none;\n",
              "      border-radius: 50%;\n",
              "      cursor: pointer;\n",
              "      display: none;\n",
              "      fill: #1967D2;\n",
              "      height: 32px;\n",
              "      padding: 0 0 0 0;\n",
              "      width: 32px;\n",
              "    }\n",
              "\n",
              "    .colab-df-convert:hover {\n",
              "      background-color: #E2EBFA;\n",
              "      box-shadow: 0px 1px 2px rgba(60, 64, 67, 0.3), 0px 1px 3px 1px rgba(60, 64, 67, 0.15);\n",
              "      fill: #174EA6;\n",
              "    }\n",
              "\n",
              "    .colab-df-buttons div {\n",
              "      margin-bottom: 4px;\n",
              "    }\n",
              "\n",
              "    [theme=dark] .colab-df-convert {\n",
              "      background-color: #3B4455;\n",
              "      fill: #D2E3FC;\n",
              "    }\n",
              "\n",
              "    [theme=dark] .colab-df-convert:hover {\n",
              "      background-color: #434B5C;\n",
              "      box-shadow: 0px 1px 3px 1px rgba(0, 0, 0, 0.15);\n",
              "      filter: drop-shadow(0px 1px 2px rgba(0, 0, 0, 0.3));\n",
              "      fill: #FFFFFF;\n",
              "    }\n",
              "  </style>\n",
              "\n",
              "    <script>\n",
              "      const buttonEl =\n",
              "        document.querySelector('#df-249450fd-0c65-4d22-a65e-73d4637d671d button.colab-df-convert');\n",
              "      buttonEl.style.display =\n",
              "        google.colab.kernel.accessAllowed ? 'block' : 'none';\n",
              "\n",
              "      async function convertToInteractive(key) {\n",
              "        const element = document.querySelector('#df-249450fd-0c65-4d22-a65e-73d4637d671d');\n",
              "        const dataTable =\n",
              "          await google.colab.kernel.invokeFunction('convertToInteractive',\n",
              "                                                    [key], {});\n",
              "        if (!dataTable) return;\n",
              "\n",
              "        const docLinkHtml = 'Like what you see? Visit the ' +\n",
              "          '<a target=\"_blank\" href=https://colab.research.google.com/notebooks/data_table.ipynb>data table notebook</a>'\n",
              "          + ' to learn more about interactive tables.';\n",
              "        element.innerHTML = '';\n",
              "        dataTable['output_type'] = 'display_data';\n",
              "        await google.colab.output.renderOutput(dataTable, element);\n",
              "        const docLink = document.createElement('div');\n",
              "        docLink.innerHTML = docLinkHtml;\n",
              "        element.appendChild(docLink);\n",
              "      }\n",
              "    </script>\n",
              "  </div>\n",
              "\n",
              "\n",
              "    <div id=\"df-dfc617dd-d0dd-4ccb-a740-4d2551888f77\">\n",
              "      <button class=\"colab-df-quickchart\" onclick=\"quickchart('df-dfc617dd-d0dd-4ccb-a740-4d2551888f77')\"\n",
              "                title=\"Suggest charts\"\n",
              "                style=\"display:none;\">\n",
              "\n",
              "<svg xmlns=\"http://www.w3.org/2000/svg\" height=\"24px\"viewBox=\"0 0 24 24\"\n",
              "     width=\"24px\">\n",
              "    <g>\n",
              "        <path d=\"M19 3H5c-1.1 0-2 .9-2 2v14c0 1.1.9 2 2 2h14c1.1 0 2-.9 2-2V5c0-1.1-.9-2-2-2zM9 17H7v-7h2v7zm4 0h-2V7h2v10zm4 0h-2v-4h2v4z\"/>\n",
              "    </g>\n",
              "</svg>\n",
              "      </button>\n",
              "\n",
              "<style>\n",
              "  .colab-df-quickchart {\n",
              "      --bg-color: #E8F0FE;\n",
              "      --fill-color: #1967D2;\n",
              "      --hover-bg-color: #E2EBFA;\n",
              "      --hover-fill-color: #174EA6;\n",
              "      --disabled-fill-color: #AAA;\n",
              "      --disabled-bg-color: #DDD;\n",
              "  }\n",
              "\n",
              "  [theme=dark] .colab-df-quickchart {\n",
              "      --bg-color: #3B4455;\n",
              "      --fill-color: #D2E3FC;\n",
              "      --hover-bg-color: #434B5C;\n",
              "      --hover-fill-color: #FFFFFF;\n",
              "      --disabled-bg-color: #3B4455;\n",
              "      --disabled-fill-color: #666;\n",
              "  }\n",
              "\n",
              "  .colab-df-quickchart {\n",
              "    background-color: var(--bg-color);\n",
              "    border: none;\n",
              "    border-radius: 50%;\n",
              "    cursor: pointer;\n",
              "    display: none;\n",
              "    fill: var(--fill-color);\n",
              "    height: 32px;\n",
              "    padding: 0;\n",
              "    width: 32px;\n",
              "  }\n",
              "\n",
              "  .colab-df-quickchart:hover {\n",
              "    background-color: var(--hover-bg-color);\n",
              "    box-shadow: 0 1px 2px rgba(60, 64, 67, 0.3), 0 1px 3px 1px rgba(60, 64, 67, 0.15);\n",
              "    fill: var(--button-hover-fill-color);\n",
              "  }\n",
              "\n",
              "  .colab-df-quickchart-complete:disabled,\n",
              "  .colab-df-quickchart-complete:disabled:hover {\n",
              "    background-color: var(--disabled-bg-color);\n",
              "    fill: var(--disabled-fill-color);\n",
              "    box-shadow: none;\n",
              "  }\n",
              "\n",
              "  .colab-df-spinner {\n",
              "    border: 2px solid var(--fill-color);\n",
              "    border-color: transparent;\n",
              "    border-bottom-color: var(--fill-color);\n",
              "    animation:\n",
              "      spin 1s steps(1) infinite;\n",
              "  }\n",
              "\n",
              "  @keyframes spin {\n",
              "    0% {\n",
              "      border-color: transparent;\n",
              "      border-bottom-color: var(--fill-color);\n",
              "      border-left-color: var(--fill-color);\n",
              "    }\n",
              "    20% {\n",
              "      border-color: transparent;\n",
              "      border-left-color: var(--fill-color);\n",
              "      border-top-color: var(--fill-color);\n",
              "    }\n",
              "    30% {\n",
              "      border-color: transparent;\n",
              "      border-left-color: var(--fill-color);\n",
              "      border-top-color: var(--fill-color);\n",
              "      border-right-color: var(--fill-color);\n",
              "    }\n",
              "    40% {\n",
              "      border-color: transparent;\n",
              "      border-right-color: var(--fill-color);\n",
              "      border-top-color: var(--fill-color);\n",
              "    }\n",
              "    60% {\n",
              "      border-color: transparent;\n",
              "      border-right-color: var(--fill-color);\n",
              "    }\n",
              "    80% {\n",
              "      border-color: transparent;\n",
              "      border-right-color: var(--fill-color);\n",
              "      border-bottom-color: var(--fill-color);\n",
              "    }\n",
              "    90% {\n",
              "      border-color: transparent;\n",
              "      border-bottom-color: var(--fill-color);\n",
              "    }\n",
              "  }\n",
              "</style>\n",
              "\n",
              "      <script>\n",
              "        async function quickchart(key) {\n",
              "          const quickchartButtonEl =\n",
              "            document.querySelector('#' + key + ' button');\n",
              "          quickchartButtonEl.disabled = true;  // To prevent multiple clicks.\n",
              "          quickchartButtonEl.classList.add('colab-df-spinner');\n",
              "          try {\n",
              "            const charts = await google.colab.kernel.invokeFunction(\n",
              "                'suggestCharts', [key], {});\n",
              "          } catch (error) {\n",
              "            console.error('Error during call to suggestCharts:', error);\n",
              "          }\n",
              "          quickchartButtonEl.classList.remove('colab-df-spinner');\n",
              "          quickchartButtonEl.classList.add('colab-df-quickchart-complete');\n",
              "        }\n",
              "        (() => {\n",
              "          let quickchartButtonEl =\n",
              "            document.querySelector('#df-dfc617dd-d0dd-4ccb-a740-4d2551888f77 button');\n",
              "          quickchartButtonEl.style.display =\n",
              "            google.colab.kernel.accessAllowed ? 'block' : 'none';\n",
              "        })();\n",
              "      </script>\n",
              "    </div>\n",
              "\n",
              "    </div>\n",
              "  </div>\n"
            ],
            "application/vnd.google.colaboratory.intrinsic+json": {
              "type": "dataframe",
              "summary": "{\n  \"name\": \"display(df[cat_cols]\",\n  \"rows\": 8,\n  \"fields\": [\n    {\n      \"column\": \"rating\",\n      \"properties\": {\n        \"dtype\": \"number\",\n        \"std\": 362.4329694121559,\n        \"min\": 1.0,\n        \"max\": 1032.0,\n        \"num_unique_values\": 7,\n        \"samples\": [\n          1032.0,\n          8.647286821705427,\n          9.0\n        ],\n        \"semantic_type\": \"\",\n        \"description\": \"\"\n      }\n    },\n    {\n      \"column\": \"found_helpful\",\n      \"properties\": {\n        \"dtype\": \"number\",\n        \"std\": 364.76201297430896,\n        \"min\": 0.0,\n        \"max\": 1032.0,\n        \"num_unique_values\": 5,\n        \"samples\": [\n          0.005813953488372093,\n          2.0,\n          0.0878955175032149\n        ],\n        \"semantic_type\": \"\",\n        \"description\": \"\"\n      }\n    },\n    {\n      \"column\": \"found_unhelpful\",\n      \"properties\": {\n        \"dtype\": \"number\",\n        \"std\": 364.8670990922585,\n        \"min\": 0.0,\n        \"max\": 1032.0,\n        \"num_unique_values\": 2,\n        \"samples\": [\n          0.0,\n          1032.0\n        ],\n        \"semantic_type\": \"\",\n        \"description\": \"\"\n      }\n    }\n  ]\n}"
            }
          },
          "metadata": {}
        },
        {
          "output_type": "display_data",
          "data": {
            "text/plain": [
              "       username user_country             room_view stay_duration  \\\n",
              "count      1032         1031                  1014          1032   \n",
              "unique      550           42                     3            13   \n",
              "top      Carlos      Ecuador  Standard Double Room       1 night   \n",
              "freq         30          597                   533           586   \n",
              "\n",
              "             stay_type     review_post_date review_title original_lang  \\\n",
              "count             1032                 1032         1031          1032   \n",
              "unique               4                  596          302            18   \n",
              "top     Solo traveller  05-02-2023 00:00:00  Exceptional            es   \n",
              "freq               391                    6          306           829   \n",
              "\n",
              "       review_text_liked review_text_disliked          full_review  \\\n",
              "count                510                  365                 1032   \n",
              "unique               460                  340                  534   \n",
              "top            Ubicación                 Nada  title: Exceptional.   \n",
              "freq                  11                   10                  238   \n",
              "\n",
              "             en_full_review                                    owner_resp_text  \n",
              "count                   108                                                217  \n",
              "unique                   56                                                217  \n",
              "top     title: Exceptional.  Estimado Luis Le agradecemos enormemente sus c...  \n",
              "freq                     21                                                  1  "
            ],
            "text/html": [
              "\n",
              "  <div id=\"df-39d01a8c-e16c-415a-8e70-feca5245b6d9\" class=\"colab-df-container\">\n",
              "    <div>\n",
              "<style scoped>\n",
              "    .dataframe tbody tr th:only-of-type {\n",
              "        vertical-align: middle;\n",
              "    }\n",
              "\n",
              "    .dataframe tbody tr th {\n",
              "        vertical-align: top;\n",
              "    }\n",
              "\n",
              "    .dataframe thead th {\n",
              "        text-align: right;\n",
              "    }\n",
              "</style>\n",
              "<table border=\"1\" class=\"dataframe\">\n",
              "  <thead>\n",
              "    <tr style=\"text-align: right;\">\n",
              "      <th></th>\n",
              "      <th>username</th>\n",
              "      <th>user_country</th>\n",
              "      <th>room_view</th>\n",
              "      <th>stay_duration</th>\n",
              "      <th>stay_type</th>\n",
              "      <th>review_post_date</th>\n",
              "      <th>review_title</th>\n",
              "      <th>original_lang</th>\n",
              "      <th>review_text_liked</th>\n",
              "      <th>review_text_disliked</th>\n",
              "      <th>full_review</th>\n",
              "      <th>en_full_review</th>\n",
              "      <th>owner_resp_text</th>\n",
              "    </tr>\n",
              "  </thead>\n",
              "  <tbody>\n",
              "    <tr>\n",
              "      <th>count</th>\n",
              "      <td>1032</td>\n",
              "      <td>1031</td>\n",
              "      <td>1014</td>\n",
              "      <td>1032</td>\n",
              "      <td>1032</td>\n",
              "      <td>1032</td>\n",
              "      <td>1031</td>\n",
              "      <td>1032</td>\n",
              "      <td>510</td>\n",
              "      <td>365</td>\n",
              "      <td>1032</td>\n",
              "      <td>108</td>\n",
              "      <td>217</td>\n",
              "    </tr>\n",
              "    <tr>\n",
              "      <th>unique</th>\n",
              "      <td>550</td>\n",
              "      <td>42</td>\n",
              "      <td>3</td>\n",
              "      <td>13</td>\n",
              "      <td>4</td>\n",
              "      <td>596</td>\n",
              "      <td>302</td>\n",
              "      <td>18</td>\n",
              "      <td>460</td>\n",
              "      <td>340</td>\n",
              "      <td>534</td>\n",
              "      <td>56</td>\n",
              "      <td>217</td>\n",
              "    </tr>\n",
              "    <tr>\n",
              "      <th>top</th>\n",
              "      <td>Carlos</td>\n",
              "      <td>Ecuador</td>\n",
              "      <td>Standard Double Room</td>\n",
              "      <td>1 night</td>\n",
              "      <td>Solo traveller</td>\n",
              "      <td>05-02-2023 00:00:00</td>\n",
              "      <td>Exceptional</td>\n",
              "      <td>es</td>\n",
              "      <td>Ubicación</td>\n",
              "      <td>Nada</td>\n",
              "      <td>title: Exceptional.</td>\n",
              "      <td>title: Exceptional.</td>\n",
              "      <td>Estimado Luis Le agradecemos enormemente sus c...</td>\n",
              "    </tr>\n",
              "    <tr>\n",
              "      <th>freq</th>\n",
              "      <td>30</td>\n",
              "      <td>597</td>\n",
              "      <td>533</td>\n",
              "      <td>586</td>\n",
              "      <td>391</td>\n",
              "      <td>6</td>\n",
              "      <td>306</td>\n",
              "      <td>829</td>\n",
              "      <td>11</td>\n",
              "      <td>10</td>\n",
              "      <td>238</td>\n",
              "      <td>21</td>\n",
              "      <td>1</td>\n",
              "    </tr>\n",
              "  </tbody>\n",
              "</table>\n",
              "</div>\n",
              "    <div class=\"colab-df-buttons\">\n",
              "\n",
              "  <div class=\"colab-df-container\">\n",
              "    <button class=\"colab-df-convert\" onclick=\"convertToInteractive('df-39d01a8c-e16c-415a-8e70-feca5245b6d9')\"\n",
              "            title=\"Convert this dataframe to an interactive table.\"\n",
              "            style=\"display:none;\">\n",
              "\n",
              "  <svg xmlns=\"http://www.w3.org/2000/svg\" height=\"24px\" viewBox=\"0 -960 960 960\">\n",
              "    <path d=\"M120-120v-720h720v720H120Zm60-500h600v-160H180v160Zm220 220h160v-160H400v160Zm0 220h160v-160H400v160ZM180-400h160v-160H180v160Zm440 0h160v-160H620v160ZM180-180h160v-160H180v160Zm440 0h160v-160H620v160Z\"/>\n",
              "  </svg>\n",
              "    </button>\n",
              "\n",
              "  <style>\n",
              "    .colab-df-container {\n",
              "      display:flex;\n",
              "      gap: 12px;\n",
              "    }\n",
              "\n",
              "    .colab-df-convert {\n",
              "      background-color: #E8F0FE;\n",
              "      border: none;\n",
              "      border-radius: 50%;\n",
              "      cursor: pointer;\n",
              "      display: none;\n",
              "      fill: #1967D2;\n",
              "      height: 32px;\n",
              "      padding: 0 0 0 0;\n",
              "      width: 32px;\n",
              "    }\n",
              "\n",
              "    .colab-df-convert:hover {\n",
              "      background-color: #E2EBFA;\n",
              "      box-shadow: 0px 1px 2px rgba(60, 64, 67, 0.3), 0px 1px 3px 1px rgba(60, 64, 67, 0.15);\n",
              "      fill: #174EA6;\n",
              "    }\n",
              "\n",
              "    .colab-df-buttons div {\n",
              "      margin-bottom: 4px;\n",
              "    }\n",
              "\n",
              "    [theme=dark] .colab-df-convert {\n",
              "      background-color: #3B4455;\n",
              "      fill: #D2E3FC;\n",
              "    }\n",
              "\n",
              "    [theme=dark] .colab-df-convert:hover {\n",
              "      background-color: #434B5C;\n",
              "      box-shadow: 0px 1px 3px 1px rgba(0, 0, 0, 0.15);\n",
              "      filter: drop-shadow(0px 1px 2px rgba(0, 0, 0, 0.3));\n",
              "      fill: #FFFFFF;\n",
              "    }\n",
              "  </style>\n",
              "\n",
              "    <script>\n",
              "      const buttonEl =\n",
              "        document.querySelector('#df-39d01a8c-e16c-415a-8e70-feca5245b6d9 button.colab-df-convert');\n",
              "      buttonEl.style.display =\n",
              "        google.colab.kernel.accessAllowed ? 'block' : 'none';\n",
              "\n",
              "      async function convertToInteractive(key) {\n",
              "        const element = document.querySelector('#df-39d01a8c-e16c-415a-8e70-feca5245b6d9');\n",
              "        const dataTable =\n",
              "          await google.colab.kernel.invokeFunction('convertToInteractive',\n",
              "                                                    [key], {});\n",
              "        if (!dataTable) return;\n",
              "\n",
              "        const docLinkHtml = 'Like what you see? Visit the ' +\n",
              "          '<a target=\"_blank\" href=https://colab.research.google.com/notebooks/data_table.ipynb>data table notebook</a>'\n",
              "          + ' to learn more about interactive tables.';\n",
              "        element.innerHTML = '';\n",
              "        dataTable['output_type'] = 'display_data';\n",
              "        await google.colab.output.renderOutput(dataTable, element);\n",
              "        const docLink = document.createElement('div');\n",
              "        docLink.innerHTML = docLinkHtml;\n",
              "        element.appendChild(docLink);\n",
              "      }\n",
              "    </script>\n",
              "  </div>\n",
              "\n",
              "\n",
              "    <div id=\"df-12c64998-341b-4894-9d87-44704cce470a\">\n",
              "      <button class=\"colab-df-quickchart\" onclick=\"quickchart('df-12c64998-341b-4894-9d87-44704cce470a')\"\n",
              "                title=\"Suggest charts\"\n",
              "                style=\"display:none;\">\n",
              "\n",
              "<svg xmlns=\"http://www.w3.org/2000/svg\" height=\"24px\"viewBox=\"0 0 24 24\"\n",
              "     width=\"24px\">\n",
              "    <g>\n",
              "        <path d=\"M19 3H5c-1.1 0-2 .9-2 2v14c0 1.1.9 2 2 2h14c1.1 0 2-.9 2-2V5c0-1.1-.9-2-2-2zM9 17H7v-7h2v7zm4 0h-2V7h2v10zm4 0h-2v-4h2v4z\"/>\n",
              "    </g>\n",
              "</svg>\n",
              "      </button>\n",
              "\n",
              "<style>\n",
              "  .colab-df-quickchart {\n",
              "      --bg-color: #E8F0FE;\n",
              "      --fill-color: #1967D2;\n",
              "      --hover-bg-color: #E2EBFA;\n",
              "      --hover-fill-color: #174EA6;\n",
              "      --disabled-fill-color: #AAA;\n",
              "      --disabled-bg-color: #DDD;\n",
              "  }\n",
              "\n",
              "  [theme=dark] .colab-df-quickchart {\n",
              "      --bg-color: #3B4455;\n",
              "      --fill-color: #D2E3FC;\n",
              "      --hover-bg-color: #434B5C;\n",
              "      --hover-fill-color: #FFFFFF;\n",
              "      --disabled-bg-color: #3B4455;\n",
              "      --disabled-fill-color: #666;\n",
              "  }\n",
              "\n",
              "  .colab-df-quickchart {\n",
              "    background-color: var(--bg-color);\n",
              "    border: none;\n",
              "    border-radius: 50%;\n",
              "    cursor: pointer;\n",
              "    display: none;\n",
              "    fill: var(--fill-color);\n",
              "    height: 32px;\n",
              "    padding: 0;\n",
              "    width: 32px;\n",
              "  }\n",
              "\n",
              "  .colab-df-quickchart:hover {\n",
              "    background-color: var(--hover-bg-color);\n",
              "    box-shadow: 0 1px 2px rgba(60, 64, 67, 0.3), 0 1px 3px 1px rgba(60, 64, 67, 0.15);\n",
              "    fill: var(--button-hover-fill-color);\n",
              "  }\n",
              "\n",
              "  .colab-df-quickchart-complete:disabled,\n",
              "  .colab-df-quickchart-complete:disabled:hover {\n",
              "    background-color: var(--disabled-bg-color);\n",
              "    fill: var(--disabled-fill-color);\n",
              "    box-shadow: none;\n",
              "  }\n",
              "\n",
              "  .colab-df-spinner {\n",
              "    border: 2px solid var(--fill-color);\n",
              "    border-color: transparent;\n",
              "    border-bottom-color: var(--fill-color);\n",
              "    animation:\n",
              "      spin 1s steps(1) infinite;\n",
              "  }\n",
              "\n",
              "  @keyframes spin {\n",
              "    0% {\n",
              "      border-color: transparent;\n",
              "      border-bottom-color: var(--fill-color);\n",
              "      border-left-color: var(--fill-color);\n",
              "    }\n",
              "    20% {\n",
              "      border-color: transparent;\n",
              "      border-left-color: var(--fill-color);\n",
              "      border-top-color: var(--fill-color);\n",
              "    }\n",
              "    30% {\n",
              "      border-color: transparent;\n",
              "      border-left-color: var(--fill-color);\n",
              "      border-top-color: var(--fill-color);\n",
              "      border-right-color: var(--fill-color);\n",
              "    }\n",
              "    40% {\n",
              "      border-color: transparent;\n",
              "      border-right-color: var(--fill-color);\n",
              "      border-top-color: var(--fill-color);\n",
              "    }\n",
              "    60% {\n",
              "      border-color: transparent;\n",
              "      border-right-color: var(--fill-color);\n",
              "    }\n",
              "    80% {\n",
              "      border-color: transparent;\n",
              "      border-right-color: var(--fill-color);\n",
              "      border-bottom-color: var(--fill-color);\n",
              "    }\n",
              "    90% {\n",
              "      border-color: transparent;\n",
              "      border-bottom-color: var(--fill-color);\n",
              "    }\n",
              "  }\n",
              "</style>\n",
              "\n",
              "      <script>\n",
              "        async function quickchart(key) {\n",
              "          const quickchartButtonEl =\n",
              "            document.querySelector('#' + key + ' button');\n",
              "          quickchartButtonEl.disabled = true;  // To prevent multiple clicks.\n",
              "          quickchartButtonEl.classList.add('colab-df-spinner');\n",
              "          try {\n",
              "            const charts = await google.colab.kernel.invokeFunction(\n",
              "                'suggestCharts', [key], {});\n",
              "          } catch (error) {\n",
              "            console.error('Error during call to suggestCharts:', error);\n",
              "          }\n",
              "          quickchartButtonEl.classList.remove('colab-df-spinner');\n",
              "          quickchartButtonEl.classList.add('colab-df-quickchart-complete');\n",
              "        }\n",
              "        (() => {\n",
              "          let quickchartButtonEl =\n",
              "            document.querySelector('#df-12c64998-341b-4894-9d87-44704cce470a button');\n",
              "          quickchartButtonEl.style.display =\n",
              "            google.colab.kernel.accessAllowed ? 'block' : 'none';\n",
              "        })();\n",
              "      </script>\n",
              "    </div>\n",
              "\n",
              "    </div>\n",
              "  </div>\n"
            ],
            "application/vnd.google.colaboratory.intrinsic+json": {
              "type": "dataframe",
              "summary": "{\n  \"name\": \"display(df[cat_cols]\",\n  \"rows\": 4,\n  \"fields\": [\n    {\n      \"column\": \"username\",\n      \"properties\": {\n        \"dtype\": \"string\",\n        \"num_unique_values\": 4,\n        \"samples\": [\n          550,\n          \"30\",\n          \"1032\"\n        ],\n        \"semantic_type\": \"\",\n        \"description\": \"\"\n      }\n    },\n    {\n      \"column\": \"user_country\",\n      \"properties\": {\n        \"dtype\": \"string\",\n        \"num_unique_values\": 4,\n        \"samples\": [\n          42,\n          \"597\",\n          \"1031\"\n        ],\n        \"semantic_type\": \"\",\n        \"description\": \"\"\n      }\n    },\n    {\n      \"column\": \"room_view\",\n      \"properties\": {\n        \"dtype\": \"string\",\n        \"num_unique_values\": 4,\n        \"samples\": [\n          3,\n          \"533\",\n          \"1014\"\n        ],\n        \"semantic_type\": \"\",\n        \"description\": \"\"\n      }\n    },\n    {\n      \"column\": \"stay_duration\",\n      \"properties\": {\n        \"dtype\": \"string\",\n        \"num_unique_values\": 4,\n        \"samples\": [\n          13,\n          \"586\",\n          \"1032\"\n        ],\n        \"semantic_type\": \"\",\n        \"description\": \"\"\n      }\n    },\n    {\n      \"column\": \"stay_type\",\n      \"properties\": {\n        \"dtype\": \"string\",\n        \"num_unique_values\": 4,\n        \"samples\": [\n          4,\n          \"391\",\n          \"1032\"\n        ],\n        \"semantic_type\": \"\",\n        \"description\": \"\"\n      }\n    },\n    {\n      \"column\": \"review_post_date\",\n      \"properties\": {\n        \"dtype\": \"date\",\n        \"min\": \"1970-01-01 00:00:00.000000006\",\n        \"max\": \"2023-05-02 00:00:00\",\n        \"num_unique_values\": 4,\n        \"samples\": [\n          596,\n          \"6\",\n          \"1032\"\n        ],\n        \"semantic_type\": \"\",\n        \"description\": \"\"\n      }\n    },\n    {\n      \"column\": \"review_title\",\n      \"properties\": {\n        \"dtype\": \"string\",\n        \"num_unique_values\": 4,\n        \"samples\": [\n          302,\n          \"306\",\n          \"1031\"\n        ],\n        \"semantic_type\": \"\",\n        \"description\": \"\"\n      }\n    },\n    {\n      \"column\": \"original_lang\",\n      \"properties\": {\n        \"dtype\": \"string\",\n        \"num_unique_values\": 4,\n        \"samples\": [\n          18,\n          \"829\",\n          \"1032\"\n        ],\n        \"semantic_type\": \"\",\n        \"description\": \"\"\n      }\n    },\n    {\n      \"column\": \"review_text_liked\",\n      \"properties\": {\n        \"dtype\": \"string\",\n        \"num_unique_values\": 4,\n        \"samples\": [\n          460,\n          \"11\",\n          \"510\"\n        ],\n        \"semantic_type\": \"\",\n        \"description\": \"\"\n      }\n    },\n    {\n      \"column\": \"review_text_disliked\",\n      \"properties\": {\n        \"dtype\": \"string\",\n        \"num_unique_values\": 4,\n        \"samples\": [\n          340,\n          \"10\",\n          \"365\"\n        ],\n        \"semantic_type\": \"\",\n        \"description\": \"\"\n      }\n    },\n    {\n      \"column\": \"full_review\",\n      \"properties\": {\n        \"dtype\": \"string\",\n        \"num_unique_values\": 4,\n        \"samples\": [\n          534,\n          \"238\",\n          \"1032\"\n        ],\n        \"semantic_type\": \"\",\n        \"description\": \"\"\n      }\n    },\n    {\n      \"column\": \"en_full_review\",\n      \"properties\": {\n        \"dtype\": \"string\",\n        \"num_unique_values\": 4,\n        \"samples\": [\n          56,\n          \"21\",\n          \"108\"\n        ],\n        \"semantic_type\": \"\",\n        \"description\": \"\"\n      }\n    },\n    {\n      \"column\": \"owner_resp_text\",\n      \"properties\": {\n        \"dtype\": \"string\",\n        \"num_unique_values\": 3,\n        \"samples\": [\n          \"217\",\n          \"Estimado Luis Le agradecemos enormemente sus comentarios y valoraci\\u00f3n en relaci\\u00f3n a su estancia en ibis Quito. Siempre es un placer brindar un servicio de excelencia a nuestros hu\\u00e9spedes y esperamos que nos brinde la oportunidad de que nos visite nuevamente. Saludos\",\n          \"1\"\n        ],\n        \"semantic_type\": \"\",\n        \"description\": \"\"\n      }\n    }\n  ]\n}"
            }
          },
          "metadata": {}
        }
      ]
    },
    {
      "cell_type": "markdown",
      "source": [
        "# 6) Cleanup: Remove Unhelpful Columns\n",
        "What you do: Remove fields you won't use in the KPIs required by the guide (month/year/country and counts).\n",
        "What you should see: df.head(3) with fewer, more readable columns.\n",
        "\n",
        "Text for your justification cell (>=20 words):\n",
        "“We removed full_review, en_full_review, owner_resp_text, and found_unhelpful because they don't contribute to the requested indicators (counts by month, year, and country) and increase the size/noise of the dataset. We kept review_post_date, user_country, rating, stay_type, and stay_duration to describe the timing and origin of the reviews.”"
      ],
      "metadata": {
        "id": "ZYLc-tL21_hm"
      }
    },
    {
      "cell_type": "code",
      "source": [
        "# 6) Drop columns not needed for your analysis/plots\n",
        "cols_to_drop = [\"full_review\", \"en_full_review\", \"owner_resp_text\", \"found_unhelpful\"]\n",
        "cols_to_drop = [c for c in cols_to_drop if c in df.columns]\n",
        "df = df.drop(columns=cols_to_drop)\n",
        "df\n"
      ],
      "metadata": {
        "id": "rHYcc1b8aWU6",
        "colab": {
          "base_uri": "https://localhost:8080/",
          "height": 825
        },
        "outputId": "dfc24b27-adc7-4fdd-e35c-963755833b18"
      },
      "execution_count": 7,
      "outputs": [
        {
          "output_type": "execute_result",
          "data": {
            "text/plain": [
              "          username user_country                  room_view stay_duration  \\\n",
              "0          Nivaldo      Ecuador       Standard Double Room      2 nights   \n",
              "1           Javier      Ecuador       Standard Double Room       1 night   \n",
              "2            Yayuk      Finland       Standard Double Room      4 nights   \n",
              "3             Raul     Colombia       Standard Double Room       1 night   \n",
              "4        Alejandro      Ecuador       Standard Double Room      2 nights   \n",
              "...            ...          ...                        ...           ...   \n",
              "1027         Mario    Guatemala  Double Room with Sofa Bed      2 nights   \n",
              "1028  Jean-jacques       France       Standard Double Room      4 nights   \n",
              "1029   Davicho1985      Ecuador  Double Room with Sofa Bed       1 night   \n",
              "1030    Tamarita82      Ecuador  Double Room with Sofa Bed       1 night   \n",
              "1031      Carmenza     Colombia  Double Room with Sofa Bed      4 nights   \n",
              "\n",
              "           stay_type     review_post_date  \\\n",
              "0     Solo traveller  10-04-2025 00:00:00   \n",
              "1             Family  09-28-2025 00:00:00   \n",
              "2     Solo traveller  09-27-2025 00:00:00   \n",
              "3     Solo traveller  09-27-2025 00:00:00   \n",
              "4             Couple  09-26-2025 00:00:00   \n",
              "...              ...                  ...   \n",
              "1027  Solo traveller  10-06-2022 00:00:00   \n",
              "1028          Family  10-06-2022 00:00:00   \n",
              "1029          Family  10-05-2022 00:00:00   \n",
              "1030          Family  10-05-2022 00:00:00   \n",
              "1031          Family  10-04-2022 00:00:00   \n",
              "\n",
              "                                           review_title  rating original_lang  \\\n",
              "0                                              Passable     5.0            es   \n",
              "1                                                Superb     9.0            es   \n",
              "2                                             Very good     8.0         en-us   \n",
              "3     deben hacer mejor limpieza en los pisos para e...     3.0            es   \n",
              "4                                                  Good     7.0            es   \n",
              "...                                                 ...     ...           ...   \n",
              "1027                                        Exceptional    10.0         en-us   \n",
              "1028  Bien dans l’ensemble. Attention à l’attente au...     8.0            fr   \n",
              "1029                                        Exceptional    10.0            es   \n",
              "1030                                        Exceptional    10.0            es   \n",
              "1031                           Falta de responsabilidad     8.0            es   \n",
              "\n",
              "                                   review_text_liked  \\\n",
              "0                                          Ubicación   \n",
              "1                                                NaN   \n",
              "2                                                NaN   \n",
              "3                                  el desayuno bueno   \n",
              "4                   En general el hotel estuvo bien.   \n",
              "...                                              ...   \n",
              "1027                                             NaN   \n",
              "1028       Le calme de la chambre, le petit déjeuner   \n",
              "1029                                             NaN   \n",
              "1030  La ubicación y la variedad del desayuno bufete   \n",
              "1031                          La ubicación del hotel   \n",
              "\n",
              "                                   review_text_disliked  found_helpful  \n",
              "0                   Lo pequeña que estaba la habitación              0  \n",
              "1                                                   NaN              0  \n",
              "2                                                   NaN              0  \n",
              "3     la limpieza en el piso, olor feo a almombras m...              0  \n",
              "4                    El cuarto me pareció muy chiquito.              0  \n",
              "...                                                 ...            ...  \n",
              "1027                                                NaN              0  \n",
              "1028  Le temps attendu pour un dîner. 1h15!!! Un dir...              0  \n",
              "1029                                                NaN              0  \n",
              "1030  Garaje muy parecidos a las habitaciones, pequeñas              0  \n",
              "1031  Que no arreglaron la habitación el primer día ...              0  \n",
              "\n",
              "[1032 rows x 12 columns]"
            ],
            "text/html": [
              "\n",
              "  <div id=\"df-171cdeab-9c7d-47f8-b71e-03fcf53c460f\" class=\"colab-df-container\">\n",
              "    <div>\n",
              "<style scoped>\n",
              "    .dataframe tbody tr th:only-of-type {\n",
              "        vertical-align: middle;\n",
              "    }\n",
              "\n",
              "    .dataframe tbody tr th {\n",
              "        vertical-align: top;\n",
              "    }\n",
              "\n",
              "    .dataframe thead th {\n",
              "        text-align: right;\n",
              "    }\n",
              "</style>\n",
              "<table border=\"1\" class=\"dataframe\">\n",
              "  <thead>\n",
              "    <tr style=\"text-align: right;\">\n",
              "      <th></th>\n",
              "      <th>username</th>\n",
              "      <th>user_country</th>\n",
              "      <th>room_view</th>\n",
              "      <th>stay_duration</th>\n",
              "      <th>stay_type</th>\n",
              "      <th>review_post_date</th>\n",
              "      <th>review_title</th>\n",
              "      <th>rating</th>\n",
              "      <th>original_lang</th>\n",
              "      <th>review_text_liked</th>\n",
              "      <th>review_text_disliked</th>\n",
              "      <th>found_helpful</th>\n",
              "    </tr>\n",
              "  </thead>\n",
              "  <tbody>\n",
              "    <tr>\n",
              "      <th>0</th>\n",
              "      <td>Nivaldo</td>\n",
              "      <td>Ecuador</td>\n",
              "      <td>Standard Double Room</td>\n",
              "      <td>2 nights</td>\n",
              "      <td>Solo traveller</td>\n",
              "      <td>10-04-2025 00:00:00</td>\n",
              "      <td>Passable</td>\n",
              "      <td>5.0</td>\n",
              "      <td>es</td>\n",
              "      <td>Ubicación</td>\n",
              "      <td>Lo pequeña que estaba la habitación</td>\n",
              "      <td>0</td>\n",
              "    </tr>\n",
              "    <tr>\n",
              "      <th>1</th>\n",
              "      <td>Javier</td>\n",
              "      <td>Ecuador</td>\n",
              "      <td>Standard Double Room</td>\n",
              "      <td>1 night</td>\n",
              "      <td>Family</td>\n",
              "      <td>09-28-2025 00:00:00</td>\n",
              "      <td>Superb</td>\n",
              "      <td>9.0</td>\n",
              "      <td>es</td>\n",
              "      <td>NaN</td>\n",
              "      <td>NaN</td>\n",
              "      <td>0</td>\n",
              "    </tr>\n",
              "    <tr>\n",
              "      <th>2</th>\n",
              "      <td>Yayuk</td>\n",
              "      <td>Finland</td>\n",
              "      <td>Standard Double Room</td>\n",
              "      <td>4 nights</td>\n",
              "      <td>Solo traveller</td>\n",
              "      <td>09-27-2025 00:00:00</td>\n",
              "      <td>Very good</td>\n",
              "      <td>8.0</td>\n",
              "      <td>en-us</td>\n",
              "      <td>NaN</td>\n",
              "      <td>NaN</td>\n",
              "      <td>0</td>\n",
              "    </tr>\n",
              "    <tr>\n",
              "      <th>3</th>\n",
              "      <td>Raul</td>\n",
              "      <td>Colombia</td>\n",
              "      <td>Standard Double Room</td>\n",
              "      <td>1 night</td>\n",
              "      <td>Solo traveller</td>\n",
              "      <td>09-27-2025 00:00:00</td>\n",
              "      <td>deben hacer mejor limpieza en los pisos para e...</td>\n",
              "      <td>3.0</td>\n",
              "      <td>es</td>\n",
              "      <td>el desayuno bueno</td>\n",
              "      <td>la limpieza en el piso, olor feo a almombras m...</td>\n",
              "      <td>0</td>\n",
              "    </tr>\n",
              "    <tr>\n",
              "      <th>4</th>\n",
              "      <td>Alejandro</td>\n",
              "      <td>Ecuador</td>\n",
              "      <td>Standard Double Room</td>\n",
              "      <td>2 nights</td>\n",
              "      <td>Couple</td>\n",
              "      <td>09-26-2025 00:00:00</td>\n",
              "      <td>Good</td>\n",
              "      <td>7.0</td>\n",
              "      <td>es</td>\n",
              "      <td>En general el hotel estuvo bien.</td>\n",
              "      <td>El cuarto me pareció muy chiquito.</td>\n",
              "      <td>0</td>\n",
              "    </tr>\n",
              "    <tr>\n",
              "      <th>...</th>\n",
              "      <td>...</td>\n",
              "      <td>...</td>\n",
              "      <td>...</td>\n",
              "      <td>...</td>\n",
              "      <td>...</td>\n",
              "      <td>...</td>\n",
              "      <td>...</td>\n",
              "      <td>...</td>\n",
              "      <td>...</td>\n",
              "      <td>...</td>\n",
              "      <td>...</td>\n",
              "      <td>...</td>\n",
              "    </tr>\n",
              "    <tr>\n",
              "      <th>1027</th>\n",
              "      <td>Mario</td>\n",
              "      <td>Guatemala</td>\n",
              "      <td>Double Room with Sofa Bed</td>\n",
              "      <td>2 nights</td>\n",
              "      <td>Solo traveller</td>\n",
              "      <td>10-06-2022 00:00:00</td>\n",
              "      <td>Exceptional</td>\n",
              "      <td>10.0</td>\n",
              "      <td>en-us</td>\n",
              "      <td>NaN</td>\n",
              "      <td>NaN</td>\n",
              "      <td>0</td>\n",
              "    </tr>\n",
              "    <tr>\n",
              "      <th>1028</th>\n",
              "      <td>Jean-jacques</td>\n",
              "      <td>France</td>\n",
              "      <td>Standard Double Room</td>\n",
              "      <td>4 nights</td>\n",
              "      <td>Family</td>\n",
              "      <td>10-06-2022 00:00:00</td>\n",
              "      <td>Bien dans l’ensemble. Attention à l’attente au...</td>\n",
              "      <td>8.0</td>\n",
              "      <td>fr</td>\n",
              "      <td>Le calme de la chambre, le petit déjeuner</td>\n",
              "      <td>Le temps attendu pour un dîner. 1h15!!! Un dir...</td>\n",
              "      <td>0</td>\n",
              "    </tr>\n",
              "    <tr>\n",
              "      <th>1029</th>\n",
              "      <td>Davicho1985</td>\n",
              "      <td>Ecuador</td>\n",
              "      <td>Double Room with Sofa Bed</td>\n",
              "      <td>1 night</td>\n",
              "      <td>Family</td>\n",
              "      <td>10-05-2022 00:00:00</td>\n",
              "      <td>Exceptional</td>\n",
              "      <td>10.0</td>\n",
              "      <td>es</td>\n",
              "      <td>NaN</td>\n",
              "      <td>NaN</td>\n",
              "      <td>0</td>\n",
              "    </tr>\n",
              "    <tr>\n",
              "      <th>1030</th>\n",
              "      <td>Tamarita82</td>\n",
              "      <td>Ecuador</td>\n",
              "      <td>Double Room with Sofa Bed</td>\n",
              "      <td>1 night</td>\n",
              "      <td>Family</td>\n",
              "      <td>10-05-2022 00:00:00</td>\n",
              "      <td>Exceptional</td>\n",
              "      <td>10.0</td>\n",
              "      <td>es</td>\n",
              "      <td>La ubicación y la variedad del desayuno bufete</td>\n",
              "      <td>Garaje muy parecidos a las habitaciones, pequeñas</td>\n",
              "      <td>0</td>\n",
              "    </tr>\n",
              "    <tr>\n",
              "      <th>1031</th>\n",
              "      <td>Carmenza</td>\n",
              "      <td>Colombia</td>\n",
              "      <td>Double Room with Sofa Bed</td>\n",
              "      <td>4 nights</td>\n",
              "      <td>Family</td>\n",
              "      <td>10-04-2022 00:00:00</td>\n",
              "      <td>Falta de responsabilidad</td>\n",
              "      <td>8.0</td>\n",
              "      <td>es</td>\n",
              "      <td>La ubicación del hotel</td>\n",
              "      <td>Que no arreglaron la habitación el primer día ...</td>\n",
              "      <td>0</td>\n",
              "    </tr>\n",
              "  </tbody>\n",
              "</table>\n",
              "<p>1032 rows × 12 columns</p>\n",
              "</div>\n",
              "    <div class=\"colab-df-buttons\">\n",
              "\n",
              "  <div class=\"colab-df-container\">\n",
              "    <button class=\"colab-df-convert\" onclick=\"convertToInteractive('df-171cdeab-9c7d-47f8-b71e-03fcf53c460f')\"\n",
              "            title=\"Convert this dataframe to an interactive table.\"\n",
              "            style=\"display:none;\">\n",
              "\n",
              "  <svg xmlns=\"http://www.w3.org/2000/svg\" height=\"24px\" viewBox=\"0 -960 960 960\">\n",
              "    <path d=\"M120-120v-720h720v720H120Zm60-500h600v-160H180v160Zm220 220h160v-160H400v160Zm0 220h160v-160H400v160ZM180-400h160v-160H180v160Zm440 0h160v-160H620v160ZM180-180h160v-160H180v160Zm440 0h160v-160H620v160Z\"/>\n",
              "  </svg>\n",
              "    </button>\n",
              "\n",
              "  <style>\n",
              "    .colab-df-container {\n",
              "      display:flex;\n",
              "      gap: 12px;\n",
              "    }\n",
              "\n",
              "    .colab-df-convert {\n",
              "      background-color: #E8F0FE;\n",
              "      border: none;\n",
              "      border-radius: 50%;\n",
              "      cursor: pointer;\n",
              "      display: none;\n",
              "      fill: #1967D2;\n",
              "      height: 32px;\n",
              "      padding: 0 0 0 0;\n",
              "      width: 32px;\n",
              "    }\n",
              "\n",
              "    .colab-df-convert:hover {\n",
              "      background-color: #E2EBFA;\n",
              "      box-shadow: 0px 1px 2px rgba(60, 64, 67, 0.3), 0px 1px 3px 1px rgba(60, 64, 67, 0.15);\n",
              "      fill: #174EA6;\n",
              "    }\n",
              "\n",
              "    .colab-df-buttons div {\n",
              "      margin-bottom: 4px;\n",
              "    }\n",
              "\n",
              "    [theme=dark] .colab-df-convert {\n",
              "      background-color: #3B4455;\n",
              "      fill: #D2E3FC;\n",
              "    }\n",
              "\n",
              "    [theme=dark] .colab-df-convert:hover {\n",
              "      background-color: #434B5C;\n",
              "      box-shadow: 0px 1px 3px 1px rgba(0, 0, 0, 0.15);\n",
              "      filter: drop-shadow(0px 1px 2px rgba(0, 0, 0, 0.3));\n",
              "      fill: #FFFFFF;\n",
              "    }\n",
              "  </style>\n",
              "\n",
              "    <script>\n",
              "      const buttonEl =\n",
              "        document.querySelector('#df-171cdeab-9c7d-47f8-b71e-03fcf53c460f button.colab-df-convert');\n",
              "      buttonEl.style.display =\n",
              "        google.colab.kernel.accessAllowed ? 'block' : 'none';\n",
              "\n",
              "      async function convertToInteractive(key) {\n",
              "        const element = document.querySelector('#df-171cdeab-9c7d-47f8-b71e-03fcf53c460f');\n",
              "        const dataTable =\n",
              "          await google.colab.kernel.invokeFunction('convertToInteractive',\n",
              "                                                    [key], {});\n",
              "        if (!dataTable) return;\n",
              "\n",
              "        const docLinkHtml = 'Like what you see? Visit the ' +\n",
              "          '<a target=\"_blank\" href=https://colab.research.google.com/notebooks/data_table.ipynb>data table notebook</a>'\n",
              "          + ' to learn more about interactive tables.';\n",
              "        element.innerHTML = '';\n",
              "        dataTable['output_type'] = 'display_data';\n",
              "        await google.colab.output.renderOutput(dataTable, element);\n",
              "        const docLink = document.createElement('div');\n",
              "        docLink.innerHTML = docLinkHtml;\n",
              "        element.appendChild(docLink);\n",
              "      }\n",
              "    </script>\n",
              "  </div>\n",
              "\n",
              "\n",
              "    <div id=\"df-5a2521be-03f0-40fe-a903-2a8e84aa00c5\">\n",
              "      <button class=\"colab-df-quickchart\" onclick=\"quickchart('df-5a2521be-03f0-40fe-a903-2a8e84aa00c5')\"\n",
              "                title=\"Suggest charts\"\n",
              "                style=\"display:none;\">\n",
              "\n",
              "<svg xmlns=\"http://www.w3.org/2000/svg\" height=\"24px\"viewBox=\"0 0 24 24\"\n",
              "     width=\"24px\">\n",
              "    <g>\n",
              "        <path d=\"M19 3H5c-1.1 0-2 .9-2 2v14c0 1.1.9 2 2 2h14c1.1 0 2-.9 2-2V5c0-1.1-.9-2-2-2zM9 17H7v-7h2v7zm4 0h-2V7h2v10zm4 0h-2v-4h2v4z\"/>\n",
              "    </g>\n",
              "</svg>\n",
              "      </button>\n",
              "\n",
              "<style>\n",
              "  .colab-df-quickchart {\n",
              "      --bg-color: #E8F0FE;\n",
              "      --fill-color: #1967D2;\n",
              "      --hover-bg-color: #E2EBFA;\n",
              "      --hover-fill-color: #174EA6;\n",
              "      --disabled-fill-color: #AAA;\n",
              "      --disabled-bg-color: #DDD;\n",
              "  }\n",
              "\n",
              "  [theme=dark] .colab-df-quickchart {\n",
              "      --bg-color: #3B4455;\n",
              "      --fill-color: #D2E3FC;\n",
              "      --hover-bg-color: #434B5C;\n",
              "      --hover-fill-color: #FFFFFF;\n",
              "      --disabled-bg-color: #3B4455;\n",
              "      --disabled-fill-color: #666;\n",
              "  }\n",
              "\n",
              "  .colab-df-quickchart {\n",
              "    background-color: var(--bg-color);\n",
              "    border: none;\n",
              "    border-radius: 50%;\n",
              "    cursor: pointer;\n",
              "    display: none;\n",
              "    fill: var(--fill-color);\n",
              "    height: 32px;\n",
              "    padding: 0;\n",
              "    width: 32px;\n",
              "  }\n",
              "\n",
              "  .colab-df-quickchart:hover {\n",
              "    background-color: var(--hover-bg-color);\n",
              "    box-shadow: 0 1px 2px rgba(60, 64, 67, 0.3), 0 1px 3px 1px rgba(60, 64, 67, 0.15);\n",
              "    fill: var(--button-hover-fill-color);\n",
              "  }\n",
              "\n",
              "  .colab-df-quickchart-complete:disabled,\n",
              "  .colab-df-quickchart-complete:disabled:hover {\n",
              "    background-color: var(--disabled-bg-color);\n",
              "    fill: var(--disabled-fill-color);\n",
              "    box-shadow: none;\n",
              "  }\n",
              "\n",
              "  .colab-df-spinner {\n",
              "    border: 2px solid var(--fill-color);\n",
              "    border-color: transparent;\n",
              "    border-bottom-color: var(--fill-color);\n",
              "    animation:\n",
              "      spin 1s steps(1) infinite;\n",
              "  }\n",
              "\n",
              "  @keyframes spin {\n",
              "    0% {\n",
              "      border-color: transparent;\n",
              "      border-bottom-color: var(--fill-color);\n",
              "      border-left-color: var(--fill-color);\n",
              "    }\n",
              "    20% {\n",
              "      border-color: transparent;\n",
              "      border-left-color: var(--fill-color);\n",
              "      border-top-color: var(--fill-color);\n",
              "    }\n",
              "    30% {\n",
              "      border-color: transparent;\n",
              "      border-left-color: var(--fill-color);\n",
              "      border-top-color: var(--fill-color);\n",
              "      border-right-color: var(--fill-color);\n",
              "    }\n",
              "    40% {\n",
              "      border-color: transparent;\n",
              "      border-right-color: var(--fill-color);\n",
              "      border-top-color: var(--fill-color);\n",
              "    }\n",
              "    60% {\n",
              "      border-color: transparent;\n",
              "      border-right-color: var(--fill-color);\n",
              "    }\n",
              "    80% {\n",
              "      border-color: transparent;\n",
              "      border-right-color: var(--fill-color);\n",
              "      border-bottom-color: var(--fill-color);\n",
              "    }\n",
              "    90% {\n",
              "      border-color: transparent;\n",
              "      border-bottom-color: var(--fill-color);\n",
              "    }\n",
              "  }\n",
              "</style>\n",
              "\n",
              "      <script>\n",
              "        async function quickchart(key) {\n",
              "          const quickchartButtonEl =\n",
              "            document.querySelector('#' + key + ' button');\n",
              "          quickchartButtonEl.disabled = true;  // To prevent multiple clicks.\n",
              "          quickchartButtonEl.classList.add('colab-df-spinner');\n",
              "          try {\n",
              "            const charts = await google.colab.kernel.invokeFunction(\n",
              "                'suggestCharts', [key], {});\n",
              "          } catch (error) {\n",
              "            console.error('Error during call to suggestCharts:', error);\n",
              "          }\n",
              "          quickchartButtonEl.classList.remove('colab-df-spinner');\n",
              "          quickchartButtonEl.classList.add('colab-df-quickchart-complete');\n",
              "        }\n",
              "        (() => {\n",
              "          let quickchartButtonEl =\n",
              "            document.querySelector('#df-5a2521be-03f0-40fe-a903-2a8e84aa00c5 button');\n",
              "          quickchartButtonEl.style.display =\n",
              "            google.colab.kernel.accessAllowed ? 'block' : 'none';\n",
              "        })();\n",
              "      </script>\n",
              "    </div>\n",
              "\n",
              "  <div id=\"id_ff10981e-3cfe-46ad-a9c5-b7651c7e3e9b\">\n",
              "    <style>\n",
              "      .colab-df-generate {\n",
              "        background-color: #E8F0FE;\n",
              "        border: none;\n",
              "        border-radius: 50%;\n",
              "        cursor: pointer;\n",
              "        display: none;\n",
              "        fill: #1967D2;\n",
              "        height: 32px;\n",
              "        padding: 0 0 0 0;\n",
              "        width: 32px;\n",
              "      }\n",
              "\n",
              "      .colab-df-generate:hover {\n",
              "        background-color: #E2EBFA;\n",
              "        box-shadow: 0px 1px 2px rgba(60, 64, 67, 0.3), 0px 1px 3px 1px rgba(60, 64, 67, 0.15);\n",
              "        fill: #174EA6;\n",
              "      }\n",
              "\n",
              "      [theme=dark] .colab-df-generate {\n",
              "        background-color: #3B4455;\n",
              "        fill: #D2E3FC;\n",
              "      }\n",
              "\n",
              "      [theme=dark] .colab-df-generate:hover {\n",
              "        background-color: #434B5C;\n",
              "        box-shadow: 0px 1px 3px 1px rgba(0, 0, 0, 0.15);\n",
              "        filter: drop-shadow(0px 1px 2px rgba(0, 0, 0, 0.3));\n",
              "        fill: #FFFFFF;\n",
              "      }\n",
              "    </style>\n",
              "    <button class=\"colab-df-generate\" onclick=\"generateWithVariable('df')\"\n",
              "            title=\"Generate code using this dataframe.\"\n",
              "            style=\"display:none;\">\n",
              "\n",
              "  <svg xmlns=\"http://www.w3.org/2000/svg\" height=\"24px\"viewBox=\"0 0 24 24\"\n",
              "       width=\"24px\">\n",
              "    <path d=\"M7,19H8.4L18.45,9,17,7.55,7,17.6ZM5,21V16.75L18.45,3.32a2,2,0,0,1,2.83,0l1.4,1.43a1.91,1.91,0,0,1,.58,1.4,1.91,1.91,0,0,1-.58,1.4L9.25,21ZM18.45,9,17,7.55Zm-12,3A5.31,5.31,0,0,0,4.9,8.1,5.31,5.31,0,0,0,1,6.5,5.31,5.31,0,0,0,4.9,4.9,5.31,5.31,0,0,0,6.5,1,5.31,5.31,0,0,0,8.1,4.9,5.31,5.31,0,0,0,12,6.5,5.46,5.46,0,0,0,6.5,12Z\"/>\n",
              "  </svg>\n",
              "    </button>\n",
              "    <script>\n",
              "      (() => {\n",
              "      const buttonEl =\n",
              "        document.querySelector('#id_ff10981e-3cfe-46ad-a9c5-b7651c7e3e9b button.colab-df-generate');\n",
              "      buttonEl.style.display =\n",
              "        google.colab.kernel.accessAllowed ? 'block' : 'none';\n",
              "\n",
              "      buttonEl.onclick = () => {\n",
              "        google.colab.notebook.generateWithVariable('df');\n",
              "      }\n",
              "      })();\n",
              "    </script>\n",
              "  </div>\n",
              "\n",
              "    </div>\n",
              "  </div>\n"
            ],
            "application/vnd.google.colaboratory.intrinsic+json": {
              "type": "dataframe",
              "variable_name": "df",
              "summary": "{\n  \"name\": \"df\",\n  \"rows\": 1032,\n  \"fields\": [\n    {\n      \"column\": \"username\",\n      \"properties\": {\n        \"dtype\": \"string\",\n        \"num_unique_values\": 550,\n        \"samples\": [\n          \"Sergio\",\n          \"Helen\",\n          \"Laura\"\n        ],\n        \"semantic_type\": \"\",\n        \"description\": \"\"\n      }\n    },\n    {\n      \"column\": \"user_country\",\n      \"properties\": {\n        \"dtype\": \"category\",\n        \"num_unique_values\": 42,\n        \"samples\": [\n          \"Israel\",\n          \"Switzerland\",\n          \"Germany\"\n        ],\n        \"semantic_type\": \"\",\n        \"description\": \"\"\n      }\n    },\n    {\n      \"column\": \"room_view\",\n      \"properties\": {\n        \"dtype\": \"category\",\n        \"num_unique_values\": 3,\n        \"samples\": [\n          \"Standard Double Room\",\n          \"Double Room with Sofa Bed\",\n          \"Standard Twin Room\"\n        ],\n        \"semantic_type\": \"\",\n        \"description\": \"\"\n      }\n    },\n    {\n      \"column\": \"stay_duration\",\n      \"properties\": {\n        \"dtype\": \"category\",\n        \"num_unique_values\": 13,\n        \"samples\": [\n          \"10 nights\",\n          \"8 nights\",\n          \"2 nights\"\n        ],\n        \"semantic_type\": \"\",\n        \"description\": \"\"\n      }\n    },\n    {\n      \"column\": \"stay_type\",\n      \"properties\": {\n        \"dtype\": \"category\",\n        \"num_unique_values\": 4,\n        \"samples\": [\n          \"Family\",\n          \"Group\",\n          \"Solo traveller\"\n        ],\n        \"semantic_type\": \"\",\n        \"description\": \"\"\n      }\n    },\n    {\n      \"column\": \"review_post_date\",\n      \"properties\": {\n        \"dtype\": \"object\",\n        \"num_unique_values\": 596,\n        \"samples\": [\n          \"09-14-2024 00:00:00\",\n          \"05-20-2024 00:00:00\",\n          \"04-14-2023 00:00:00\"\n        ],\n        \"semantic_type\": \"\",\n        \"description\": \"\"\n      }\n    },\n    {\n      \"column\": \"review_title\",\n      \"properties\": {\n        \"dtype\": \"category\",\n        \"num_unique_values\": 302,\n        \"samples\": [\n          \"Esperaba m\\u00e1s\",\n          \"Tranquilidad y amabilidad\",\n          \"Seguridad\"\n        ],\n        \"semantic_type\": \"\",\n        \"description\": \"\"\n      }\n    },\n    {\n      \"column\": \"rating\",\n      \"properties\": {\n        \"dtype\": \"number\",\n        \"std\": 1.8886594024873973,\n        \"min\": 1.0,\n        \"max\": 10.0,\n        \"num_unique_values\": 10,\n        \"samples\": [\n          4.0,\n          9.0,\n          10.0\n        ],\n        \"semantic_type\": \"\",\n        \"description\": \"\"\n      }\n    },\n    {\n      \"column\": \"original_lang\",\n      \"properties\": {\n        \"dtype\": \"category\",\n        \"num_unique_values\": 18,\n        \"samples\": [\n          \"es\",\n          \"en-us\",\n          \"xm\"\n        ],\n        \"semantic_type\": \"\",\n        \"description\": \"\"\n      }\n    },\n    {\n      \"column\": \"review_text_liked\",\n      \"properties\": {\n        \"dtype\": \"category\",\n        \"num_unique_values\": 460,\n        \"samples\": [\n          \"Central, moderno y limpio.\",\n          \"Las habitaciones y la comida\",\n          \"Ibis, me encant\\u00f3, Cama: colchon esta superc\\u00f3modo y asi mismo las almohadas y con sabanas blancas suaves. Desayuno buffet delicioso, hay muchas opciones tanto para intolerantes a la lactosa y para veganos. La atenci\\u00f3n del personal muy buena, y agradable. Los cuartos tiene muy buena luz y limpios. Hay aire acondicionado y funciona bien. Seguro y limpio, eso para m\\u00ed es importante. Hay locales cerca para salir a comer y esta en una zona bastante centrica. Volveria siiiiii. Mantiene el mismo dise\\u00f1o que otros Ibis que en Europa pero la habitaci\\u00f3n es mas grande y m\\u00e1s comoda.\"\n        ],\n        \"semantic_type\": \"\",\n        \"description\": \"\"\n      }\n    },\n    {\n      \"column\": \"review_text_disliked\",\n      \"properties\": {\n        \"dtype\": \"category\",\n        \"num_unique_values\": 340,\n        \"samples\": [\n          \"Se demoraban en el arreglo de las habitaciones. A veces hasta despu\\u00e9s del mediod\\u00eda.\",\n          \"Estuvo bien\",\n          \"No tienen Netflix y internet para el televisor...\"\n        ],\n        \"semantic_type\": \"\",\n        \"description\": \"\"\n      }\n    },\n    {\n      \"column\": \"found_helpful\",\n      \"properties\": {\n        \"dtype\": \"number\",\n        \"std\": 0,\n        \"min\": 0,\n        \"max\": 2,\n        \"num_unique_values\": 3,\n        \"samples\": [\n          0,\n          1,\n          2\n        ],\n        \"semantic_type\": \"\",\n        \"description\": \"\"\n      }\n    }\n  ]\n}"
            }
          },
          "metadata": {},
          "execution_count": 7
        }
      ]
    }
  ]
}