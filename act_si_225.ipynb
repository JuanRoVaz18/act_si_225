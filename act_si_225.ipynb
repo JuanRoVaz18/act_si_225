{
  "nbformat": 4,
  "nbformat_minor": 0,
  "metadata": {
    "colab": {
      "provenance": [],
      "include_colab_link": true
    },
    "kernelspec": {
      "name": "python3",
      "display_name": "Python 3"
    },
    "language_info": {
      "name": "python"
    }
  },
  "cells": [
    {
      "cell_type": "markdown",
      "metadata": {
        "id": "view-in-github",
        "colab_type": "text"
      },
      "source": [
        "<a href=\"https://colab.research.google.com/github/JuanRoVaz18/act_si_225/blob/main/act_si_225.ipynb\" target=\"_parent\"><img src=\"https://colab.research.google.com/assets/colab-badge.svg\" alt=\"Open In Colab\"/></a>"
      ]
    },
    {
      "cell_type": "markdown",
      "source": [
        "#1) Setup (cloning and installation)\n",
        "What you do:\n",
        "\n",
        "git clone downloads the code for the tool (the scraper).\n",
        "\n",
        "%cd enters that folder.\n",
        "\n",
        "pip install -r ... installs the exact library versions the scraper needs"
      ],
      "metadata": {
        "id": "bzIwDsYt04lK"
      }
    },
    {
      "cell_type": "code",
      "execution_count": null,
      "metadata": {
        "colab": {
          "base_uri": "https://localhost:8080/",
          "height": 1000
        },
        "id": "SCKKaaQtaDZE",
        "outputId": "a55fd55e-07cf-49f2-f5d1-c53421957250"
      },
      "outputs": [
        {
          "output_type": "stream",
          "name": "stdout",
          "text": [
            "Cloning into 'booking-reviews-scraper'...\n",
            "remote: Enumerating objects: 85, done.\u001b[K\n",
            "remote: Total 85 (delta 0), reused 0 (delta 0), pack-reused 85 (from 2)\u001b[K\n",
            "Receiving objects: 100% (85/85), 267.56 KiB | 6.53 MiB/s, done.\n",
            "Resolving deltas: 100% (37/37), done.\n",
            "/content/booking-reviews-scraper\n",
            "Collecting beautifulsoup4==4.12.2 (from -r requirements.txt (line 1))\n",
            "  Downloading beautifulsoup4-4.12.2-py3-none-any.whl.metadata (3.6 kB)\n",
            "Collecting numpy==1.26.2 (from -r requirements.txt (line 2))\n",
            "  Downloading numpy-1.26.2-cp312-cp312-manylinux_2_17_x86_64.manylinux2014_x86_64.whl.metadata (61 kB)\n",
            "\u001b[2K     \u001b[90m━━━━━━━━━━━━━━━━━━━━━━━━━━━━━━━━━━━━━━━━\u001b[0m \u001b[32m61.2/61.2 kB\u001b[0m \u001b[31m2.2 MB/s\u001b[0m eta \u001b[36m0:00:00\u001b[0m\n",
            "\u001b[?25hCollecting pydantic==2.4.2 (from -r requirements.txt (line 3))\n",
            "  Downloading pydantic-2.4.2-py3-none-any.whl.metadata (158 kB)\n",
            "\u001b[2K     \u001b[90m━━━━━━━━━━━━━━━━━━━━━━━━━━━━━━━━━━━━━━━\u001b[0m \u001b[32m158.6/158.6 kB\u001b[0m \u001b[31m7.5 MB/s\u001b[0m eta \u001b[36m0:00:00\u001b[0m\n",
            "\u001b[?25hCollecting python_dateutil==2.8.2 (from -r requirements.txt (line 4))\n",
            "  Downloading python_dateutil-2.8.2-py2.py3-none-any.whl.metadata (8.2 kB)\n",
            "Collecting PyYAML==6.0.1 (from -r requirements.txt (line 5))\n",
            "  Downloading PyYAML-6.0.1-cp312-cp312-manylinux_2_17_x86_64.manylinux2014_x86_64.whl.metadata (2.1 kB)\n",
            "Collecting Requests==2.31.0 (from -r requirements.txt (line 6))\n",
            "  Downloading requests-2.31.0-py3-none-any.whl.metadata (4.6 kB)\n",
            "Collecting typer==0.9.0 (from -r requirements.txt (line 7))\n",
            "  Downloading typer-0.9.0-py3-none-any.whl.metadata (14 kB)\n",
            "Collecting typing_extensions==4.8.0 (from -r requirements.txt (line 8))\n",
            "  Downloading typing_extensions-4.8.0-py3-none-any.whl.metadata (3.0 kB)\n",
            "Requirement already satisfied: soupsieve>1.2 in /usr/local/lib/python3.12/dist-packages (from beautifulsoup4==4.12.2->-r requirements.txt (line 1)) (2.8)\n",
            "Requirement already satisfied: annotated-types>=0.4.0 in /usr/local/lib/python3.12/dist-packages (from pydantic==2.4.2->-r requirements.txt (line 3)) (0.7.0)\n",
            "Collecting pydantic-core==2.10.1 (from pydantic==2.4.2->-r requirements.txt (line 3))\n",
            "  Downloading pydantic_core-2.10.1-cp312-cp312-manylinux_2_17_x86_64.manylinux2014_x86_64.whl.metadata (6.5 kB)\n",
            "Requirement already satisfied: six>=1.5 in /usr/local/lib/python3.12/dist-packages (from python_dateutil==2.8.2->-r requirements.txt (line 4)) (1.17.0)\n",
            "Requirement already satisfied: charset-normalizer<4,>=2 in /usr/local/lib/python3.12/dist-packages (from Requests==2.31.0->-r requirements.txt (line 6)) (3.4.3)\n",
            "Requirement already satisfied: idna<4,>=2.5 in /usr/local/lib/python3.12/dist-packages (from Requests==2.31.0->-r requirements.txt (line 6)) (3.10)\n",
            "Requirement already satisfied: urllib3<3,>=1.21.1 in /usr/local/lib/python3.12/dist-packages (from Requests==2.31.0->-r requirements.txt (line 6)) (2.5.0)\n",
            "Requirement already satisfied: certifi>=2017.4.17 in /usr/local/lib/python3.12/dist-packages (from Requests==2.31.0->-r requirements.txt (line 6)) (2025.8.3)\n",
            "Requirement already satisfied: click<9.0.0,>=7.1.1 in /usr/local/lib/python3.12/dist-packages (from typer==0.9.0->-r requirements.txt (line 7)) (8.3.0)\n",
            "Downloading beautifulsoup4-4.12.2-py3-none-any.whl (142 kB)\n",
            "\u001b[2K   \u001b[90m━━━━━━━━━━━━━━━━━━━━━━━━━━━━━━━━━━━━━━━━\u001b[0m \u001b[32m143.0/143.0 kB\u001b[0m \u001b[31m12.2 MB/s\u001b[0m eta \u001b[36m0:00:00\u001b[0m\n",
            "\u001b[?25hDownloading numpy-1.26.2-cp312-cp312-manylinux_2_17_x86_64.manylinux2014_x86_64.whl (17.9 MB)\n",
            "\u001b[2K   \u001b[90m━━━━━━━━━━━━━━━━━━━━━━━━━━━━━━━━━━━━━━━━\u001b[0m \u001b[32m17.9/17.9 MB\u001b[0m \u001b[31m95.3 MB/s\u001b[0m eta \u001b[36m0:00:00\u001b[0m\n",
            "\u001b[?25hDownloading pydantic-2.4.2-py3-none-any.whl (395 kB)\n",
            "\u001b[2K   \u001b[90m━━━━━━━━━━━━━━━━━━━━━━━━━━━━━━━━━━━━━━━━\u001b[0m \u001b[32m395.8/395.8 kB\u001b[0m \u001b[31m29.2 MB/s\u001b[0m eta \u001b[36m0:00:00\u001b[0m\n",
            "\u001b[?25hDownloading python_dateutil-2.8.2-py2.py3-none-any.whl (247 kB)\n",
            "\u001b[2K   \u001b[90m━━━━━━━━━━━━━━━━━━━━━━━━━━━━━━━━━━━━━━━━\u001b[0m \u001b[32m247.7/247.7 kB\u001b[0m \u001b[31m18.8 MB/s\u001b[0m eta \u001b[36m0:00:00\u001b[0m\n",
            "\u001b[?25hDownloading PyYAML-6.0.1-cp312-cp312-manylinux_2_17_x86_64.manylinux2014_x86_64.whl (724 kB)\n",
            "\u001b[2K   \u001b[90m━━━━━━━━━━━━━━━━━━━━━━━━━━━━━━━━━━━━━━━━\u001b[0m \u001b[32m725.0/725.0 kB\u001b[0m \u001b[31m34.0 MB/s\u001b[0m eta \u001b[36m0:00:00\u001b[0m\n",
            "\u001b[?25hDownloading requests-2.31.0-py3-none-any.whl (62 kB)\n",
            "\u001b[2K   \u001b[90m━━━━━━━━━━━━━━━━━━━━━━━━━━━━━━━━━━━━━━━━\u001b[0m \u001b[32m62.6/62.6 kB\u001b[0m \u001b[31m5.2 MB/s\u001b[0m eta \u001b[36m0:00:00\u001b[0m\n",
            "\u001b[?25hDownloading typer-0.9.0-py3-none-any.whl (45 kB)\n",
            "\u001b[2K   \u001b[90m━━━━━━━━━━━━━━━━━━━━━━━━━━━━━━━━━━━━━━━━\u001b[0m \u001b[32m45.9/45.9 kB\u001b[0m \u001b[31m3.4 MB/s\u001b[0m eta \u001b[36m0:00:00\u001b[0m\n",
            "\u001b[?25hDownloading typing_extensions-4.8.0-py3-none-any.whl (31 kB)\n",
            "Downloading pydantic_core-2.10.1-cp312-cp312-manylinux_2_17_x86_64.manylinux2014_x86_64.whl (2.0 MB)\n",
            "\u001b[2K   \u001b[90m━━━━━━━━━━━━━━━━━━━━━━━━━━━━━━━━━━━━━━━━\u001b[0m \u001b[32m2.0/2.0 MB\u001b[0m \u001b[31m74.5 MB/s\u001b[0m eta \u001b[36m0:00:00\u001b[0m\n",
            "\u001b[?25hInstalling collected packages: typing_extensions, Requests, PyYAML, python_dateutil, numpy, beautifulsoup4, typer, pydantic-core, pydantic\n",
            "  Attempting uninstall: typing_extensions\n",
            "    Found existing installation: typing_extensions 4.15.0\n",
            "    Uninstalling typing_extensions-4.15.0:\n",
            "      Successfully uninstalled typing_extensions-4.15.0\n",
            "  Attempting uninstall: Requests\n",
            "    Found existing installation: requests 2.32.4\n",
            "    Uninstalling requests-2.32.4:\n",
            "      Successfully uninstalled requests-2.32.4\n",
            "  Attempting uninstall: PyYAML\n",
            "    Found existing installation: PyYAML 6.0.3\n",
            "    Uninstalling PyYAML-6.0.3:\n",
            "      Successfully uninstalled PyYAML-6.0.3\n",
            "  Attempting uninstall: python_dateutil\n",
            "    Found existing installation: python-dateutil 2.9.0.post0\n",
            "    Uninstalling python-dateutil-2.9.0.post0:\n",
            "      Successfully uninstalled python-dateutil-2.9.0.post0\n",
            "  Attempting uninstall: numpy\n",
            "    Found existing installation: numpy 2.0.2\n",
            "    Uninstalling numpy-2.0.2:\n",
            "      Successfully uninstalled numpy-2.0.2\n",
            "  Attempting uninstall: beautifulsoup4\n",
            "    Found existing installation: beautifulsoup4 4.13.5\n",
            "    Uninstalling beautifulsoup4-4.13.5:\n",
            "      Successfully uninstalled beautifulsoup4-4.13.5\n",
            "  Attempting uninstall: typer\n",
            "    Found existing installation: typer 0.19.2\n",
            "    Uninstalling typer-0.19.2:\n",
            "      Successfully uninstalled typer-0.19.2\n",
            "  Attempting uninstall: pydantic-core\n",
            "    Found existing installation: pydantic_core 2.33.2\n",
            "    Uninstalling pydantic_core-2.33.2:\n",
            "      Successfully uninstalled pydantic_core-2.33.2\n",
            "  Attempting uninstall: pydantic\n",
            "    Found existing installation: pydantic 2.11.9\n",
            "    Uninstalling pydantic-2.11.9:\n",
            "      Successfully uninstalled pydantic-2.11.9\n",
            "\u001b[31mERROR: pip's dependency resolver does not currently take into account all the packages that are installed. This behaviour is the source of the following dependency conflicts.\n",
            "google-colab 1.0.0 requires requests==2.32.4, but you have requests 2.31.0 which is incompatible.\n",
            "typing-inspection 0.4.2 requires typing-extensions>=4.12.0, but you have typing-extensions 4.8.0 which is incompatible.\n",
            "pydantic-settings 2.11.0 requires pydantic>=2.7.0, but you have pydantic 2.4.2 which is incompatible.\n",
            "opencv-python 4.12.0.88 requires numpy<2.3.0,>=2; python_version >= \"3.9\", but you have numpy 1.26.2 which is incompatible.\n",
            "langchain-core 0.3.77 requires pydantic<3.0.0,>=2.7.4, but you have pydantic 2.4.2 which is incompatible.\n",
            "opencv-contrib-python 4.12.0.88 requires numpy<2.3.0,>=2; python_version >= \"3.9\", but you have numpy 1.26.2 which is incompatible.\n",
            "opencv-python-headless 4.12.0.88 requires numpy<2.3.0,>=2; python_version >= \"3.9\", but you have numpy 1.26.2 which is incompatible.\n",
            "openai 1.109.1 requires typing-extensions<5,>=4.11, but you have typing-extensions 4.8.0 which is incompatible.\n",
            "typeguard 4.4.4 requires typing_extensions>=4.14.0, but you have typing-extensions 4.8.0 which is incompatible.\n",
            "datasets 4.0.0 requires requests>=2.32.2, but you have requests 2.31.0 which is incompatible.\n",
            "torch 2.8.0+cu126 requires typing-extensions>=4.10.0, but you have typing-extensions 4.8.0 which is incompatible.\n",
            "google-genai 1.39.1 requires typing-extensions<5.0.0,>=4.11.0, but you have typing-extensions 4.8.0 which is incompatible.\n",
            "grpcio 1.75.1 requires typing-extensions~=4.12, but you have typing-extensions 4.8.0 which is incompatible.\n",
            "thinc 8.3.6 requires numpy<3.0.0,>=2.0.0, but you have numpy 1.26.2 which is incompatible.\n",
            "albumentations 2.0.8 requires pydantic>=2.9.2, but you have pydantic 2.4.2 which is incompatible.\n",
            "mcp 1.15.0 requires pydantic<3.0.0,>=2.11.0, but you have pydantic 2.4.2 which is incompatible.\n",
            "plum-dispatch 2.5.7 requires typing-extensions>=4.9.0, but you have typing-extensions 4.8.0 which is incompatible.\n",
            "langchain 0.3.27 requires pydantic<3.0.0,>=2.7.4, but you have pydantic 2.4.2 which is incompatible.\n",
            "alembic 1.16.5 requires typing-extensions>=4.12, but you have typing-extensions 4.8.0 which is incompatible.\n",
            "gradio 5.47.2 requires typer<1.0,>=0.12, but you have typer 0.9.0 which is incompatible.\n",
            "altair 5.5.0 requires typing-extensions>=4.10.0; python_version < \"3.14\", but you have typing-extensions 4.8.0 which is incompatible.\n",
            "starlette 0.48.0 requires typing-extensions>=4.10.0; python_version < \"3.13\", but you have typing-extensions 4.8.0 which is incompatible.\n",
            "google-adk 1.15.1 requires python-dateutil<3.0.0,>=2.9.0.post0, but you have python-dateutil 2.8.2 which is incompatible.\n",
            "google-adk 1.15.1 requires PyYAML<7.0.0,>=6.0.2, but you have pyyaml 6.0.1 which is incompatible.\n",
            "google-adk 1.15.1 requires requests<3.0.0,>=2.32.4, but you have requests 2.31.0 which is incompatible.\u001b[0m\u001b[31m\n",
            "\u001b[0mSuccessfully installed PyYAML-6.0.1 Requests-2.31.0 beautifulsoup4-4.12.2 numpy-1.26.2 pydantic-2.4.2 pydantic-core-2.10.1 python_dateutil-2.8.2 typer-0.9.0 typing_extensions-4.8.0\n"
          ]
        },
        {
          "output_type": "display_data",
          "data": {
            "application/vnd.colab-display-data+json": {
              "pip_warning": {
                "packages": [
                  "numpy"
                ]
              },
              "id": "88cba0f570ee40b6b7753ba234e8352d"
            }
          },
          "metadata": {}
        }
      ],
      "source": [
        "# 1) Clone the scraper and install its dependencies\n",
        "!git clone https://github.com/sudoknight/booking-reviews-scraper.git\n",
        "%cd /content/booking-reviews-scraper\n",
        "!pip install -r requirements.txt\n"
      ]
    },
    {
      "cell_type": "markdown",
      "source": [
        "#2) Parameters and OUTPUT_DIR\n",
        "What you do: Define the extraction parameters and tell the scraper where to save the CSVs.\n",
        "\n",
        "Why: Parameterization = reproducibility. If you don't specify OUTPUT_DIR, the CSV won't appear.\n",
        "\n",
        "What you should see: OUTPUT_DIR: /content/data."
      ],
      "metadata": {
        "id": "cbkUAGeA07OO"
      }
    },
    {
      "cell_type": "code",
      "source": [
        "# 2) Set parameters (hotel slug, country, sort, requested number of reviews) and output folder\n",
        "import yaml, pathlib, os\n",
        "\n",
        "HOTEL_NAME = \"ibis-quito\"       # hotel slug after /hotel/<country>/ in the Booking URL\n",
        "COUNTRY    = \"ec\"               # ISO alpha-2: \"ec\" for Ecuador, \"us\" for USA, etc.\n",
        "SORT_BY    = \"newest_first\"     # or: most_relevant, oldest_first, highest_scores, lowest_scores\n",
        "N_REVIEWS  = 1500               # ask for ~1500 to try to capture ~1200 available; actual may be less\n",
        "\n",
        "OUTPUT_DIR = \"/content/data\"\n",
        "pathlib.Path(OUTPUT_DIR).mkdir(parents=True, exist_ok=True)\n",
        "\n",
        "# write OUTPUT_DIR into the project's config.yml so the scraper saves there\n",
        "cfg_path = \"/content/booking-reviews-scraper/config.yml\"\n",
        "with open(cfg_path) as f:\n",
        "    cfg = yaml.safe_load(f)\n",
        "cfg[\"OUTPUT_DIR\"] = OUTPUT_DIR\n",
        "with open(cfg_path, \"w\") as f:\n",
        "    yaml.safe_dump(cfg, f)\n",
        "\n",
        "print(\"OUTPUT_DIR:\", cfg[\"OUTPUT_DIR\"])\n"
      ],
      "metadata": {
        "colab": {
          "base_uri": "https://localhost:8080/"
        },
        "id": "lFD1D8kaaJuM",
        "outputId": "9b9ed496-d239-403f-b325-bba8b4d70c22"
      },
      "execution_count": 6,
      "outputs": [
        {
          "output_type": "stream",
          "name": "stdout",
          "text": [
            "OUTPUT_DIR: /content/data\n"
          ]
        }
      ]
    },
    {
      "cell_type": "markdown",
      "source": [
        "3) Run the scraper\n",
        "What you do: Run the tool's CLI run.py with your hotel (ibis-quito) and country (ec). Why: Downloads the review pages, parses them, and creates CSVs. What you should see: Process logs; upon completion, there will be a timestamped folder inside /content/data containing reviews_*.csv."
      ],
      "metadata": {
        "id": "rqeppjw-Ha17"
      }
    },
    {
      "cell_type": "code",
      "source": [
        "# 1) Ir a la carpeta del proyecto\n",
        "%cd /content/booking-reviews-scraper\n",
        "\n",
        "# 2) Importar y ejecutar directamente (sin Typer/CLI)\n",
        "from run import execute\n",
        "\n",
        "# Usa tus variables ya definidas en la celda de parámetros\n",
        "execute(HOTEL_NAME, COUNTRY, SORT_BY, N_REVIEWS)\n"
      ],
      "metadata": {
        "colab": {
          "base_uri": "https://localhost:8080/"
        },
        "id": "5-hF3ieoHd04",
        "outputId": "94d6e412-4bfe-4a6c-f494-1ccd1ec9cc29"
      },
      "execution_count": 7,
      "outputs": [
        {
          "output_type": "stream",
          "name": "stdout",
          "text": [
            "/content/booking-reviews-scraper\n"
          ]
        },
        {
          "output_type": "stream",
          "name": "stderr",
          "text": [
            "INFO:root:\n",
            "\n",
            "******** Input Params ********\n",
            "-->  country: ec\n",
            "-->  hotel_name: ibis-quito\n",
            "-->  sort_by: newest_first\n",
            "-->  n_rows: 1500\n",
            "-->  stop_critera: None\n",
            "************************\n",
            "\n",
            "\n"
          ]
        },
        {
          "output_type": "stream",
          "name": "stdout",
          "text": [
            "2025-10-04 21:10:48,721 - root - INFO - \n",
            "\n",
            "******** Input Params ********\n",
            "-->  country: ec\n",
            "-->  hotel_name: ibis-quito\n",
            "-->  sort_by: newest_first\n",
            "-->  n_rows: 1500\n",
            "-->  stop_critera: None\n",
            "************************\n",
            "\n",
            "\n",
            "2025-10-04 21:10:48,721 - root - INFO - \n",
            "\n",
            "******** Input Params ********\n",
            "-->  country: ec\n",
            "-->  hotel_name: ibis-quito\n",
            "-->  sort_by: newest_first\n",
            "-->  n_rows: 1500\n",
            "-->  stop_critera: None\n",
            "************************\n",
            "\n",
            "\n",
            "2025-10-04 21:10:48,721 - root - INFO - \n",
            "\n",
            "******** Input Params ********\n",
            "-->  country: ec\n",
            "-->  hotel_name: ibis-quito\n",
            "-->  sort_by: newest_first\n",
            "-->  n_rows: 1500\n",
            "-->  stop_critera: None\n",
            "************************\n",
            "\n",
            "\n"
          ]
        },
        {
          "output_type": "stream",
          "name": "stderr",
          "text": [
            "INFO:root:Creating URLs\n"
          ]
        },
        {
          "output_type": "stream",
          "name": "stdout",
          "text": [
            "2025-10-04 21:10:48,726 - root - INFO - Creating URLs\n",
            "2025-10-04 21:10:48,726 - root - INFO - Creating URLs\n",
            "2025-10-04 21:10:48,726 - root - INFO - Creating URLs\n"
          ]
        },
        {
          "output_type": "stream",
          "name": "stderr",
          "text": [
            "INFO:root:Checking max offset parameter value\n"
          ]
        },
        {
          "output_type": "stream",
          "name": "stdout",
          "text": [
            "2025-10-04 21:10:48,729 - root - INFO - Checking max offset parameter value\n",
            "2025-10-04 21:10:48,729 - root - INFO - Checking max offset parameter value\n",
            "2025-10-04 21:10:48,729 - root - INFO - Checking max offset parameter value\n"
          ]
        },
        {
          "output_type": "stream",
          "name": "stderr",
          "text": [
            "INFO:root:Offset parameter max value: 1200\n"
          ]
        },
        {
          "output_type": "stream",
          "name": "stdout",
          "text": [
            "2025-10-04 21:10:49,383 - root - INFO - Offset parameter max value: 1200\n",
            "2025-10-04 21:10:49,383 - root - INFO - Offset parameter max value: 1200\n",
            "2025-10-04 21:10:49,383 - root - INFO - Offset parameter max value: 1200\n"
          ]
        },
        {
          "output_type": "stream",
          "name": "stderr",
          "text": [
            "INFO:root:Created URLs: 121\n"
          ]
        },
        {
          "output_type": "stream",
          "name": "stdout",
          "text": [
            "2025-10-04 21:10:49,416 - root - INFO - Created URLs: 121\n",
            "2025-10-04 21:10:49,416 - root - INFO - Created URLs: 121\n",
            "2025-10-04 21:10:49,416 - root - INFO - Created URLs: 121\n"
          ]
        },
        {
          "output_type": "stream",
          "name": "stderr",
          "text": [
            "INFO:root:Progress Monitoring Thread Started\n"
          ]
        },
        {
          "output_type": "stream",
          "name": "stdout",
          "text": [
            "2025-10-04 21:10:49,422 - root - INFO - Progress Monitoring Thread Started\n"
          ]
        },
        {
          "output_type": "stream",
          "name": "stderr",
          "text": [
            "INFO:root:Starting Conditional Scraping on 121 urls\n"
          ]
        },
        {
          "output_type": "stream",
          "name": "stdout",
          "text": [
            "2025-10-04 21:10:49,422 - root - INFO - Progress Monitoring Thread Started\n",
            "2025-10-04 21:10:49,422 - root - INFO - Progress Monitoring Thread Started\n",
            "2025-10-04 21:10:49,422 - root - INFO - Starting Conditional Scraping on 121 urls\n",
            "2025-10-04 21:10:49,422 - root - INFO - Starting Conditional Scraping on 121 urls\n",
            "2025-10-04 21:10:49,422 - root - INFO - Starting Conditional Scraping on 121 urls\n"
          ]
        },
        {
          "output_type": "stream",
          "name": "stderr",
          "text": [
            "WARNING:root:Retrying 1 ... https://www.booking.com/reviewlist.en-gb.html?cc1=ec&pagename=ibis-quito&rows=10&sort=f_recent_desc&offset=10\n"
          ]
        },
        {
          "output_type": "stream",
          "name": "stdout",
          "text": [
            "2025-10-04 21:10:50,490 - root - WARNING - Retrying 1 ... https://www.booking.com/reviewlist.en-gb.html?cc1=ec&pagename=ibis-quito&rows=10&sort=f_recent_desc&offset=10\n",
            "2025-10-04 21:10:50,490 - root - WARNING - Retrying 1 ... https://www.booking.com/reviewlist.en-gb.html?cc1=ec&pagename=ibis-quito&rows=10&sort=f_recent_desc&offset=10\n",
            "2025-10-04 21:10:50,490 - root - WARNING - Retrying 1 ... https://www.booking.com/reviewlist.en-gb.html?cc1=ec&pagename=ibis-quito&rows=10&sort=f_recent_desc&offset=10\n"
          ]
        },
        {
          "output_type": "stream",
          "name": "stderr",
          "text": [
            "WARNING:root:Retrying 2 ... https://www.booking.com/reviewlist.en-gb.html?cc1=ec&pagename=ibis-quito&rows=10&sort=f_recent_desc&offset=10\n"
          ]
        },
        {
          "output_type": "stream",
          "name": "stdout",
          "text": [
            "2025-10-04 21:10:50,821 - root - WARNING - Retrying 2 ... https://www.booking.com/reviewlist.en-gb.html?cc1=ec&pagename=ibis-quito&rows=10&sort=f_recent_desc&offset=10\n",
            "2025-10-04 21:10:50,821 - root - WARNING - Retrying 2 ... https://www.booking.com/reviewlist.en-gb.html?cc1=ec&pagename=ibis-quito&rows=10&sort=f_recent_desc&offset=10\n",
            "2025-10-04 21:10:50,821 - root - WARNING - Retrying 2 ... https://www.booking.com/reviewlist.en-gb.html?cc1=ec&pagename=ibis-quito&rows=10&sort=f_recent_desc&offset=10\n"
          ]
        },
        {
          "output_type": "stream",
          "name": "stderr",
          "text": [
            "WARNING:root:Retrying 3 ... https://www.booking.com/reviewlist.en-gb.html?cc1=ec&pagename=ibis-quito&rows=10&sort=f_recent_desc&offset=10\n"
          ]
        },
        {
          "output_type": "stream",
          "name": "stdout",
          "text": [
            "2025-10-04 21:10:51,157 - root - WARNING - Retrying 3 ... https://www.booking.com/reviewlist.en-gb.html?cc1=ec&pagename=ibis-quito&rows=10&sort=f_recent_desc&offset=10\n",
            "2025-10-04 21:10:51,157 - root - WARNING - Retrying 3 ... https://www.booking.com/reviewlist.en-gb.html?cc1=ec&pagename=ibis-quito&rows=10&sort=f_recent_desc&offset=10\n",
            "2025-10-04 21:10:51,157 - root - WARNING - Retrying 3 ... https://www.booking.com/reviewlist.en-gb.html?cc1=ec&pagename=ibis-quito&rows=10&sort=f_recent_desc&offset=10\n"
          ]
        },
        {
          "output_type": "stream",
          "name": "stderr",
          "text": [
            "INFO:root:Processed 2/121\n"
          ]
        },
        {
          "output_type": "stream",
          "name": "stdout",
          "text": [
            "2025-10-04 21:10:51,431 - root - INFO - Processed 2/121\n",
            "2025-10-04 21:10:51,431 - root - INFO - Processed 2/121\n",
            "2025-10-04 21:10:51,431 - root - INFO - Processed 2/121\n"
          ]
        },
        {
          "output_type": "stream",
          "name": "stderr",
          "text": [
            "WARNING:root:Retrying 1 ... https://www.booking.com/reviewlist.en-gb.html?cc1=ec&pagename=ibis-quito&rows=10&sort=f_recent_desc&offset=50\n"
          ]
        },
        {
          "output_type": "stream",
          "name": "stdout",
          "text": [
            "2025-10-04 21:10:53,094 - root - WARNING - Retrying 1 ... https://www.booking.com/reviewlist.en-gb.html?cc1=ec&pagename=ibis-quito&rows=10&sort=f_recent_desc&offset=50\n",
            "2025-10-04 21:10:53,094 - root - WARNING - Retrying 1 ... https://www.booking.com/reviewlist.en-gb.html?cc1=ec&pagename=ibis-quito&rows=10&sort=f_recent_desc&offset=50\n",
            "2025-10-04 21:10:53,094 - root - WARNING - Retrying 1 ... https://www.booking.com/reviewlist.en-gb.html?cc1=ec&pagename=ibis-quito&rows=10&sort=f_recent_desc&offset=50\n"
          ]
        },
        {
          "output_type": "stream",
          "name": "stderr",
          "text": [
            "WARNING:root:Retrying 2 ... https://www.booking.com/reviewlist.en-gb.html?cc1=ec&pagename=ibis-quito&rows=10&sort=f_recent_desc&offset=50\n"
          ]
        },
        {
          "output_type": "stream",
          "name": "stdout",
          "text": [
            "2025-10-04 21:10:53,388 - root - WARNING - Retrying 2 ... https://www.booking.com/reviewlist.en-gb.html?cc1=ec&pagename=ibis-quito&rows=10&sort=f_recent_desc&offset=50\n",
            "2025-10-04 21:10:53,388 - root - WARNING - Retrying 2 ... https://www.booking.com/reviewlist.en-gb.html?cc1=ec&pagename=ibis-quito&rows=10&sort=f_recent_desc&offset=50\n",
            "2025-10-04 21:10:53,388 - root - WARNING - Retrying 2 ... https://www.booking.com/reviewlist.en-gb.html?cc1=ec&pagename=ibis-quito&rows=10&sort=f_recent_desc&offset=50\n"
          ]
        },
        {
          "output_type": "stream",
          "name": "stderr",
          "text": [
            "INFO:root:Processed 5/121\n"
          ]
        },
        {
          "output_type": "stream",
          "name": "stdout",
          "text": [
            "2025-10-04 21:10:53,437 - root - INFO - Processed 5/121\n",
            "2025-10-04 21:10:53,437 - root - INFO - Processed 5/121\n",
            "2025-10-04 21:10:53,437 - root - INFO - Processed 5/121\n"
          ]
        },
        {
          "output_type": "stream",
          "name": "stderr",
          "text": [
            "WARNING:root:Retrying 3 ... https://www.booking.com/reviewlist.en-gb.html?cc1=ec&pagename=ibis-quito&rows=10&sort=f_recent_desc&offset=50\n"
          ]
        },
        {
          "output_type": "stream",
          "name": "stdout",
          "text": [
            "2025-10-04 21:10:53,695 - root - WARNING - Retrying 3 ... https://www.booking.com/reviewlist.en-gb.html?cc1=ec&pagename=ibis-quito&rows=10&sort=f_recent_desc&offset=50\n",
            "2025-10-04 21:10:53,695 - root - WARNING - Retrying 3 ... https://www.booking.com/reviewlist.en-gb.html?cc1=ec&pagename=ibis-quito&rows=10&sort=f_recent_desc&offset=50\n",
            "2025-10-04 21:10:53,695 - root - WARNING - Retrying 3 ... https://www.booking.com/reviewlist.en-gb.html?cc1=ec&pagename=ibis-quito&rows=10&sort=f_recent_desc&offset=50\n"
          ]
        },
        {
          "output_type": "stream",
          "name": "stderr",
          "text": [
            "INFO:root:Processed 9/121\n"
          ]
        },
        {
          "output_type": "stream",
          "name": "stdout",
          "text": [
            "2025-10-04 21:10:55,441 - root - INFO - Processed 9/121\n",
            "2025-10-04 21:10:55,441 - root - INFO - Processed 9/121\n",
            "2025-10-04 21:10:55,441 - root - INFO - Processed 9/121\n"
          ]
        },
        {
          "output_type": "stream",
          "name": "stderr",
          "text": [
            "WARNING:root:Retrying 1 ... https://www.booking.com/reviewlist.en-gb.html?cc1=ec&pagename=ibis-quito&rows=10&sort=f_recent_desc&offset=100\n"
          ]
        },
        {
          "output_type": "stream",
          "name": "stdout",
          "text": [
            "2025-10-04 21:10:56,192 - root - WARNING - Retrying 1 ... https://www.booking.com/reviewlist.en-gb.html?cc1=ec&pagename=ibis-quito&rows=10&sort=f_recent_desc&offset=100\n",
            "2025-10-04 21:10:56,192 - root - WARNING - Retrying 1 ... https://www.booking.com/reviewlist.en-gb.html?cc1=ec&pagename=ibis-quito&rows=10&sort=f_recent_desc&offset=100\n",
            "2025-10-04 21:10:56,192 - root - WARNING - Retrying 1 ... https://www.booking.com/reviewlist.en-gb.html?cc1=ec&pagename=ibis-quito&rows=10&sort=f_recent_desc&offset=100\n"
          ]
        },
        {
          "output_type": "stream",
          "name": "stderr",
          "text": [
            "WARNING:root:Retrying 2 ... https://www.booking.com/reviewlist.en-gb.html?cc1=ec&pagename=ibis-quito&rows=10&sort=f_recent_desc&offset=100\n"
          ]
        },
        {
          "output_type": "stream",
          "name": "stdout",
          "text": [
            "2025-10-04 21:10:56,495 - root - WARNING - Retrying 2 ... https://www.booking.com/reviewlist.en-gb.html?cc1=ec&pagename=ibis-quito&rows=10&sort=f_recent_desc&offset=100\n",
            "2025-10-04 21:10:56,495 - root - WARNING - Retrying 2 ... https://www.booking.com/reviewlist.en-gb.html?cc1=ec&pagename=ibis-quito&rows=10&sort=f_recent_desc&offset=100\n",
            "2025-10-04 21:10:56,495 - root - WARNING - Retrying 2 ... https://www.booking.com/reviewlist.en-gb.html?cc1=ec&pagename=ibis-quito&rows=10&sort=f_recent_desc&offset=100\n"
          ]
        },
        {
          "output_type": "stream",
          "name": "stderr",
          "text": [
            "WARNING:root:Retrying 1 ... https://www.booking.com/reviewlist.en-gb.html?cc1=ec&pagename=ibis-quito&rows=10&sort=f_recent_desc&offset=110\n"
          ]
        },
        {
          "output_type": "stream",
          "name": "stdout",
          "text": [
            "2025-10-04 21:10:57,296 - root - WARNING - Retrying 1 ... https://www.booking.com/reviewlist.en-gb.html?cc1=ec&pagename=ibis-quito&rows=10&sort=f_recent_desc&offset=110\n",
            "2025-10-04 21:10:57,296 - root - WARNING - Retrying 1 ... https://www.booking.com/reviewlist.en-gb.html?cc1=ec&pagename=ibis-quito&rows=10&sort=f_recent_desc&offset=110\n",
            "2025-10-04 21:10:57,296 - root - WARNING - Retrying 1 ... https://www.booking.com/reviewlist.en-gb.html?cc1=ec&pagename=ibis-quito&rows=10&sort=f_recent_desc&offset=110\n"
          ]
        },
        {
          "output_type": "stream",
          "name": "stderr",
          "text": [
            "INFO:root:Processed 11/121\n"
          ]
        },
        {
          "output_type": "stream",
          "name": "stdout",
          "text": [
            "2025-10-04 21:10:57,446 - root - INFO - Processed 11/121\n",
            "2025-10-04 21:10:57,446 - root - INFO - Processed 11/121\n",
            "2025-10-04 21:10:57,446 - root - INFO - Processed 11/121\n"
          ]
        },
        {
          "output_type": "stream",
          "name": "stderr",
          "text": [
            "WARNING:root:Retrying 2 ... https://www.booking.com/reviewlist.en-gb.html?cc1=ec&pagename=ibis-quito&rows=10&sort=f_recent_desc&offset=110\n"
          ]
        },
        {
          "output_type": "stream",
          "name": "stdout",
          "text": [
            "2025-10-04 21:10:57,635 - root - WARNING - Retrying 2 ... https://www.booking.com/reviewlist.en-gb.html?cc1=ec&pagename=ibis-quito&rows=10&sort=f_recent_desc&offset=110\n",
            "2025-10-04 21:10:57,635 - root - WARNING - Retrying 2 ... https://www.booking.com/reviewlist.en-gb.html?cc1=ec&pagename=ibis-quito&rows=10&sort=f_recent_desc&offset=110\n",
            "2025-10-04 21:10:57,635 - root - WARNING - Retrying 2 ... https://www.booking.com/reviewlist.en-gb.html?cc1=ec&pagename=ibis-quito&rows=10&sort=f_recent_desc&offset=110\n"
          ]
        },
        {
          "output_type": "stream",
          "name": "stderr",
          "text": [
            "WARNING:root:Retrying 1 ... https://www.booking.com/reviewlist.en-gb.html?cc1=ec&pagename=ibis-quito&rows=10&sort=f_recent_desc&offset=130\n"
          ]
        },
        {
          "output_type": "stream",
          "name": "stdout",
          "text": [
            "2025-10-04 21:10:58,960 - root - WARNING - Retrying 1 ... https://www.booking.com/reviewlist.en-gb.html?cc1=ec&pagename=ibis-quito&rows=10&sort=f_recent_desc&offset=130\n",
            "2025-10-04 21:10:58,960 - root - WARNING - Retrying 1 ... https://www.booking.com/reviewlist.en-gb.html?cc1=ec&pagename=ibis-quito&rows=10&sort=f_recent_desc&offset=130\n",
            "2025-10-04 21:10:58,960 - root - WARNING - Retrying 1 ... https://www.booking.com/reviewlist.en-gb.html?cc1=ec&pagename=ibis-quito&rows=10&sort=f_recent_desc&offset=130\n"
          ]
        },
        {
          "output_type": "stream",
          "name": "stderr",
          "text": [
            "INFO:root:Processed 14/121\n"
          ]
        },
        {
          "output_type": "stream",
          "name": "stdout",
          "text": [
            "2025-10-04 21:10:59,462 - root - INFO - Processed 14/121\n",
            "2025-10-04 21:10:59,462 - root - INFO - Processed 14/121\n",
            "2025-10-04 21:10:59,462 - root - INFO - Processed 14/121\n"
          ]
        },
        {
          "output_type": "stream",
          "name": "stderr",
          "text": [
            "WARNING:root:Retrying 1 ... https://www.booking.com/reviewlist.en-gb.html?cc1=ec&pagename=ibis-quito&rows=10&sort=f_recent_desc&offset=140\n"
          ]
        },
        {
          "output_type": "stream",
          "name": "stdout",
          "text": [
            "2025-10-04 21:10:59,755 - root - WARNING - Retrying 1 ... https://www.booking.com/reviewlist.en-gb.html?cc1=ec&pagename=ibis-quito&rows=10&sort=f_recent_desc&offset=140\n",
            "2025-10-04 21:10:59,755 - root - WARNING - Retrying 1 ... https://www.booking.com/reviewlist.en-gb.html?cc1=ec&pagename=ibis-quito&rows=10&sort=f_recent_desc&offset=140\n",
            "2025-10-04 21:10:59,755 - root - WARNING - Retrying 1 ... https://www.booking.com/reviewlist.en-gb.html?cc1=ec&pagename=ibis-quito&rows=10&sort=f_recent_desc&offset=140\n"
          ]
        },
        {
          "output_type": "stream",
          "name": "stderr",
          "text": [
            "WARNING:root:Retrying 1 ... https://www.booking.com/reviewlist.en-gb.html?cc1=ec&pagename=ibis-quito&rows=10&sort=f_recent_desc&offset=160\n"
          ]
        },
        {
          "output_type": "stream",
          "name": "stdout",
          "text": [
            "2025-10-04 21:11:01,236 - root - WARNING - Retrying 1 ... https://www.booking.com/reviewlist.en-gb.html?cc1=ec&pagename=ibis-quito&rows=10&sort=f_recent_desc&offset=160\n",
            "2025-10-04 21:11:01,236 - root - WARNING - Retrying 1 ... https://www.booking.com/reviewlist.en-gb.html?cc1=ec&pagename=ibis-quito&rows=10&sort=f_recent_desc&offset=160\n",
            "2025-10-04 21:11:01,236 - root - WARNING - Retrying 1 ... https://www.booking.com/reviewlist.en-gb.html?cc1=ec&pagename=ibis-quito&rows=10&sort=f_recent_desc&offset=160\n"
          ]
        },
        {
          "output_type": "stream",
          "name": "stderr",
          "text": [
            "INFO:root:Processed 16/121\n"
          ]
        },
        {
          "output_type": "stream",
          "name": "stdout",
          "text": [
            "2025-10-04 21:11:01,467 - root - INFO - Processed 16/121\n",
            "2025-10-04 21:11:01,467 - root - INFO - Processed 16/121\n",
            "2025-10-04 21:11:01,467 - root - INFO - Processed 16/121\n"
          ]
        },
        {
          "output_type": "stream",
          "name": "stderr",
          "text": [
            "WARNING:root:Retrying 2 ... https://www.booking.com/reviewlist.en-gb.html?cc1=ec&pagename=ibis-quito&rows=10&sort=f_recent_desc&offset=160\n"
          ]
        },
        {
          "output_type": "stream",
          "name": "stdout",
          "text": [
            "2025-10-04 21:11:01,573 - root - WARNING - Retrying 2 ... https://www.booking.com/reviewlist.en-gb.html?cc1=ec&pagename=ibis-quito&rows=10&sort=f_recent_desc&offset=160\n",
            "2025-10-04 21:11:01,573 - root - WARNING - Retrying 2 ... https://www.booking.com/reviewlist.en-gb.html?cc1=ec&pagename=ibis-quito&rows=10&sort=f_recent_desc&offset=160\n",
            "2025-10-04 21:11:01,573 - root - WARNING - Retrying 2 ... https://www.booking.com/reviewlist.en-gb.html?cc1=ec&pagename=ibis-quito&rows=10&sort=f_recent_desc&offset=160\n"
          ]
        },
        {
          "output_type": "stream",
          "name": "stderr",
          "text": [
            "WARNING:root:Retrying 3 ... https://www.booking.com/reviewlist.en-gb.html?cc1=ec&pagename=ibis-quito&rows=10&sort=f_recent_desc&offset=160\n"
          ]
        },
        {
          "output_type": "stream",
          "name": "stdout",
          "text": [
            "2025-10-04 21:11:02,130 - root - WARNING - Retrying 3 ... https://www.booking.com/reviewlist.en-gb.html?cc1=ec&pagename=ibis-quito&rows=10&sort=f_recent_desc&offset=160\n",
            "2025-10-04 21:11:02,130 - root - WARNING - Retrying 3 ... https://www.booking.com/reviewlist.en-gb.html?cc1=ec&pagename=ibis-quito&rows=10&sort=f_recent_desc&offset=160\n",
            "2025-10-04 21:11:02,130 - root - WARNING - Retrying 3 ... https://www.booking.com/reviewlist.en-gb.html?cc1=ec&pagename=ibis-quito&rows=10&sort=f_recent_desc&offset=160\n"
          ]
        },
        {
          "output_type": "stream",
          "name": "stderr",
          "text": [
            "WARNING:root:Retrying 1 ... https://www.booking.com/reviewlist.en-gb.html?cc1=ec&pagename=ibis-quito&rows=10&sort=f_recent_desc&offset=170\n"
          ]
        },
        {
          "output_type": "stream",
          "name": "stdout",
          "text": [
            "2025-10-04 21:11:02,471 - root - WARNING - Retrying 1 ... https://www.booking.com/reviewlist.en-gb.html?cc1=ec&pagename=ibis-quito&rows=10&sort=f_recent_desc&offset=170\n",
            "2025-10-04 21:11:02,471 - root - WARNING - Retrying 1 ... https://www.booking.com/reviewlist.en-gb.html?cc1=ec&pagename=ibis-quito&rows=10&sort=f_recent_desc&offset=170\n",
            "2025-10-04 21:11:02,471 - root - WARNING - Retrying 1 ... https://www.booking.com/reviewlist.en-gb.html?cc1=ec&pagename=ibis-quito&rows=10&sort=f_recent_desc&offset=170\n"
          ]
        },
        {
          "output_type": "stream",
          "name": "stderr",
          "text": [
            "WARNING:root:Retrying 1 ... https://www.booking.com/reviewlist.en-gb.html?cc1=ec&pagename=ibis-quito&rows=10&sort=f_recent_desc&offset=180\n"
          ]
        },
        {
          "output_type": "stream",
          "name": "stdout",
          "text": [
            "2025-10-04 21:11:03,337 - root - WARNING - Retrying 1 ... https://www.booking.com/reviewlist.en-gb.html?cc1=ec&pagename=ibis-quito&rows=10&sort=f_recent_desc&offset=180\n",
            "2025-10-04 21:11:03,337 - root - WARNING - Retrying 1 ... https://www.booking.com/reviewlist.en-gb.html?cc1=ec&pagename=ibis-quito&rows=10&sort=f_recent_desc&offset=180\n",
            "2025-10-04 21:11:03,337 - root - WARNING - Retrying 1 ... https://www.booking.com/reviewlist.en-gb.html?cc1=ec&pagename=ibis-quito&rows=10&sort=f_recent_desc&offset=180\n"
          ]
        },
        {
          "output_type": "stream",
          "name": "stderr",
          "text": [
            "INFO:root:Processed 18/121\n"
          ]
        },
        {
          "output_type": "stream",
          "name": "stdout",
          "text": [
            "2025-10-04 21:11:03,472 - root - INFO - Processed 18/121\n",
            "2025-10-04 21:11:03,472 - root - INFO - Processed 18/121\n",
            "2025-10-04 21:11:03,472 - root - INFO - Processed 18/121\n"
          ]
        },
        {
          "output_type": "stream",
          "name": "stderr",
          "text": [
            "WARNING:root:Retrying 1 ... https://www.booking.com/reviewlist.en-gb.html?cc1=ec&pagename=ibis-quito&rows=10&sort=f_recent_desc&offset=200\n"
          ]
        },
        {
          "output_type": "stream",
          "name": "stdout",
          "text": [
            "2025-10-04 21:11:04,645 - root - WARNING - Retrying 1 ... https://www.booking.com/reviewlist.en-gb.html?cc1=ec&pagename=ibis-quito&rows=10&sort=f_recent_desc&offset=200\n",
            "2025-10-04 21:11:04,645 - root - WARNING - Retrying 1 ... https://www.booking.com/reviewlist.en-gb.html?cc1=ec&pagename=ibis-quito&rows=10&sort=f_recent_desc&offset=200\n",
            "2025-10-04 21:11:04,645 - root - WARNING - Retrying 1 ... https://www.booking.com/reviewlist.en-gb.html?cc1=ec&pagename=ibis-quito&rows=10&sort=f_recent_desc&offset=200\n"
          ]
        },
        {
          "output_type": "stream",
          "name": "stderr",
          "text": [
            "WARNING:root:Retrying 1 ... https://www.booking.com/reviewlist.en-gb.html?cc1=ec&pagename=ibis-quito&rows=10&sort=f_recent_desc&offset=210\n"
          ]
        },
        {
          "output_type": "stream",
          "name": "stdout",
          "text": [
            "2025-10-04 21:11:05,443 - root - WARNING - Retrying 1 ... https://www.booking.com/reviewlist.en-gb.html?cc1=ec&pagename=ibis-quito&rows=10&sort=f_recent_desc&offset=210\n",
            "2025-10-04 21:11:05,443 - root - WARNING - Retrying 1 ... https://www.booking.com/reviewlist.en-gb.html?cc1=ec&pagename=ibis-quito&rows=10&sort=f_recent_desc&offset=210\n",
            "2025-10-04 21:11:05,443 - root - WARNING - Retrying 1 ... https://www.booking.com/reviewlist.en-gb.html?cc1=ec&pagename=ibis-quito&rows=10&sort=f_recent_desc&offset=210\n"
          ]
        },
        {
          "output_type": "stream",
          "name": "stderr",
          "text": [
            "INFO:root:Processed 21/121\n"
          ]
        },
        {
          "output_type": "stream",
          "name": "stdout",
          "text": [
            "2025-10-04 21:11:05,476 - root - INFO - Processed 21/121\n",
            "2025-10-04 21:11:05,476 - root - INFO - Processed 21/121\n",
            "2025-10-04 21:11:05,476 - root - INFO - Processed 21/121\n"
          ]
        },
        {
          "output_type": "stream",
          "name": "stderr",
          "text": [
            "WARNING:root:Retrying 1 ... https://www.booking.com/reviewlist.en-gb.html?cc1=ec&pagename=ibis-quito&rows=10&sort=f_recent_desc&offset=240\n"
          ]
        },
        {
          "output_type": "stream",
          "name": "stdout",
          "text": [
            "2025-10-04 21:11:07,333 - root - WARNING - Retrying 1 ... https://www.booking.com/reviewlist.en-gb.html?cc1=ec&pagename=ibis-quito&rows=10&sort=f_recent_desc&offset=240\n",
            "2025-10-04 21:11:07,333 - root - WARNING - Retrying 1 ... https://www.booking.com/reviewlist.en-gb.html?cc1=ec&pagename=ibis-quito&rows=10&sort=f_recent_desc&offset=240\n",
            "2025-10-04 21:11:07,333 - root - WARNING - Retrying 1 ... https://www.booking.com/reviewlist.en-gb.html?cc1=ec&pagename=ibis-quito&rows=10&sort=f_recent_desc&offset=240\n"
          ]
        },
        {
          "output_type": "stream",
          "name": "stderr",
          "text": [
            "INFO:root:Processed 24/121\n"
          ]
        },
        {
          "output_type": "stream",
          "name": "stdout",
          "text": [
            "2025-10-04 21:11:07,483 - root - INFO - Processed 24/121\n",
            "2025-10-04 21:11:07,483 - root - INFO - Processed 24/121\n",
            "2025-10-04 21:11:07,483 - root - INFO - Processed 24/121\n"
          ]
        },
        {
          "output_type": "stream",
          "name": "stderr",
          "text": [
            "WARNING:root:Retrying 1 ... https://www.booking.com/reviewlist.en-gb.html?cc1=ec&pagename=ibis-quito&rows=10&sort=f_recent_desc&offset=270\n"
          ]
        },
        {
          "output_type": "stream",
          "name": "stdout",
          "text": [
            "2025-10-04 21:11:09,275 - root - WARNING - Retrying 1 ... https://www.booking.com/reviewlist.en-gb.html?cc1=ec&pagename=ibis-quito&rows=10&sort=f_recent_desc&offset=270\n",
            "2025-10-04 21:11:09,275 - root - WARNING - Retrying 1 ... https://www.booking.com/reviewlist.en-gb.html?cc1=ec&pagename=ibis-quito&rows=10&sort=f_recent_desc&offset=270\n",
            "2025-10-04 21:11:09,275 - root - WARNING - Retrying 1 ... https://www.booking.com/reviewlist.en-gb.html?cc1=ec&pagename=ibis-quito&rows=10&sort=f_recent_desc&offset=270\n"
          ]
        },
        {
          "output_type": "stream",
          "name": "stderr",
          "text": [
            "INFO:root:Processed 27/121\n"
          ]
        },
        {
          "output_type": "stream",
          "name": "stdout",
          "text": [
            "2025-10-04 21:11:09,488 - root - INFO - Processed 27/121\n",
            "2025-10-04 21:11:09,488 - root - INFO - Processed 27/121\n",
            "2025-10-04 21:11:09,488 - root - INFO - Processed 27/121\n"
          ]
        },
        {
          "output_type": "stream",
          "name": "stderr",
          "text": [
            "WARNING:root:Retrying 2 ... https://www.booking.com/reviewlist.en-gb.html?cc1=ec&pagename=ibis-quito&rows=10&sort=f_recent_desc&offset=270\n"
          ]
        },
        {
          "output_type": "stream",
          "name": "stdout",
          "text": [
            "2025-10-04 21:11:09,575 - root - WARNING - Retrying 2 ... https://www.booking.com/reviewlist.en-gb.html?cc1=ec&pagename=ibis-quito&rows=10&sort=f_recent_desc&offset=270\n",
            "2025-10-04 21:11:09,575 - root - WARNING - Retrying 2 ... https://www.booking.com/reviewlist.en-gb.html?cc1=ec&pagename=ibis-quito&rows=10&sort=f_recent_desc&offset=270\n",
            "2025-10-04 21:11:09,575 - root - WARNING - Retrying 2 ... https://www.booking.com/reviewlist.en-gb.html?cc1=ec&pagename=ibis-quito&rows=10&sort=f_recent_desc&offset=270\n"
          ]
        },
        {
          "output_type": "stream",
          "name": "stderr",
          "text": [
            "WARNING:root:Retrying 1 ... https://www.booking.com/reviewlist.en-gb.html?cc1=ec&pagename=ibis-quito&rows=10&sort=f_recent_desc&offset=280\n"
          ]
        },
        {
          "output_type": "stream",
          "name": "stdout",
          "text": [
            "2025-10-04 21:11:10,491 - root - WARNING - Retrying 1 ... https://www.booking.com/reviewlist.en-gb.html?cc1=ec&pagename=ibis-quito&rows=10&sort=f_recent_desc&offset=280\n",
            "2025-10-04 21:11:10,491 - root - WARNING - Retrying 1 ... https://www.booking.com/reviewlist.en-gb.html?cc1=ec&pagename=ibis-quito&rows=10&sort=f_recent_desc&offset=280\n",
            "2025-10-04 21:11:10,491 - root - WARNING - Retrying 1 ... https://www.booking.com/reviewlist.en-gb.html?cc1=ec&pagename=ibis-quito&rows=10&sort=f_recent_desc&offset=280\n"
          ]
        },
        {
          "output_type": "stream",
          "name": "stderr",
          "text": [
            "WARNING:root:Retrying 2 ... https://www.booking.com/reviewlist.en-gb.html?cc1=ec&pagename=ibis-quito&rows=10&sort=f_recent_desc&offset=280\n"
          ]
        },
        {
          "output_type": "stream",
          "name": "stdout",
          "text": [
            "2025-10-04 21:11:10,790 - root - WARNING - Retrying 2 ... https://www.booking.com/reviewlist.en-gb.html?cc1=ec&pagename=ibis-quito&rows=10&sort=f_recent_desc&offset=280\n",
            "2025-10-04 21:11:10,790 - root - WARNING - Retrying 2 ... https://www.booking.com/reviewlist.en-gb.html?cc1=ec&pagename=ibis-quito&rows=10&sort=f_recent_desc&offset=280\n",
            "2025-10-04 21:11:10,790 - root - WARNING - Retrying 2 ... https://www.booking.com/reviewlist.en-gb.html?cc1=ec&pagename=ibis-quito&rows=10&sort=f_recent_desc&offset=280\n"
          ]
        },
        {
          "output_type": "stream",
          "name": "stderr",
          "text": [
            "WARNING:root:Retrying 3 ... https://www.booking.com/reviewlist.en-gb.html?cc1=ec&pagename=ibis-quito&rows=10&sort=f_recent_desc&offset=280\n"
          ]
        },
        {
          "output_type": "stream",
          "name": "stdout",
          "text": [
            "2025-10-04 21:11:11,098 - root - WARNING - Retrying 3 ... https://www.booking.com/reviewlist.en-gb.html?cc1=ec&pagename=ibis-quito&rows=10&sort=f_recent_desc&offset=280\n",
            "2025-10-04 21:11:11,098 - root - WARNING - Retrying 3 ... https://www.booking.com/reviewlist.en-gb.html?cc1=ec&pagename=ibis-quito&rows=10&sort=f_recent_desc&offset=280\n",
            "2025-10-04 21:11:11,098 - root - WARNING - Retrying 3 ... https://www.booking.com/reviewlist.en-gb.html?cc1=ec&pagename=ibis-quito&rows=10&sort=f_recent_desc&offset=280\n"
          ]
        },
        {
          "output_type": "stream",
          "name": "stderr",
          "text": [
            "WARNING:root:Retrying 1 ... https://www.booking.com/reviewlist.en-gb.html?cc1=ec&pagename=ibis-quito&rows=10&sort=f_recent_desc&offset=290\n"
          ]
        },
        {
          "output_type": "stream",
          "name": "stdout",
          "text": [
            "2025-10-04 21:11:11,417 - root - WARNING - Retrying 1 ... https://www.booking.com/reviewlist.en-gb.html?cc1=ec&pagename=ibis-quito&rows=10&sort=f_recent_desc&offset=290\n",
            "2025-10-04 21:11:11,417 - root - WARNING - Retrying 1 ... https://www.booking.com/reviewlist.en-gb.html?cc1=ec&pagename=ibis-quito&rows=10&sort=f_recent_desc&offset=290\n",
            "2025-10-04 21:11:11,417 - root - WARNING - Retrying 1 ... https://www.booking.com/reviewlist.en-gb.html?cc1=ec&pagename=ibis-quito&rows=10&sort=f_recent_desc&offset=290\n"
          ]
        },
        {
          "output_type": "stream",
          "name": "stderr",
          "text": [
            "INFO:root:Processed 29/121\n"
          ]
        },
        {
          "output_type": "stream",
          "name": "stdout",
          "text": [
            "2025-10-04 21:11:11,493 - root - INFO - Processed 29/121\n",
            "2025-10-04 21:11:11,493 - root - INFO - Processed 29/121\n",
            "2025-10-04 21:11:11,493 - root - INFO - Processed 29/121\n"
          ]
        },
        {
          "output_type": "stream",
          "name": "stderr",
          "text": [
            "WARNING:root:Retrying 1 ... https://www.booking.com/reviewlist.en-gb.html?cc1=ec&pagename=ibis-quito&rows=10&sort=f_recent_desc&offset=310\n"
          ]
        },
        {
          "output_type": "stream",
          "name": "stdout",
          "text": [
            "2025-10-04 21:11:13,087 - root - WARNING - Retrying 1 ... https://www.booking.com/reviewlist.en-gb.html?cc1=ec&pagename=ibis-quito&rows=10&sort=f_recent_desc&offset=310\n",
            "2025-10-04 21:11:13,087 - root - WARNING - Retrying 1 ... https://www.booking.com/reviewlist.en-gb.html?cc1=ec&pagename=ibis-quito&rows=10&sort=f_recent_desc&offset=310\n",
            "2025-10-04 21:11:13,087 - root - WARNING - Retrying 1 ... https://www.booking.com/reviewlist.en-gb.html?cc1=ec&pagename=ibis-quito&rows=10&sort=f_recent_desc&offset=310\n"
          ]
        },
        {
          "output_type": "stream",
          "name": "stderr",
          "text": [
            "WARNING:root:Retrying 2 ... https://www.booking.com/reviewlist.en-gb.html?cc1=ec&pagename=ibis-quito&rows=10&sort=f_recent_desc&offset=310\n"
          ]
        },
        {
          "output_type": "stream",
          "name": "stdout",
          "text": [
            "2025-10-04 21:11:13,427 - root - WARNING - Retrying 2 ... https://www.booking.com/reviewlist.en-gb.html?cc1=ec&pagename=ibis-quito&rows=10&sort=f_recent_desc&offset=310\n",
            "2025-10-04 21:11:13,427 - root - WARNING - Retrying 2 ... https://www.booking.com/reviewlist.en-gb.html?cc1=ec&pagename=ibis-quito&rows=10&sort=f_recent_desc&offset=310\n",
            "2025-10-04 21:11:13,427 - root - WARNING - Retrying 2 ... https://www.booking.com/reviewlist.en-gb.html?cc1=ec&pagename=ibis-quito&rows=10&sort=f_recent_desc&offset=310\n"
          ]
        },
        {
          "output_type": "stream",
          "name": "stderr",
          "text": [
            "INFO:root:Processed 31/121\n"
          ]
        },
        {
          "output_type": "stream",
          "name": "stdout",
          "text": [
            "2025-10-04 21:11:13,501 - root - INFO - Processed 31/121\n",
            "2025-10-04 21:11:13,501 - root - INFO - Processed 31/121\n",
            "2025-10-04 21:11:13,501 - root - INFO - Processed 31/121\n"
          ]
        },
        {
          "output_type": "stream",
          "name": "stderr",
          "text": [
            "WARNING:root:Retrying 1 ... https://www.booking.com/reviewlist.en-gb.html?cc1=ec&pagename=ibis-quito&rows=10&sort=f_recent_desc&offset=330\n"
          ]
        },
        {
          "output_type": "stream",
          "name": "stdout",
          "text": [
            "2025-10-04 21:11:15,051 - root - WARNING - Retrying 1 ... https://www.booking.com/reviewlist.en-gb.html?cc1=ec&pagename=ibis-quito&rows=10&sort=f_recent_desc&offset=330\n",
            "2025-10-04 21:11:15,051 - root - WARNING - Retrying 1 ... https://www.booking.com/reviewlist.en-gb.html?cc1=ec&pagename=ibis-quito&rows=10&sort=f_recent_desc&offset=330\n",
            "2025-10-04 21:11:15,051 - root - WARNING - Retrying 1 ... https://www.booking.com/reviewlist.en-gb.html?cc1=ec&pagename=ibis-quito&rows=10&sort=f_recent_desc&offset=330\n"
          ]
        },
        {
          "output_type": "stream",
          "name": "stderr",
          "text": [
            "WARNING:root:Retrying 2 ... https://www.booking.com/reviewlist.en-gb.html?cc1=ec&pagename=ibis-quito&rows=10&sort=f_recent_desc&offset=330\n"
          ]
        },
        {
          "output_type": "stream",
          "name": "stdout",
          "text": [
            "2025-10-04 21:11:15,399 - root - WARNING - Retrying 2 ... https://www.booking.com/reviewlist.en-gb.html?cc1=ec&pagename=ibis-quito&rows=10&sort=f_recent_desc&offset=330\n",
            "2025-10-04 21:11:15,399 - root - WARNING - Retrying 2 ... https://www.booking.com/reviewlist.en-gb.html?cc1=ec&pagename=ibis-quito&rows=10&sort=f_recent_desc&offset=330\n",
            "2025-10-04 21:11:15,399 - root - WARNING - Retrying 2 ... https://www.booking.com/reviewlist.en-gb.html?cc1=ec&pagename=ibis-quito&rows=10&sort=f_recent_desc&offset=330\n"
          ]
        },
        {
          "output_type": "stream",
          "name": "stderr",
          "text": [
            "INFO:root:Processed 33/121\n"
          ]
        },
        {
          "output_type": "stream",
          "name": "stdout",
          "text": [
            "2025-10-04 21:11:15,510 - root - INFO - Processed 33/121\n",
            "2025-10-04 21:11:15,510 - root - INFO - Processed 33/121\n",
            "2025-10-04 21:11:15,510 - root - INFO - Processed 33/121\n"
          ]
        },
        {
          "output_type": "stream",
          "name": "stderr",
          "text": [
            "WARNING:root:Retrying 1 ... https://www.booking.com/reviewlist.en-gb.html?cc1=ec&pagename=ibis-quito&rows=10&sort=f_recent_desc&offset=340\n"
          ]
        },
        {
          "output_type": "stream",
          "name": "stdout",
          "text": [
            "2025-10-04 21:11:16,329 - root - WARNING - Retrying 1 ... https://www.booking.com/reviewlist.en-gb.html?cc1=ec&pagename=ibis-quito&rows=10&sort=f_recent_desc&offset=340\n",
            "2025-10-04 21:11:16,329 - root - WARNING - Retrying 1 ... https://www.booking.com/reviewlist.en-gb.html?cc1=ec&pagename=ibis-quito&rows=10&sort=f_recent_desc&offset=340\n",
            "2025-10-04 21:11:16,329 - root - WARNING - Retrying 1 ... https://www.booking.com/reviewlist.en-gb.html?cc1=ec&pagename=ibis-quito&rows=10&sort=f_recent_desc&offset=340\n"
          ]
        },
        {
          "output_type": "stream",
          "name": "stderr",
          "text": [
            "WARNING:root:Retrying 2 ... https://www.booking.com/reviewlist.en-gb.html?cc1=ec&pagename=ibis-quito&rows=10&sort=f_recent_desc&offset=340\n"
          ]
        },
        {
          "output_type": "stream",
          "name": "stdout",
          "text": [
            "2025-10-04 21:11:16,654 - root - WARNING - Retrying 2 ... https://www.booking.com/reviewlist.en-gb.html?cc1=ec&pagename=ibis-quito&rows=10&sort=f_recent_desc&offset=340\n",
            "2025-10-04 21:11:16,654 - root - WARNING - Retrying 2 ... https://www.booking.com/reviewlist.en-gb.html?cc1=ec&pagename=ibis-quito&rows=10&sort=f_recent_desc&offset=340\n",
            "2025-10-04 21:11:16,654 - root - WARNING - Retrying 2 ... https://www.booking.com/reviewlist.en-gb.html?cc1=ec&pagename=ibis-quito&rows=10&sort=f_recent_desc&offset=340\n"
          ]
        },
        {
          "output_type": "stream",
          "name": "stderr",
          "text": [
            "WARNING:root:Retrying 3 ... https://www.booking.com/reviewlist.en-gb.html?cc1=ec&pagename=ibis-quito&rows=10&sort=f_recent_desc&offset=340\n"
          ]
        },
        {
          "output_type": "stream",
          "name": "stdout",
          "text": [
            "2025-10-04 21:11:16,961 - root - WARNING - Retrying 3 ... https://www.booking.com/reviewlist.en-gb.html?cc1=ec&pagename=ibis-quito&rows=10&sort=f_recent_desc&offset=340\n",
            "2025-10-04 21:11:16,961 - root - WARNING - Retrying 3 ... https://www.booking.com/reviewlist.en-gb.html?cc1=ec&pagename=ibis-quito&rows=10&sort=f_recent_desc&offset=340\n",
            "2025-10-04 21:11:16,961 - root - WARNING - Retrying 3 ... https://www.booking.com/reviewlist.en-gb.html?cc1=ec&pagename=ibis-quito&rows=10&sort=f_recent_desc&offset=340\n"
          ]
        },
        {
          "output_type": "stream",
          "name": "stderr",
          "text": [
            "WARNING:root:Retrying 1 ... https://www.booking.com/reviewlist.en-gb.html?cc1=ec&pagename=ibis-quito&rows=10&sort=f_recent_desc&offset=350\n"
          ]
        },
        {
          "output_type": "stream",
          "name": "stdout",
          "text": [
            "2025-10-04 21:11:17,298 - root - WARNING - Retrying 1 ... https://www.booking.com/reviewlist.en-gb.html?cc1=ec&pagename=ibis-quito&rows=10&sort=f_recent_desc&offset=350\n",
            "2025-10-04 21:11:17,298 - root - WARNING - Retrying 1 ... https://www.booking.com/reviewlist.en-gb.html?cc1=ec&pagename=ibis-quito&rows=10&sort=f_recent_desc&offset=350\n",
            "2025-10-04 21:11:17,298 - root - WARNING - Retrying 1 ... https://www.booking.com/reviewlist.en-gb.html?cc1=ec&pagename=ibis-quito&rows=10&sort=f_recent_desc&offset=350\n"
          ]
        },
        {
          "output_type": "stream",
          "name": "stderr",
          "text": [
            "INFO:root:Processed 35/121\n"
          ]
        },
        {
          "output_type": "stream",
          "name": "stdout",
          "text": [
            "2025-10-04 21:11:17,515 - root - INFO - Processed 35/121\n",
            "2025-10-04 21:11:17,515 - root - INFO - Processed 35/121\n",
            "2025-10-04 21:11:17,515 - root - INFO - Processed 35/121\n"
          ]
        },
        {
          "output_type": "stream",
          "name": "stderr",
          "text": [
            "WARNING:root:Retrying 1 ... https://www.booking.com/reviewlist.en-gb.html?cc1=ec&pagename=ibis-quito&rows=10&sort=f_recent_desc&offset=360\n"
          ]
        },
        {
          "output_type": "stream",
          "name": "stdout",
          "text": [
            "2025-10-04 21:11:18,189 - root - WARNING - Retrying 1 ... https://www.booking.com/reviewlist.en-gb.html?cc1=ec&pagename=ibis-quito&rows=10&sort=f_recent_desc&offset=360\n",
            "2025-10-04 21:11:18,189 - root - WARNING - Retrying 1 ... https://www.booking.com/reviewlist.en-gb.html?cc1=ec&pagename=ibis-quito&rows=10&sort=f_recent_desc&offset=360\n",
            "2025-10-04 21:11:18,189 - root - WARNING - Retrying 1 ... https://www.booking.com/reviewlist.en-gb.html?cc1=ec&pagename=ibis-quito&rows=10&sort=f_recent_desc&offset=360\n"
          ]
        },
        {
          "output_type": "stream",
          "name": "stderr",
          "text": [
            "WARNING:root:Retrying 2 ... https://www.booking.com/reviewlist.en-gb.html?cc1=ec&pagename=ibis-quito&rows=10&sort=f_recent_desc&offset=360\n"
          ]
        },
        {
          "output_type": "stream",
          "name": "stdout",
          "text": [
            "2025-10-04 21:11:18,531 - root - WARNING - Retrying 2 ... https://www.booking.com/reviewlist.en-gb.html?cc1=ec&pagename=ibis-quito&rows=10&sort=f_recent_desc&offset=360\n",
            "2025-10-04 21:11:18,531 - root - WARNING - Retrying 2 ... https://www.booking.com/reviewlist.en-gb.html?cc1=ec&pagename=ibis-quito&rows=10&sort=f_recent_desc&offset=360\n",
            "2025-10-04 21:11:18,531 - root - WARNING - Retrying 2 ... https://www.booking.com/reviewlist.en-gb.html?cc1=ec&pagename=ibis-quito&rows=10&sort=f_recent_desc&offset=360\n"
          ]
        },
        {
          "output_type": "stream",
          "name": "stderr",
          "text": [
            "WARNING:root:Retrying 3 ... https://www.booking.com/reviewlist.en-gb.html?cc1=ec&pagename=ibis-quito&rows=10&sort=f_recent_desc&offset=360\n"
          ]
        },
        {
          "output_type": "stream",
          "name": "stdout",
          "text": [
            "2025-10-04 21:11:18,818 - root - WARNING - Retrying 3 ... https://www.booking.com/reviewlist.en-gb.html?cc1=ec&pagename=ibis-quito&rows=10&sort=f_recent_desc&offset=360\n",
            "2025-10-04 21:11:18,818 - root - WARNING - Retrying 3 ... https://www.booking.com/reviewlist.en-gb.html?cc1=ec&pagename=ibis-quito&rows=10&sort=f_recent_desc&offset=360\n",
            "2025-10-04 21:11:18,818 - root - WARNING - Retrying 3 ... https://www.booking.com/reviewlist.en-gb.html?cc1=ec&pagename=ibis-quito&rows=10&sort=f_recent_desc&offset=360\n"
          ]
        },
        {
          "output_type": "stream",
          "name": "stderr",
          "text": [
            "INFO:root:Processed 38/121\n"
          ]
        },
        {
          "output_type": "stream",
          "name": "stdout",
          "text": [
            "2025-10-04 21:11:19,519 - root - INFO - Processed 38/121\n",
            "2025-10-04 21:11:19,519 - root - INFO - Processed 38/121\n",
            "2025-10-04 21:11:19,519 - root - INFO - Processed 38/121\n"
          ]
        },
        {
          "output_type": "stream",
          "name": "stderr",
          "text": [
            "WARNING:root:Retrying 1 ... https://www.booking.com/reviewlist.en-gb.html?cc1=ec&pagename=ibis-quito&rows=10&sort=f_recent_desc&offset=380\n"
          ]
        },
        {
          "output_type": "stream",
          "name": "stdout",
          "text": [
            "2025-10-04 21:11:19,648 - root - WARNING - Retrying 1 ... https://www.booking.com/reviewlist.en-gb.html?cc1=ec&pagename=ibis-quito&rows=10&sort=f_recent_desc&offset=380\n",
            "2025-10-04 21:11:19,648 - root - WARNING - Retrying 1 ... https://www.booking.com/reviewlist.en-gb.html?cc1=ec&pagename=ibis-quito&rows=10&sort=f_recent_desc&offset=380\n",
            "2025-10-04 21:11:19,648 - root - WARNING - Retrying 1 ... https://www.booking.com/reviewlist.en-gb.html?cc1=ec&pagename=ibis-quito&rows=10&sort=f_recent_desc&offset=380\n"
          ]
        },
        {
          "output_type": "stream",
          "name": "stderr",
          "text": [
            "WARNING:root:Retrying 1 ... https://www.booking.com/reviewlist.en-gb.html?cc1=ec&pagename=ibis-quito&rows=10&sort=f_recent_desc&offset=390\n"
          ]
        },
        {
          "output_type": "stream",
          "name": "stdout",
          "text": [
            "2025-10-04 21:11:20,456 - root - WARNING - Retrying 1 ... https://www.booking.com/reviewlist.en-gb.html?cc1=ec&pagename=ibis-quito&rows=10&sort=f_recent_desc&offset=390\n",
            "2025-10-04 21:11:20,456 - root - WARNING - Retrying 1 ... https://www.booking.com/reviewlist.en-gb.html?cc1=ec&pagename=ibis-quito&rows=10&sort=f_recent_desc&offset=390\n",
            "2025-10-04 21:11:20,456 - root - WARNING - Retrying 1 ... https://www.booking.com/reviewlist.en-gb.html?cc1=ec&pagename=ibis-quito&rows=10&sort=f_recent_desc&offset=390\n"
          ]
        },
        {
          "output_type": "stream",
          "name": "stderr",
          "text": [
            "WARNING:root:Retrying 1 ... https://www.booking.com/reviewlist.en-gb.html?cc1=ec&pagename=ibis-quito&rows=10&sort=f_recent_desc&offset=400\n"
          ]
        },
        {
          "output_type": "stream",
          "name": "stdout",
          "text": [
            "2025-10-04 21:11:21,321 - root - WARNING - Retrying 1 ... https://www.booking.com/reviewlist.en-gb.html?cc1=ec&pagename=ibis-quito&rows=10&sort=f_recent_desc&offset=400\n",
            "2025-10-04 21:11:21,321 - root - WARNING - Retrying 1 ... https://www.booking.com/reviewlist.en-gb.html?cc1=ec&pagename=ibis-quito&rows=10&sort=f_recent_desc&offset=400\n",
            "2025-10-04 21:11:21,321 - root - WARNING - Retrying 1 ... https://www.booking.com/reviewlist.en-gb.html?cc1=ec&pagename=ibis-quito&rows=10&sort=f_recent_desc&offset=400\n"
          ]
        },
        {
          "output_type": "stream",
          "name": "stderr",
          "text": [
            "INFO:root:Processed 40/121\n"
          ]
        },
        {
          "output_type": "stream",
          "name": "stdout",
          "text": [
            "2025-10-04 21:11:21,524 - root - INFO - Processed 40/121\n",
            "2025-10-04 21:11:21,524 - root - INFO - Processed 40/121\n",
            "2025-10-04 21:11:21,524 - root - INFO - Processed 40/121\n"
          ]
        },
        {
          "output_type": "stream",
          "name": "stderr",
          "text": [
            "WARNING:root:Retrying 2 ... https://www.booking.com/reviewlist.en-gb.html?cc1=ec&pagename=ibis-quito&rows=10&sort=f_recent_desc&offset=400\n"
          ]
        },
        {
          "output_type": "stream",
          "name": "stdout",
          "text": [
            "2025-10-04 21:11:21,619 - root - WARNING - Retrying 2 ... https://www.booking.com/reviewlist.en-gb.html?cc1=ec&pagename=ibis-quito&rows=10&sort=f_recent_desc&offset=400\n",
            "2025-10-04 21:11:21,619 - root - WARNING - Retrying 2 ... https://www.booking.com/reviewlist.en-gb.html?cc1=ec&pagename=ibis-quito&rows=10&sort=f_recent_desc&offset=400\n",
            "2025-10-04 21:11:21,619 - root - WARNING - Retrying 2 ... https://www.booking.com/reviewlist.en-gb.html?cc1=ec&pagename=ibis-quito&rows=10&sort=f_recent_desc&offset=400\n"
          ]
        },
        {
          "output_type": "stream",
          "name": "stderr",
          "text": [
            "INFO:root:Processed 43/121\n"
          ]
        },
        {
          "output_type": "stream",
          "name": "stdout",
          "text": [
            "2025-10-04 21:11:23,528 - root - INFO - Processed 43/121\n",
            "2025-10-04 21:11:23,528 - root - INFO - Processed 43/121\n",
            "2025-10-04 21:11:23,528 - root - INFO - Processed 43/121\n"
          ]
        },
        {
          "output_type": "stream",
          "name": "stderr",
          "text": [
            "WARNING:root:Retrying 1 ... https://www.booking.com/reviewlist.en-gb.html?cc1=ec&pagename=ibis-quito&rows=10&sort=f_recent_desc&offset=440\n"
          ]
        },
        {
          "output_type": "stream",
          "name": "stdout",
          "text": [
            "2025-10-04 21:11:24,148 - root - WARNING - Retrying 1 ... https://www.booking.com/reviewlist.en-gb.html?cc1=ec&pagename=ibis-quito&rows=10&sort=f_recent_desc&offset=440\n",
            "2025-10-04 21:11:24,148 - root - WARNING - Retrying 1 ... https://www.booking.com/reviewlist.en-gb.html?cc1=ec&pagename=ibis-quito&rows=10&sort=f_recent_desc&offset=440\n",
            "2025-10-04 21:11:24,148 - root - WARNING - Retrying 1 ... https://www.booking.com/reviewlist.en-gb.html?cc1=ec&pagename=ibis-quito&rows=10&sort=f_recent_desc&offset=440\n"
          ]
        },
        {
          "output_type": "stream",
          "name": "stderr",
          "text": [
            "WARNING:root:Retrying 1 ... https://www.booking.com/reviewlist.en-gb.html?cc1=ec&pagename=ibis-quito&rows=10&sort=f_recent_desc&offset=450\n"
          ]
        },
        {
          "output_type": "stream",
          "name": "stdout",
          "text": [
            "2025-10-04 21:11:24,981 - root - WARNING - Retrying 1 ... https://www.booking.com/reviewlist.en-gb.html?cc1=ec&pagename=ibis-quito&rows=10&sort=f_recent_desc&offset=450\n",
            "2025-10-04 21:11:24,981 - root - WARNING - Retrying 1 ... https://www.booking.com/reviewlist.en-gb.html?cc1=ec&pagename=ibis-quito&rows=10&sort=f_recent_desc&offset=450\n",
            "2025-10-04 21:11:24,981 - root - WARNING - Retrying 1 ... https://www.booking.com/reviewlist.en-gb.html?cc1=ec&pagename=ibis-quito&rows=10&sort=f_recent_desc&offset=450\n"
          ]
        },
        {
          "output_type": "stream",
          "name": "stderr",
          "text": [
            "WARNING:root:Retrying 2 ... https://www.booking.com/reviewlist.en-gb.html?cc1=ec&pagename=ibis-quito&rows=10&sort=f_recent_desc&offset=450\n"
          ]
        },
        {
          "output_type": "stream",
          "name": "stdout",
          "text": [
            "2025-10-04 21:11:25,320 - root - WARNING - Retrying 2 ... https://www.booking.com/reviewlist.en-gb.html?cc1=ec&pagename=ibis-quito&rows=10&sort=f_recent_desc&offset=450\n",
            "2025-10-04 21:11:25,320 - root - WARNING - Retrying 2 ... https://www.booking.com/reviewlist.en-gb.html?cc1=ec&pagename=ibis-quito&rows=10&sort=f_recent_desc&offset=450\n",
            "2025-10-04 21:11:25,320 - root - WARNING - Retrying 2 ... https://www.booking.com/reviewlist.en-gb.html?cc1=ec&pagename=ibis-quito&rows=10&sort=f_recent_desc&offset=450\n"
          ]
        },
        {
          "output_type": "stream",
          "name": "stderr",
          "text": [
            "INFO:root:Processed 45/121\n"
          ]
        },
        {
          "output_type": "stream",
          "name": "stdout",
          "text": [
            "2025-10-04 21:11:25,534 - root - INFO - Processed 45/121\n",
            "2025-10-04 21:11:25,534 - root - INFO - Processed 45/121\n",
            "2025-10-04 21:11:25,534 - root - INFO - Processed 45/121\n"
          ]
        },
        {
          "output_type": "stream",
          "name": "stderr",
          "text": [
            "WARNING:root:Retrying 3 ... https://www.booking.com/reviewlist.en-gb.html?cc1=ec&pagename=ibis-quito&rows=10&sort=f_recent_desc&offset=450\n"
          ]
        },
        {
          "output_type": "stream",
          "name": "stdout",
          "text": [
            "2025-10-04 21:11:25,651 - root - WARNING - Retrying 3 ... https://www.booking.com/reviewlist.en-gb.html?cc1=ec&pagename=ibis-quito&rows=10&sort=f_recent_desc&offset=450\n",
            "2025-10-04 21:11:25,651 - root - WARNING - Retrying 3 ... https://www.booking.com/reviewlist.en-gb.html?cc1=ec&pagename=ibis-quito&rows=10&sort=f_recent_desc&offset=450\n",
            "2025-10-04 21:11:25,651 - root - WARNING - Retrying 3 ... https://www.booking.com/reviewlist.en-gb.html?cc1=ec&pagename=ibis-quito&rows=10&sort=f_recent_desc&offset=450\n"
          ]
        },
        {
          "output_type": "stream",
          "name": "stderr",
          "text": [
            "WARNING:root:Retrying 1 ... https://www.booking.com/reviewlist.en-gb.html?cc1=ec&pagename=ibis-quito&rows=10&sort=f_recent_desc&offset=470\n"
          ]
        },
        {
          "output_type": "stream",
          "name": "stdout",
          "text": [
            "2025-10-04 21:11:26,589 - root - WARNING - Retrying 1 ... https://www.booking.com/reviewlist.en-gb.html?cc1=ec&pagename=ibis-quito&rows=10&sort=f_recent_desc&offset=470\n",
            "2025-10-04 21:11:26,589 - root - WARNING - Retrying 1 ... https://www.booking.com/reviewlist.en-gb.html?cc1=ec&pagename=ibis-quito&rows=10&sort=f_recent_desc&offset=470\n",
            "2025-10-04 21:11:26,589 - root - WARNING - Retrying 1 ... https://www.booking.com/reviewlist.en-gb.html?cc1=ec&pagename=ibis-quito&rows=10&sort=f_recent_desc&offset=470\n"
          ]
        },
        {
          "output_type": "stream",
          "name": "stderr",
          "text": [
            "INFO:root:Processed 48/121\n"
          ]
        },
        {
          "output_type": "stream",
          "name": "stdout",
          "text": [
            "2025-10-04 21:11:27,539 - root - INFO - Processed 48/121\n",
            "2025-10-04 21:11:27,539 - root - INFO - Processed 48/121\n",
            "2025-10-04 21:11:27,539 - root - INFO - Processed 48/121\n"
          ]
        },
        {
          "output_type": "stream",
          "name": "stderr",
          "text": [
            "WARNING:root:Retrying 1 ... https://www.booking.com/reviewlist.en-gb.html?cc1=ec&pagename=ibis-quito&rows=10&sort=f_recent_desc&offset=500\n"
          ]
        },
        {
          "output_type": "stream",
          "name": "stdout",
          "text": [
            "2025-10-04 21:11:28,978 - root - WARNING - Retrying 1 ... https://www.booking.com/reviewlist.en-gb.html?cc1=ec&pagename=ibis-quito&rows=10&sort=f_recent_desc&offset=500\n",
            "2025-10-04 21:11:28,978 - root - WARNING - Retrying 1 ... https://www.booking.com/reviewlist.en-gb.html?cc1=ec&pagename=ibis-quito&rows=10&sort=f_recent_desc&offset=500\n",
            "2025-10-04 21:11:28,978 - root - WARNING - Retrying 1 ... https://www.booking.com/reviewlist.en-gb.html?cc1=ec&pagename=ibis-quito&rows=10&sort=f_recent_desc&offset=500\n"
          ]
        },
        {
          "output_type": "stream",
          "name": "stderr",
          "text": [
            "INFO:root:Processed 51/121\n"
          ]
        },
        {
          "output_type": "stream",
          "name": "stdout",
          "text": [
            "2025-10-04 21:11:29,542 - root - INFO - Processed 51/121\n",
            "2025-10-04 21:11:29,542 - root - INFO - Processed 51/121\n",
            "2025-10-04 21:11:29,542 - root - INFO - Processed 51/121\n"
          ]
        },
        {
          "output_type": "stream",
          "name": "stderr",
          "text": [
            "INFO:root:Processed 53/121\n"
          ]
        },
        {
          "output_type": "stream",
          "name": "stdout",
          "text": [
            "2025-10-04 21:11:31,554 - root - INFO - Processed 53/121\n",
            "2025-10-04 21:11:31,554 - root - INFO - Processed 53/121\n",
            "2025-10-04 21:11:31,554 - root - INFO - Processed 53/121\n"
          ]
        },
        {
          "output_type": "stream",
          "name": "stderr",
          "text": [
            "WARNING:root:Retrying 1 ... https://www.booking.com/reviewlist.en-gb.html?cc1=ec&pagename=ibis-quito&rows=10&sort=f_recent_desc&offset=540\n"
          ]
        },
        {
          "output_type": "stream",
          "name": "stdout",
          "text": [
            "2025-10-04 21:11:31,859 - root - WARNING - Retrying 1 ... https://www.booking.com/reviewlist.en-gb.html?cc1=ec&pagename=ibis-quito&rows=10&sort=f_recent_desc&offset=540\n",
            "2025-10-04 21:11:31,859 - root - WARNING - Retrying 1 ... https://www.booking.com/reviewlist.en-gb.html?cc1=ec&pagename=ibis-quito&rows=10&sort=f_recent_desc&offset=540\n",
            "2025-10-04 21:11:31,859 - root - WARNING - Retrying 1 ... https://www.booking.com/reviewlist.en-gb.html?cc1=ec&pagename=ibis-quito&rows=10&sort=f_recent_desc&offset=540\n"
          ]
        },
        {
          "output_type": "stream",
          "name": "stderr",
          "text": [
            "WARNING:root:Retrying 2 ... https://www.booking.com/reviewlist.en-gb.html?cc1=ec&pagename=ibis-quito&rows=10&sort=f_recent_desc&offset=540\n"
          ]
        },
        {
          "output_type": "stream",
          "name": "stdout",
          "text": [
            "2025-10-04 21:11:32,183 - root - WARNING - Retrying 2 ... https://www.booking.com/reviewlist.en-gb.html?cc1=ec&pagename=ibis-quito&rows=10&sort=f_recent_desc&offset=540\n",
            "2025-10-04 21:11:32,183 - root - WARNING - Retrying 2 ... https://www.booking.com/reviewlist.en-gb.html?cc1=ec&pagename=ibis-quito&rows=10&sort=f_recent_desc&offset=540\n",
            "2025-10-04 21:11:32,183 - root - WARNING - Retrying 2 ... https://www.booking.com/reviewlist.en-gb.html?cc1=ec&pagename=ibis-quito&rows=10&sort=f_recent_desc&offset=540\n"
          ]
        },
        {
          "output_type": "stream",
          "name": "stderr",
          "text": [
            "WARNING:root:Retrying 3 ... https://www.booking.com/reviewlist.en-gb.html?cc1=ec&pagename=ibis-quito&rows=10&sort=f_recent_desc&offset=540\n"
          ]
        },
        {
          "output_type": "stream",
          "name": "stdout",
          "text": [
            "2025-10-04 21:11:32,493 - root - WARNING - Retrying 3 ... https://www.booking.com/reviewlist.en-gb.html?cc1=ec&pagename=ibis-quito&rows=10&sort=f_recent_desc&offset=540\n",
            "2025-10-04 21:11:32,493 - root - WARNING - Retrying 3 ... https://www.booking.com/reviewlist.en-gb.html?cc1=ec&pagename=ibis-quito&rows=10&sort=f_recent_desc&offset=540\n",
            "2025-10-04 21:11:32,493 - root - WARNING - Retrying 3 ... https://www.booking.com/reviewlist.en-gb.html?cc1=ec&pagename=ibis-quito&rows=10&sort=f_recent_desc&offset=540\n"
          ]
        },
        {
          "output_type": "stream",
          "name": "stderr",
          "text": [
            "WARNING:root:Retrying 1 ... https://www.booking.com/reviewlist.en-gb.html?cc1=ec&pagename=ibis-quito&rows=10&sort=f_recent_desc&offset=550\n"
          ]
        },
        {
          "output_type": "stream",
          "name": "stdout",
          "text": [
            "2025-10-04 21:11:32,803 - root - WARNING - Retrying 1 ... https://www.booking.com/reviewlist.en-gb.html?cc1=ec&pagename=ibis-quito&rows=10&sort=f_recent_desc&offset=550\n",
            "2025-10-04 21:11:32,803 - root - WARNING - Retrying 1 ... https://www.booking.com/reviewlist.en-gb.html?cc1=ec&pagename=ibis-quito&rows=10&sort=f_recent_desc&offset=550\n",
            "2025-10-04 21:11:32,803 - root - WARNING - Retrying 1 ... https://www.booking.com/reviewlist.en-gb.html?cc1=ec&pagename=ibis-quito&rows=10&sort=f_recent_desc&offset=550\n"
          ]
        },
        {
          "output_type": "stream",
          "name": "stderr",
          "text": [
            "INFO:root:Processed 56/121\n"
          ]
        },
        {
          "output_type": "stream",
          "name": "stdout",
          "text": [
            "2025-10-04 21:11:33,571 - root - INFO - Processed 56/121\n",
            "2025-10-04 21:11:33,571 - root - INFO - Processed 56/121\n",
            "2025-10-04 21:11:33,571 - root - INFO - Processed 56/121\n"
          ]
        },
        {
          "output_type": "stream",
          "name": "stderr",
          "text": [
            "WARNING:root:Retrying 1 ... https://www.booking.com/reviewlist.en-gb.html?cc1=ec&pagename=ibis-quito&rows=10&sort=f_recent_desc&offset=560\n"
          ]
        },
        {
          "output_type": "stream",
          "name": "stdout",
          "text": [
            "2025-10-04 21:11:33,797 - root - WARNING - Retrying 1 ... https://www.booking.com/reviewlist.en-gb.html?cc1=ec&pagename=ibis-quito&rows=10&sort=f_recent_desc&offset=560\n",
            "2025-10-04 21:11:33,797 - root - WARNING - Retrying 1 ... https://www.booking.com/reviewlist.en-gb.html?cc1=ec&pagename=ibis-quito&rows=10&sort=f_recent_desc&offset=560\n",
            "2025-10-04 21:11:33,797 - root - WARNING - Retrying 1 ... https://www.booking.com/reviewlist.en-gb.html?cc1=ec&pagename=ibis-quito&rows=10&sort=f_recent_desc&offset=560\n"
          ]
        },
        {
          "output_type": "stream",
          "name": "stderr",
          "text": [
            "INFO:root:Processed 59/121\n"
          ]
        },
        {
          "output_type": "stream",
          "name": "stdout",
          "text": [
            "2025-10-04 21:11:35,578 - root - INFO - Processed 59/121\n",
            "2025-10-04 21:11:35,578 - root - INFO - Processed 59/121\n",
            "2025-10-04 21:11:35,578 - root - INFO - Processed 59/121\n"
          ]
        },
        {
          "output_type": "stream",
          "name": "stderr",
          "text": [
            "WARNING:root:Retrying 1 ... https://www.booking.com/reviewlist.en-gb.html?cc1=ec&pagename=ibis-quito&rows=10&sort=f_recent_desc&offset=600\n"
          ]
        },
        {
          "output_type": "stream",
          "name": "stdout",
          "text": [
            "2025-10-04 21:11:36,553 - root - WARNING - Retrying 1 ... https://www.booking.com/reviewlist.en-gb.html?cc1=ec&pagename=ibis-quito&rows=10&sort=f_recent_desc&offset=600\n",
            "2025-10-04 21:11:36,553 - root - WARNING - Retrying 1 ... https://www.booking.com/reviewlist.en-gb.html?cc1=ec&pagename=ibis-quito&rows=10&sort=f_recent_desc&offset=600\n",
            "2025-10-04 21:11:36,553 - root - WARNING - Retrying 1 ... https://www.booking.com/reviewlist.en-gb.html?cc1=ec&pagename=ibis-quito&rows=10&sort=f_recent_desc&offset=600\n"
          ]
        },
        {
          "output_type": "stream",
          "name": "stderr",
          "text": [
            "WARNING:root:Retrying 1 ... https://www.booking.com/reviewlist.en-gb.html?cc1=ec&pagename=ibis-quito&rows=10&sort=f_recent_desc&offset=610\n"
          ]
        },
        {
          "output_type": "stream",
          "name": "stdout",
          "text": [
            "2025-10-04 21:11:37,383 - root - WARNING - Retrying 1 ... https://www.booking.com/reviewlist.en-gb.html?cc1=ec&pagename=ibis-quito&rows=10&sort=f_recent_desc&offset=610\n",
            "2025-10-04 21:11:37,383 - root - WARNING - Retrying 1 ... https://www.booking.com/reviewlist.en-gb.html?cc1=ec&pagename=ibis-quito&rows=10&sort=f_recent_desc&offset=610\n",
            "2025-10-04 21:11:37,383 - root - WARNING - Retrying 1 ... https://www.booking.com/reviewlist.en-gb.html?cc1=ec&pagename=ibis-quito&rows=10&sort=f_recent_desc&offset=610\n"
          ]
        },
        {
          "output_type": "stream",
          "name": "stderr",
          "text": [
            "INFO:root:Processed 61/121\n"
          ]
        },
        {
          "output_type": "stream",
          "name": "stdout",
          "text": [
            "2025-10-04 21:11:37,583 - root - INFO - Processed 61/121\n",
            "2025-10-04 21:11:37,583 - root - INFO - Processed 61/121\n",
            "2025-10-04 21:11:37,583 - root - INFO - Processed 61/121\n"
          ]
        },
        {
          "output_type": "stream",
          "name": "stderr",
          "text": [
            "WARNING:root:Retrying 1 ... https://www.booking.com/reviewlist.en-gb.html?cc1=ec&pagename=ibis-quito&rows=10&sort=f_recent_desc&offset=620\n"
          ]
        },
        {
          "output_type": "stream",
          "name": "stdout",
          "text": [
            "2025-10-04 21:11:38,332 - root - WARNING - Retrying 1 ... https://www.booking.com/reviewlist.en-gb.html?cc1=ec&pagename=ibis-quito&rows=10&sort=f_recent_desc&offset=620\n",
            "2025-10-04 21:11:38,332 - root - WARNING - Retrying 1 ... https://www.booking.com/reviewlist.en-gb.html?cc1=ec&pagename=ibis-quito&rows=10&sort=f_recent_desc&offset=620\n",
            "2025-10-04 21:11:38,332 - root - WARNING - Retrying 1 ... https://www.booking.com/reviewlist.en-gb.html?cc1=ec&pagename=ibis-quito&rows=10&sort=f_recent_desc&offset=620\n"
          ]
        },
        {
          "output_type": "stream",
          "name": "stderr",
          "text": [
            "INFO:root:Processed 64/121\n"
          ]
        },
        {
          "output_type": "stream",
          "name": "stdout",
          "text": [
            "2025-10-04 21:11:39,589 - root - INFO - Processed 64/121\n",
            "2025-10-04 21:11:39,589 - root - INFO - Processed 64/121\n",
            "2025-10-04 21:11:39,589 - root - INFO - Processed 64/121\n"
          ]
        },
        {
          "output_type": "stream",
          "name": "stderr",
          "text": [
            "WARNING:root:Retrying 1 ... https://www.booking.com/reviewlist.en-gb.html?cc1=ec&pagename=ibis-quito&rows=10&sort=f_recent_desc&offset=640\n"
          ]
        },
        {
          "output_type": "stream",
          "name": "stdout",
          "text": [
            "2025-10-04 21:11:39,782 - root - WARNING - Retrying 1 ... https://www.booking.com/reviewlist.en-gb.html?cc1=ec&pagename=ibis-quito&rows=10&sort=f_recent_desc&offset=640\n",
            "2025-10-04 21:11:39,782 - root - WARNING - Retrying 1 ... https://www.booking.com/reviewlist.en-gb.html?cc1=ec&pagename=ibis-quito&rows=10&sort=f_recent_desc&offset=640\n",
            "2025-10-04 21:11:39,782 - root - WARNING - Retrying 1 ... https://www.booking.com/reviewlist.en-gb.html?cc1=ec&pagename=ibis-quito&rows=10&sort=f_recent_desc&offset=640\n"
          ]
        },
        {
          "output_type": "stream",
          "name": "stderr",
          "text": [
            "WARNING:root:Retrying 1 ... https://www.booking.com/reviewlist.en-gb.html?cc1=ec&pagename=ibis-quito&rows=10&sort=f_recent_desc&offset=660\n"
          ]
        },
        {
          "output_type": "stream",
          "name": "stdout",
          "text": [
            "2025-10-04 21:11:41,285 - root - WARNING - Retrying 1 ... https://www.booking.com/reviewlist.en-gb.html?cc1=ec&pagename=ibis-quito&rows=10&sort=f_recent_desc&offset=660\n",
            "2025-10-04 21:11:41,285 - root - WARNING - Retrying 1 ... https://www.booking.com/reviewlist.en-gb.html?cc1=ec&pagename=ibis-quito&rows=10&sort=f_recent_desc&offset=660\n",
            "2025-10-04 21:11:41,285 - root - WARNING - Retrying 1 ... https://www.booking.com/reviewlist.en-gb.html?cc1=ec&pagename=ibis-quito&rows=10&sort=f_recent_desc&offset=660\n"
          ]
        },
        {
          "output_type": "stream",
          "name": "stderr",
          "text": [
            "INFO:root:Processed 66/121\n"
          ]
        },
        {
          "output_type": "stream",
          "name": "stdout",
          "text": [
            "2025-10-04 21:11:41,592 - root - INFO - Processed 66/121\n",
            "2025-10-04 21:11:41,592 - root - INFO - Processed 66/121\n",
            "2025-10-04 21:11:41,592 - root - INFO - Processed 66/121\n"
          ]
        },
        {
          "output_type": "stream",
          "name": "stderr",
          "text": [
            "WARNING:root:Retrying 1 ... https://www.booking.com/reviewlist.en-gb.html?cc1=ec&pagename=ibis-quito&rows=10&sort=f_recent_desc&offset=690\n"
          ]
        },
        {
          "output_type": "stream",
          "name": "stdout",
          "text": [
            "2025-10-04 21:11:43,280 - root - WARNING - Retrying 1 ... https://www.booking.com/reviewlist.en-gb.html?cc1=ec&pagename=ibis-quito&rows=10&sort=f_recent_desc&offset=690\n",
            "2025-10-04 21:11:43,280 - root - WARNING - Retrying 1 ... https://www.booking.com/reviewlist.en-gb.html?cc1=ec&pagename=ibis-quito&rows=10&sort=f_recent_desc&offset=690\n",
            "2025-10-04 21:11:43,280 - root - WARNING - Retrying 1 ... https://www.booking.com/reviewlist.en-gb.html?cc1=ec&pagename=ibis-quito&rows=10&sort=f_recent_desc&offset=690\n"
          ]
        },
        {
          "output_type": "stream",
          "name": "stderr",
          "text": [
            "WARNING:root:Retrying 2 ... https://www.booking.com/reviewlist.en-gb.html?cc1=ec&pagename=ibis-quito&rows=10&sort=f_recent_desc&offset=690\n"
          ]
        },
        {
          "output_type": "stream",
          "name": "stdout",
          "text": [
            "2025-10-04 21:11:43,591 - root - WARNING - Retrying 2 ... https://www.booking.com/reviewlist.en-gb.html?cc1=ec&pagename=ibis-quito&rows=10&sort=f_recent_desc&offset=690\n",
            "2025-10-04 21:11:43,591 - root - WARNING - Retrying 2 ... https://www.booking.com/reviewlist.en-gb.html?cc1=ec&pagename=ibis-quito&rows=10&sort=f_recent_desc&offset=690\n",
            "2025-10-04 21:11:43,591 - root - WARNING - Retrying 2 ... https://www.booking.com/reviewlist.en-gb.html?cc1=ec&pagename=ibis-quito&rows=10&sort=f_recent_desc&offset=690\n"
          ]
        },
        {
          "output_type": "stream",
          "name": "stderr",
          "text": [
            "INFO:root:Processed 69/121\n"
          ]
        },
        {
          "output_type": "stream",
          "name": "stdout",
          "text": [
            "2025-10-04 21:11:43,600 - root - INFO - Processed 69/121\n",
            "2025-10-04 21:11:43,600 - root - INFO - Processed 69/121\n",
            "2025-10-04 21:11:43,600 - root - INFO - Processed 69/121\n"
          ]
        },
        {
          "output_type": "stream",
          "name": "stderr",
          "text": [
            "WARNING:root:Retrying 3 ... https://www.booking.com/reviewlist.en-gb.html?cc1=ec&pagename=ibis-quito&rows=10&sort=f_recent_desc&offset=690\n"
          ]
        },
        {
          "output_type": "stream",
          "name": "stdout",
          "text": [
            "2025-10-04 21:11:43,907 - root - WARNING - Retrying 3 ... https://www.booking.com/reviewlist.en-gb.html?cc1=ec&pagename=ibis-quito&rows=10&sort=f_recent_desc&offset=690\n",
            "2025-10-04 21:11:43,907 - root - WARNING - Retrying 3 ... https://www.booking.com/reviewlist.en-gb.html?cc1=ec&pagename=ibis-quito&rows=10&sort=f_recent_desc&offset=690\n",
            "2025-10-04 21:11:43,907 - root - WARNING - Retrying 3 ... https://www.booking.com/reviewlist.en-gb.html?cc1=ec&pagename=ibis-quito&rows=10&sort=f_recent_desc&offset=690\n"
          ]
        },
        {
          "output_type": "stream",
          "name": "stderr",
          "text": [
            "WARNING:root:Retrying 1 ... https://www.booking.com/reviewlist.en-gb.html?cc1=ec&pagename=ibis-quito&rows=10&sort=f_recent_desc&offset=700\n"
          ]
        },
        {
          "output_type": "stream",
          "name": "stdout",
          "text": [
            "2025-10-04 21:11:44,212 - root - WARNING - Retrying 1 ... https://www.booking.com/reviewlist.en-gb.html?cc1=ec&pagename=ibis-quito&rows=10&sort=f_recent_desc&offset=700\n",
            "2025-10-04 21:11:44,212 - root - WARNING - Retrying 1 ... https://www.booking.com/reviewlist.en-gb.html?cc1=ec&pagename=ibis-quito&rows=10&sort=f_recent_desc&offset=700\n",
            "2025-10-04 21:11:44,212 - root - WARNING - Retrying 1 ... https://www.booking.com/reviewlist.en-gb.html?cc1=ec&pagename=ibis-quito&rows=10&sort=f_recent_desc&offset=700\n"
          ]
        },
        {
          "output_type": "stream",
          "name": "stderr",
          "text": [
            "WARNING:root:Retrying 1 ... https://www.booking.com/reviewlist.en-gb.html?cc1=ec&pagename=ibis-quito&rows=10&sort=f_recent_desc&offset=720\n"
          ]
        },
        {
          "output_type": "stream",
          "name": "stdout",
          "text": [
            "2025-10-04 21:11:45,599 - root - WARNING - Retrying 1 ... https://www.booking.com/reviewlist.en-gb.html?cc1=ec&pagename=ibis-quito&rows=10&sort=f_recent_desc&offset=720\n",
            "2025-10-04 21:11:45,599 - root - WARNING - Retrying 1 ... https://www.booking.com/reviewlist.en-gb.html?cc1=ec&pagename=ibis-quito&rows=10&sort=f_recent_desc&offset=720\n",
            "2025-10-04 21:11:45,599 - root - WARNING - Retrying 1 ... https://www.booking.com/reviewlist.en-gb.html?cc1=ec&pagename=ibis-quito&rows=10&sort=f_recent_desc&offset=720\n"
          ]
        },
        {
          "output_type": "stream",
          "name": "stderr",
          "text": [
            "INFO:root:Processed 72/121\n"
          ]
        },
        {
          "output_type": "stream",
          "name": "stdout",
          "text": [
            "2025-10-04 21:11:45,606 - root - INFO - Processed 72/121\n",
            "2025-10-04 21:11:45,606 - root - INFO - Processed 72/121\n",
            "2025-10-04 21:11:45,606 - root - INFO - Processed 72/121\n"
          ]
        },
        {
          "output_type": "stream",
          "name": "stderr",
          "text": [
            "WARNING:root:Retrying 1 ... https://www.booking.com/reviewlist.en-gb.html?cc1=ec&pagename=ibis-quito&rows=10&sort=f_recent_desc&offset=730\n"
          ]
        },
        {
          "output_type": "stream",
          "name": "stdout",
          "text": [
            "2025-10-04 21:11:46,452 - root - WARNING - Retrying 1 ... https://www.booking.com/reviewlist.en-gb.html?cc1=ec&pagename=ibis-quito&rows=10&sort=f_recent_desc&offset=730\n",
            "2025-10-04 21:11:46,452 - root - WARNING - Retrying 1 ... https://www.booking.com/reviewlist.en-gb.html?cc1=ec&pagename=ibis-quito&rows=10&sort=f_recent_desc&offset=730\n",
            "2025-10-04 21:11:46,452 - root - WARNING - Retrying 1 ... https://www.booking.com/reviewlist.en-gb.html?cc1=ec&pagename=ibis-quito&rows=10&sort=f_recent_desc&offset=730\n"
          ]
        },
        {
          "output_type": "stream",
          "name": "stderr",
          "text": [
            "WARNING:root:Retrying 2 ... https://www.booking.com/reviewlist.en-gb.html?cc1=ec&pagename=ibis-quito&rows=10&sort=f_recent_desc&offset=730\n"
          ]
        },
        {
          "output_type": "stream",
          "name": "stdout",
          "text": [
            "2025-10-04 21:11:46,748 - root - WARNING - Retrying 2 ... https://www.booking.com/reviewlist.en-gb.html?cc1=ec&pagename=ibis-quito&rows=10&sort=f_recent_desc&offset=730\n",
            "2025-10-04 21:11:46,748 - root - WARNING - Retrying 2 ... https://www.booking.com/reviewlist.en-gb.html?cc1=ec&pagename=ibis-quito&rows=10&sort=f_recent_desc&offset=730\n",
            "2025-10-04 21:11:46,748 - root - WARNING - Retrying 2 ... https://www.booking.com/reviewlist.en-gb.html?cc1=ec&pagename=ibis-quito&rows=10&sort=f_recent_desc&offset=730\n"
          ]
        },
        {
          "output_type": "stream",
          "name": "stderr",
          "text": [
            "WARNING:root:Retrying 3 ... https://www.booking.com/reviewlist.en-gb.html?cc1=ec&pagename=ibis-quito&rows=10&sort=f_recent_desc&offset=730\n"
          ]
        },
        {
          "output_type": "stream",
          "name": "stdout",
          "text": [
            "2025-10-04 21:11:47,047 - root - WARNING - Retrying 3 ... https://www.booking.com/reviewlist.en-gb.html?cc1=ec&pagename=ibis-quito&rows=10&sort=f_recent_desc&offset=730\n",
            "2025-10-04 21:11:47,047 - root - WARNING - Retrying 3 ... https://www.booking.com/reviewlist.en-gb.html?cc1=ec&pagename=ibis-quito&rows=10&sort=f_recent_desc&offset=730\n",
            "2025-10-04 21:11:47,047 - root - WARNING - Retrying 3 ... https://www.booking.com/reviewlist.en-gb.html?cc1=ec&pagename=ibis-quito&rows=10&sort=f_recent_desc&offset=730\n"
          ]
        },
        {
          "output_type": "stream",
          "name": "stderr",
          "text": [
            "WARNING:root:Retrying 1 ... https://www.booking.com/reviewlist.en-gb.html?cc1=ec&pagename=ibis-quito&rows=10&sort=f_recent_desc&offset=740\n"
          ]
        },
        {
          "output_type": "stream",
          "name": "stdout",
          "text": [
            "2025-10-04 21:11:47,374 - root - WARNING - Retrying 1 ... https://www.booking.com/reviewlist.en-gb.html?cc1=ec&pagename=ibis-quito&rows=10&sort=f_recent_desc&offset=740\n",
            "2025-10-04 21:11:47,374 - root - WARNING - Retrying 1 ... https://www.booking.com/reviewlist.en-gb.html?cc1=ec&pagename=ibis-quito&rows=10&sort=f_recent_desc&offset=740\n",
            "2025-10-04 21:11:47,374 - root - WARNING - Retrying 1 ... https://www.booking.com/reviewlist.en-gb.html?cc1=ec&pagename=ibis-quito&rows=10&sort=f_recent_desc&offset=740\n"
          ]
        },
        {
          "output_type": "stream",
          "name": "stderr",
          "text": [
            "INFO:root:Processed 74/121\n"
          ]
        },
        {
          "output_type": "stream",
          "name": "stdout",
          "text": [
            "2025-10-04 21:11:47,612 - root - INFO - Processed 74/121\n",
            "2025-10-04 21:11:47,612 - root - INFO - Processed 74/121\n",
            "2025-10-04 21:11:47,612 - root - INFO - Processed 74/121\n"
          ]
        },
        {
          "output_type": "stream",
          "name": "stderr",
          "text": [
            "WARNING:root:Retrying 2 ... https://www.booking.com/reviewlist.en-gb.html?cc1=ec&pagename=ibis-quito&rows=10&sort=f_recent_desc&offset=740\n"
          ]
        },
        {
          "output_type": "stream",
          "name": "stdout",
          "text": [
            "2025-10-04 21:11:47,659 - root - WARNING - Retrying 2 ... https://www.booking.com/reviewlist.en-gb.html?cc1=ec&pagename=ibis-quito&rows=10&sort=f_recent_desc&offset=740\n",
            "2025-10-04 21:11:47,659 - root - WARNING - Retrying 2 ... https://www.booking.com/reviewlist.en-gb.html?cc1=ec&pagename=ibis-quito&rows=10&sort=f_recent_desc&offset=740\n",
            "2025-10-04 21:11:47,659 - root - WARNING - Retrying 2 ... https://www.booking.com/reviewlist.en-gb.html?cc1=ec&pagename=ibis-quito&rows=10&sort=f_recent_desc&offset=740\n"
          ]
        },
        {
          "output_type": "stream",
          "name": "stderr",
          "text": [
            "WARNING:root:Retrying 3 ... https://www.booking.com/reviewlist.en-gb.html?cc1=ec&pagename=ibis-quito&rows=10&sort=f_recent_desc&offset=740\n"
          ]
        },
        {
          "output_type": "stream",
          "name": "stdout",
          "text": [
            "2025-10-04 21:11:47,949 - root - WARNING - Retrying 3 ... https://www.booking.com/reviewlist.en-gb.html?cc1=ec&pagename=ibis-quito&rows=10&sort=f_recent_desc&offset=740\n",
            "2025-10-04 21:11:47,949 - root - WARNING - Retrying 3 ... https://www.booking.com/reviewlist.en-gb.html?cc1=ec&pagename=ibis-quito&rows=10&sort=f_recent_desc&offset=740\n",
            "2025-10-04 21:11:47,949 - root - WARNING - Retrying 3 ... https://www.booking.com/reviewlist.en-gb.html?cc1=ec&pagename=ibis-quito&rows=10&sort=f_recent_desc&offset=740\n"
          ]
        },
        {
          "output_type": "stream",
          "name": "stderr",
          "text": [
            "WARNING:root:Retrying 1 ... https://www.booking.com/reviewlist.en-gb.html?cc1=ec&pagename=ibis-quito&rows=10&sort=f_recent_desc&offset=750\n"
          ]
        },
        {
          "output_type": "stream",
          "name": "stdout",
          "text": [
            "2025-10-04 21:11:48,242 - root - WARNING - Retrying 1 ... https://www.booking.com/reviewlist.en-gb.html?cc1=ec&pagename=ibis-quito&rows=10&sort=f_recent_desc&offset=750\n",
            "2025-10-04 21:11:48,242 - root - WARNING - Retrying 1 ... https://www.booking.com/reviewlist.en-gb.html?cc1=ec&pagename=ibis-quito&rows=10&sort=f_recent_desc&offset=750\n",
            "2025-10-04 21:11:48,242 - root - WARNING - Retrying 1 ... https://www.booking.com/reviewlist.en-gb.html?cc1=ec&pagename=ibis-quito&rows=10&sort=f_recent_desc&offset=750\n"
          ]
        },
        {
          "output_type": "stream",
          "name": "stderr",
          "text": [
            "WARNING:root:Retrying 2 ... https://www.booking.com/reviewlist.en-gb.html?cc1=ec&pagename=ibis-quito&rows=10&sort=f_recent_desc&offset=750\n"
          ]
        },
        {
          "output_type": "stream",
          "name": "stdout",
          "text": [
            "2025-10-04 21:11:48,566 - root - WARNING - Retrying 2 ... https://www.booking.com/reviewlist.en-gb.html?cc1=ec&pagename=ibis-quito&rows=10&sort=f_recent_desc&offset=750\n",
            "2025-10-04 21:11:48,566 - root - WARNING - Retrying 2 ... https://www.booking.com/reviewlist.en-gb.html?cc1=ec&pagename=ibis-quito&rows=10&sort=f_recent_desc&offset=750\n",
            "2025-10-04 21:11:48,566 - root - WARNING - Retrying 2 ... https://www.booking.com/reviewlist.en-gb.html?cc1=ec&pagename=ibis-quito&rows=10&sort=f_recent_desc&offset=750\n"
          ]
        },
        {
          "output_type": "stream",
          "name": "stderr",
          "text": [
            "INFO:root:Processed 76/121\n"
          ]
        },
        {
          "output_type": "stream",
          "name": "stdout",
          "text": [
            "2025-10-04 21:11:49,624 - root - INFO - Processed 76/121\n",
            "2025-10-04 21:11:49,624 - root - INFO - Processed 76/121\n",
            "2025-10-04 21:11:49,624 - root - INFO - Processed 76/121\n"
          ]
        },
        {
          "output_type": "stream",
          "name": "stderr",
          "text": [
            "WARNING:root:Retrying 1 ... https://www.booking.com/reviewlist.en-gb.html?cc1=ec&pagename=ibis-quito&rows=10&sort=f_recent_desc&offset=770\n"
          ]
        },
        {
          "output_type": "stream",
          "name": "stdout",
          "text": [
            "2025-10-04 21:11:50,004 - root - WARNING - Retrying 1 ... https://www.booking.com/reviewlist.en-gb.html?cc1=ec&pagename=ibis-quito&rows=10&sort=f_recent_desc&offset=770\n",
            "2025-10-04 21:11:50,004 - root - WARNING - Retrying 1 ... https://www.booking.com/reviewlist.en-gb.html?cc1=ec&pagename=ibis-quito&rows=10&sort=f_recent_desc&offset=770\n",
            "2025-10-04 21:11:50,004 - root - WARNING - Retrying 1 ... https://www.booking.com/reviewlist.en-gb.html?cc1=ec&pagename=ibis-quito&rows=10&sort=f_recent_desc&offset=770\n"
          ]
        },
        {
          "output_type": "stream",
          "name": "stderr",
          "text": [
            "WARNING:root:Retrying 2 ... https://www.booking.com/reviewlist.en-gb.html?cc1=ec&pagename=ibis-quito&rows=10&sort=f_recent_desc&offset=770\n"
          ]
        },
        {
          "output_type": "stream",
          "name": "stdout",
          "text": [
            "2025-10-04 21:11:50,343 - root - WARNING - Retrying 2 ... https://www.booking.com/reviewlist.en-gb.html?cc1=ec&pagename=ibis-quito&rows=10&sort=f_recent_desc&offset=770\n",
            "2025-10-04 21:11:50,343 - root - WARNING - Retrying 2 ... https://www.booking.com/reviewlist.en-gb.html?cc1=ec&pagename=ibis-quito&rows=10&sort=f_recent_desc&offset=770\n",
            "2025-10-04 21:11:50,343 - root - WARNING - Retrying 2 ... https://www.booking.com/reviewlist.en-gb.html?cc1=ec&pagename=ibis-quito&rows=10&sort=f_recent_desc&offset=770\n"
          ]
        },
        {
          "output_type": "stream",
          "name": "stderr",
          "text": [
            "WARNING:root:Retrying 3 ... https://www.booking.com/reviewlist.en-gb.html?cc1=ec&pagename=ibis-quito&rows=10&sort=f_recent_desc&offset=770\n"
          ]
        },
        {
          "output_type": "stream",
          "name": "stdout",
          "text": [
            "2025-10-04 21:11:50,661 - root - WARNING - Retrying 3 ... https://www.booking.com/reviewlist.en-gb.html?cc1=ec&pagename=ibis-quito&rows=10&sort=f_recent_desc&offset=770\n",
            "2025-10-04 21:11:50,661 - root - WARNING - Retrying 3 ... https://www.booking.com/reviewlist.en-gb.html?cc1=ec&pagename=ibis-quito&rows=10&sort=f_recent_desc&offset=770\n",
            "2025-10-04 21:11:50,661 - root - WARNING - Retrying 3 ... https://www.booking.com/reviewlist.en-gb.html?cc1=ec&pagename=ibis-quito&rows=10&sort=f_recent_desc&offset=770\n"
          ]
        },
        {
          "output_type": "stream",
          "name": "stderr",
          "text": [
            "WARNING:root:Retrying 1 ... https://www.booking.com/reviewlist.en-gb.html?cc1=ec&pagename=ibis-quito&rows=10&sort=f_recent_desc&offset=780\n"
          ]
        },
        {
          "output_type": "stream",
          "name": "stdout",
          "text": [
            "2025-10-04 21:11:50,999 - root - WARNING - Retrying 1 ... https://www.booking.com/reviewlist.en-gb.html?cc1=ec&pagename=ibis-quito&rows=10&sort=f_recent_desc&offset=780\n",
            "2025-10-04 21:11:50,999 - root - WARNING - Retrying 1 ... https://www.booking.com/reviewlist.en-gb.html?cc1=ec&pagename=ibis-quito&rows=10&sort=f_recent_desc&offset=780\n",
            "2025-10-04 21:11:50,999 - root - WARNING - Retrying 1 ... https://www.booking.com/reviewlist.en-gb.html?cc1=ec&pagename=ibis-quito&rows=10&sort=f_recent_desc&offset=780\n"
          ]
        },
        {
          "output_type": "stream",
          "name": "stderr",
          "text": [
            "WARNING:root:Retrying 2 ... https://www.booking.com/reviewlist.en-gb.html?cc1=ec&pagename=ibis-quito&rows=10&sort=f_recent_desc&offset=780\n"
          ]
        },
        {
          "output_type": "stream",
          "name": "stdout",
          "text": [
            "2025-10-04 21:11:51,334 - root - WARNING - Retrying 2 ... https://www.booking.com/reviewlist.en-gb.html?cc1=ec&pagename=ibis-quito&rows=10&sort=f_recent_desc&offset=780\n",
            "2025-10-04 21:11:51,334 - root - WARNING - Retrying 2 ... https://www.booking.com/reviewlist.en-gb.html?cc1=ec&pagename=ibis-quito&rows=10&sort=f_recent_desc&offset=780\n",
            "2025-10-04 21:11:51,334 - root - WARNING - Retrying 2 ... https://www.booking.com/reviewlist.en-gb.html?cc1=ec&pagename=ibis-quito&rows=10&sort=f_recent_desc&offset=780\n"
          ]
        },
        {
          "output_type": "stream",
          "name": "stderr",
          "text": [
            "INFO:root:Processed 78/121\n"
          ]
        },
        {
          "output_type": "stream",
          "name": "stdout",
          "text": [
            "2025-10-04 21:11:51,667 - root - INFO - Processed 78/121\n",
            "2025-10-04 21:11:51,667 - root - INFO - Processed 78/121\n",
            "2025-10-04 21:11:51,667 - root - INFO - Processed 78/121\n"
          ]
        },
        {
          "output_type": "stream",
          "name": "stderr",
          "text": [
            "WARNING:root:Retrying 1 ... https://www.booking.com/reviewlist.en-gb.html?cc1=ec&pagename=ibis-quito&rows=10&sort=f_recent_desc&offset=800\n"
          ]
        },
        {
          "output_type": "stream",
          "name": "stdout",
          "text": [
            "2025-10-04 21:11:52,616 - root - WARNING - Retrying 1 ... https://www.booking.com/reviewlist.en-gb.html?cc1=ec&pagename=ibis-quito&rows=10&sort=f_recent_desc&offset=800\n",
            "2025-10-04 21:11:52,616 - root - WARNING - Retrying 1 ... https://www.booking.com/reviewlist.en-gb.html?cc1=ec&pagename=ibis-quito&rows=10&sort=f_recent_desc&offset=800\n",
            "2025-10-04 21:11:52,616 - root - WARNING - Retrying 1 ... https://www.booking.com/reviewlist.en-gb.html?cc1=ec&pagename=ibis-quito&rows=10&sort=f_recent_desc&offset=800\n"
          ]
        },
        {
          "output_type": "stream",
          "name": "stderr",
          "text": [
            "INFO:root:Processed 81/121\n"
          ]
        },
        {
          "output_type": "stream",
          "name": "stdout",
          "text": [
            "2025-10-04 21:11:53,670 - root - INFO - Processed 81/121\n",
            "2025-10-04 21:11:53,670 - root - INFO - Processed 81/121\n",
            "2025-10-04 21:11:53,670 - root - INFO - Processed 81/121\n"
          ]
        },
        {
          "output_type": "stream",
          "name": "stderr",
          "text": [
            "WARNING:root:Retrying 1 ... https://www.booking.com/reviewlist.en-gb.html?cc1=ec&pagename=ibis-quito&rows=10&sort=f_recent_desc&offset=820\n"
          ]
        },
        {
          "output_type": "stream",
          "name": "stdout",
          "text": [
            "2025-10-04 21:11:54,183 - root - WARNING - Retrying 1 ... https://www.booking.com/reviewlist.en-gb.html?cc1=ec&pagename=ibis-quito&rows=10&sort=f_recent_desc&offset=820\n",
            "2025-10-04 21:11:54,183 - root - WARNING - Retrying 1 ... https://www.booking.com/reviewlist.en-gb.html?cc1=ec&pagename=ibis-quito&rows=10&sort=f_recent_desc&offset=820\n",
            "2025-10-04 21:11:54,183 - root - WARNING - Retrying 1 ... https://www.booking.com/reviewlist.en-gb.html?cc1=ec&pagename=ibis-quito&rows=10&sort=f_recent_desc&offset=820\n"
          ]
        },
        {
          "output_type": "stream",
          "name": "stderr",
          "text": [
            "WARNING:root:Retrying 2 ... https://www.booking.com/reviewlist.en-gb.html?cc1=ec&pagename=ibis-quito&rows=10&sort=f_recent_desc&offset=820\n"
          ]
        },
        {
          "output_type": "stream",
          "name": "stdout",
          "text": [
            "2025-10-04 21:11:54,479 - root - WARNING - Retrying 2 ... https://www.booking.com/reviewlist.en-gb.html?cc1=ec&pagename=ibis-quito&rows=10&sort=f_recent_desc&offset=820\n",
            "2025-10-04 21:11:54,479 - root - WARNING - Retrying 2 ... https://www.booking.com/reviewlist.en-gb.html?cc1=ec&pagename=ibis-quito&rows=10&sort=f_recent_desc&offset=820\n",
            "2025-10-04 21:11:54,479 - root - WARNING - Retrying 2 ... https://www.booking.com/reviewlist.en-gb.html?cc1=ec&pagename=ibis-quito&rows=10&sort=f_recent_desc&offset=820\n"
          ]
        },
        {
          "output_type": "stream",
          "name": "stderr",
          "text": [
            "WARNING:root:Retrying 3 ... https://www.booking.com/reviewlist.en-gb.html?cc1=ec&pagename=ibis-quito&rows=10&sort=f_recent_desc&offset=820\n"
          ]
        },
        {
          "output_type": "stream",
          "name": "stdout",
          "text": [
            "2025-10-04 21:11:54,799 - root - WARNING - Retrying 3 ... https://www.booking.com/reviewlist.en-gb.html?cc1=ec&pagename=ibis-quito&rows=10&sort=f_recent_desc&offset=820\n",
            "2025-10-04 21:11:54,799 - root - WARNING - Retrying 3 ... https://www.booking.com/reviewlist.en-gb.html?cc1=ec&pagename=ibis-quito&rows=10&sort=f_recent_desc&offset=820\n",
            "2025-10-04 21:11:54,799 - root - WARNING - Retrying 3 ... https://www.booking.com/reviewlist.en-gb.html?cc1=ec&pagename=ibis-quito&rows=10&sort=f_recent_desc&offset=820\n"
          ]
        },
        {
          "output_type": "stream",
          "name": "stderr",
          "text": [
            "INFO:root:Processed 84/121\n"
          ]
        },
        {
          "output_type": "stream",
          "name": "stdout",
          "text": [
            "2025-10-04 21:11:55,675 - root - INFO - Processed 84/121\n",
            "2025-10-04 21:11:55,675 - root - INFO - Processed 84/121\n",
            "2025-10-04 21:11:55,675 - root - INFO - Processed 84/121\n"
          ]
        },
        {
          "output_type": "stream",
          "name": "stderr",
          "text": [
            "WARNING:root:Retrying 1 ... https://www.booking.com/reviewlist.en-gb.html?cc1=ec&pagename=ibis-quito&rows=10&sort=f_recent_desc&offset=850\n"
          ]
        },
        {
          "output_type": "stream",
          "name": "stdout",
          "text": [
            "2025-10-04 21:11:56,188 - root - WARNING - Retrying 1 ... https://www.booking.com/reviewlist.en-gb.html?cc1=ec&pagename=ibis-quito&rows=10&sort=f_recent_desc&offset=850\n",
            "2025-10-04 21:11:56,188 - root - WARNING - Retrying 1 ... https://www.booking.com/reviewlist.en-gb.html?cc1=ec&pagename=ibis-quito&rows=10&sort=f_recent_desc&offset=850\n",
            "2025-10-04 21:11:56,188 - root - WARNING - Retrying 1 ... https://www.booking.com/reviewlist.en-gb.html?cc1=ec&pagename=ibis-quito&rows=10&sort=f_recent_desc&offset=850\n"
          ]
        },
        {
          "output_type": "stream",
          "name": "stderr",
          "text": [
            "WARNING:root:Retrying 1 ... https://www.booking.com/reviewlist.en-gb.html?cc1=ec&pagename=ibis-quito&rows=10&sort=f_recent_desc&offset=870\n"
          ]
        },
        {
          "output_type": "stream",
          "name": "stdout",
          "text": [
            "2025-10-04 21:11:57,547 - root - WARNING - Retrying 1 ... https://www.booking.com/reviewlist.en-gb.html?cc1=ec&pagename=ibis-quito&rows=10&sort=f_recent_desc&offset=870\n",
            "2025-10-04 21:11:57,547 - root - WARNING - Retrying 1 ... https://www.booking.com/reviewlist.en-gb.html?cc1=ec&pagename=ibis-quito&rows=10&sort=f_recent_desc&offset=870\n",
            "2025-10-04 21:11:57,547 - root - WARNING - Retrying 1 ... https://www.booking.com/reviewlist.en-gb.html?cc1=ec&pagename=ibis-quito&rows=10&sort=f_recent_desc&offset=870\n"
          ]
        },
        {
          "output_type": "stream",
          "name": "stderr",
          "text": [
            "INFO:root:Processed 87/121\n"
          ]
        },
        {
          "output_type": "stream",
          "name": "stdout",
          "text": [
            "2025-10-04 21:11:57,679 - root - INFO - Processed 87/121\n",
            "2025-10-04 21:11:57,679 - root - INFO - Processed 87/121\n",
            "2025-10-04 21:11:57,679 - root - INFO - Processed 87/121\n"
          ]
        },
        {
          "output_type": "stream",
          "name": "stderr",
          "text": [
            "WARNING:root:Retrying 1 ... https://www.booking.com/reviewlist.en-gb.html?cc1=ec&pagename=ibis-quito&rows=10&sort=f_recent_desc&offset=880\n"
          ]
        },
        {
          "output_type": "stream",
          "name": "stdout",
          "text": [
            "2025-10-04 21:11:58,377 - root - WARNING - Retrying 1 ... https://www.booking.com/reviewlist.en-gb.html?cc1=ec&pagename=ibis-quito&rows=10&sort=f_recent_desc&offset=880\n",
            "2025-10-04 21:11:58,377 - root - WARNING - Retrying 1 ... https://www.booking.com/reviewlist.en-gb.html?cc1=ec&pagename=ibis-quito&rows=10&sort=f_recent_desc&offset=880\n",
            "2025-10-04 21:11:58,377 - root - WARNING - Retrying 1 ... https://www.booking.com/reviewlist.en-gb.html?cc1=ec&pagename=ibis-quito&rows=10&sort=f_recent_desc&offset=880\n"
          ]
        },
        {
          "output_type": "stream",
          "name": "stderr",
          "text": [
            "WARNING:root:Retrying 2 ... https://www.booking.com/reviewlist.en-gb.html?cc1=ec&pagename=ibis-quito&rows=10&sort=f_recent_desc&offset=880\n"
          ]
        },
        {
          "output_type": "stream",
          "name": "stdout",
          "text": [
            "2025-10-04 21:11:58,666 - root - WARNING - Retrying 2 ... https://www.booking.com/reviewlist.en-gb.html?cc1=ec&pagename=ibis-quito&rows=10&sort=f_recent_desc&offset=880\n",
            "2025-10-04 21:11:58,666 - root - WARNING - Retrying 2 ... https://www.booking.com/reviewlist.en-gb.html?cc1=ec&pagename=ibis-quito&rows=10&sort=f_recent_desc&offset=880\n",
            "2025-10-04 21:11:58,666 - root - WARNING - Retrying 2 ... https://www.booking.com/reviewlist.en-gb.html?cc1=ec&pagename=ibis-quito&rows=10&sort=f_recent_desc&offset=880\n"
          ]
        },
        {
          "output_type": "stream",
          "name": "stderr",
          "text": [
            "WARNING:root:Retrying 3 ... https://www.booking.com/reviewlist.en-gb.html?cc1=ec&pagename=ibis-quito&rows=10&sort=f_recent_desc&offset=880\n"
          ]
        },
        {
          "output_type": "stream",
          "name": "stdout",
          "text": [
            "2025-10-04 21:11:58,956 - root - WARNING - Retrying 3 ... https://www.booking.com/reviewlist.en-gb.html?cc1=ec&pagename=ibis-quito&rows=10&sort=f_recent_desc&offset=880\n",
            "2025-10-04 21:11:58,956 - root - WARNING - Retrying 3 ... https://www.booking.com/reviewlist.en-gb.html?cc1=ec&pagename=ibis-quito&rows=10&sort=f_recent_desc&offset=880\n",
            "2025-10-04 21:11:58,956 - root - WARNING - Retrying 3 ... https://www.booking.com/reviewlist.en-gb.html?cc1=ec&pagename=ibis-quito&rows=10&sort=f_recent_desc&offset=880\n"
          ]
        },
        {
          "output_type": "stream",
          "name": "stderr",
          "text": [
            "WARNING:root:Retrying 1 ... https://www.booking.com/reviewlist.en-gb.html?cc1=ec&pagename=ibis-quito&rows=10&sort=f_recent_desc&offset=890\n"
          ]
        },
        {
          "output_type": "stream",
          "name": "stdout",
          "text": [
            "2025-10-04 21:11:59,261 - root - WARNING - Retrying 1 ... https://www.booking.com/reviewlist.en-gb.html?cc1=ec&pagename=ibis-quito&rows=10&sort=f_recent_desc&offset=890\n",
            "2025-10-04 21:11:59,261 - root - WARNING - Retrying 1 ... https://www.booking.com/reviewlist.en-gb.html?cc1=ec&pagename=ibis-quito&rows=10&sort=f_recent_desc&offset=890\n",
            "2025-10-04 21:11:59,261 - root - WARNING - Retrying 1 ... https://www.booking.com/reviewlist.en-gb.html?cc1=ec&pagename=ibis-quito&rows=10&sort=f_recent_desc&offset=890\n"
          ]
        },
        {
          "output_type": "stream",
          "name": "stderr",
          "text": [
            "WARNING:root:Retrying 2 ... https://www.booking.com/reviewlist.en-gb.html?cc1=ec&pagename=ibis-quito&rows=10&sort=f_recent_desc&offset=890\n"
          ]
        },
        {
          "output_type": "stream",
          "name": "stdout",
          "text": [
            "2025-10-04 21:11:59,574 - root - WARNING - Retrying 2 ... https://www.booking.com/reviewlist.en-gb.html?cc1=ec&pagename=ibis-quito&rows=10&sort=f_recent_desc&offset=890\n",
            "2025-10-04 21:11:59,574 - root - WARNING - Retrying 2 ... https://www.booking.com/reviewlist.en-gb.html?cc1=ec&pagename=ibis-quito&rows=10&sort=f_recent_desc&offset=890\n",
            "2025-10-04 21:11:59,574 - root - WARNING - Retrying 2 ... https://www.booking.com/reviewlist.en-gb.html?cc1=ec&pagename=ibis-quito&rows=10&sort=f_recent_desc&offset=890\n"
          ]
        },
        {
          "output_type": "stream",
          "name": "stderr",
          "text": [
            "INFO:root:Processed 89/121\n"
          ]
        },
        {
          "output_type": "stream",
          "name": "stdout",
          "text": [
            "2025-10-04 21:11:59,683 - root - INFO - Processed 89/121\n",
            "2025-10-04 21:11:59,683 - root - INFO - Processed 89/121\n",
            "2025-10-04 21:11:59,683 - root - INFO - Processed 89/121\n"
          ]
        },
        {
          "output_type": "stream",
          "name": "stderr",
          "text": [
            "WARNING:root:Retrying 1 ... https://www.booking.com/reviewlist.en-gb.html?cc1=ec&pagename=ibis-quito&rows=10&sort=f_recent_desc&offset=900\n"
          ]
        },
        {
          "output_type": "stream",
          "name": "stdout",
          "text": [
            "2025-10-04 21:12:00,445 - root - WARNING - Retrying 1 ... https://www.booking.com/reviewlist.en-gb.html?cc1=ec&pagename=ibis-quito&rows=10&sort=f_recent_desc&offset=900\n",
            "2025-10-04 21:12:00,445 - root - WARNING - Retrying 1 ... https://www.booking.com/reviewlist.en-gb.html?cc1=ec&pagename=ibis-quito&rows=10&sort=f_recent_desc&offset=900\n",
            "2025-10-04 21:12:00,445 - root - WARNING - Retrying 1 ... https://www.booking.com/reviewlist.en-gb.html?cc1=ec&pagename=ibis-quito&rows=10&sort=f_recent_desc&offset=900\n"
          ]
        },
        {
          "output_type": "stream",
          "name": "stderr",
          "text": [
            "INFO:root:Processed 92/121\n"
          ]
        },
        {
          "output_type": "stream",
          "name": "stdout",
          "text": [
            "2025-10-04 21:12:01,686 - root - INFO - Processed 92/121\n",
            "2025-10-04 21:12:01,686 - root - INFO - Processed 92/121\n",
            "2025-10-04 21:12:01,686 - root - INFO - Processed 92/121\n"
          ]
        },
        {
          "output_type": "stream",
          "name": "stderr",
          "text": [
            "WARNING:root:Retrying 1 ... https://www.booking.com/reviewlist.en-gb.html?cc1=ec&pagename=ibis-quito&rows=10&sort=f_recent_desc&offset=920\n"
          ]
        },
        {
          "output_type": "stream",
          "name": "stdout",
          "text": [
            "2025-10-04 21:12:01,826 - root - WARNING - Retrying 1 ... https://www.booking.com/reviewlist.en-gb.html?cc1=ec&pagename=ibis-quito&rows=10&sort=f_recent_desc&offset=920\n",
            "2025-10-04 21:12:01,826 - root - WARNING - Retrying 1 ... https://www.booking.com/reviewlist.en-gb.html?cc1=ec&pagename=ibis-quito&rows=10&sort=f_recent_desc&offset=920\n",
            "2025-10-04 21:12:01,826 - root - WARNING - Retrying 1 ... https://www.booking.com/reviewlist.en-gb.html?cc1=ec&pagename=ibis-quito&rows=10&sort=f_recent_desc&offset=920\n"
          ]
        },
        {
          "output_type": "stream",
          "name": "stderr",
          "text": [
            "WARNING:root:Retrying 2 ... https://www.booking.com/reviewlist.en-gb.html?cc1=ec&pagename=ibis-quito&rows=10&sort=f_recent_desc&offset=920\n"
          ]
        },
        {
          "output_type": "stream",
          "name": "stdout",
          "text": [
            "2025-10-04 21:12:02,171 - root - WARNING - Retrying 2 ... https://www.booking.com/reviewlist.en-gb.html?cc1=ec&pagename=ibis-quito&rows=10&sort=f_recent_desc&offset=920\n",
            "2025-10-04 21:12:02,171 - root - WARNING - Retrying 2 ... https://www.booking.com/reviewlist.en-gb.html?cc1=ec&pagename=ibis-quito&rows=10&sort=f_recent_desc&offset=920\n",
            "2025-10-04 21:12:02,171 - root - WARNING - Retrying 2 ... https://www.booking.com/reviewlist.en-gb.html?cc1=ec&pagename=ibis-quito&rows=10&sort=f_recent_desc&offset=920\n"
          ]
        },
        {
          "output_type": "stream",
          "name": "stderr",
          "text": [
            "INFO:root:Processed 94/121\n"
          ]
        },
        {
          "output_type": "stream",
          "name": "stdout",
          "text": [
            "2025-10-04 21:12:03,692 - root - INFO - Processed 94/121\n",
            "2025-10-04 21:12:03,692 - root - INFO - Processed 94/121\n",
            "2025-10-04 21:12:03,692 - root - INFO - Processed 94/121\n"
          ]
        },
        {
          "output_type": "stream",
          "name": "stderr",
          "text": [
            "WARNING:root:Retrying 1 ... https://www.booking.com/reviewlist.en-gb.html?cc1=ec&pagename=ibis-quito&rows=10&sort=f_recent_desc&offset=950\n"
          ]
        },
        {
          "output_type": "stream",
          "name": "stdout",
          "text": [
            "2025-10-04 21:12:04,269 - root - WARNING - Retrying 1 ... https://www.booking.com/reviewlist.en-gb.html?cc1=ec&pagename=ibis-quito&rows=10&sort=f_recent_desc&offset=950\n",
            "2025-10-04 21:12:04,269 - root - WARNING - Retrying 1 ... https://www.booking.com/reviewlist.en-gb.html?cc1=ec&pagename=ibis-quito&rows=10&sort=f_recent_desc&offset=950\n",
            "2025-10-04 21:12:04,269 - root - WARNING - Retrying 1 ... https://www.booking.com/reviewlist.en-gb.html?cc1=ec&pagename=ibis-quito&rows=10&sort=f_recent_desc&offset=950\n"
          ]
        },
        {
          "output_type": "stream",
          "name": "stderr",
          "text": [
            "WARNING:root:Retrying 2 ... https://www.booking.com/reviewlist.en-gb.html?cc1=ec&pagename=ibis-quito&rows=10&sort=f_recent_desc&offset=950\n"
          ]
        },
        {
          "output_type": "stream",
          "name": "stdout",
          "text": [
            "2025-10-04 21:12:04,596 - root - WARNING - Retrying 2 ... https://www.booking.com/reviewlist.en-gb.html?cc1=ec&pagename=ibis-quito&rows=10&sort=f_recent_desc&offset=950\n",
            "2025-10-04 21:12:04,596 - root - WARNING - Retrying 2 ... https://www.booking.com/reviewlist.en-gb.html?cc1=ec&pagename=ibis-quito&rows=10&sort=f_recent_desc&offset=950\n",
            "2025-10-04 21:12:04,596 - root - WARNING - Retrying 2 ... https://www.booking.com/reviewlist.en-gb.html?cc1=ec&pagename=ibis-quito&rows=10&sort=f_recent_desc&offset=950\n"
          ]
        },
        {
          "output_type": "stream",
          "name": "stderr",
          "text": [
            "WARNING:root:Retrying 3 ... https://www.booking.com/reviewlist.en-gb.html?cc1=ec&pagename=ibis-quito&rows=10&sort=f_recent_desc&offset=950\n"
          ]
        },
        {
          "output_type": "stream",
          "name": "stdout",
          "text": [
            "2025-10-04 21:12:04,899 - root - WARNING - Retrying 3 ... https://www.booking.com/reviewlist.en-gb.html?cc1=ec&pagename=ibis-quito&rows=10&sort=f_recent_desc&offset=950\n",
            "2025-10-04 21:12:04,899 - root - WARNING - Retrying 3 ... https://www.booking.com/reviewlist.en-gb.html?cc1=ec&pagename=ibis-quito&rows=10&sort=f_recent_desc&offset=950\n",
            "2025-10-04 21:12:04,899 - root - WARNING - Retrying 3 ... https://www.booking.com/reviewlist.en-gb.html?cc1=ec&pagename=ibis-quito&rows=10&sort=f_recent_desc&offset=950\n"
          ]
        },
        {
          "output_type": "stream",
          "name": "stderr",
          "text": [
            "WARNING:root:Retrying 1 ... https://www.booking.com/reviewlist.en-gb.html?cc1=ec&pagename=ibis-quito&rows=10&sort=f_recent_desc&offset=960\n"
          ]
        },
        {
          "output_type": "stream",
          "name": "stdout",
          "text": [
            "2025-10-04 21:12:05,206 - root - WARNING - Retrying 1 ... https://www.booking.com/reviewlist.en-gb.html?cc1=ec&pagename=ibis-quito&rows=10&sort=f_recent_desc&offset=960\n",
            "2025-10-04 21:12:05,206 - root - WARNING - Retrying 1 ... https://www.booking.com/reviewlist.en-gb.html?cc1=ec&pagename=ibis-quito&rows=10&sort=f_recent_desc&offset=960\n",
            "2025-10-04 21:12:05,206 - root - WARNING - Retrying 1 ... https://www.booking.com/reviewlist.en-gb.html?cc1=ec&pagename=ibis-quito&rows=10&sort=f_recent_desc&offset=960\n"
          ]
        },
        {
          "output_type": "stream",
          "name": "stderr",
          "text": [
            "INFO:root:Processed 96/121\n"
          ]
        },
        {
          "output_type": "stream",
          "name": "stdout",
          "text": [
            "2025-10-04 21:12:05,731 - root - INFO - Processed 96/121\n",
            "2025-10-04 21:12:05,731 - root - INFO - Processed 96/121\n",
            "2025-10-04 21:12:05,731 - root - INFO - Processed 96/121\n"
          ]
        },
        {
          "output_type": "stream",
          "name": "stderr",
          "text": [
            "WARNING:root:Retrying 1 ... https://www.booking.com/reviewlist.en-gb.html?cc1=ec&pagename=ibis-quito&rows=10&sort=f_recent_desc&offset=970\n"
          ]
        },
        {
          "output_type": "stream",
          "name": "stdout",
          "text": [
            "2025-10-04 21:12:06,058 - root - WARNING - Retrying 1 ... https://www.booking.com/reviewlist.en-gb.html?cc1=ec&pagename=ibis-quito&rows=10&sort=f_recent_desc&offset=970\n",
            "2025-10-04 21:12:06,058 - root - WARNING - Retrying 1 ... https://www.booking.com/reviewlist.en-gb.html?cc1=ec&pagename=ibis-quito&rows=10&sort=f_recent_desc&offset=970\n",
            "2025-10-04 21:12:06,058 - root - WARNING - Retrying 1 ... https://www.booking.com/reviewlist.en-gb.html?cc1=ec&pagename=ibis-quito&rows=10&sort=f_recent_desc&offset=970\n"
          ]
        },
        {
          "output_type": "stream",
          "name": "stderr",
          "text": [
            "INFO:root:Processed 100/121\n"
          ]
        },
        {
          "output_type": "stream",
          "name": "stdout",
          "text": [
            "2025-10-04 21:12:07,773 - root - INFO - Processed 100/121\n",
            "2025-10-04 21:12:07,773 - root - INFO - Processed 100/121\n",
            "2025-10-04 21:12:07,773 - root - INFO - Processed 100/121\n"
          ]
        },
        {
          "output_type": "stream",
          "name": "stderr",
          "text": [
            "WARNING:root:Retrying 1 ... https://www.booking.com/reviewlist.en-gb.html?cc1=ec&pagename=ibis-quito&rows=10&sort=f_recent_desc&offset=1000\n"
          ]
        },
        {
          "output_type": "stream",
          "name": "stdout",
          "text": [
            "2025-10-04 21:12:08,119 - root - WARNING - Retrying 1 ... https://www.booking.com/reviewlist.en-gb.html?cc1=ec&pagename=ibis-quito&rows=10&sort=f_recent_desc&offset=1000\n",
            "2025-10-04 21:12:08,119 - root - WARNING - Retrying 1 ... https://www.booking.com/reviewlist.en-gb.html?cc1=ec&pagename=ibis-quito&rows=10&sort=f_recent_desc&offset=1000\n",
            "2025-10-04 21:12:08,119 - root - WARNING - Retrying 1 ... https://www.booking.com/reviewlist.en-gb.html?cc1=ec&pagename=ibis-quito&rows=10&sort=f_recent_desc&offset=1000\n"
          ]
        },
        {
          "output_type": "stream",
          "name": "stderr",
          "text": [
            "WARNING:root:Retrying 2 ... https://www.booking.com/reviewlist.en-gb.html?cc1=ec&pagename=ibis-quito&rows=10&sort=f_recent_desc&offset=1000\n"
          ]
        },
        {
          "output_type": "stream",
          "name": "stdout",
          "text": [
            "2025-10-04 21:12:08,422 - root - WARNING - Retrying 2 ... https://www.booking.com/reviewlist.en-gb.html?cc1=ec&pagename=ibis-quito&rows=10&sort=f_recent_desc&offset=1000\n",
            "2025-10-04 21:12:08,422 - root - WARNING - Retrying 2 ... https://www.booking.com/reviewlist.en-gb.html?cc1=ec&pagename=ibis-quito&rows=10&sort=f_recent_desc&offset=1000\n",
            "2025-10-04 21:12:08,422 - root - WARNING - Retrying 2 ... https://www.booking.com/reviewlist.en-gb.html?cc1=ec&pagename=ibis-quito&rows=10&sort=f_recent_desc&offset=1000\n"
          ]
        },
        {
          "output_type": "stream",
          "name": "stderr",
          "text": [
            "INFO:root:Processed 102/121\n"
          ]
        },
        {
          "output_type": "stream",
          "name": "stdout",
          "text": [
            "2025-10-04 21:12:09,777 - root - INFO - Processed 102/121\n",
            "2025-10-04 21:12:09,777 - root - INFO - Processed 102/121\n",
            "2025-10-04 21:12:09,777 - root - INFO - Processed 102/121\n"
          ]
        },
        {
          "output_type": "stream",
          "name": "stderr",
          "text": [
            "WARNING:root:Retrying 1 ... https://www.booking.com/reviewlist.en-gb.html?cc1=ec&pagename=ibis-quito&rows=10&sort=f_recent_desc&offset=1020\n"
          ]
        },
        {
          "output_type": "stream",
          "name": "stdout",
          "text": [
            "2025-10-04 21:12:09,897 - root - WARNING - Retrying 1 ... https://www.booking.com/reviewlist.en-gb.html?cc1=ec&pagename=ibis-quito&rows=10&sort=f_recent_desc&offset=1020\n",
            "2025-10-04 21:12:09,897 - root - WARNING - Retrying 1 ... https://www.booking.com/reviewlist.en-gb.html?cc1=ec&pagename=ibis-quito&rows=10&sort=f_recent_desc&offset=1020\n",
            "2025-10-04 21:12:09,897 - root - WARNING - Retrying 1 ... https://www.booking.com/reviewlist.en-gb.html?cc1=ec&pagename=ibis-quito&rows=10&sort=f_recent_desc&offset=1020\n"
          ]
        },
        {
          "output_type": "stream",
          "name": "stderr",
          "text": [
            "WARNING:root:Retrying 2 ... https://www.booking.com/reviewlist.en-gb.html?cc1=ec&pagename=ibis-quito&rows=10&sort=f_recent_desc&offset=1020\n"
          ]
        },
        {
          "output_type": "stream",
          "name": "stdout",
          "text": [
            "2025-10-04 21:12:10,470 - root - WARNING - Retrying 2 ... https://www.booking.com/reviewlist.en-gb.html?cc1=ec&pagename=ibis-quito&rows=10&sort=f_recent_desc&offset=1020\n",
            "2025-10-04 21:12:10,470 - root - WARNING - Retrying 2 ... https://www.booking.com/reviewlist.en-gb.html?cc1=ec&pagename=ibis-quito&rows=10&sort=f_recent_desc&offset=1020\n",
            "2025-10-04 21:12:10,470 - root - WARNING - Retrying 2 ... https://www.booking.com/reviewlist.en-gb.html?cc1=ec&pagename=ibis-quito&rows=10&sort=f_recent_desc&offset=1020\n"
          ]
        },
        {
          "output_type": "stream",
          "name": "stderr",
          "text": [
            "WARNING:root:Retrying 1 ... https://www.booking.com/reviewlist.en-gb.html?cc1=ec&pagename=ibis-quito&rows=10&sort=f_recent_desc&offset=1030\n"
          ]
        },
        {
          "output_type": "stream",
          "name": "stdout",
          "text": [
            "2025-10-04 21:12:11,343 - root - WARNING - Retrying 1 ... https://www.booking.com/reviewlist.en-gb.html?cc1=ec&pagename=ibis-quito&rows=10&sort=f_recent_desc&offset=1030\n",
            "2025-10-04 21:12:11,343 - root - WARNING - Retrying 1 ... https://www.booking.com/reviewlist.en-gb.html?cc1=ec&pagename=ibis-quito&rows=10&sort=f_recent_desc&offset=1030\n",
            "2025-10-04 21:12:11,343 - root - WARNING - Retrying 1 ... https://www.booking.com/reviewlist.en-gb.html?cc1=ec&pagename=ibis-quito&rows=10&sort=f_recent_desc&offset=1030\n"
          ]
        },
        {
          "output_type": "stream",
          "name": "stderr",
          "text": [
            "INFO:root:Processed 103/121\n"
          ]
        },
        {
          "output_type": "stream",
          "name": "stdout",
          "text": [
            "2025-10-04 21:12:11,782 - root - INFO - Processed 103/121\n",
            "2025-10-04 21:12:11,782 - root - INFO - Processed 103/121\n",
            "2025-10-04 21:12:11,782 - root - INFO - Processed 103/121\n"
          ]
        },
        {
          "output_type": "stream",
          "name": "stderr",
          "text": [
            "WARNING:root:Retrying 1 ... https://www.booking.com/reviewlist.en-gb.html?cc1=ec&pagename=ibis-quito&rows=10&sort=f_recent_desc&offset=1050\n"
          ]
        },
        {
          "output_type": "stream",
          "name": "stdout",
          "text": [
            "2025-10-04 21:12:12,729 - root - WARNING - Retrying 1 ... https://www.booking.com/reviewlist.en-gb.html?cc1=ec&pagename=ibis-quito&rows=10&sort=f_recent_desc&offset=1050\n",
            "2025-10-04 21:12:12,729 - root - WARNING - Retrying 1 ... https://www.booking.com/reviewlist.en-gb.html?cc1=ec&pagename=ibis-quito&rows=10&sort=f_recent_desc&offset=1050\n",
            "2025-10-04 21:12:12,729 - root - WARNING - Retrying 1 ... https://www.booking.com/reviewlist.en-gb.html?cc1=ec&pagename=ibis-quito&rows=10&sort=f_recent_desc&offset=1050\n"
          ]
        },
        {
          "output_type": "stream",
          "name": "stderr",
          "text": [
            "WARNING:root:Retrying 2 ... https://www.booking.com/reviewlist.en-gb.html?cc1=ec&pagename=ibis-quito&rows=10&sort=f_recent_desc&offset=1050\n"
          ]
        },
        {
          "output_type": "stream",
          "name": "stdout",
          "text": [
            "2025-10-04 21:12:13,032 - root - WARNING - Retrying 2 ... https://www.booking.com/reviewlist.en-gb.html?cc1=ec&pagename=ibis-quito&rows=10&sort=f_recent_desc&offset=1050\n",
            "2025-10-04 21:12:13,032 - root - WARNING - Retrying 2 ... https://www.booking.com/reviewlist.en-gb.html?cc1=ec&pagename=ibis-quito&rows=10&sort=f_recent_desc&offset=1050\n",
            "2025-10-04 21:12:13,032 - root - WARNING - Retrying 2 ... https://www.booking.com/reviewlist.en-gb.html?cc1=ec&pagename=ibis-quito&rows=10&sort=f_recent_desc&offset=1050\n"
          ]
        },
        {
          "output_type": "stream",
          "name": "stderr",
          "text": [
            "WARNING:root:Retrying 3 ... https://www.booking.com/reviewlist.en-gb.html?cc1=ec&pagename=ibis-quito&rows=10&sort=f_recent_desc&offset=1050\n"
          ]
        },
        {
          "output_type": "stream",
          "name": "stdout",
          "text": [
            "2025-10-04 21:12:13,345 - root - WARNING - Retrying 3 ... https://www.booking.com/reviewlist.en-gb.html?cc1=ec&pagename=ibis-quito&rows=10&sort=f_recent_desc&offset=1050\n",
            "2025-10-04 21:12:13,345 - root - WARNING - Retrying 3 ... https://www.booking.com/reviewlist.en-gb.html?cc1=ec&pagename=ibis-quito&rows=10&sort=f_recent_desc&offset=1050\n",
            "2025-10-04 21:12:13,345 - root - WARNING - Retrying 3 ... https://www.booking.com/reviewlist.en-gb.html?cc1=ec&pagename=ibis-quito&rows=10&sort=f_recent_desc&offset=1050\n"
          ]
        },
        {
          "output_type": "stream",
          "name": "stderr",
          "text": [
            "INFO:root:Processed 106/121\n"
          ]
        },
        {
          "output_type": "stream",
          "name": "stdout",
          "text": [
            "2025-10-04 21:12:13,789 - root - INFO - Processed 106/121\n",
            "2025-10-04 21:12:13,789 - root - INFO - Processed 106/121\n",
            "2025-10-04 21:12:13,789 - root - INFO - Processed 106/121\n"
          ]
        },
        {
          "output_type": "stream",
          "name": "stderr",
          "text": [
            "WARNING:root:Retrying 1 ... https://www.booking.com/reviewlist.en-gb.html?cc1=ec&pagename=ibis-quito&rows=10&sort=f_recent_desc&offset=1060\n"
          ]
        },
        {
          "output_type": "stream",
          "name": "stdout",
          "text": [
            "2025-10-04 21:12:13,881 - root - WARNING - Retrying 1 ... https://www.booking.com/reviewlist.en-gb.html?cc1=ec&pagename=ibis-quito&rows=10&sort=f_recent_desc&offset=1060\n",
            "2025-10-04 21:12:13,881 - root - WARNING - Retrying 1 ... https://www.booking.com/reviewlist.en-gb.html?cc1=ec&pagename=ibis-quito&rows=10&sort=f_recent_desc&offset=1060\n",
            "2025-10-04 21:12:13,881 - root - WARNING - Retrying 1 ... https://www.booking.com/reviewlist.en-gb.html?cc1=ec&pagename=ibis-quito&rows=10&sort=f_recent_desc&offset=1060\n"
          ]
        },
        {
          "output_type": "stream",
          "name": "stderr",
          "text": [
            "WARNING:root:Retrying 2 ... https://www.booking.com/reviewlist.en-gb.html?cc1=ec&pagename=ibis-quito&rows=10&sort=f_recent_desc&offset=1060\n"
          ]
        },
        {
          "output_type": "stream",
          "name": "stdout",
          "text": [
            "2025-10-04 21:12:14,229 - root - WARNING - Retrying 2 ... https://www.booking.com/reviewlist.en-gb.html?cc1=ec&pagename=ibis-quito&rows=10&sort=f_recent_desc&offset=1060\n",
            "2025-10-04 21:12:14,229 - root - WARNING - Retrying 2 ... https://www.booking.com/reviewlist.en-gb.html?cc1=ec&pagename=ibis-quito&rows=10&sort=f_recent_desc&offset=1060\n",
            "2025-10-04 21:12:14,229 - root - WARNING - Retrying 2 ... https://www.booking.com/reviewlist.en-gb.html?cc1=ec&pagename=ibis-quito&rows=10&sort=f_recent_desc&offset=1060\n"
          ]
        },
        {
          "output_type": "stream",
          "name": "stderr",
          "text": [
            "INFO:root:Processed 108/121\n"
          ]
        },
        {
          "output_type": "stream",
          "name": "stdout",
          "text": [
            "2025-10-04 21:12:15,796 - root - INFO - Processed 108/121\n",
            "2025-10-04 21:12:15,796 - root - INFO - Processed 108/121\n"
          ]
        },
        {
          "output_type": "stream",
          "name": "stderr",
          "text": [
            "WARNING:root:Retrying 1 ... https://www.booking.com/reviewlist.en-gb.html?cc1=ec&pagename=ibis-quito&rows=10&sort=f_recent_desc&offset=1080\n"
          ]
        },
        {
          "output_type": "stream",
          "name": "stdout",
          "text": [
            "2025-10-04 21:12:15,796 - root - INFO - Processed 108/121\n",
            "2025-10-04 21:12:15,800 - root - WARNING - Retrying 1 ... https://www.booking.com/reviewlist.en-gb.html?cc1=ec&pagename=ibis-quito&rows=10&sort=f_recent_desc&offset=1080\n",
            "2025-10-04 21:12:15,800 - root - WARNING - Retrying 1 ... https://www.booking.com/reviewlist.en-gb.html?cc1=ec&pagename=ibis-quito&rows=10&sort=f_recent_desc&offset=1080\n",
            "2025-10-04 21:12:15,800 - root - WARNING - Retrying 1 ... https://www.booking.com/reviewlist.en-gb.html?cc1=ec&pagename=ibis-quito&rows=10&sort=f_recent_desc&offset=1080\n"
          ]
        },
        {
          "output_type": "stream",
          "name": "stderr",
          "text": [
            "WARNING:root:Retrying 2 ... https://www.booking.com/reviewlist.en-gb.html?cc1=ec&pagename=ibis-quito&rows=10&sort=f_recent_desc&offset=1080\n"
          ]
        },
        {
          "output_type": "stream",
          "name": "stdout",
          "text": [
            "2025-10-04 21:12:16,160 - root - WARNING - Retrying 2 ... https://www.booking.com/reviewlist.en-gb.html?cc1=ec&pagename=ibis-quito&rows=10&sort=f_recent_desc&offset=1080\n",
            "2025-10-04 21:12:16,160 - root - WARNING - Retrying 2 ... https://www.booking.com/reviewlist.en-gb.html?cc1=ec&pagename=ibis-quito&rows=10&sort=f_recent_desc&offset=1080\n",
            "2025-10-04 21:12:16,160 - root - WARNING - Retrying 2 ... https://www.booking.com/reviewlist.en-gb.html?cc1=ec&pagename=ibis-quito&rows=10&sort=f_recent_desc&offset=1080\n"
          ]
        },
        {
          "output_type": "stream",
          "name": "stderr",
          "text": [
            "WARNING:root:Retrying 3 ... https://www.booking.com/reviewlist.en-gb.html?cc1=ec&pagename=ibis-quito&rows=10&sort=f_recent_desc&offset=1080\n"
          ]
        },
        {
          "output_type": "stream",
          "name": "stdout",
          "text": [
            "2025-10-04 21:12:16,462 - root - WARNING - Retrying 3 ... https://www.booking.com/reviewlist.en-gb.html?cc1=ec&pagename=ibis-quito&rows=10&sort=f_recent_desc&offset=1080\n",
            "2025-10-04 21:12:16,462 - root - WARNING - Retrying 3 ... https://www.booking.com/reviewlist.en-gb.html?cc1=ec&pagename=ibis-quito&rows=10&sort=f_recent_desc&offset=1080\n",
            "2025-10-04 21:12:16,462 - root - WARNING - Retrying 3 ... https://www.booking.com/reviewlist.en-gb.html?cc1=ec&pagename=ibis-quito&rows=10&sort=f_recent_desc&offset=1080\n"
          ]
        },
        {
          "output_type": "stream",
          "name": "stderr",
          "text": [
            "INFO:root:Processed 111/121\n"
          ]
        },
        {
          "output_type": "stream",
          "name": "stdout",
          "text": [
            "2025-10-04 21:12:17,805 - root - INFO - Processed 111/121\n",
            "2025-10-04 21:12:17,805 - root - INFO - Processed 111/121\n",
            "2025-10-04 21:12:17,805 - root - INFO - Processed 111/121\n"
          ]
        },
        {
          "output_type": "stream",
          "name": "stderr",
          "text": [
            "WARNING:root:Retrying 1 ... https://www.booking.com/reviewlist.en-gb.html?cc1=ec&pagename=ibis-quito&rows=10&sort=f_recent_desc&offset=1110\n"
          ]
        },
        {
          "output_type": "stream",
          "name": "stdout",
          "text": [
            "2025-10-04 21:12:17,856 - root - WARNING - Retrying 1 ... https://www.booking.com/reviewlist.en-gb.html?cc1=ec&pagename=ibis-quito&rows=10&sort=f_recent_desc&offset=1110\n",
            "2025-10-04 21:12:17,856 - root - WARNING - Retrying 1 ... https://www.booking.com/reviewlist.en-gb.html?cc1=ec&pagename=ibis-quito&rows=10&sort=f_recent_desc&offset=1110\n",
            "2025-10-04 21:12:17,856 - root - WARNING - Retrying 1 ... https://www.booking.com/reviewlist.en-gb.html?cc1=ec&pagename=ibis-quito&rows=10&sort=f_recent_desc&offset=1110\n"
          ]
        },
        {
          "output_type": "stream",
          "name": "stderr",
          "text": [
            "WARNING:root:Retrying 2 ... https://www.booking.com/reviewlist.en-gb.html?cc1=ec&pagename=ibis-quito&rows=10&sort=f_recent_desc&offset=1110\n"
          ]
        },
        {
          "output_type": "stream",
          "name": "stdout",
          "text": [
            "2025-10-04 21:12:18,168 - root - WARNING - Retrying 2 ... https://www.booking.com/reviewlist.en-gb.html?cc1=ec&pagename=ibis-quito&rows=10&sort=f_recent_desc&offset=1110\n",
            "2025-10-04 21:12:18,168 - root - WARNING - Retrying 2 ... https://www.booking.com/reviewlist.en-gb.html?cc1=ec&pagename=ibis-quito&rows=10&sort=f_recent_desc&offset=1110\n",
            "2025-10-04 21:12:18,168 - root - WARNING - Retrying 2 ... https://www.booking.com/reviewlist.en-gb.html?cc1=ec&pagename=ibis-quito&rows=10&sort=f_recent_desc&offset=1110\n"
          ]
        },
        {
          "output_type": "stream",
          "name": "stderr",
          "text": [
            "WARNING:root:Retrying 3 ... https://www.booking.com/reviewlist.en-gb.html?cc1=ec&pagename=ibis-quito&rows=10&sort=f_recent_desc&offset=1110\n"
          ]
        },
        {
          "output_type": "stream",
          "name": "stdout",
          "text": [
            "2025-10-04 21:12:18,787 - root - WARNING - Retrying 3 ... https://www.booking.com/reviewlist.en-gb.html?cc1=ec&pagename=ibis-quito&rows=10&sort=f_recent_desc&offset=1110\n",
            "2025-10-04 21:12:18,787 - root - WARNING - Retrying 3 ... https://www.booking.com/reviewlist.en-gb.html?cc1=ec&pagename=ibis-quito&rows=10&sort=f_recent_desc&offset=1110\n",
            "2025-10-04 21:12:18,787 - root - WARNING - Retrying 3 ... https://www.booking.com/reviewlist.en-gb.html?cc1=ec&pagename=ibis-quito&rows=10&sort=f_recent_desc&offset=1110\n"
          ]
        },
        {
          "output_type": "stream",
          "name": "stderr",
          "text": [
            "WARNING:root:Retrying 1 ... https://www.booking.com/reviewlist.en-gb.html?cc1=ec&pagename=ibis-quito&rows=10&sort=f_recent_desc&offset=1120\n"
          ]
        },
        {
          "output_type": "stream",
          "name": "stdout",
          "text": [
            "2025-10-04 21:12:19,104 - root - WARNING - Retrying 1 ... https://www.booking.com/reviewlist.en-gb.html?cc1=ec&pagename=ibis-quito&rows=10&sort=f_recent_desc&offset=1120\n",
            "2025-10-04 21:12:19,104 - root - WARNING - Retrying 1 ... https://www.booking.com/reviewlist.en-gb.html?cc1=ec&pagename=ibis-quito&rows=10&sort=f_recent_desc&offset=1120\n",
            "2025-10-04 21:12:19,104 - root - WARNING - Retrying 1 ... https://www.booking.com/reviewlist.en-gb.html?cc1=ec&pagename=ibis-quito&rows=10&sort=f_recent_desc&offset=1120\n"
          ]
        },
        {
          "output_type": "stream",
          "name": "stderr",
          "text": [
            "WARNING:root:Retrying 2 ... https://www.booking.com/reviewlist.en-gb.html?cc1=ec&pagename=ibis-quito&rows=10&sort=f_recent_desc&offset=1120\n"
          ]
        },
        {
          "output_type": "stream",
          "name": "stdout",
          "text": [
            "2025-10-04 21:12:19,418 - root - WARNING - Retrying 2 ... https://www.booking.com/reviewlist.en-gb.html?cc1=ec&pagename=ibis-quito&rows=10&sort=f_recent_desc&offset=1120\n",
            "2025-10-04 21:12:19,418 - root - WARNING - Retrying 2 ... https://www.booking.com/reviewlist.en-gb.html?cc1=ec&pagename=ibis-quito&rows=10&sort=f_recent_desc&offset=1120\n",
            "2025-10-04 21:12:19,418 - root - WARNING - Retrying 2 ... https://www.booking.com/reviewlist.en-gb.html?cc1=ec&pagename=ibis-quito&rows=10&sort=f_recent_desc&offset=1120\n"
          ]
        },
        {
          "output_type": "stream",
          "name": "stderr",
          "text": [
            "INFO:root:Processed 112/121\n"
          ]
        },
        {
          "output_type": "stream",
          "name": "stdout",
          "text": [
            "2025-10-04 21:12:19,809 - root - INFO - Processed 112/121\n",
            "2025-10-04 21:12:19,809 - root - INFO - Processed 112/121\n",
            "2025-10-04 21:12:19,809 - root - INFO - Processed 112/121\n"
          ]
        },
        {
          "output_type": "stream",
          "name": "stderr",
          "text": [
            "WARNING:root:Retrying 1 ... https://www.booking.com/reviewlist.en-gb.html?cc1=ec&pagename=ibis-quito&rows=10&sort=f_recent_desc&offset=1150\n"
          ]
        },
        {
          "output_type": "stream",
          "name": "stdout",
          "text": [
            "2025-10-04 21:12:21,401 - root - WARNING - Retrying 1 ... https://www.booking.com/reviewlist.en-gb.html?cc1=ec&pagename=ibis-quito&rows=10&sort=f_recent_desc&offset=1150\n",
            "2025-10-04 21:12:21,401 - root - WARNING - Retrying 1 ... https://www.booking.com/reviewlist.en-gb.html?cc1=ec&pagename=ibis-quito&rows=10&sort=f_recent_desc&offset=1150\n",
            "2025-10-04 21:12:21,401 - root - WARNING - Retrying 1 ... https://www.booking.com/reviewlist.en-gb.html?cc1=ec&pagename=ibis-quito&rows=10&sort=f_recent_desc&offset=1150\n"
          ]
        },
        {
          "output_type": "stream",
          "name": "stderr",
          "text": [
            "INFO:root:Processed 115/121\n"
          ]
        },
        {
          "output_type": "stream",
          "name": "stdout",
          "text": [
            "2025-10-04 21:12:21,815 - root - INFO - Processed 115/121\n",
            "2025-10-04 21:12:21,815 - root - INFO - Processed 115/121\n",
            "2025-10-04 21:12:21,815 - root - INFO - Processed 115/121\n"
          ]
        },
        {
          "output_type": "stream",
          "name": "stderr",
          "text": [
            "INFO:root:Processed 118/121\n"
          ]
        },
        {
          "output_type": "stream",
          "name": "stdout",
          "text": [
            "2025-10-04 21:12:23,840 - root - INFO - Processed 118/121\n",
            "2025-10-04 21:12:23,840 - root - INFO - Processed 118/121\n",
            "2025-10-04 21:12:23,840 - root - INFO - Processed 118/121\n"
          ]
        },
        {
          "output_type": "stream",
          "name": "stderr",
          "text": [
            "WARNING:root:Retrying 1 ... https://www.booking.com/reviewlist.en-gb.html?cc1=ec&pagename=ibis-quito&rows=10&sort=f_recent_desc&offset=1200\n"
          ]
        },
        {
          "output_type": "stream",
          "name": "stdout",
          "text": [
            "2025-10-04 21:12:24,699 - root - WARNING - Retrying 1 ... https://www.booking.com/reviewlist.en-gb.html?cc1=ec&pagename=ibis-quito&rows=10&sort=f_recent_desc&offset=1200\n",
            "2025-10-04 21:12:24,699 - root - WARNING - Retrying 1 ... https://www.booking.com/reviewlist.en-gb.html?cc1=ec&pagename=ibis-quito&rows=10&sort=f_recent_desc&offset=1200\n",
            "2025-10-04 21:12:24,699 - root - WARNING - Retrying 1 ... https://www.booking.com/reviewlist.en-gb.html?cc1=ec&pagename=ibis-quito&rows=10&sort=f_recent_desc&offset=1200\n"
          ]
        },
        {
          "output_type": "stream",
          "name": "stderr",
          "text": [
            "INFO:root:Finished Conditional Scraping: 1022 in 95.8 seconds\n"
          ]
        },
        {
          "output_type": "stream",
          "name": "stdout",
          "text": [
            "2025-10-04 21:12:25,184 - root - INFO - Finished Conditional Scraping: 1022 in 95.8 seconds\n",
            "2025-10-04 21:12:25,184 - root - INFO - Finished Conditional Scraping: 1022 in 95.8 seconds\n",
            "2025-10-04 21:12:25,184 - root - INFO - Finished Conditional Scraping: 1022 in 95.8 seconds\n"
          ]
        },
        {
          "output_type": "stream",
          "name": "stderr",
          "text": [
            "INFO:root:Process complete 96.5 seconds\n"
          ]
        },
        {
          "output_type": "stream",
          "name": "stdout",
          "text": [
            "2025-10-04 21:12:25,192 - root - INFO - Process complete 96.5 seconds\n",
            "2025-10-04 21:12:25,192 - root - INFO - Process complete 96.5 seconds\n",
            "2025-10-04 21:12:25,192 - root - INFO - Process complete 96.5 seconds\n"
          ]
        },
        {
          "output_type": "stream",
          "name": "stderr",
          "text": [
            "INFO:root:Reviews found: 1022\n"
          ]
        },
        {
          "output_type": "stream",
          "name": "stdout",
          "text": [
            "2025-10-04 21:12:25,195 - root - INFO - Reviews found: 1022\n",
            "2025-10-04 21:12:25,195 - root - INFO - Reviews found: 1022\n",
            "2025-10-04 21:12:25,195 - root - INFO - Reviews found: 1022\n",
            "Scrapping Complete: Total Reviews  1022\n"
          ]
        }
      ]
    },
    {
      "cell_type": "markdown",
      "source": [
        "# 4) Locate the CSV and rename it\n",
        "What you do: Find the generated CSV in subfolders and rename it to ibis-quito-hotel.csv (required format).\n",
        "Why: The guide asks to \"save with the hotel name.\"\n",
        "What you should see: Final CSV file: /content/ibis-quito-hotel.csv"
      ],
      "metadata": {
        "id": "x7OXblEHHk7-"
      }
    },
    {
      "cell_type": "code",
      "source": [
        "# 4) Find the latest reviews_*.csv produced and copy it as <hotel>-hotel.csv\n",
        "import glob, os, pandas as pd\n",
        "\n",
        "candidates = sorted(glob.glob(f\"{OUTPUT_DIR}/**/reviews_*.csv\", recursive=True))\n",
        "print(\"Found CSVs:\", candidates)\n",
        "assert candidates, \"No reviews CSV found in OUTPUT_DIR (with subfolders).\"\n",
        "\n",
        "src = max(candidates, key=os.path.getmtime)     # most recent\n",
        "dst = f\"/content/{HOTEL_NAME}-hotel.csv\"\n",
        "\n",
        "pd.read_csv(src).to_csv(dst, index=False)\n",
        "print(\"Final CSV ready:\", dst)\n"
      ],
      "metadata": {
        "id": "I1_KNRYXHl0g",
        "colab": {
          "base_uri": "https://localhost:8080/"
        },
        "outputId": "9478b29f-5aa6-4413-f6fd-e878c475170b"
      },
      "execution_count": 8,
      "outputs": [
        {
          "output_type": "stream",
          "name": "stderr",
          "text": [
            "INFO:numexpr.utils:NumExpr defaulting to 2 threads.\n"
          ]
        },
        {
          "output_type": "stream",
          "name": "stdout",
          "text": [
            "2025-10-04 21:12:44,541 - numexpr.utils - INFO - NumExpr defaulting to 2 threads.\n",
            "2025-10-04 21:12:44,541 - numexpr.utils - INFO - NumExpr defaulting to 2 threads.\n",
            "2025-10-04 21:12:44,541 - numexpr.utils - INFO - NumExpr defaulting to 2 threads.\n",
            "Found CSVs: ['/content/data/ibis-quito_2025_10_04_21_10_03/reviews_newest_first.csv']\n",
            "Final CSV ready: /content/ibis-quito-hotel.csv\n"
          ]
        }
      ]
    }
  ]
}