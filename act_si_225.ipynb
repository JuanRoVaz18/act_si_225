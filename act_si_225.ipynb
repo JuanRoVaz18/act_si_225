{
  "nbformat": 4,
  "nbformat_minor": 0,
  "metadata": {
    "colab": {
      "provenance": [],
      "include_colab_link": true
    },
    "kernelspec": {
      "name": "python3",
      "display_name": "Python 3"
    },
    "language_info": {
      "name": "python"
    }
  },
  "cells": [
    {
      "cell_type": "markdown",
      "metadata": {
        "id": "view-in-github",
        "colab_type": "text"
      },
      "source": [
        "<a href=\"https://colab.research.google.com/github/JuanRoVaz18/act_si_225/blob/main/act_si_225.ipynb\" target=\"_parent\"><img src=\"https://colab.research.google.com/assets/colab-badge.svg\" alt=\"Open In Colab\"/></a>"
      ]
    },
    {
      "cell_type": "markdown",
      "source": [
        "#1) Setup (cloning and installation)\n",
        "What you do:\n",
        "\n",
        "git clone downloads the code for the tool (the scraper).\n",
        "\n",
        "%cd enters that folder.\n",
        "\n",
        "pip install -r ... installs the exact library versions the scraper needs"
      ],
      "metadata": {
        "id": "bzIwDsYt04lK"
      }
    },
    {
      "cell_type": "code",
      "execution_count": 1,
      "metadata": {
        "colab": {
          "base_uri": "https://localhost:8080/"
        },
        "id": "SCKKaaQtaDZE",
        "outputId": "afa602cb-f495-4cd3-d29b-fce1f9b16c5d"
      },
      "outputs": [
        {
          "output_type": "stream",
          "name": "stdout",
          "text": [
            "fatal: destination path 'booking-reviews-scraper' already exists and is not an empty directory.\n",
            "/content/booking-reviews-scraper\n",
            "Requirement already satisfied: beautifulsoup4==4.12.2 in /usr/local/lib/python3.12/dist-packages (from -r requirements.txt (line 1)) (4.12.2)\n",
            "Requirement already satisfied: numpy==1.26.2 in /usr/local/lib/python3.12/dist-packages (from -r requirements.txt (line 2)) (1.26.2)\n",
            "Requirement already satisfied: pydantic==2.4.2 in /usr/local/lib/python3.12/dist-packages (from -r requirements.txt (line 3)) (2.4.2)\n",
            "Requirement already satisfied: python_dateutil==2.8.2 in /usr/local/lib/python3.12/dist-packages (from -r requirements.txt (line 4)) (2.8.2)\n",
            "Requirement already satisfied: PyYAML==6.0.1 in /usr/local/lib/python3.12/dist-packages (from -r requirements.txt (line 5)) (6.0.1)\n",
            "Requirement already satisfied: Requests==2.31.0 in /usr/local/lib/python3.12/dist-packages (from -r requirements.txt (line 6)) (2.31.0)\n",
            "Requirement already satisfied: typer==0.9.0 in /usr/local/lib/python3.12/dist-packages (from -r requirements.txt (line 7)) (0.9.0)\n",
            "Requirement already satisfied: typing_extensions==4.8.0 in /usr/local/lib/python3.12/dist-packages (from -r requirements.txt (line 8)) (4.8.0)\n",
            "Requirement already satisfied: soupsieve>1.2 in /usr/local/lib/python3.12/dist-packages (from beautifulsoup4==4.12.2->-r requirements.txt (line 1)) (2.8)\n",
            "Requirement already satisfied: annotated-types>=0.4.0 in /usr/local/lib/python3.12/dist-packages (from pydantic==2.4.2->-r requirements.txt (line 3)) (0.7.0)\n",
            "Requirement already satisfied: pydantic-core==2.10.1 in /usr/local/lib/python3.12/dist-packages (from pydantic==2.4.2->-r requirements.txt (line 3)) (2.10.1)\n",
            "Requirement already satisfied: six>=1.5 in /usr/local/lib/python3.12/dist-packages (from python_dateutil==2.8.2->-r requirements.txt (line 4)) (1.17.0)\n",
            "Requirement already satisfied: charset-normalizer<4,>=2 in /usr/local/lib/python3.12/dist-packages (from Requests==2.31.0->-r requirements.txt (line 6)) (3.4.3)\n",
            "Requirement already satisfied: idna<4,>=2.5 in /usr/local/lib/python3.12/dist-packages (from Requests==2.31.0->-r requirements.txt (line 6)) (3.10)\n",
            "Requirement already satisfied: urllib3<3,>=1.21.1 in /usr/local/lib/python3.12/dist-packages (from Requests==2.31.0->-r requirements.txt (line 6)) (2.5.0)\n",
            "Requirement already satisfied: certifi>=2017.4.17 in /usr/local/lib/python3.12/dist-packages (from Requests==2.31.0->-r requirements.txt (line 6)) (2025.8.3)\n",
            "Requirement already satisfied: click<9.0.0,>=7.1.1 in /usr/local/lib/python3.12/dist-packages (from typer==0.9.0->-r requirements.txt (line 7)) (8.3.0)\n"
          ]
        }
      ],
      "source": [
        "# 1) Clone the scraper and install its dependencies\n",
        "!git clone https://github.com/sudoknight/booking-reviews-scraper.git\n",
        "%cd /content/booking-reviews-scraper\n",
        "!pip install -r requirements.txt\n"
      ]
    },
    {
      "cell_type": "markdown",
      "source": [
        "#2) Parameters and OUTPUT_DIR\n",
        "What you do: Define the extraction parameters and tell the scraper where to save the CSVs.\n",
        "\n",
        "Why: Parameterization = reproducibility. If you don't specify OUTPUT_DIR, the CSV won't appear.\n",
        "\n",
        "What you should see: OUTPUT_DIR: /content/data."
      ],
      "metadata": {
        "id": "cbkUAGeA07OO"
      }
    },
    {
      "cell_type": "code",
      "source": [
        "# 2) Set parameters (hotel slug, country, sort, requested number of reviews) and output folder\n",
        "import yaml, pathlib, os\n",
        "\n",
        "HOTEL_NAME = \"ibis-quito\"       # hotel slug after /hotel/<country>/ in the Booking URL\n",
        "COUNTRY    = \"ec\"               # ISO alpha-2: \"ec\" for Ecuador, \"us\" for USA, etc.\n",
        "SORT_BY    = \"newest_first\"     # or: most_relevant, oldest_first, highest_scores, lowest_scores\n",
        "N_REVIEWS  = 1500               # ask for ~1500 to try to capture ~1200 available; actual may be less\n",
        "\n",
        "OUTPUT_DIR = \"/content/data\"\n",
        "pathlib.Path(OUTPUT_DIR).mkdir(parents=True, exist_ok=True)\n",
        "\n",
        "# write OUTPUT_DIR into the project's config.yml so the scraper saves there\n",
        "cfg_path = \"/content/booking-reviews-scraper/config.yml\"\n",
        "with open(cfg_path) as f:\n",
        "    cfg = yaml.safe_load(f)\n",
        "cfg[\"OUTPUT_DIR\"] = OUTPUT_DIR\n",
        "with open(cfg_path, \"w\") as f:\n",
        "    yaml.safe_dump(cfg, f)\n",
        "\n",
        "print(\"OUTPUT_DIR:\", cfg[\"OUTPUT_DIR\"])\n"
      ],
      "metadata": {
        "colab": {
          "base_uri": "https://localhost:8080/"
        },
        "id": "lFD1D8kaaJuM",
        "outputId": "1758a778-8b76-4537-9c0d-d7696d5622f9"
      },
      "execution_count": 2,
      "outputs": [
        {
          "output_type": "stream",
          "name": "stdout",
          "text": [
            "OUTPUT_DIR: /content/data\n"
          ]
        }
      ]
    },
    {
      "cell_type": "markdown",
      "source": [
        "3) Run the scraper\n",
        "What you do: Run the tool's CLI run.py with your hotel (ibis-quito) and country (ec). Why: Downloads the review pages, parses them, and creates CSVs. What you should see: Process logs; upon completion, there will be a timestamped folder inside /content/data containing reviews_*.csv."
      ],
      "metadata": {
        "id": "rqeppjw-Ha17"
      }
    },
    {
      "cell_type": "code",
      "source": [
        "# 1) Ir a la carpeta del proyecto\n",
        "%cd /content/booking-reviews-scraper\n",
        "\n",
        "# 2) Importar y ejecutar directamente (sin Typer/CLI)\n",
        "from run import execute\n",
        "\n",
        "# Usa tus variables ya definidas en la celda de parámetros\n",
        "execute(HOTEL_NAME, COUNTRY, SORT_BY, N_REVIEWS)\n"
      ],
      "metadata": {
        "colab": {
          "base_uri": "https://localhost:8080/"
        },
        "id": "5-hF3ieoHd04",
        "outputId": "ab475d20-2b2e-409c-8080-3d9a7d687015"
      },
      "execution_count": 3,
      "outputs": [
        {
          "output_type": "stream",
          "name": "stdout",
          "text": [
            "/content/booking-reviews-scraper\n"
          ]
        },
        {
          "output_type": "stream",
          "name": "stderr",
          "text": [
            "INFO:root:\n",
            "\n",
            "******** Input Params ********\n",
            "-->  country: ec\n",
            "-->  hotel_name: ibis-quito\n",
            "-->  sort_by: newest_first\n",
            "-->  n_rows: 1500\n",
            "-->  stop_critera: None\n",
            "************************\n",
            "\n",
            "\n"
          ]
        },
        {
          "output_type": "stream",
          "name": "stdout",
          "text": [
            "2025-10-04 21:26:59,207 - root - INFO - \n",
            "\n",
            "******** Input Params ********\n",
            "-->  country: ec\n",
            "-->  hotel_name: ibis-quito\n",
            "-->  sort_by: newest_first\n",
            "-->  n_rows: 1500\n",
            "-->  stop_critera: None\n",
            "************************\n",
            "\n",
            "\n"
          ]
        },
        {
          "output_type": "stream",
          "name": "stderr",
          "text": [
            "INFO:root:Creating URLs\n"
          ]
        },
        {
          "output_type": "stream",
          "name": "stdout",
          "text": [
            "2025-10-04 21:26:59,210 - root - INFO - Creating URLs\n"
          ]
        },
        {
          "output_type": "stream",
          "name": "stderr",
          "text": [
            "INFO:root:Checking max offset parameter value\n"
          ]
        },
        {
          "output_type": "stream",
          "name": "stdout",
          "text": [
            "2025-10-04 21:26:59,214 - root - INFO - Checking max offset parameter value\n"
          ]
        },
        {
          "output_type": "stream",
          "name": "stderr",
          "text": [
            "INFO:root:Offset parameter max value: 1200\n"
          ]
        },
        {
          "output_type": "stream",
          "name": "stdout",
          "text": [
            "2025-10-04 21:26:59,805 - root - INFO - Offset parameter max value: 1200\n"
          ]
        },
        {
          "output_type": "stream",
          "name": "stderr",
          "text": [
            "INFO:root:Created URLs: 121\n"
          ]
        },
        {
          "output_type": "stream",
          "name": "stdout",
          "text": [
            "2025-10-04 21:26:59,822 - root - INFO - Created URLs: 121\n"
          ]
        },
        {
          "output_type": "stream",
          "name": "stderr",
          "text": [
            "INFO:root:Progress Monitoring Thread Started\n"
          ]
        },
        {
          "output_type": "stream",
          "name": "stdout",
          "text": [
            "2025-10-04 21:26:59,825 - root - INFO - Progress Monitoring Thread Started\n"
          ]
        },
        {
          "output_type": "stream",
          "name": "stderr",
          "text": [
            "INFO:root:Starting Conditional Scraping on 121 urls\n"
          ]
        },
        {
          "output_type": "stream",
          "name": "stdout",
          "text": [
            "2025-10-04 21:26:59,825 - root - INFO - Starting Conditional Scraping on 121 urls\n"
          ]
        },
        {
          "output_type": "stream",
          "name": "stderr",
          "text": [
            "WARNING:root:Retrying 1 ... https://www.booking.com/reviewlist.en-gb.html?cc1=ec&pagename=ibis-quito&rows=10&sort=f_recent_desc\n"
          ]
        },
        {
          "output_type": "stream",
          "name": "stdout",
          "text": [
            "2025-10-04 21:27:00,206 - root - WARNING - Retrying 1 ... https://www.booking.com/reviewlist.en-gb.html?cc1=ec&pagename=ibis-quito&rows=10&sort=f_recent_desc\n"
          ]
        },
        {
          "output_type": "stream",
          "name": "stderr",
          "text": [
            "WARNING:root:Retrying 1 ... https://www.booking.com/reviewlist.en-gb.html?cc1=ec&pagename=ibis-quito&rows=10&sort=f_recent_desc&offset=10\n"
          ]
        },
        {
          "output_type": "stream",
          "name": "stdout",
          "text": [
            "2025-10-04 21:27:01,289 - root - WARNING - Retrying 1 ... https://www.booking.com/reviewlist.en-gb.html?cc1=ec&pagename=ibis-quito&rows=10&sort=f_recent_desc&offset=10\n"
          ]
        },
        {
          "output_type": "stream",
          "name": "stderr",
          "text": [
            "INFO:root:Processed 1/121\n"
          ]
        },
        {
          "output_type": "stream",
          "name": "stdout",
          "text": [
            "2025-10-04 21:27:01,832 - root - INFO - Processed 1/121\n"
          ]
        },
        {
          "output_type": "stream",
          "name": "stderr",
          "text": [
            "INFO:root:Processed 4/121\n"
          ]
        },
        {
          "output_type": "stream",
          "name": "stdout",
          "text": [
            "2025-10-04 21:27:03,840 - root - INFO - Processed 4/121\n"
          ]
        },
        {
          "output_type": "stream",
          "name": "stderr",
          "text": [
            "INFO:root:Processed 7/121\n"
          ]
        },
        {
          "output_type": "stream",
          "name": "stdout",
          "text": [
            "2025-10-04 21:27:05,847 - root - INFO - Processed 7/121\n"
          ]
        },
        {
          "output_type": "stream",
          "name": "stderr",
          "text": [
            "WARNING:root:Retrying 1 ... https://www.booking.com/reviewlist.en-gb.html?cc1=ec&pagename=ibis-quito&rows=10&sort=f_recent_desc&offset=80\n"
          ]
        },
        {
          "output_type": "stream",
          "name": "stdout",
          "text": [
            "2025-10-04 21:27:06,815 - root - WARNING - Retrying 1 ... https://www.booking.com/reviewlist.en-gb.html?cc1=ec&pagename=ibis-quito&rows=10&sort=f_recent_desc&offset=80\n"
          ]
        },
        {
          "output_type": "stream",
          "name": "stderr",
          "text": [
            "INFO:root:Processed 9/121\n"
          ]
        },
        {
          "output_type": "stream",
          "name": "stdout",
          "text": [
            "2025-10-04 21:27:07,852 - root - INFO - Processed 9/121\n"
          ]
        },
        {
          "output_type": "stream",
          "name": "stderr",
          "text": [
            "WARNING:root:Retrying 1 ... https://www.booking.com/reviewlist.en-gb.html?cc1=ec&pagename=ibis-quito&rows=10&sort=f_recent_desc&offset=110\n"
          ]
        },
        {
          "output_type": "stream",
          "name": "stdout",
          "text": [
            "2025-10-04 21:27:08,970 - root - WARNING - Retrying 1 ... https://www.booking.com/reviewlist.en-gb.html?cc1=ec&pagename=ibis-quito&rows=10&sort=f_recent_desc&offset=110\n"
          ]
        },
        {
          "output_type": "stream",
          "name": "stderr",
          "text": [
            "WARNING:root:Retrying 2 ... https://www.booking.com/reviewlist.en-gb.html?cc1=ec&pagename=ibis-quito&rows=10&sort=f_recent_desc&offset=110\n"
          ]
        },
        {
          "output_type": "stream",
          "name": "stdout",
          "text": [
            "2025-10-04 21:27:09,286 - root - WARNING - Retrying 2 ... https://www.booking.com/reviewlist.en-gb.html?cc1=ec&pagename=ibis-quito&rows=10&sort=f_recent_desc&offset=110\n"
          ]
        },
        {
          "output_type": "stream",
          "name": "stderr",
          "text": [
            "INFO:root:Processed 12/121\n"
          ]
        },
        {
          "output_type": "stream",
          "name": "stdout",
          "text": [
            "2025-10-04 21:27:09,856 - root - INFO - Processed 12/121\n"
          ]
        },
        {
          "output_type": "stream",
          "name": "stderr",
          "text": [
            "WARNING:root:Retrying 1 ... https://www.booking.com/reviewlist.en-gb.html?cc1=ec&pagename=ibis-quito&rows=10&sort=f_recent_desc&offset=120\n"
          ]
        },
        {
          "output_type": "stream",
          "name": "stdout",
          "text": [
            "2025-10-04 21:27:10,106 - root - WARNING - Retrying 1 ... https://www.booking.com/reviewlist.en-gb.html?cc1=ec&pagename=ibis-quito&rows=10&sort=f_recent_desc&offset=120\n"
          ]
        },
        {
          "output_type": "stream",
          "name": "stderr",
          "text": [
            "WARNING:root:Retrying 2 ... https://www.booking.com/reviewlist.en-gb.html?cc1=ec&pagename=ibis-quito&rows=10&sort=f_recent_desc&offset=120\n"
          ]
        },
        {
          "output_type": "stream",
          "name": "stdout",
          "text": [
            "2025-10-04 21:27:10,411 - root - WARNING - Retrying 2 ... https://www.booking.com/reviewlist.en-gb.html?cc1=ec&pagename=ibis-quito&rows=10&sort=f_recent_desc&offset=120\n"
          ]
        },
        {
          "output_type": "stream",
          "name": "stderr",
          "text": [
            "WARNING:root:Retrying 3 ... https://www.booking.com/reviewlist.en-gb.html?cc1=ec&pagename=ibis-quito&rows=10&sort=f_recent_desc&offset=120\n"
          ]
        },
        {
          "output_type": "stream",
          "name": "stdout",
          "text": [
            "2025-10-04 21:27:10,716 - root - WARNING - Retrying 3 ... https://www.booking.com/reviewlist.en-gb.html?cc1=ec&pagename=ibis-quito&rows=10&sort=f_recent_desc&offset=120\n"
          ]
        },
        {
          "output_type": "stream",
          "name": "stderr",
          "text": [
            "WARNING:root:Retrying 1 ... https://www.booking.com/reviewlist.en-gb.html?cc1=ec&pagename=ibis-quito&rows=10&sort=f_recent_desc&offset=130\n"
          ]
        },
        {
          "output_type": "stream",
          "name": "stdout",
          "text": [
            "2025-10-04 21:27:11,040 - root - WARNING - Retrying 1 ... https://www.booking.com/reviewlist.en-gb.html?cc1=ec&pagename=ibis-quito&rows=10&sort=f_recent_desc&offset=130\n"
          ]
        },
        {
          "output_type": "stream",
          "name": "stderr",
          "text": [
            "WARNING:root:Retrying 2 ... https://www.booking.com/reviewlist.en-gb.html?cc1=ec&pagename=ibis-quito&rows=10&sort=f_recent_desc&offset=130\n"
          ]
        },
        {
          "output_type": "stream",
          "name": "stdout",
          "text": [
            "2025-10-04 21:27:11,352 - root - WARNING - Retrying 2 ... https://www.booking.com/reviewlist.en-gb.html?cc1=ec&pagename=ibis-quito&rows=10&sort=f_recent_desc&offset=130\n"
          ]
        },
        {
          "output_type": "stream",
          "name": "stderr",
          "text": [
            "WARNING:root:Retrying 3 ... https://www.booking.com/reviewlist.en-gb.html?cc1=ec&pagename=ibis-quito&rows=10&sort=f_recent_desc&offset=130\n"
          ]
        },
        {
          "output_type": "stream",
          "name": "stdout",
          "text": [
            "2025-10-04 21:27:11,637 - root - WARNING - Retrying 3 ... https://www.booking.com/reviewlist.en-gb.html?cc1=ec&pagename=ibis-quito&rows=10&sort=f_recent_desc&offset=130\n"
          ]
        },
        {
          "output_type": "stream",
          "name": "stderr",
          "text": [
            "INFO:root:Processed 14/121\n"
          ]
        },
        {
          "output_type": "stream",
          "name": "stdout",
          "text": [
            "2025-10-04 21:27:11,859 - root - INFO - Processed 14/121\n"
          ]
        },
        {
          "output_type": "stream",
          "name": "stderr",
          "text": [
            "WARNING:root:Retrying 1 ... https://www.booking.com/reviewlist.en-gb.html?cc1=ec&pagename=ibis-quito&rows=10&sort=f_recent_desc&offset=160\n"
          ]
        },
        {
          "output_type": "stream",
          "name": "stdout",
          "text": [
            "2025-10-04 21:27:13,006 - root - WARNING - Retrying 1 ... https://www.booking.com/reviewlist.en-gb.html?cc1=ec&pagename=ibis-quito&rows=10&sort=f_recent_desc&offset=160\n"
          ]
        },
        {
          "output_type": "stream",
          "name": "stderr",
          "text": [
            "WARNING:root:Retrying 2 ... https://www.booking.com/reviewlist.en-gb.html?cc1=ec&pagename=ibis-quito&rows=10&sort=f_recent_desc&offset=160\n"
          ]
        },
        {
          "output_type": "stream",
          "name": "stdout",
          "text": [
            "2025-10-04 21:27:13,311 - root - WARNING - Retrying 2 ... https://www.booking.com/reviewlist.en-gb.html?cc1=ec&pagename=ibis-quito&rows=10&sort=f_recent_desc&offset=160\n"
          ]
        },
        {
          "output_type": "stream",
          "name": "stderr",
          "text": [
            "INFO:root:Processed 17/121\n"
          ]
        },
        {
          "output_type": "stream",
          "name": "stdout",
          "text": [
            "2025-10-04 21:27:13,862 - root - INFO - Processed 17/121\n"
          ]
        },
        {
          "output_type": "stream",
          "name": "stderr",
          "text": [
            "WARNING:root:Retrying 1 ... https://www.booking.com/reviewlist.en-gb.html?cc1=ec&pagename=ibis-quito&rows=10&sort=f_recent_desc&offset=180\n"
          ]
        },
        {
          "output_type": "stream",
          "name": "stdout",
          "text": [
            "2025-10-04 21:27:14,743 - root - WARNING - Retrying 1 ... https://www.booking.com/reviewlist.en-gb.html?cc1=ec&pagename=ibis-quito&rows=10&sort=f_recent_desc&offset=180\n"
          ]
        },
        {
          "output_type": "stream",
          "name": "stderr",
          "text": [
            "INFO:root:Processed 20/121\n"
          ]
        },
        {
          "output_type": "stream",
          "name": "stdout",
          "text": [
            "2025-10-04 21:27:15,864 - root - INFO - Processed 20/121\n"
          ]
        },
        {
          "output_type": "stream",
          "name": "stderr",
          "text": [
            "WARNING:root:Retrying 1 ... https://www.booking.com/reviewlist.en-gb.html?cc1=ec&pagename=ibis-quito&rows=10&sort=f_recent_desc&offset=210\n"
          ]
        },
        {
          "output_type": "stream",
          "name": "stdout",
          "text": [
            "2025-10-04 21:27:16,582 - root - WARNING - Retrying 1 ... https://www.booking.com/reviewlist.en-gb.html?cc1=ec&pagename=ibis-quito&rows=10&sort=f_recent_desc&offset=210\n"
          ]
        },
        {
          "output_type": "stream",
          "name": "stderr",
          "text": [
            "WARNING:root:Retrying 1 ... https://www.booking.com/reviewlist.en-gb.html?cc1=ec&pagename=ibis-quito&rows=10&sort=f_recent_desc&offset=220\n"
          ]
        },
        {
          "output_type": "stream",
          "name": "stdout",
          "text": [
            "2025-10-04 21:27:17,390 - root - WARNING - Retrying 1 ... https://www.booking.com/reviewlist.en-gb.html?cc1=ec&pagename=ibis-quito&rows=10&sort=f_recent_desc&offset=220\n"
          ]
        },
        {
          "output_type": "stream",
          "name": "stderr",
          "text": [
            "WARNING:root:Retrying 2 ... https://www.booking.com/reviewlist.en-gb.html?cc1=ec&pagename=ibis-quito&rows=10&sort=f_recent_desc&offset=220\n"
          ]
        },
        {
          "output_type": "stream",
          "name": "stdout",
          "text": [
            "2025-10-04 21:27:17,715 - root - WARNING - Retrying 2 ... https://www.booking.com/reviewlist.en-gb.html?cc1=ec&pagename=ibis-quito&rows=10&sort=f_recent_desc&offset=220\n"
          ]
        },
        {
          "output_type": "stream",
          "name": "stderr",
          "text": [
            "INFO:root:Processed 22/121\n"
          ]
        },
        {
          "output_type": "stream",
          "name": "stdout",
          "text": [
            "2025-10-04 21:27:17,866 - root - INFO - Processed 22/121\n"
          ]
        },
        {
          "output_type": "stream",
          "name": "stderr",
          "text": [
            "WARNING:root:Retrying 3 ... https://www.booking.com/reviewlist.en-gb.html?cc1=ec&pagename=ibis-quito&rows=10&sort=f_recent_desc&offset=220\n"
          ]
        },
        {
          "output_type": "stream",
          "name": "stdout",
          "text": [
            "2025-10-04 21:27:18,020 - root - WARNING - Retrying 3 ... https://www.booking.com/reviewlist.en-gb.html?cc1=ec&pagename=ibis-quito&rows=10&sort=f_recent_desc&offset=220\n"
          ]
        },
        {
          "output_type": "stream",
          "name": "stderr",
          "text": [
            "WARNING:root:Retrying 1 ... https://www.booking.com/reviewlist.en-gb.html?cc1=ec&pagename=ibis-quito&rows=10&sort=f_recent_desc&offset=230\n"
          ]
        },
        {
          "output_type": "stream",
          "name": "stdout",
          "text": [
            "2025-10-04 21:27:18,320 - root - WARNING - Retrying 1 ... https://www.booking.com/reviewlist.en-gb.html?cc1=ec&pagename=ibis-quito&rows=10&sort=f_recent_desc&offset=230\n"
          ]
        },
        {
          "output_type": "stream",
          "name": "stderr",
          "text": [
            "WARNING:root:Retrying 1 ... https://www.booking.com/reviewlist.en-gb.html?cc1=ec&pagename=ibis-quito&rows=10&sort=f_recent_desc&offset=240\n"
          ]
        },
        {
          "output_type": "stream",
          "name": "stdout",
          "text": [
            "2025-10-04 21:27:19,206 - root - WARNING - Retrying 1 ... https://www.booking.com/reviewlist.en-gb.html?cc1=ec&pagename=ibis-quito&rows=10&sort=f_recent_desc&offset=240\n"
          ]
        },
        {
          "output_type": "stream",
          "name": "stderr",
          "text": [
            "INFO:root:Processed 25/121\n"
          ]
        },
        {
          "output_type": "stream",
          "name": "stdout",
          "text": [
            "2025-10-04 21:27:19,870 - root - INFO - Processed 25/121\n"
          ]
        },
        {
          "output_type": "stream",
          "name": "stderr",
          "text": [
            "INFO:root:Processed 27/121\n"
          ]
        },
        {
          "output_type": "stream",
          "name": "stdout",
          "text": [
            "2025-10-04 21:27:21,905 - root - INFO - Processed 27/121\n"
          ]
        },
        {
          "output_type": "stream",
          "name": "stderr",
          "text": [
            "WARNING:root:Retrying 1 ... https://www.booking.com/reviewlist.en-gb.html?cc1=ec&pagename=ibis-quito&rows=10&sort=f_recent_desc&offset=280\n"
          ]
        },
        {
          "output_type": "stream",
          "name": "stdout",
          "text": [
            "2025-10-04 21:27:22,241 - root - WARNING - Retrying 1 ... https://www.booking.com/reviewlist.en-gb.html?cc1=ec&pagename=ibis-quito&rows=10&sort=f_recent_desc&offset=280\n"
          ]
        },
        {
          "output_type": "stream",
          "name": "stderr",
          "text": [
            "WARNING:root:Retrying 1 ... https://www.booking.com/reviewlist.en-gb.html?cc1=ec&pagename=ibis-quito&rows=10&sort=f_recent_desc&offset=290\n"
          ]
        },
        {
          "output_type": "stream",
          "name": "stdout",
          "text": [
            "2025-10-04 21:27:23,130 - root - WARNING - Retrying 1 ... https://www.booking.com/reviewlist.en-gb.html?cc1=ec&pagename=ibis-quito&rows=10&sort=f_recent_desc&offset=290\n"
          ]
        },
        {
          "output_type": "stream",
          "name": "stderr",
          "text": [
            "INFO:root:Processed 30/121\n"
          ]
        },
        {
          "output_type": "stream",
          "name": "stdout",
          "text": [
            "2025-10-04 21:27:23,935 - root - INFO - Processed 30/121\n"
          ]
        },
        {
          "output_type": "stream",
          "name": "stderr",
          "text": [
            "WARNING:root:Retrying 1 ... https://www.booking.com/reviewlist.en-gb.html?cc1=ec&pagename=ibis-quito&rows=10&sort=f_recent_desc&offset=310\n"
          ]
        },
        {
          "output_type": "stream",
          "name": "stdout",
          "text": [
            "2025-10-04 21:27:24,526 - root - WARNING - Retrying 1 ... https://www.booking.com/reviewlist.en-gb.html?cc1=ec&pagename=ibis-quito&rows=10&sort=f_recent_desc&offset=310\n"
          ]
        },
        {
          "output_type": "stream",
          "name": "stderr",
          "text": [
            "WARNING:root:Retrying 1 ... https://www.booking.com/reviewlist.en-gb.html?cc1=ec&pagename=ibis-quito&rows=10&sort=f_recent_desc&offset=320\n"
          ]
        },
        {
          "output_type": "stream",
          "name": "stdout",
          "text": [
            "2025-10-04 21:27:25,388 - root - WARNING - Retrying 1 ... https://www.booking.com/reviewlist.en-gb.html?cc1=ec&pagename=ibis-quito&rows=10&sort=f_recent_desc&offset=320\n"
          ]
        },
        {
          "output_type": "stream",
          "name": "stderr",
          "text": [
            "WARNING:root:Retrying 2 ... https://www.booking.com/reviewlist.en-gb.html?cc1=ec&pagename=ibis-quito&rows=10&sort=f_recent_desc&offset=320\n"
          ]
        },
        {
          "output_type": "stream",
          "name": "stdout",
          "text": [
            "2025-10-04 21:27:25,692 - root - WARNING - Retrying 2 ... https://www.booking.com/reviewlist.en-gb.html?cc1=ec&pagename=ibis-quito&rows=10&sort=f_recent_desc&offset=320\n"
          ]
        },
        {
          "output_type": "stream",
          "name": "stderr",
          "text": [
            "INFO:root:Processed 32/121\n"
          ]
        },
        {
          "output_type": "stream",
          "name": "stdout",
          "text": [
            "2025-10-04 21:27:25,939 - root - INFO - Processed 32/121\n"
          ]
        },
        {
          "output_type": "stream",
          "name": "stderr",
          "text": [
            "WARNING:root:Retrying 1 ... https://www.booking.com/reviewlist.en-gb.html?cc1=ec&pagename=ibis-quito&rows=10&sort=f_recent_desc&offset=330\n"
          ]
        },
        {
          "output_type": "stream",
          "name": "stdout",
          "text": [
            "2025-10-04 21:27:26,493 - root - WARNING - Retrying 1 ... https://www.booking.com/reviewlist.en-gb.html?cc1=ec&pagename=ibis-quito&rows=10&sort=f_recent_desc&offset=330\n"
          ]
        },
        {
          "output_type": "stream",
          "name": "stderr",
          "text": [
            "WARNING:root:Retrying 1 ... https://www.booking.com/reviewlist.en-gb.html?cc1=ec&pagename=ibis-quito&rows=10&sort=f_recent_desc&offset=340\n"
          ]
        },
        {
          "output_type": "stream",
          "name": "stdout",
          "text": [
            "2025-10-04 21:27:27,276 - root - WARNING - Retrying 1 ... https://www.booking.com/reviewlist.en-gb.html?cc1=ec&pagename=ibis-quito&rows=10&sort=f_recent_desc&offset=340\n"
          ]
        },
        {
          "output_type": "stream",
          "name": "stderr",
          "text": [
            "INFO:root:Processed 35/121\n"
          ]
        },
        {
          "output_type": "stream",
          "name": "stdout",
          "text": [
            "2025-10-04 21:27:27,942 - root - INFO - Processed 35/121\n"
          ]
        },
        {
          "output_type": "stream",
          "name": "stderr",
          "text": [
            "WARNING:root:Retrying 1 ... https://www.booking.com/reviewlist.en-gb.html?cc1=ec&pagename=ibis-quito&rows=10&sort=f_recent_desc&offset=370\n"
          ]
        },
        {
          "output_type": "stream",
          "name": "stdout",
          "text": [
            "2025-10-04 21:27:29,181 - root - WARNING - Retrying 1 ... https://www.booking.com/reviewlist.en-gb.html?cc1=ec&pagename=ibis-quito&rows=10&sort=f_recent_desc&offset=370\n"
          ]
        },
        {
          "output_type": "stream",
          "name": "stderr",
          "text": [
            "INFO:root:Processed 38/121\n"
          ]
        },
        {
          "output_type": "stream",
          "name": "stdout",
          "text": [
            "2025-10-04 21:27:29,944 - root - INFO - Processed 38/121\n"
          ]
        },
        {
          "output_type": "stream",
          "name": "stderr",
          "text": [
            "WARNING:root:Retrying 1 ... https://www.booking.com/reviewlist.en-gb.html?cc1=ec&pagename=ibis-quito&rows=10&sort=f_recent_desc&offset=380\n"
          ]
        },
        {
          "output_type": "stream",
          "name": "stdout",
          "text": [
            "2025-10-04 21:27:30,051 - root - WARNING - Retrying 1 ... https://www.booking.com/reviewlist.en-gb.html?cc1=ec&pagename=ibis-quito&rows=10&sort=f_recent_desc&offset=380\n"
          ]
        },
        {
          "output_type": "stream",
          "name": "stderr",
          "text": [
            "WARNING:root:Retrying 1 ... https://www.booking.com/reviewlist.en-gb.html?cc1=ec&pagename=ibis-quito&rows=10&sort=f_recent_desc&offset=390\n"
          ]
        },
        {
          "output_type": "stream",
          "name": "stdout",
          "text": [
            "2025-10-04 21:27:30,953 - root - WARNING - Retrying 1 ... https://www.booking.com/reviewlist.en-gb.html?cc1=ec&pagename=ibis-quito&rows=10&sort=f_recent_desc&offset=390\n"
          ]
        },
        {
          "output_type": "stream",
          "name": "stderr",
          "text": [
            "WARNING:root:Retrying 2 ... https://www.booking.com/reviewlist.en-gb.html?cc1=ec&pagename=ibis-quito&rows=10&sort=f_recent_desc&offset=390\n"
          ]
        },
        {
          "output_type": "stream",
          "name": "stdout",
          "text": [
            "2025-10-04 21:27:31,289 - root - WARNING - Retrying 2 ... https://www.booking.com/reviewlist.en-gb.html?cc1=ec&pagename=ibis-quito&rows=10&sort=f_recent_desc&offset=390\n"
          ]
        },
        {
          "output_type": "stream",
          "name": "stderr",
          "text": [
            "INFO:root:Processed 39/121\n"
          ]
        },
        {
          "output_type": "stream",
          "name": "stdout",
          "text": [
            "2025-10-04 21:27:31,947 - root - INFO - Processed 39/121\n"
          ]
        },
        {
          "output_type": "stream",
          "name": "stderr",
          "text": [
            "WARNING:root:Retrying 1 ... https://www.booking.com/reviewlist.en-gb.html?cc1=ec&pagename=ibis-quito&rows=10&sort=f_recent_desc&offset=400\n"
          ]
        },
        {
          "output_type": "stream",
          "name": "stdout",
          "text": [
            "2025-10-04 21:27:32,638 - root - WARNING - Retrying 1 ... https://www.booking.com/reviewlist.en-gb.html?cc1=ec&pagename=ibis-quito&rows=10&sort=f_recent_desc&offset=400\n"
          ]
        },
        {
          "output_type": "stream",
          "name": "stderr",
          "text": [
            "WARNING:root:Retrying 2 ... https://www.booking.com/reviewlist.en-gb.html?cc1=ec&pagename=ibis-quito&rows=10&sort=f_recent_desc&offset=400\n"
          ]
        },
        {
          "output_type": "stream",
          "name": "stdout",
          "text": [
            "2025-10-04 21:27:32,927 - root - WARNING - Retrying 2 ... https://www.booking.com/reviewlist.en-gb.html?cc1=ec&pagename=ibis-quito&rows=10&sort=f_recent_desc&offset=400\n"
          ]
        },
        {
          "output_type": "stream",
          "name": "stderr",
          "text": [
            "WARNING:root:Retrying 3 ... https://www.booking.com/reviewlist.en-gb.html?cc1=ec&pagename=ibis-quito&rows=10&sort=f_recent_desc&offset=400\n"
          ]
        },
        {
          "output_type": "stream",
          "name": "stdout",
          "text": [
            "2025-10-04 21:27:33,233 - root - WARNING - Retrying 3 ... https://www.booking.com/reviewlist.en-gb.html?cc1=ec&pagename=ibis-quito&rows=10&sort=f_recent_desc&offset=400\n"
          ]
        },
        {
          "output_type": "stream",
          "name": "stderr",
          "text": [
            "WARNING:root:Retrying 1 ... https://www.booking.com/reviewlist.en-gb.html?cc1=ec&pagename=ibis-quito&rows=10&sort=f_recent_desc&offset=410\n"
          ]
        },
        {
          "output_type": "stream",
          "name": "stdout",
          "text": [
            "2025-10-04 21:27:33,531 - root - WARNING - Retrying 1 ... https://www.booking.com/reviewlist.en-gb.html?cc1=ec&pagename=ibis-quito&rows=10&sort=f_recent_desc&offset=410\n"
          ]
        },
        {
          "output_type": "stream",
          "name": "stderr",
          "text": [
            "WARNING:root:Retrying 2 ... https://www.booking.com/reviewlist.en-gb.html?cc1=ec&pagename=ibis-quito&rows=10&sort=f_recent_desc&offset=410\n"
          ]
        },
        {
          "output_type": "stream",
          "name": "stdout",
          "text": [
            "2025-10-04 21:27:33,822 - root - WARNING - Retrying 2 ... https://www.booking.com/reviewlist.en-gb.html?cc1=ec&pagename=ibis-quito&rows=10&sort=f_recent_desc&offset=410\n"
          ]
        },
        {
          "output_type": "stream",
          "name": "stderr",
          "text": [
            "INFO:root:Processed 41/121\n"
          ]
        },
        {
          "output_type": "stream",
          "name": "stdout",
          "text": [
            "2025-10-04 21:27:33,950 - root - INFO - Processed 41/121\n"
          ]
        },
        {
          "output_type": "stream",
          "name": "stderr",
          "text": [
            "WARNING:root:Retrying 1 ... https://www.booking.com/reviewlist.en-gb.html?cc1=ec&pagename=ibis-quito&rows=10&sort=f_recent_desc&offset=430\n"
          ]
        },
        {
          "output_type": "stream",
          "name": "stdout",
          "text": [
            "2025-10-04 21:27:35,358 - root - WARNING - Retrying 1 ... https://www.booking.com/reviewlist.en-gb.html?cc1=ec&pagename=ibis-quito&rows=10&sort=f_recent_desc&offset=430\n"
          ]
        },
        {
          "output_type": "stream",
          "name": "stderr",
          "text": [
            "INFO:root:Processed 44/121\n"
          ]
        },
        {
          "output_type": "stream",
          "name": "stdout",
          "text": [
            "2025-10-04 21:27:35,952 - root - INFO - Processed 44/121\n"
          ]
        },
        {
          "output_type": "stream",
          "name": "stderr",
          "text": [
            "WARNING:root:Retrying 1 ... https://www.booking.com/reviewlist.en-gb.html?cc1=ec&pagename=ibis-quito&rows=10&sort=f_recent_desc&offset=440\n"
          ]
        },
        {
          "output_type": "stream",
          "name": "stdout",
          "text": [
            "2025-10-04 21:27:36,218 - root - WARNING - Retrying 1 ... https://www.booking.com/reviewlist.en-gb.html?cc1=ec&pagename=ibis-quito&rows=10&sort=f_recent_desc&offset=440\n"
          ]
        },
        {
          "output_type": "stream",
          "name": "stderr",
          "text": [
            "WARNING:root:Retrying 1 ... https://www.booking.com/reviewlist.en-gb.html?cc1=ec&pagename=ibis-quito&rows=10&sort=f_recent_desc&offset=450\n"
          ]
        },
        {
          "output_type": "stream",
          "name": "stdout",
          "text": [
            "2025-10-04 21:27:37,035 - root - WARNING - Retrying 1 ... https://www.booking.com/reviewlist.en-gb.html?cc1=ec&pagename=ibis-quito&rows=10&sort=f_recent_desc&offset=450\n"
          ]
        },
        {
          "output_type": "stream",
          "name": "stderr",
          "text": [
            "WARNING:root:Retrying 2 ... https://www.booking.com/reviewlist.en-gb.html?cc1=ec&pagename=ibis-quito&rows=10&sort=f_recent_desc&offset=450\n"
          ]
        },
        {
          "output_type": "stream",
          "name": "stdout",
          "text": [
            "2025-10-04 21:27:37,337 - root - WARNING - Retrying 2 ... https://www.booking.com/reviewlist.en-gb.html?cc1=ec&pagename=ibis-quito&rows=10&sort=f_recent_desc&offset=450\n"
          ]
        },
        {
          "output_type": "stream",
          "name": "stderr",
          "text": [
            "INFO:root:Processed 46/121\n"
          ]
        },
        {
          "output_type": "stream",
          "name": "stdout",
          "text": [
            "2025-10-04 21:27:37,956 - root - INFO - Processed 46/121\n"
          ]
        },
        {
          "output_type": "stream",
          "name": "stderr",
          "text": [
            "WARNING:root:Retrying 1 ... https://www.booking.com/reviewlist.en-gb.html?cc1=ec&pagename=ibis-quito&rows=10&sort=f_recent_desc&offset=460\n"
          ]
        },
        {
          "output_type": "stream",
          "name": "stdout",
          "text": [
            "2025-10-04 21:27:38,195 - root - WARNING - Retrying 1 ... https://www.booking.com/reviewlist.en-gb.html?cc1=ec&pagename=ibis-quito&rows=10&sort=f_recent_desc&offset=460\n"
          ]
        },
        {
          "output_type": "stream",
          "name": "stderr",
          "text": [
            "WARNING:root:Retrying 2 ... https://www.booking.com/reviewlist.en-gb.html?cc1=ec&pagename=ibis-quito&rows=10&sort=f_recent_desc&offset=460\n"
          ]
        },
        {
          "output_type": "stream",
          "name": "stdout",
          "text": [
            "2025-10-04 21:27:38,476 - root - WARNING - Retrying 2 ... https://www.booking.com/reviewlist.en-gb.html?cc1=ec&pagename=ibis-quito&rows=10&sort=f_recent_desc&offset=460\n"
          ]
        },
        {
          "output_type": "stream",
          "name": "stderr",
          "text": [
            "WARNING:root:Retrying 1 ... https://www.booking.com/reviewlist.en-gb.html?cc1=ec&pagename=ibis-quito&rows=10&sort=f_recent_desc&offset=480\n"
          ]
        },
        {
          "output_type": "stream",
          "name": "stdout",
          "text": [
            "2025-10-04 21:27:39,887 - root - WARNING - Retrying 1 ... https://www.booking.com/reviewlist.en-gb.html?cc1=ec&pagename=ibis-quito&rows=10&sort=f_recent_desc&offset=480\n"
          ]
        },
        {
          "output_type": "stream",
          "name": "stderr",
          "text": [
            "INFO:root:Processed 48/121\n"
          ]
        },
        {
          "output_type": "stream",
          "name": "stdout",
          "text": [
            "2025-10-04 21:27:39,960 - root - INFO - Processed 48/121\n"
          ]
        },
        {
          "output_type": "stream",
          "name": "stderr",
          "text": [
            "WARNING:root:Retrying 2 ... https://www.booking.com/reviewlist.en-gb.html?cc1=ec&pagename=ibis-quito&rows=10&sort=f_recent_desc&offset=480\n"
          ]
        },
        {
          "output_type": "stream",
          "name": "stdout",
          "text": [
            "2025-10-04 21:27:40,178 - root - WARNING - Retrying 2 ... https://www.booking.com/reviewlist.en-gb.html?cc1=ec&pagename=ibis-quito&rows=10&sort=f_recent_desc&offset=480\n"
          ]
        },
        {
          "output_type": "stream",
          "name": "stderr",
          "text": [
            "WARNING:root:Retrying 3 ... https://www.booking.com/reviewlist.en-gb.html?cc1=ec&pagename=ibis-quito&rows=10&sort=f_recent_desc&offset=480\n"
          ]
        },
        {
          "output_type": "stream",
          "name": "stdout",
          "text": [
            "2025-10-04 21:27:40,491 - root - WARNING - Retrying 3 ... https://www.booking.com/reviewlist.en-gb.html?cc1=ec&pagename=ibis-quito&rows=10&sort=f_recent_desc&offset=480\n"
          ]
        },
        {
          "output_type": "stream",
          "name": "stderr",
          "text": [
            "INFO:root:Processed 51/121\n"
          ]
        },
        {
          "output_type": "stream",
          "name": "stdout",
          "text": [
            "2025-10-04 21:27:41,964 - root - INFO - Processed 51/121\n"
          ]
        },
        {
          "output_type": "stream",
          "name": "stderr",
          "text": [
            "WARNING:root:Retrying 1 ... https://www.booking.com/reviewlist.en-gb.html?cc1=ec&pagename=ibis-quito&rows=10&sort=f_recent_desc&offset=510\n"
          ]
        },
        {
          "output_type": "stream",
          "name": "stdout",
          "text": [
            "2025-10-04 21:27:42,207 - root - WARNING - Retrying 1 ... https://www.booking.com/reviewlist.en-gb.html?cc1=ec&pagename=ibis-quito&rows=10&sort=f_recent_desc&offset=510\n"
          ]
        },
        {
          "output_type": "stream",
          "name": "stderr",
          "text": [
            "INFO:root:Processed 53/121\n"
          ]
        },
        {
          "output_type": "stream",
          "name": "stdout",
          "text": [
            "2025-10-04 21:27:43,968 - root - INFO - Processed 53/121\n"
          ]
        },
        {
          "output_type": "stream",
          "name": "stderr",
          "text": [
            "WARNING:root:Retrying 1 ... https://www.booking.com/reviewlist.en-gb.html?cc1=ec&pagename=ibis-quito&rows=10&sort=f_recent_desc&offset=540\n"
          ]
        },
        {
          "output_type": "stream",
          "name": "stdout",
          "text": [
            "2025-10-04 21:27:44,414 - root - WARNING - Retrying 1 ... https://www.booking.com/reviewlist.en-gb.html?cc1=ec&pagename=ibis-quito&rows=10&sort=f_recent_desc&offset=540\n"
          ]
        },
        {
          "output_type": "stream",
          "name": "stderr",
          "text": [
            "WARNING:root:Retrying 1 ... https://www.booking.com/reviewlist.en-gb.html?cc1=ec&pagename=ibis-quito&rows=10&sort=f_recent_desc&offset=550\n"
          ]
        },
        {
          "output_type": "stream",
          "name": "stdout",
          "text": [
            "2025-10-04 21:27:45,613 - root - WARNING - Retrying 1 ... https://www.booking.com/reviewlist.en-gb.html?cc1=ec&pagename=ibis-quito&rows=10&sort=f_recent_desc&offset=550\n"
          ]
        },
        {
          "output_type": "stream",
          "name": "stderr",
          "text": [
            "WARNING:root:Retrying 2 ... https://www.booking.com/reviewlist.en-gb.html?cc1=ec&pagename=ibis-quito&rows=10&sort=f_recent_desc&offset=550\n"
          ]
        },
        {
          "output_type": "stream",
          "name": "stdout",
          "text": [
            "2025-10-04 21:27:45,905 - root - WARNING - Retrying 2 ... https://www.booking.com/reviewlist.en-gb.html?cc1=ec&pagename=ibis-quito&rows=10&sort=f_recent_desc&offset=550\n"
          ]
        },
        {
          "output_type": "stream",
          "name": "stderr",
          "text": [
            "INFO:root:Processed 55/121\n"
          ]
        },
        {
          "output_type": "stream",
          "name": "stdout",
          "text": [
            "2025-10-04 21:27:45,970 - root - INFO - Processed 55/121\n"
          ]
        },
        {
          "output_type": "stream",
          "name": "stderr",
          "text": [
            "WARNING:root:Retrying 3 ... https://www.booking.com/reviewlist.en-gb.html?cc1=ec&pagename=ibis-quito&rows=10&sort=f_recent_desc&offset=550\n"
          ]
        },
        {
          "output_type": "stream",
          "name": "stdout",
          "text": [
            "2025-10-04 21:27:46,211 - root - WARNING - Retrying 3 ... https://www.booking.com/reviewlist.en-gb.html?cc1=ec&pagename=ibis-quito&rows=10&sort=f_recent_desc&offset=550\n"
          ]
        },
        {
          "output_type": "stream",
          "name": "stderr",
          "text": [
            "INFO:root:Processed 58/121\n"
          ]
        },
        {
          "output_type": "stream",
          "name": "stdout",
          "text": [
            "2025-10-04 21:27:47,975 - root - INFO - Processed 58/121\n"
          ]
        },
        {
          "output_type": "stream",
          "name": "stderr",
          "text": [
            "WARNING:root:Retrying 1 ... https://www.booking.com/reviewlist.en-gb.html?cc1=ec&pagename=ibis-quito&rows=10&sort=f_recent_desc&offset=580\n"
          ]
        },
        {
          "output_type": "stream",
          "name": "stdout",
          "text": [
            "2025-10-04 21:27:48,060 - root - WARNING - Retrying 1 ... https://www.booking.com/reviewlist.en-gb.html?cc1=ec&pagename=ibis-quito&rows=10&sort=f_recent_desc&offset=580\n"
          ]
        },
        {
          "output_type": "stream",
          "name": "stderr",
          "text": [
            "INFO:root:Processed 61/121\n"
          ]
        },
        {
          "output_type": "stream",
          "name": "stdout",
          "text": [
            "2025-10-04 21:27:49,977 - root - INFO - Processed 61/121\n"
          ]
        },
        {
          "output_type": "stream",
          "name": "stderr",
          "text": [
            "WARNING:root:Retrying 1 ... https://www.booking.com/reviewlist.en-gb.html?cc1=ec&pagename=ibis-quito&rows=10&sort=f_recent_desc&offset=620\n"
          ]
        },
        {
          "output_type": "stream",
          "name": "stdout",
          "text": [
            "2025-10-04 21:27:50,838 - root - WARNING - Retrying 1 ... https://www.booking.com/reviewlist.en-gb.html?cc1=ec&pagename=ibis-quito&rows=10&sort=f_recent_desc&offset=620\n"
          ]
        },
        {
          "output_type": "stream",
          "name": "stderr",
          "text": [
            "WARNING:root:Retrying 1 ... https://www.booking.com/reviewlist.en-gb.html?cc1=ec&pagename=ibis-quito&rows=10&sort=f_recent_desc&offset=630\n"
          ]
        },
        {
          "output_type": "stream",
          "name": "stdout",
          "text": [
            "2025-10-04 21:27:51,643 - root - WARNING - Retrying 1 ... https://www.booking.com/reviewlist.en-gb.html?cc1=ec&pagename=ibis-quito&rows=10&sort=f_recent_desc&offset=630\n"
          ]
        },
        {
          "output_type": "stream",
          "name": "stderr",
          "text": [
            "INFO:root:Processed 63/121\n"
          ]
        },
        {
          "output_type": "stream",
          "name": "stdout",
          "text": [
            "2025-10-04 21:27:51,981 - root - INFO - Processed 63/121\n"
          ]
        },
        {
          "output_type": "stream",
          "name": "stderr",
          "text": [
            "WARNING:root:Retrying 1 ... https://www.booking.com/reviewlist.en-gb.html?cc1=ec&pagename=ibis-quito&rows=10&sort=f_recent_desc&offset=640\n"
          ]
        },
        {
          "output_type": "stream",
          "name": "stdout",
          "text": [
            "2025-10-04 21:27:52,505 - root - WARNING - Retrying 1 ... https://www.booking.com/reviewlist.en-gb.html?cc1=ec&pagename=ibis-quito&rows=10&sort=f_recent_desc&offset=640\n"
          ]
        },
        {
          "output_type": "stream",
          "name": "stderr",
          "text": [
            "WARNING:root:Retrying 1 ... https://www.booking.com/reviewlist.en-gb.html?cc1=ec&pagename=ibis-quito&rows=10&sort=f_recent_desc&offset=650\n"
          ]
        },
        {
          "output_type": "stream",
          "name": "stdout",
          "text": [
            "2025-10-04 21:27:53,339 - root - WARNING - Retrying 1 ... https://www.booking.com/reviewlist.en-gb.html?cc1=ec&pagename=ibis-quito&rows=10&sort=f_recent_desc&offset=650\n"
          ]
        },
        {
          "output_type": "stream",
          "name": "stderr",
          "text": [
            "WARNING:root:Retrying 2 ... https://www.booking.com/reviewlist.en-gb.html?cc1=ec&pagename=ibis-quito&rows=10&sort=f_recent_desc&offset=650\n"
          ]
        },
        {
          "output_type": "stream",
          "name": "stdout",
          "text": [
            "2025-10-04 21:27:53,765 - root - WARNING - Retrying 2 ... https://www.booking.com/reviewlist.en-gb.html?cc1=ec&pagename=ibis-quito&rows=10&sort=f_recent_desc&offset=650\n"
          ]
        },
        {
          "output_type": "stream",
          "name": "stderr",
          "text": [
            "INFO:root:Processed 65/121\n"
          ]
        },
        {
          "output_type": "stream",
          "name": "stdout",
          "text": [
            "2025-10-04 21:27:53,984 - root - INFO - Processed 65/121\n"
          ]
        },
        {
          "output_type": "stream",
          "name": "stderr",
          "text": [
            "WARNING:root:Retrying 3 ... https://www.booking.com/reviewlist.en-gb.html?cc1=ec&pagename=ibis-quito&rows=10&sort=f_recent_desc&offset=650\n"
          ]
        },
        {
          "output_type": "stream",
          "name": "stdout",
          "text": [
            "2025-10-04 21:27:54,077 - root - WARNING - Retrying 3 ... https://www.booking.com/reviewlist.en-gb.html?cc1=ec&pagename=ibis-quito&rows=10&sort=f_recent_desc&offset=650\n"
          ]
        },
        {
          "output_type": "stream",
          "name": "stderr",
          "text": [
            "WARNING:root:Retrying 1 ... https://www.booking.com/reviewlist.en-gb.html?cc1=ec&pagename=ibis-quito&rows=10&sort=f_recent_desc&offset=660\n"
          ]
        },
        {
          "output_type": "stream",
          "name": "stdout",
          "text": [
            "2025-10-04 21:27:54,655 - root - WARNING - Retrying 1 ... https://www.booking.com/reviewlist.en-gb.html?cc1=ec&pagename=ibis-quito&rows=10&sort=f_recent_desc&offset=660\n"
          ]
        },
        {
          "output_type": "stream",
          "name": "stderr",
          "text": [
            "WARNING:root:Retrying 2 ... https://www.booking.com/reviewlist.en-gb.html?cc1=ec&pagename=ibis-quito&rows=10&sort=f_recent_desc&offset=660\n"
          ]
        },
        {
          "output_type": "stream",
          "name": "stdout",
          "text": [
            "2025-10-04 21:27:54,991 - root - WARNING - Retrying 2 ... https://www.booking.com/reviewlist.en-gb.html?cc1=ec&pagename=ibis-quito&rows=10&sort=f_recent_desc&offset=660\n"
          ]
        },
        {
          "output_type": "stream",
          "name": "stderr",
          "text": [
            "WARNING:root:Retrying 3 ... https://www.booking.com/reviewlist.en-gb.html?cc1=ec&pagename=ibis-quito&rows=10&sort=f_recent_desc&offset=660\n"
          ]
        },
        {
          "output_type": "stream",
          "name": "stdout",
          "text": [
            "2025-10-04 21:27:55,325 - root - WARNING - Retrying 3 ... https://www.booking.com/reviewlist.en-gb.html?cc1=ec&pagename=ibis-quito&rows=10&sort=f_recent_desc&offset=660\n"
          ]
        },
        {
          "output_type": "stream",
          "name": "stderr",
          "text": [
            "INFO:root:Processed 68/121\n"
          ]
        },
        {
          "output_type": "stream",
          "name": "stdout",
          "text": [
            "2025-10-04 21:27:55,988 - root - INFO - Processed 68/121\n"
          ]
        },
        {
          "output_type": "stream",
          "name": "stderr",
          "text": [
            "WARNING:root:Retrying 1 ... https://www.booking.com/reviewlist.en-gb.html?cc1=ec&pagename=ibis-quito&rows=10&sort=f_recent_desc&offset=700\n"
          ]
        },
        {
          "output_type": "stream",
          "name": "stdout",
          "text": [
            "2025-10-04 21:27:57,775 - root - WARNING - Retrying 1 ... https://www.booking.com/reviewlist.en-gb.html?cc1=ec&pagename=ibis-quito&rows=10&sort=f_recent_desc&offset=700\n"
          ]
        },
        {
          "output_type": "stream",
          "name": "stderr",
          "text": [
            "INFO:root:Processed 70/121\n"
          ]
        },
        {
          "output_type": "stream",
          "name": "stdout",
          "text": [
            "2025-10-04 21:27:57,992 - root - INFO - Processed 70/121\n"
          ]
        },
        {
          "output_type": "stream",
          "name": "stderr",
          "text": [
            "WARNING:root:Retrying 1 ... https://www.booking.com/reviewlist.en-gb.html?cc1=ec&pagename=ibis-quito&rows=10&sort=f_recent_desc&offset=720\n"
          ]
        },
        {
          "output_type": "stream",
          "name": "stdout",
          "text": [
            "2025-10-04 21:27:59,136 - root - WARNING - Retrying 1 ... https://www.booking.com/reviewlist.en-gb.html?cc1=ec&pagename=ibis-quito&rows=10&sort=f_recent_desc&offset=720\n"
          ]
        },
        {
          "output_type": "stream",
          "name": "stderr",
          "text": [
            "INFO:root:Processed 73/121\n"
          ]
        },
        {
          "output_type": "stream",
          "name": "stdout",
          "text": [
            "2025-10-04 21:27:59,995 - root - INFO - Processed 73/121\n"
          ]
        },
        {
          "output_type": "stream",
          "name": "stderr",
          "text": [
            "WARNING:root:Retrying 1 ... https://www.booking.com/reviewlist.en-gb.html?cc1=ec&pagename=ibis-quito&rows=10&sort=f_recent_desc&offset=730\n"
          ]
        },
        {
          "output_type": "stream",
          "name": "stdout",
          "text": [
            "2025-10-04 21:28:00,081 - root - WARNING - Retrying 1 ... https://www.booking.com/reviewlist.en-gb.html?cc1=ec&pagename=ibis-quito&rows=10&sort=f_recent_desc&offset=730\n"
          ]
        },
        {
          "output_type": "stream",
          "name": "stderr",
          "text": [
            "WARNING:root:Retrying 2 ... https://www.booking.com/reviewlist.en-gb.html?cc1=ec&pagename=ibis-quito&rows=10&sort=f_recent_desc&offset=730\n"
          ]
        },
        {
          "output_type": "stream",
          "name": "stdout",
          "text": [
            "2025-10-04 21:28:00,368 - root - WARNING - Retrying 2 ... https://www.booking.com/reviewlist.en-gb.html?cc1=ec&pagename=ibis-quito&rows=10&sort=f_recent_desc&offset=730\n"
          ]
        },
        {
          "output_type": "stream",
          "name": "stderr",
          "text": [
            "WARNING:root:Retrying 3 ... https://www.booking.com/reviewlist.en-gb.html?cc1=ec&pagename=ibis-quito&rows=10&sort=f_recent_desc&offset=730\n"
          ]
        },
        {
          "output_type": "stream",
          "name": "stdout",
          "text": [
            "2025-10-04 21:28:00,686 - root - WARNING - Retrying 3 ... https://www.booking.com/reviewlist.en-gb.html?cc1=ec&pagename=ibis-quito&rows=10&sort=f_recent_desc&offset=730\n"
          ]
        },
        {
          "output_type": "stream",
          "name": "stderr",
          "text": [
            "WARNING:root:Retrying 1 ... https://www.booking.com/reviewlist.en-gb.html?cc1=ec&pagename=ibis-quito&rows=10&sort=f_recent_desc&offset=740\n"
          ]
        },
        {
          "output_type": "stream",
          "name": "stdout",
          "text": [
            "2025-10-04 21:28:00,997 - root - WARNING - Retrying 1 ... https://www.booking.com/reviewlist.en-gb.html?cc1=ec&pagename=ibis-quito&rows=10&sort=f_recent_desc&offset=740\n"
          ]
        },
        {
          "output_type": "stream",
          "name": "stderr",
          "text": [
            "WARNING:root:Retrying 2 ... https://www.booking.com/reviewlist.en-gb.html?cc1=ec&pagename=ibis-quito&rows=10&sort=f_recent_desc&offset=740\n"
          ]
        },
        {
          "output_type": "stream",
          "name": "stdout",
          "text": [
            "2025-10-04 21:28:01,289 - root - WARNING - Retrying 2 ... https://www.booking.com/reviewlist.en-gb.html?cc1=ec&pagename=ibis-quito&rows=10&sort=f_recent_desc&offset=740\n"
          ]
        },
        {
          "output_type": "stream",
          "name": "stderr",
          "text": [
            "WARNING:root:Retrying 3 ... https://www.booking.com/reviewlist.en-gb.html?cc1=ec&pagename=ibis-quito&rows=10&sort=f_recent_desc&offset=740\n"
          ]
        },
        {
          "output_type": "stream",
          "name": "stdout",
          "text": [
            "2025-10-04 21:28:01,594 - root - WARNING - Retrying 3 ... https://www.booking.com/reviewlist.en-gb.html?cc1=ec&pagename=ibis-quito&rows=10&sort=f_recent_desc&offset=740\n"
          ]
        },
        {
          "output_type": "stream",
          "name": "stderr",
          "text": [
            "INFO:root:Processed 75/121\n"
          ]
        },
        {
          "output_type": "stream",
          "name": "stdout",
          "text": [
            "2025-10-04 21:28:01,997 - root - INFO - Processed 75/121\n"
          ]
        },
        {
          "output_type": "stream",
          "name": "stderr",
          "text": [
            "WARNING:root:Retrying 1 ... https://www.booking.com/reviewlist.en-gb.html?cc1=ec&pagename=ibis-quito&rows=10&sort=f_recent_desc&offset=760\n"
          ]
        },
        {
          "output_type": "stream",
          "name": "stdout",
          "text": [
            "2025-10-04 21:28:02,401 - root - WARNING - Retrying 1 ... https://www.booking.com/reviewlist.en-gb.html?cc1=ec&pagename=ibis-quito&rows=10&sort=f_recent_desc&offset=760\n"
          ]
        },
        {
          "output_type": "stream",
          "name": "stderr",
          "text": [
            "INFO:root:Processed 79/121\n"
          ]
        },
        {
          "output_type": "stream",
          "name": "stdout",
          "text": [
            "2025-10-04 21:28:04,001 - root - INFO - Processed 79/121\n"
          ]
        },
        {
          "output_type": "stream",
          "name": "stderr",
          "text": [
            "WARNING:root:Retrying 1 ... https://www.booking.com/reviewlist.en-gb.html?cc1=ec&pagename=ibis-quito&rows=10&sort=f_recent_desc&offset=790\n"
          ]
        },
        {
          "output_type": "stream",
          "name": "stdout",
          "text": [
            "2025-10-04 21:28:04,302 - root - WARNING - Retrying 1 ... https://www.booking.com/reviewlist.en-gb.html?cc1=ec&pagename=ibis-quito&rows=10&sort=f_recent_desc&offset=790\n"
          ]
        },
        {
          "output_type": "stream",
          "name": "stderr",
          "text": [
            "WARNING:root:Retrying 1 ... https://www.booking.com/reviewlist.en-gb.html?cc1=ec&pagename=ibis-quito&rows=10&sort=f_recent_desc&offset=800\n"
          ]
        },
        {
          "output_type": "stream",
          "name": "stdout",
          "text": [
            "2025-10-04 21:28:05,086 - root - WARNING - Retrying 1 ... https://www.booking.com/reviewlist.en-gb.html?cc1=ec&pagename=ibis-quito&rows=10&sort=f_recent_desc&offset=800\n"
          ]
        },
        {
          "output_type": "stream",
          "name": "stderr",
          "text": [
            "INFO:root:Processed 81/121\n"
          ]
        },
        {
          "output_type": "stream",
          "name": "stdout",
          "text": [
            "2025-10-04 21:28:06,003 - root - INFO - Processed 81/121\n"
          ]
        },
        {
          "output_type": "stream",
          "name": "stderr",
          "text": [
            "INFO:root:Processed 84/121\n"
          ]
        },
        {
          "output_type": "stream",
          "name": "stdout",
          "text": [
            "2025-10-04 21:28:08,006 - root - INFO - Processed 84/121\n"
          ]
        },
        {
          "output_type": "stream",
          "name": "stderr",
          "text": [
            "WARNING:root:Retrying 1 ... https://www.booking.com/reviewlist.en-gb.html?cc1=ec&pagename=ibis-quito&rows=10&sort=f_recent_desc&offset=850\n"
          ]
        },
        {
          "output_type": "stream",
          "name": "stdout",
          "text": [
            "2025-10-04 21:28:08,531 - root - WARNING - Retrying 1 ... https://www.booking.com/reviewlist.en-gb.html?cc1=ec&pagename=ibis-quito&rows=10&sort=f_recent_desc&offset=850\n"
          ]
        },
        {
          "output_type": "stream",
          "name": "stderr",
          "text": [
            "WARNING:root:Retrying 2 ... https://www.booking.com/reviewlist.en-gb.html?cc1=ec&pagename=ibis-quito&rows=10&sort=f_recent_desc&offset=850\n"
          ]
        },
        {
          "output_type": "stream",
          "name": "stdout",
          "text": [
            "2025-10-04 21:28:08,865 - root - WARNING - Retrying 2 ... https://www.booking.com/reviewlist.en-gb.html?cc1=ec&pagename=ibis-quito&rows=10&sort=f_recent_desc&offset=850\n"
          ]
        },
        {
          "output_type": "stream",
          "name": "stderr",
          "text": [
            "WARNING:root:Retrying 3 ... https://www.booking.com/reviewlist.en-gb.html?cc1=ec&pagename=ibis-quito&rows=10&sort=f_recent_desc&offset=850\n"
          ]
        },
        {
          "output_type": "stream",
          "name": "stdout",
          "text": [
            "2025-10-04 21:28:09,196 - root - WARNING - Retrying 3 ... https://www.booking.com/reviewlist.en-gb.html?cc1=ec&pagename=ibis-quito&rows=10&sort=f_recent_desc&offset=850\n"
          ]
        },
        {
          "output_type": "stream",
          "name": "stderr",
          "text": [
            "WARNING:root:Retrying 1 ... https://www.booking.com/reviewlist.en-gb.html?cc1=ec&pagename=ibis-quito&rows=10&sort=f_recent_desc&offset=860\n"
          ]
        },
        {
          "output_type": "stream",
          "name": "stdout",
          "text": [
            "2025-10-04 21:28:09,527 - root - WARNING - Retrying 1 ... https://www.booking.com/reviewlist.en-gb.html?cc1=ec&pagename=ibis-quito&rows=10&sort=f_recent_desc&offset=860\n"
          ]
        },
        {
          "output_type": "stream",
          "name": "stderr",
          "text": [
            "INFO:root:Processed 86/121\n"
          ]
        },
        {
          "output_type": "stream",
          "name": "stdout",
          "text": [
            "2025-10-04 21:28:10,010 - root - INFO - Processed 86/121\n"
          ]
        },
        {
          "output_type": "stream",
          "name": "stderr",
          "text": [
            "WARNING:root:Retrying 1 ... https://www.booking.com/reviewlist.en-gb.html?cc1=ec&pagename=ibis-quito&rows=10&sort=f_recent_desc&offset=870\n"
          ]
        },
        {
          "output_type": "stream",
          "name": "stdout",
          "text": [
            "2025-10-04 21:28:10,918 - root - WARNING - Retrying 1 ... https://www.booking.com/reviewlist.en-gb.html?cc1=ec&pagename=ibis-quito&rows=10&sort=f_recent_desc&offset=870\n"
          ]
        },
        {
          "output_type": "stream",
          "name": "stderr",
          "text": [
            "INFO:root:Processed 88/121\n"
          ]
        },
        {
          "output_type": "stream",
          "name": "stdout",
          "text": [
            "2025-10-04 21:28:12,033 - root - INFO - Processed 88/121\n"
          ]
        },
        {
          "output_type": "stream",
          "name": "stderr",
          "text": [
            "WARNING:root:Retrying 1 ... https://www.booking.com/reviewlist.en-gb.html?cc1=ec&pagename=ibis-quito&rows=10&sort=f_recent_desc&offset=890\n"
          ]
        },
        {
          "output_type": "stream",
          "name": "stdout",
          "text": [
            "2025-10-04 21:28:12,330 - root - WARNING - Retrying 1 ... https://www.booking.com/reviewlist.en-gb.html?cc1=ec&pagename=ibis-quito&rows=10&sort=f_recent_desc&offset=890\n"
          ]
        },
        {
          "output_type": "stream",
          "name": "stderr",
          "text": [
            "INFO:root:Processed 92/121\n"
          ]
        },
        {
          "output_type": "stream",
          "name": "stdout",
          "text": [
            "2025-10-04 21:28:14,040 - root - INFO - Processed 92/121\n"
          ]
        },
        {
          "output_type": "stream",
          "name": "stderr",
          "text": [
            "WARNING:root:Retrying 1 ... https://www.booking.com/reviewlist.en-gb.html?cc1=ec&pagename=ibis-quito&rows=10&sort=f_recent_desc&offset=940\n"
          ]
        },
        {
          "output_type": "stream",
          "name": "stdout",
          "text": [
            "2025-10-04 21:28:15,236 - root - WARNING - Retrying 1 ... https://www.booking.com/reviewlist.en-gb.html?cc1=ec&pagename=ibis-quito&rows=10&sort=f_recent_desc&offset=940\n"
          ]
        },
        {
          "output_type": "stream",
          "name": "stderr",
          "text": [
            "INFO:root:Processed 95/121\n"
          ]
        },
        {
          "output_type": "stream",
          "name": "stdout",
          "text": [
            "2025-10-04 21:28:16,043 - root - INFO - Processed 95/121\n"
          ]
        },
        {
          "output_type": "stream",
          "name": "stderr",
          "text": [
            "WARNING:root:Retrying 1 ... https://www.booking.com/reviewlist.en-gb.html?cc1=ec&pagename=ibis-quito&rows=10&sort=f_recent_desc&offset=950\n"
          ]
        },
        {
          "output_type": "stream",
          "name": "stdout",
          "text": [
            "2025-10-04 21:28:16,097 - root - WARNING - Retrying 1 ... https://www.booking.com/reviewlist.en-gb.html?cc1=ec&pagename=ibis-quito&rows=10&sort=f_recent_desc&offset=950\n"
          ]
        },
        {
          "output_type": "stream",
          "name": "stderr",
          "text": [
            "WARNING:root:Retrying 2 ... https://www.booking.com/reviewlist.en-gb.html?cc1=ec&pagename=ibis-quito&rows=10&sort=f_recent_desc&offset=950\n"
          ]
        },
        {
          "output_type": "stream",
          "name": "stdout",
          "text": [
            "2025-10-04 21:28:16,392 - root - WARNING - Retrying 2 ... https://www.booking.com/reviewlist.en-gb.html?cc1=ec&pagename=ibis-quito&rows=10&sort=f_recent_desc&offset=950\n"
          ]
        },
        {
          "output_type": "stream",
          "name": "stderr",
          "text": [
            "WARNING:root:Retrying 1 ... https://www.booking.com/reviewlist.en-gb.html?cc1=ec&pagename=ibis-quito&rows=10&sort=f_recent_desc&offset=960\n"
          ]
        },
        {
          "output_type": "stream",
          "name": "stdout",
          "text": [
            "2025-10-04 21:28:17,281 - root - WARNING - Retrying 1 ... https://www.booking.com/reviewlist.en-gb.html?cc1=ec&pagename=ibis-quito&rows=10&sort=f_recent_desc&offset=960\n"
          ]
        },
        {
          "output_type": "stream",
          "name": "stderr",
          "text": [
            "INFO:root:Processed 97/121\n"
          ]
        },
        {
          "output_type": "stream",
          "name": "stdout",
          "text": [
            "2025-10-04 21:28:18,045 - root - INFO - Processed 97/121\n"
          ]
        },
        {
          "output_type": "stream",
          "name": "stderr",
          "text": [
            "WARNING:root:Retrying 1 ... https://www.booking.com/reviewlist.en-gb.html?cc1=ec&pagename=ibis-quito&rows=10&sort=f_recent_desc&offset=990\n"
          ]
        },
        {
          "output_type": "stream",
          "name": "stdout",
          "text": [
            "2025-10-04 21:28:19,348 - root - WARNING - Retrying 1 ... https://www.booking.com/reviewlist.en-gb.html?cc1=ec&pagename=ibis-quito&rows=10&sort=f_recent_desc&offset=990\n"
          ]
        },
        {
          "output_type": "stream",
          "name": "stderr",
          "text": [
            "INFO:root:Processed 100/121\n"
          ]
        },
        {
          "output_type": "stream",
          "name": "stdout",
          "text": [
            "2025-10-04 21:28:20,048 - root - INFO - Processed 100/121\n"
          ]
        },
        {
          "output_type": "stream",
          "name": "stderr",
          "text": [
            "WARNING:root:Retrying 1 ... https://www.booking.com/reviewlist.en-gb.html?cc1=ec&pagename=ibis-quito&rows=10&sort=f_recent_desc&offset=1030\n"
          ]
        },
        {
          "output_type": "stream",
          "name": "stdout",
          "text": [
            "2025-10-04 21:28:21,995 - root - WARNING - Retrying 1 ... https://www.booking.com/reviewlist.en-gb.html?cc1=ec&pagename=ibis-quito&rows=10&sort=f_recent_desc&offset=1030\n"
          ]
        },
        {
          "output_type": "stream",
          "name": "stderr",
          "text": [
            "INFO:root:Processed 103/121\n"
          ]
        },
        {
          "output_type": "stream",
          "name": "stdout",
          "text": [
            "2025-10-04 21:28:22,052 - root - INFO - Processed 103/121\n"
          ]
        },
        {
          "output_type": "stream",
          "name": "stderr",
          "text": [
            "INFO:root:Processed 106/121\n"
          ]
        },
        {
          "output_type": "stream",
          "name": "stdout",
          "text": [
            "2025-10-04 21:28:24,055 - root - INFO - Processed 106/121\n"
          ]
        },
        {
          "output_type": "stream",
          "name": "stderr",
          "text": [
            "WARNING:root:Retrying 1 ... https://www.booking.com/reviewlist.en-gb.html?cc1=ec&pagename=ibis-quito&rows=10&sort=f_recent_desc&offset=1060\n"
          ]
        },
        {
          "output_type": "stream",
          "name": "stdout",
          "text": [
            "2025-10-04 21:28:24,152 - root - WARNING - Retrying 1 ... https://www.booking.com/reviewlist.en-gb.html?cc1=ec&pagename=ibis-quito&rows=10&sort=f_recent_desc&offset=1060\n"
          ]
        },
        {
          "output_type": "stream",
          "name": "stderr",
          "text": [
            "WARNING:root:Retrying 1 ... https://www.booking.com/reviewlist.en-gb.html?cc1=ec&pagename=ibis-quito&rows=10&sort=f_recent_desc&offset=1070\n"
          ]
        },
        {
          "output_type": "stream",
          "name": "stdout",
          "text": [
            "2025-10-04 21:28:25,164 - root - WARNING - Retrying 1 ... https://www.booking.com/reviewlist.en-gb.html?cc1=ec&pagename=ibis-quito&rows=10&sort=f_recent_desc&offset=1070\n"
          ]
        },
        {
          "output_type": "stream",
          "name": "stderr",
          "text": [
            "WARNING:root:Retrying 2 ... https://www.booking.com/reviewlist.en-gb.html?cc1=ec&pagename=ibis-quito&rows=10&sort=f_recent_desc&offset=1070\n"
          ]
        },
        {
          "output_type": "stream",
          "name": "stdout",
          "text": [
            "2025-10-04 21:28:25,444 - root - WARNING - Retrying 2 ... https://www.booking.com/reviewlist.en-gb.html?cc1=ec&pagename=ibis-quito&rows=10&sort=f_recent_desc&offset=1070\n"
          ]
        },
        {
          "output_type": "stream",
          "name": "stderr",
          "text": [
            "WARNING:root:Retrying 3 ... https://www.booking.com/reviewlist.en-gb.html?cc1=ec&pagename=ibis-quito&rows=10&sort=f_recent_desc&offset=1070\n"
          ]
        },
        {
          "output_type": "stream",
          "name": "stdout",
          "text": [
            "2025-10-04 21:28:25,726 - root - WARNING - Retrying 3 ... https://www.booking.com/reviewlist.en-gb.html?cc1=ec&pagename=ibis-quito&rows=10&sort=f_recent_desc&offset=1070\n"
          ]
        },
        {
          "output_type": "stream",
          "name": "stderr",
          "text": [
            "WARNING:root:Retrying 1 ... https://www.booking.com/reviewlist.en-gb.html?cc1=ec&pagename=ibis-quito&rows=10&sort=f_recent_desc&offset=1080\n"
          ]
        },
        {
          "output_type": "stream",
          "name": "stdout",
          "text": [
            "2025-10-04 21:28:26,047 - root - WARNING - Retrying 1 ... https://www.booking.com/reviewlist.en-gb.html?cc1=ec&pagename=ibis-quito&rows=10&sort=f_recent_desc&offset=1080\n"
          ]
        },
        {
          "output_type": "stream",
          "name": "stderr",
          "text": [
            "INFO:root:Processed 108/121\n"
          ]
        },
        {
          "output_type": "stream",
          "name": "stdout",
          "text": [
            "2025-10-04 21:28:26,057 - root - INFO - Processed 108/121\n"
          ]
        },
        {
          "output_type": "stream",
          "name": "stderr",
          "text": [
            "WARNING:root:Retrying 1 ... https://www.booking.com/reviewlist.en-gb.html?cc1=ec&pagename=ibis-quito&rows=10&sort=f_recent_desc&offset=1090\n"
          ]
        },
        {
          "output_type": "stream",
          "name": "stdout",
          "text": [
            "2025-10-04 21:28:26,853 - root - WARNING - Retrying 1 ... https://www.booking.com/reviewlist.en-gb.html?cc1=ec&pagename=ibis-quito&rows=10&sort=f_recent_desc&offset=1090\n"
          ]
        },
        {
          "output_type": "stream",
          "name": "stderr",
          "text": [
            "WARNING:root:Retrying 1 ... https://www.booking.com/reviewlist.en-gb.html?cc1=ec&pagename=ibis-quito&rows=10&sort=f_recent_desc&offset=1100\n"
          ]
        },
        {
          "output_type": "stream",
          "name": "stdout",
          "text": [
            "2025-10-04 21:28:27,753 - root - WARNING - Retrying 1 ... https://www.booking.com/reviewlist.en-gb.html?cc1=ec&pagename=ibis-quito&rows=10&sort=f_recent_desc&offset=1100\n"
          ]
        },
        {
          "output_type": "stream",
          "name": "stderr",
          "text": [
            "INFO:root:Processed 110/121\n"
          ]
        },
        {
          "output_type": "stream",
          "name": "stdout",
          "text": [
            "2025-10-04 21:28:28,061 - root - INFO - Processed 110/121\n"
          ]
        },
        {
          "output_type": "stream",
          "name": "stderr",
          "text": [
            "WARNING:root:Retrying 2 ... https://www.booking.com/reviewlist.en-gb.html?cc1=ec&pagename=ibis-quito&rows=10&sort=f_recent_desc&offset=1100\n"
          ]
        },
        {
          "output_type": "stream",
          "name": "stdout",
          "text": [
            "2025-10-04 21:28:28,089 - root - WARNING - Retrying 2 ... https://www.booking.com/reviewlist.en-gb.html?cc1=ec&pagename=ibis-quito&rows=10&sort=f_recent_desc&offset=1100\n"
          ]
        },
        {
          "output_type": "stream",
          "name": "stderr",
          "text": [
            "WARNING:root:Retrying 1 ... https://www.booking.com/reviewlist.en-gb.html?cc1=ec&pagename=ibis-quito&rows=10&sort=f_recent_desc&offset=1110\n"
          ]
        },
        {
          "output_type": "stream",
          "name": "stdout",
          "text": [
            "2025-10-04 21:28:29,151 - root - WARNING - Retrying 1 ... https://www.booking.com/reviewlist.en-gb.html?cc1=ec&pagename=ibis-quito&rows=10&sort=f_recent_desc&offset=1110\n"
          ]
        },
        {
          "output_type": "stream",
          "name": "stderr",
          "text": [
            "INFO:root:Processed 112/121\n"
          ]
        },
        {
          "output_type": "stream",
          "name": "stdout",
          "text": [
            "2025-10-04 21:28:30,065 - root - INFO - Processed 112/121\n"
          ]
        },
        {
          "output_type": "stream",
          "name": "stderr",
          "text": [
            "WARNING:root:Retrying 1 ... https://www.booking.com/reviewlist.en-gb.html?cc1=ec&pagename=ibis-quito&rows=10&sort=f_recent_desc&offset=1120\n"
          ]
        },
        {
          "output_type": "stream",
          "name": "stdout",
          "text": [
            "2025-10-04 21:28:30,067 - root - WARNING - Retrying 1 ... https://www.booking.com/reviewlist.en-gb.html?cc1=ec&pagename=ibis-quito&rows=10&sort=f_recent_desc&offset=1120\n"
          ]
        },
        {
          "output_type": "stream",
          "name": "stderr",
          "text": [
            "WARNING:root:Retrying 2 ... https://www.booking.com/reviewlist.en-gb.html?cc1=ec&pagename=ibis-quito&rows=10&sort=f_recent_desc&offset=1120\n"
          ]
        },
        {
          "output_type": "stream",
          "name": "stdout",
          "text": [
            "2025-10-04 21:28:30,382 - root - WARNING - Retrying 2 ... https://www.booking.com/reviewlist.en-gb.html?cc1=ec&pagename=ibis-quito&rows=10&sort=f_recent_desc&offset=1120\n"
          ]
        },
        {
          "output_type": "stream",
          "name": "stderr",
          "text": [
            "WARNING:root:Retrying 3 ... https://www.booking.com/reviewlist.en-gb.html?cc1=ec&pagename=ibis-quito&rows=10&sort=f_recent_desc&offset=1120\n"
          ]
        },
        {
          "output_type": "stream",
          "name": "stdout",
          "text": [
            "2025-10-04 21:28:30,772 - root - WARNING - Retrying 3 ... https://www.booking.com/reviewlist.en-gb.html?cc1=ec&pagename=ibis-quito&rows=10&sort=f_recent_desc&offset=1120\n"
          ]
        },
        {
          "output_type": "stream",
          "name": "stderr",
          "text": [
            "WARNING:root:Retrying 1 ... https://www.booking.com/reviewlist.en-gb.html?cc1=ec&pagename=ibis-quito&rows=10&sort=f_recent_desc&offset=1140\n"
          ]
        },
        {
          "output_type": "stream",
          "name": "stdout",
          "text": [
            "2025-10-04 21:28:31,705 - root - WARNING - Retrying 1 ... https://www.booking.com/reviewlist.en-gb.html?cc1=ec&pagename=ibis-quito&rows=10&sort=f_recent_desc&offset=1140\n"
          ]
        },
        {
          "output_type": "stream",
          "name": "stderr",
          "text": [
            "INFO:root:Processed 114/121\n"
          ]
        },
        {
          "output_type": "stream",
          "name": "stdout",
          "text": [
            "2025-10-04 21:28:32,069 - root - INFO - Processed 114/121\n"
          ]
        },
        {
          "output_type": "stream",
          "name": "stderr",
          "text": [
            "INFO:root:Processed 117/121\n"
          ]
        },
        {
          "output_type": "stream",
          "name": "stdout",
          "text": [
            "2025-10-04 21:28:34,072 - root - INFO - Processed 117/121\n"
          ]
        },
        {
          "output_type": "stream",
          "name": "stderr",
          "text": [
            "WARNING:root:Retrying 1 ... https://www.booking.com/reviewlist.en-gb.html?cc1=ec&pagename=ibis-quito&rows=10&sort=f_recent_desc&offset=1180\n"
          ]
        },
        {
          "output_type": "stream",
          "name": "stdout",
          "text": [
            "2025-10-04 21:28:34,499 - root - WARNING - Retrying 1 ... https://www.booking.com/reviewlist.en-gb.html?cc1=ec&pagename=ibis-quito&rows=10&sort=f_recent_desc&offset=1180\n"
          ]
        },
        {
          "output_type": "stream",
          "name": "stderr",
          "text": [
            "WARNING:root:Retrying 2 ... https://www.booking.com/reviewlist.en-gb.html?cc1=ec&pagename=ibis-quito&rows=10&sort=f_recent_desc&offset=1180\n"
          ]
        },
        {
          "output_type": "stream",
          "name": "stdout",
          "text": [
            "2025-10-04 21:28:34,803 - root - WARNING - Retrying 2 ... https://www.booking.com/reviewlist.en-gb.html?cc1=ec&pagename=ibis-quito&rows=10&sort=f_recent_desc&offset=1180\n"
          ]
        },
        {
          "output_type": "stream",
          "name": "stderr",
          "text": [
            "WARNING:root:Retrying 1 ... https://www.booking.com/reviewlist.en-gb.html?cc1=ec&pagename=ibis-quito&rows=10&sort=f_recent_desc&offset=1190\n"
          ]
        },
        {
          "output_type": "stream",
          "name": "stdout",
          "text": [
            "2025-10-04 21:28:35,695 - root - WARNING - Retrying 1 ... https://www.booking.com/reviewlist.en-gb.html?cc1=ec&pagename=ibis-quito&rows=10&sort=f_recent_desc&offset=1190\n"
          ]
        },
        {
          "output_type": "stream",
          "name": "stderr",
          "text": [
            "INFO:root:Processed 119/121\n"
          ]
        },
        {
          "output_type": "stream",
          "name": "stdout",
          "text": [
            "2025-10-04 21:28:36,074 - root - INFO - Processed 119/121\n"
          ]
        },
        {
          "output_type": "stream",
          "name": "stderr",
          "text": [
            "WARNING:root:Retrying 2 ... https://www.booking.com/reviewlist.en-gb.html?cc1=ec&pagename=ibis-quito&rows=10&sort=f_recent_desc&offset=1190\n"
          ]
        },
        {
          "output_type": "stream",
          "name": "stdout",
          "text": [
            "2025-10-04 21:28:36,293 - root - WARNING - Retrying 2 ... https://www.booking.com/reviewlist.en-gb.html?cc1=ec&pagename=ibis-quito&rows=10&sort=f_recent_desc&offset=1190\n"
          ]
        },
        {
          "output_type": "stream",
          "name": "stderr",
          "text": [
            "INFO:root:Finished Conditional Scraping: 1072 in 97.4 seconds\n"
          ]
        },
        {
          "output_type": "stream",
          "name": "stdout",
          "text": [
            "2025-10-04 21:28:37,270 - root - INFO - Finished Conditional Scraping: 1072 in 97.4 seconds\n"
          ]
        },
        {
          "output_type": "stream",
          "name": "stderr",
          "text": [
            "INFO:root:Process complete 98.1 seconds\n"
          ]
        },
        {
          "output_type": "stream",
          "name": "stdout",
          "text": [
            "2025-10-04 21:28:37,276 - root - INFO - Process complete 98.1 seconds\n"
          ]
        },
        {
          "output_type": "stream",
          "name": "stderr",
          "text": [
            "INFO:root:Reviews found: 1072\n"
          ]
        },
        {
          "output_type": "stream",
          "name": "stdout",
          "text": [
            "2025-10-04 21:28:37,280 - root - INFO - Reviews found: 1072\n",
            "Scrapping Complete: Total Reviews  1072\n"
          ]
        }
      ]
    },
    {
      "cell_type": "markdown",
      "source": [
        "# 4) Locate the CSV and rename it\n",
        "What you do: Find the generated CSV in subfolders and rename it to ibis-quito-hotel.csv (required format).\n",
        "Why: The guide asks to \"save with the hotel name.\"\n",
        "What you should see: Final CSV file: /content/ibis-quito-hotel.csv"
      ],
      "metadata": {
        "id": "x7OXblEHHk7-"
      }
    },
    {
      "cell_type": "code",
      "source": [
        "# 4) Find the latest reviews_*.csv produced and copy it as <hotel>-hotel.csv\n",
        "import glob, os, pandas as pd\n",
        "\n",
        "candidates = sorted(glob.glob(f\"{OUTPUT_DIR}/**/reviews_*.csv\", recursive=True))\n",
        "print(\"Found CSVs:\", candidates)\n",
        "assert candidates, \"No reviews CSV found in OUTPUT_DIR (with subfolders).\"\n",
        "\n",
        "src = max(candidates, key=os.path.getmtime)     # most recent\n",
        "dst = f\"/content/{HOTEL_NAME}-hotel.csv\"\n",
        "\n",
        "pd.read_csv(src).to_csv(dst, index=False)\n",
        "print(\"Final CSV ready:\", dst)\n"
      ],
      "metadata": {
        "id": "I1_KNRYXHl0g",
        "colab": {
          "base_uri": "https://localhost:8080/"
        },
        "outputId": "f52da6b1-458e-41f5-b01f-64eb291ee178"
      },
      "execution_count": 4,
      "outputs": [
        {
          "output_type": "stream",
          "name": "stderr",
          "text": [
            "INFO:numexpr.utils:NumExpr defaulting to 2 threads.\n"
          ]
        },
        {
          "output_type": "stream",
          "name": "stdout",
          "text": [
            "2025-10-04 21:28:37,469 - numexpr.utils - INFO - NumExpr defaulting to 2 threads.\n",
            "Found CSVs: ['/content/data/ibis-quito_2025_10_04_21_10_03/reviews_newest_first.csv', '/content/data/ibis-quito_2025_10_04_21_26_59/reviews_newest_first.csv']\n",
            "Final CSV ready: /content/ibis-quito-hotel.csv\n"
          ]
        }
      ]
    },
    {
      "cell_type": "markdown",
      "source": [
        "#5) Load and basic exploration\n",
        "What you do: Load the CSV into the DataFrame df and review the overall structure.\n",
        "\n",
        "What you should see (you saw something like this):\n",
        "\n",
        "Shape: (400, 16) → 400 reviews, 16 columns.\n",
        "\n",
        "info() with types (object, float64, int64) and non-null count."
      ],
      "metadata": {
        "id": "9TtRROIY1q0k"
      }
    },
    {
      "cell_type": "code",
      "source": [
        "# 5) Load the dataset and inspect its structure\n",
        "import pandas as pd\n",
        "import matplotlib.pyplot as plt\n",
        "\n",
        "csv_path = f\"/content/{HOTEL_NAME}-hotel.csv\"\n",
        "df = pd.read_csv(csv_path)\n",
        "\n",
        "print(\"Shape:\", df.shape)                 # (rows, columns)\n",
        "print(\"Columns:\", df.columns.tolist())    # column names\n",
        "df.info()                                 # dtypes and non-null counts\n",
        "\n",
        "# Descriptive stats: numeric vs. categorical\n",
        "num_cols = df.select_dtypes(include=\"number\").columns\n",
        "cat_cols = df.select_dtypes(include=[\"object\",\"category\"]).columns\n",
        "\n",
        "display(df[num_cols].describe())          # mean, std, min, quartiles, max\n",
        "display(df[cat_cols].describe())          # count, unique, top, freq\n"
      ],
      "metadata": {
        "id": "bXTtUWZ7aP6D",
        "colab": {
          "base_uri": "https://localhost:8080/",
          "height": 963
        },
        "outputId": "6aad7c18-cbd9-4cc7-ab39-2a29ff6c6fc0"
      },
      "execution_count": 5,
      "outputs": [
        {
          "output_type": "stream",
          "name": "stdout",
          "text": [
            "Shape: (1072, 16)\n",
            "Columns: ['username', 'user_country', 'room_view', 'stay_duration', 'stay_type', 'review_post_date', 'review_title', 'rating', 'original_lang', 'review_text_liked', 'review_text_disliked', 'full_review', 'en_full_review', 'found_helpful', 'found_unhelpful', 'owner_resp_text']\n",
            "<class 'pandas.core.frame.DataFrame'>\n",
            "RangeIndex: 1072 entries, 0 to 1071\n",
            "Data columns (total 16 columns):\n",
            " #   Column                Non-Null Count  Dtype  \n",
            "---  ------                --------------  -----  \n",
            " 0   username              1072 non-null   object \n",
            " 1   user_country          1071 non-null   object \n",
            " 2   room_view             1054 non-null   object \n",
            " 3   stay_duration         1072 non-null   object \n",
            " 4   stay_type             1072 non-null   object \n",
            " 5   review_post_date      1072 non-null   object \n",
            " 6   review_title          1071 non-null   object \n",
            " 7   rating                1072 non-null   float64\n",
            " 8   original_lang         1072 non-null   object \n",
            " 9   review_text_liked     533 non-null    object \n",
            " 10  review_text_disliked  376 non-null    object \n",
            " 11  full_review           1072 non-null   object \n",
            " 12  en_full_review        110 non-null    object \n",
            " 13  found_helpful         1072 non-null   int64  \n",
            " 14  found_unhelpful       1072 non-null   int64  \n",
            " 15  owner_resp_text       250 non-null    object \n",
            "dtypes: float64(1), int64(2), object(13)\n",
            "memory usage: 134.1+ KB\n"
          ]
        },
        {
          "output_type": "display_data",
          "data": {
            "text/plain": [
              "            rating  found_helpful  found_unhelpful\n",
              "count  1072.000000    1072.000000           1072.0\n",
              "mean      8.624067       0.007463              0.0\n",
              "std       1.917412       0.096340              0.0\n",
              "min       1.000000       0.000000              0.0\n",
              "25%       8.000000       0.000000              0.0\n",
              "50%       9.000000       0.000000              0.0\n",
              "75%      10.000000       0.000000              0.0\n",
              "max      10.000000       2.000000              0.0"
            ],
            "text/html": [
              "\n",
              "  <div id=\"df-41b584f9-8b03-43ae-aec6-5a3187e3aece\" class=\"colab-df-container\">\n",
              "    <div>\n",
              "<style scoped>\n",
              "    .dataframe tbody tr th:only-of-type {\n",
              "        vertical-align: middle;\n",
              "    }\n",
              "\n",
              "    .dataframe tbody tr th {\n",
              "        vertical-align: top;\n",
              "    }\n",
              "\n",
              "    .dataframe thead th {\n",
              "        text-align: right;\n",
              "    }\n",
              "</style>\n",
              "<table border=\"1\" class=\"dataframe\">\n",
              "  <thead>\n",
              "    <tr style=\"text-align: right;\">\n",
              "      <th></th>\n",
              "      <th>rating</th>\n",
              "      <th>found_helpful</th>\n",
              "      <th>found_unhelpful</th>\n",
              "    </tr>\n",
              "  </thead>\n",
              "  <tbody>\n",
              "    <tr>\n",
              "      <th>count</th>\n",
              "      <td>1072.000000</td>\n",
              "      <td>1072.000000</td>\n",
              "      <td>1072.0</td>\n",
              "    </tr>\n",
              "    <tr>\n",
              "      <th>mean</th>\n",
              "      <td>8.624067</td>\n",
              "      <td>0.007463</td>\n",
              "      <td>0.0</td>\n",
              "    </tr>\n",
              "    <tr>\n",
              "      <th>std</th>\n",
              "      <td>1.917412</td>\n",
              "      <td>0.096340</td>\n",
              "      <td>0.0</td>\n",
              "    </tr>\n",
              "    <tr>\n",
              "      <th>min</th>\n",
              "      <td>1.000000</td>\n",
              "      <td>0.000000</td>\n",
              "      <td>0.0</td>\n",
              "    </tr>\n",
              "    <tr>\n",
              "      <th>25%</th>\n",
              "      <td>8.000000</td>\n",
              "      <td>0.000000</td>\n",
              "      <td>0.0</td>\n",
              "    </tr>\n",
              "    <tr>\n",
              "      <th>50%</th>\n",
              "      <td>9.000000</td>\n",
              "      <td>0.000000</td>\n",
              "      <td>0.0</td>\n",
              "    </tr>\n",
              "    <tr>\n",
              "      <th>75%</th>\n",
              "      <td>10.000000</td>\n",
              "      <td>0.000000</td>\n",
              "      <td>0.0</td>\n",
              "    </tr>\n",
              "    <tr>\n",
              "      <th>max</th>\n",
              "      <td>10.000000</td>\n",
              "      <td>2.000000</td>\n",
              "      <td>0.0</td>\n",
              "    </tr>\n",
              "  </tbody>\n",
              "</table>\n",
              "</div>\n",
              "    <div class=\"colab-df-buttons\">\n",
              "\n",
              "  <div class=\"colab-df-container\">\n",
              "    <button class=\"colab-df-convert\" onclick=\"convertToInteractive('df-41b584f9-8b03-43ae-aec6-5a3187e3aece')\"\n",
              "            title=\"Convert this dataframe to an interactive table.\"\n",
              "            style=\"display:none;\">\n",
              "\n",
              "  <svg xmlns=\"http://www.w3.org/2000/svg\" height=\"24px\" viewBox=\"0 -960 960 960\">\n",
              "    <path d=\"M120-120v-720h720v720H120Zm60-500h600v-160H180v160Zm220 220h160v-160H400v160Zm0 220h160v-160H400v160ZM180-400h160v-160H180v160Zm440 0h160v-160H620v160ZM180-180h160v-160H180v160Zm440 0h160v-160H620v160Z\"/>\n",
              "  </svg>\n",
              "    </button>\n",
              "\n",
              "  <style>\n",
              "    .colab-df-container {\n",
              "      display:flex;\n",
              "      gap: 12px;\n",
              "    }\n",
              "\n",
              "    .colab-df-convert {\n",
              "      background-color: #E8F0FE;\n",
              "      border: none;\n",
              "      border-radius: 50%;\n",
              "      cursor: pointer;\n",
              "      display: none;\n",
              "      fill: #1967D2;\n",
              "      height: 32px;\n",
              "      padding: 0 0 0 0;\n",
              "      width: 32px;\n",
              "    }\n",
              "\n",
              "    .colab-df-convert:hover {\n",
              "      background-color: #E2EBFA;\n",
              "      box-shadow: 0px 1px 2px rgba(60, 64, 67, 0.3), 0px 1px 3px 1px rgba(60, 64, 67, 0.15);\n",
              "      fill: #174EA6;\n",
              "    }\n",
              "\n",
              "    .colab-df-buttons div {\n",
              "      margin-bottom: 4px;\n",
              "    }\n",
              "\n",
              "    [theme=dark] .colab-df-convert {\n",
              "      background-color: #3B4455;\n",
              "      fill: #D2E3FC;\n",
              "    }\n",
              "\n",
              "    [theme=dark] .colab-df-convert:hover {\n",
              "      background-color: #434B5C;\n",
              "      box-shadow: 0px 1px 3px 1px rgba(0, 0, 0, 0.15);\n",
              "      filter: drop-shadow(0px 1px 2px rgba(0, 0, 0, 0.3));\n",
              "      fill: #FFFFFF;\n",
              "    }\n",
              "  </style>\n",
              "\n",
              "    <script>\n",
              "      const buttonEl =\n",
              "        document.querySelector('#df-41b584f9-8b03-43ae-aec6-5a3187e3aece button.colab-df-convert');\n",
              "      buttonEl.style.display =\n",
              "        google.colab.kernel.accessAllowed ? 'block' : 'none';\n",
              "\n",
              "      async function convertToInteractive(key) {\n",
              "        const element = document.querySelector('#df-41b584f9-8b03-43ae-aec6-5a3187e3aece');\n",
              "        const dataTable =\n",
              "          await google.colab.kernel.invokeFunction('convertToInteractive',\n",
              "                                                    [key], {});\n",
              "        if (!dataTable) return;\n",
              "\n",
              "        const docLinkHtml = 'Like what you see? Visit the ' +\n",
              "          '<a target=\"_blank\" href=https://colab.research.google.com/notebooks/data_table.ipynb>data table notebook</a>'\n",
              "          + ' to learn more about interactive tables.';\n",
              "        element.innerHTML = '';\n",
              "        dataTable['output_type'] = 'display_data';\n",
              "        await google.colab.output.renderOutput(dataTable, element);\n",
              "        const docLink = document.createElement('div');\n",
              "        docLink.innerHTML = docLinkHtml;\n",
              "        element.appendChild(docLink);\n",
              "      }\n",
              "    </script>\n",
              "  </div>\n",
              "\n",
              "\n",
              "    <div id=\"df-972fcbb0-3d9b-4a5c-8021-01b56d7caaf9\">\n",
              "      <button class=\"colab-df-quickchart\" onclick=\"quickchart('df-972fcbb0-3d9b-4a5c-8021-01b56d7caaf9')\"\n",
              "                title=\"Suggest charts\"\n",
              "                style=\"display:none;\">\n",
              "\n",
              "<svg xmlns=\"http://www.w3.org/2000/svg\" height=\"24px\"viewBox=\"0 0 24 24\"\n",
              "     width=\"24px\">\n",
              "    <g>\n",
              "        <path d=\"M19 3H5c-1.1 0-2 .9-2 2v14c0 1.1.9 2 2 2h14c1.1 0 2-.9 2-2V5c0-1.1-.9-2-2-2zM9 17H7v-7h2v7zm4 0h-2V7h2v10zm4 0h-2v-4h2v4z\"/>\n",
              "    </g>\n",
              "</svg>\n",
              "      </button>\n",
              "\n",
              "<style>\n",
              "  .colab-df-quickchart {\n",
              "      --bg-color: #E8F0FE;\n",
              "      --fill-color: #1967D2;\n",
              "      --hover-bg-color: #E2EBFA;\n",
              "      --hover-fill-color: #174EA6;\n",
              "      --disabled-fill-color: #AAA;\n",
              "      --disabled-bg-color: #DDD;\n",
              "  }\n",
              "\n",
              "  [theme=dark] .colab-df-quickchart {\n",
              "      --bg-color: #3B4455;\n",
              "      --fill-color: #D2E3FC;\n",
              "      --hover-bg-color: #434B5C;\n",
              "      --hover-fill-color: #FFFFFF;\n",
              "      --disabled-bg-color: #3B4455;\n",
              "      --disabled-fill-color: #666;\n",
              "  }\n",
              "\n",
              "  .colab-df-quickchart {\n",
              "    background-color: var(--bg-color);\n",
              "    border: none;\n",
              "    border-radius: 50%;\n",
              "    cursor: pointer;\n",
              "    display: none;\n",
              "    fill: var(--fill-color);\n",
              "    height: 32px;\n",
              "    padding: 0;\n",
              "    width: 32px;\n",
              "  }\n",
              "\n",
              "  .colab-df-quickchart:hover {\n",
              "    background-color: var(--hover-bg-color);\n",
              "    box-shadow: 0 1px 2px rgba(60, 64, 67, 0.3), 0 1px 3px 1px rgba(60, 64, 67, 0.15);\n",
              "    fill: var(--button-hover-fill-color);\n",
              "  }\n",
              "\n",
              "  .colab-df-quickchart-complete:disabled,\n",
              "  .colab-df-quickchart-complete:disabled:hover {\n",
              "    background-color: var(--disabled-bg-color);\n",
              "    fill: var(--disabled-fill-color);\n",
              "    box-shadow: none;\n",
              "  }\n",
              "\n",
              "  .colab-df-spinner {\n",
              "    border: 2px solid var(--fill-color);\n",
              "    border-color: transparent;\n",
              "    border-bottom-color: var(--fill-color);\n",
              "    animation:\n",
              "      spin 1s steps(1) infinite;\n",
              "  }\n",
              "\n",
              "  @keyframes spin {\n",
              "    0% {\n",
              "      border-color: transparent;\n",
              "      border-bottom-color: var(--fill-color);\n",
              "      border-left-color: var(--fill-color);\n",
              "    }\n",
              "    20% {\n",
              "      border-color: transparent;\n",
              "      border-left-color: var(--fill-color);\n",
              "      border-top-color: var(--fill-color);\n",
              "    }\n",
              "    30% {\n",
              "      border-color: transparent;\n",
              "      border-left-color: var(--fill-color);\n",
              "      border-top-color: var(--fill-color);\n",
              "      border-right-color: var(--fill-color);\n",
              "    }\n",
              "    40% {\n",
              "      border-color: transparent;\n",
              "      border-right-color: var(--fill-color);\n",
              "      border-top-color: var(--fill-color);\n",
              "    }\n",
              "    60% {\n",
              "      border-color: transparent;\n",
              "      border-right-color: var(--fill-color);\n",
              "    }\n",
              "    80% {\n",
              "      border-color: transparent;\n",
              "      border-right-color: var(--fill-color);\n",
              "      border-bottom-color: var(--fill-color);\n",
              "    }\n",
              "    90% {\n",
              "      border-color: transparent;\n",
              "      border-bottom-color: var(--fill-color);\n",
              "    }\n",
              "  }\n",
              "</style>\n",
              "\n",
              "      <script>\n",
              "        async function quickchart(key) {\n",
              "          const quickchartButtonEl =\n",
              "            document.querySelector('#' + key + ' button');\n",
              "          quickchartButtonEl.disabled = true;  // To prevent multiple clicks.\n",
              "          quickchartButtonEl.classList.add('colab-df-spinner');\n",
              "          try {\n",
              "            const charts = await google.colab.kernel.invokeFunction(\n",
              "                'suggestCharts', [key], {});\n",
              "          } catch (error) {\n",
              "            console.error('Error during call to suggestCharts:', error);\n",
              "          }\n",
              "          quickchartButtonEl.classList.remove('colab-df-spinner');\n",
              "          quickchartButtonEl.classList.add('colab-df-quickchart-complete');\n",
              "        }\n",
              "        (() => {\n",
              "          let quickchartButtonEl =\n",
              "            document.querySelector('#df-972fcbb0-3d9b-4a5c-8021-01b56d7caaf9 button');\n",
              "          quickchartButtonEl.style.display =\n",
              "            google.colab.kernel.accessAllowed ? 'block' : 'none';\n",
              "        })();\n",
              "      </script>\n",
              "    </div>\n",
              "\n",
              "    </div>\n",
              "  </div>\n"
            ],
            "application/vnd.google.colaboratory.intrinsic+json": {
              "type": "dataframe",
              "summary": "{\n  \"name\": \"display(df[cat_cols]\",\n  \"rows\": 8,\n  \"fields\": [\n    {\n      \"column\": \"rating\",\n      \"properties\": {\n        \"dtype\": \"number\",\n        \"std\": 376.57410580116107,\n        \"min\": 1.0,\n        \"max\": 1072.0,\n        \"num_unique_values\": 7,\n        \"samples\": [\n          1072.0,\n          8.624067164179104,\n          9.0\n        ],\n        \"semantic_type\": \"\",\n        \"description\": \"\"\n      }\n    },\n    {\n      \"column\": \"found_helpful\",\n      \"properties\": {\n        \"dtype\": \"number\",\n        \"std\": 378.9036132746177,\n        \"min\": 0.0,\n        \"max\": 1072.0,\n        \"num_unique_values\": 5,\n        \"samples\": [\n          0.007462686567164179,\n          2.0,\n          0.09633963083843855\n        ],\n        \"semantic_type\": \"\",\n        \"description\": \"\"\n      }\n    },\n    {\n      \"column\": \"found_unhelpful\",\n      \"properties\": {\n        \"dtype\": \"number\",\n        \"std\": 379.00923471598946,\n        \"min\": 0.0,\n        \"max\": 1072.0,\n        \"num_unique_values\": 2,\n        \"samples\": [\n          0.0,\n          1072.0\n        ],\n        \"semantic_type\": \"\",\n        \"description\": \"\"\n      }\n    }\n  ]\n}"
            }
          },
          "metadata": {}
        },
        {
          "output_type": "display_data",
          "data": {
            "text/plain": [
              "       username user_country             room_view stay_duration  \\\n",
              "count      1072         1071                  1054          1072   \n",
              "unique      557           43                     3            13   \n",
              "top      Carlos      Ecuador  Standard Double Room       1 night   \n",
              "freq         29          623                   552           616   \n",
              "\n",
              "             stay_type     review_post_date review_title original_lang  \\\n",
              "count             1072                 1072         1071          1072   \n",
              "unique               4                  611          308            19   \n",
              "top     Solo traveller  12-09-2024 00:00:00  Exceptional            es   \n",
              "freq               402                    8          321           862   \n",
              "\n",
              "       review_text_liked review_text_disliked          full_review  \\\n",
              "count                533                  376                 1072   \n",
              "unique               476                  354                  556   \n",
              "top            Ubicación            Todo bien  title: Exceptional.   \n",
              "freq                  11                   10                  246   \n",
              "\n",
              "             en_full_review                                    owner_resp_text  \n",
              "count                   110                                                250  \n",
              "unique                   58                                                250  \n",
              "top     title: Exceptional.  Estimado Luis Le agradecemos enormemente sus c...  \n",
              "freq                     19                                                  1  "
            ],
            "text/html": [
              "\n",
              "  <div id=\"df-741af2d0-90f3-41c0-a4ae-7eeff55e5628\" class=\"colab-df-container\">\n",
              "    <div>\n",
              "<style scoped>\n",
              "    .dataframe tbody tr th:only-of-type {\n",
              "        vertical-align: middle;\n",
              "    }\n",
              "\n",
              "    .dataframe tbody tr th {\n",
              "        vertical-align: top;\n",
              "    }\n",
              "\n",
              "    .dataframe thead th {\n",
              "        text-align: right;\n",
              "    }\n",
              "</style>\n",
              "<table border=\"1\" class=\"dataframe\">\n",
              "  <thead>\n",
              "    <tr style=\"text-align: right;\">\n",
              "      <th></th>\n",
              "      <th>username</th>\n",
              "      <th>user_country</th>\n",
              "      <th>room_view</th>\n",
              "      <th>stay_duration</th>\n",
              "      <th>stay_type</th>\n",
              "      <th>review_post_date</th>\n",
              "      <th>review_title</th>\n",
              "      <th>original_lang</th>\n",
              "      <th>review_text_liked</th>\n",
              "      <th>review_text_disliked</th>\n",
              "      <th>full_review</th>\n",
              "      <th>en_full_review</th>\n",
              "      <th>owner_resp_text</th>\n",
              "    </tr>\n",
              "  </thead>\n",
              "  <tbody>\n",
              "    <tr>\n",
              "      <th>count</th>\n",
              "      <td>1072</td>\n",
              "      <td>1071</td>\n",
              "      <td>1054</td>\n",
              "      <td>1072</td>\n",
              "      <td>1072</td>\n",
              "      <td>1072</td>\n",
              "      <td>1071</td>\n",
              "      <td>1072</td>\n",
              "      <td>533</td>\n",
              "      <td>376</td>\n",
              "      <td>1072</td>\n",
              "      <td>110</td>\n",
              "      <td>250</td>\n",
              "    </tr>\n",
              "    <tr>\n",
              "      <th>unique</th>\n",
              "      <td>557</td>\n",
              "      <td>43</td>\n",
              "      <td>3</td>\n",
              "      <td>13</td>\n",
              "      <td>4</td>\n",
              "      <td>611</td>\n",
              "      <td>308</td>\n",
              "      <td>19</td>\n",
              "      <td>476</td>\n",
              "      <td>354</td>\n",
              "      <td>556</td>\n",
              "      <td>58</td>\n",
              "      <td>250</td>\n",
              "    </tr>\n",
              "    <tr>\n",
              "      <th>top</th>\n",
              "      <td>Carlos</td>\n",
              "      <td>Ecuador</td>\n",
              "      <td>Standard Double Room</td>\n",
              "      <td>1 night</td>\n",
              "      <td>Solo traveller</td>\n",
              "      <td>12-09-2024 00:00:00</td>\n",
              "      <td>Exceptional</td>\n",
              "      <td>es</td>\n",
              "      <td>Ubicación</td>\n",
              "      <td>Todo bien</td>\n",
              "      <td>title: Exceptional.</td>\n",
              "      <td>title: Exceptional.</td>\n",
              "      <td>Estimado Luis Le agradecemos enormemente sus c...</td>\n",
              "    </tr>\n",
              "    <tr>\n",
              "      <th>freq</th>\n",
              "      <td>29</td>\n",
              "      <td>623</td>\n",
              "      <td>552</td>\n",
              "      <td>616</td>\n",
              "      <td>402</td>\n",
              "      <td>8</td>\n",
              "      <td>321</td>\n",
              "      <td>862</td>\n",
              "      <td>11</td>\n",
              "      <td>10</td>\n",
              "      <td>246</td>\n",
              "      <td>19</td>\n",
              "      <td>1</td>\n",
              "    </tr>\n",
              "  </tbody>\n",
              "</table>\n",
              "</div>\n",
              "    <div class=\"colab-df-buttons\">\n",
              "\n",
              "  <div class=\"colab-df-container\">\n",
              "    <button class=\"colab-df-convert\" onclick=\"convertToInteractive('df-741af2d0-90f3-41c0-a4ae-7eeff55e5628')\"\n",
              "            title=\"Convert this dataframe to an interactive table.\"\n",
              "            style=\"display:none;\">\n",
              "\n",
              "  <svg xmlns=\"http://www.w3.org/2000/svg\" height=\"24px\" viewBox=\"0 -960 960 960\">\n",
              "    <path d=\"M120-120v-720h720v720H120Zm60-500h600v-160H180v160Zm220 220h160v-160H400v160Zm0 220h160v-160H400v160ZM180-400h160v-160H180v160Zm440 0h160v-160H620v160ZM180-180h160v-160H180v160Zm440 0h160v-160H620v160Z\"/>\n",
              "  </svg>\n",
              "    </button>\n",
              "\n",
              "  <style>\n",
              "    .colab-df-container {\n",
              "      display:flex;\n",
              "      gap: 12px;\n",
              "    }\n",
              "\n",
              "    .colab-df-convert {\n",
              "      background-color: #E8F0FE;\n",
              "      border: none;\n",
              "      border-radius: 50%;\n",
              "      cursor: pointer;\n",
              "      display: none;\n",
              "      fill: #1967D2;\n",
              "      height: 32px;\n",
              "      padding: 0 0 0 0;\n",
              "      width: 32px;\n",
              "    }\n",
              "\n",
              "    .colab-df-convert:hover {\n",
              "      background-color: #E2EBFA;\n",
              "      box-shadow: 0px 1px 2px rgba(60, 64, 67, 0.3), 0px 1px 3px 1px rgba(60, 64, 67, 0.15);\n",
              "      fill: #174EA6;\n",
              "    }\n",
              "\n",
              "    .colab-df-buttons div {\n",
              "      margin-bottom: 4px;\n",
              "    }\n",
              "\n",
              "    [theme=dark] .colab-df-convert {\n",
              "      background-color: #3B4455;\n",
              "      fill: #D2E3FC;\n",
              "    }\n",
              "\n",
              "    [theme=dark] .colab-df-convert:hover {\n",
              "      background-color: #434B5C;\n",
              "      box-shadow: 0px 1px 3px 1px rgba(0, 0, 0, 0.15);\n",
              "      filter: drop-shadow(0px 1px 2px rgba(0, 0, 0, 0.3));\n",
              "      fill: #FFFFFF;\n",
              "    }\n",
              "  </style>\n",
              "\n",
              "    <script>\n",
              "      const buttonEl =\n",
              "        document.querySelector('#df-741af2d0-90f3-41c0-a4ae-7eeff55e5628 button.colab-df-convert');\n",
              "      buttonEl.style.display =\n",
              "        google.colab.kernel.accessAllowed ? 'block' : 'none';\n",
              "\n",
              "      async function convertToInteractive(key) {\n",
              "        const element = document.querySelector('#df-741af2d0-90f3-41c0-a4ae-7eeff55e5628');\n",
              "        const dataTable =\n",
              "          await google.colab.kernel.invokeFunction('convertToInteractive',\n",
              "                                                    [key], {});\n",
              "        if (!dataTable) return;\n",
              "\n",
              "        const docLinkHtml = 'Like what you see? Visit the ' +\n",
              "          '<a target=\"_blank\" href=https://colab.research.google.com/notebooks/data_table.ipynb>data table notebook</a>'\n",
              "          + ' to learn more about interactive tables.';\n",
              "        element.innerHTML = '';\n",
              "        dataTable['output_type'] = 'display_data';\n",
              "        await google.colab.output.renderOutput(dataTable, element);\n",
              "        const docLink = document.createElement('div');\n",
              "        docLink.innerHTML = docLinkHtml;\n",
              "        element.appendChild(docLink);\n",
              "      }\n",
              "    </script>\n",
              "  </div>\n",
              "\n",
              "\n",
              "    <div id=\"df-e09d1e05-101f-4c3c-90e4-f87c9ddc7d52\">\n",
              "      <button class=\"colab-df-quickchart\" onclick=\"quickchart('df-e09d1e05-101f-4c3c-90e4-f87c9ddc7d52')\"\n",
              "                title=\"Suggest charts\"\n",
              "                style=\"display:none;\">\n",
              "\n",
              "<svg xmlns=\"http://www.w3.org/2000/svg\" height=\"24px\"viewBox=\"0 0 24 24\"\n",
              "     width=\"24px\">\n",
              "    <g>\n",
              "        <path d=\"M19 3H5c-1.1 0-2 .9-2 2v14c0 1.1.9 2 2 2h14c1.1 0 2-.9 2-2V5c0-1.1-.9-2-2-2zM9 17H7v-7h2v7zm4 0h-2V7h2v10zm4 0h-2v-4h2v4z\"/>\n",
              "    </g>\n",
              "</svg>\n",
              "      </button>\n",
              "\n",
              "<style>\n",
              "  .colab-df-quickchart {\n",
              "      --bg-color: #E8F0FE;\n",
              "      --fill-color: #1967D2;\n",
              "      --hover-bg-color: #E2EBFA;\n",
              "      --hover-fill-color: #174EA6;\n",
              "      --disabled-fill-color: #AAA;\n",
              "      --disabled-bg-color: #DDD;\n",
              "  }\n",
              "\n",
              "  [theme=dark] .colab-df-quickchart {\n",
              "      --bg-color: #3B4455;\n",
              "      --fill-color: #D2E3FC;\n",
              "      --hover-bg-color: #434B5C;\n",
              "      --hover-fill-color: #FFFFFF;\n",
              "      --disabled-bg-color: #3B4455;\n",
              "      --disabled-fill-color: #666;\n",
              "  }\n",
              "\n",
              "  .colab-df-quickchart {\n",
              "    background-color: var(--bg-color);\n",
              "    border: none;\n",
              "    border-radius: 50%;\n",
              "    cursor: pointer;\n",
              "    display: none;\n",
              "    fill: var(--fill-color);\n",
              "    height: 32px;\n",
              "    padding: 0;\n",
              "    width: 32px;\n",
              "  }\n",
              "\n",
              "  .colab-df-quickchart:hover {\n",
              "    background-color: var(--hover-bg-color);\n",
              "    box-shadow: 0 1px 2px rgba(60, 64, 67, 0.3), 0 1px 3px 1px rgba(60, 64, 67, 0.15);\n",
              "    fill: var(--button-hover-fill-color);\n",
              "  }\n",
              "\n",
              "  .colab-df-quickchart-complete:disabled,\n",
              "  .colab-df-quickchart-complete:disabled:hover {\n",
              "    background-color: var(--disabled-bg-color);\n",
              "    fill: var(--disabled-fill-color);\n",
              "    box-shadow: none;\n",
              "  }\n",
              "\n",
              "  .colab-df-spinner {\n",
              "    border: 2px solid var(--fill-color);\n",
              "    border-color: transparent;\n",
              "    border-bottom-color: var(--fill-color);\n",
              "    animation:\n",
              "      spin 1s steps(1) infinite;\n",
              "  }\n",
              "\n",
              "  @keyframes spin {\n",
              "    0% {\n",
              "      border-color: transparent;\n",
              "      border-bottom-color: var(--fill-color);\n",
              "      border-left-color: var(--fill-color);\n",
              "    }\n",
              "    20% {\n",
              "      border-color: transparent;\n",
              "      border-left-color: var(--fill-color);\n",
              "      border-top-color: var(--fill-color);\n",
              "    }\n",
              "    30% {\n",
              "      border-color: transparent;\n",
              "      border-left-color: var(--fill-color);\n",
              "      border-top-color: var(--fill-color);\n",
              "      border-right-color: var(--fill-color);\n",
              "    }\n",
              "    40% {\n",
              "      border-color: transparent;\n",
              "      border-right-color: var(--fill-color);\n",
              "      border-top-color: var(--fill-color);\n",
              "    }\n",
              "    60% {\n",
              "      border-color: transparent;\n",
              "      border-right-color: var(--fill-color);\n",
              "    }\n",
              "    80% {\n",
              "      border-color: transparent;\n",
              "      border-right-color: var(--fill-color);\n",
              "      border-bottom-color: var(--fill-color);\n",
              "    }\n",
              "    90% {\n",
              "      border-color: transparent;\n",
              "      border-bottom-color: var(--fill-color);\n",
              "    }\n",
              "  }\n",
              "</style>\n",
              "\n",
              "      <script>\n",
              "        async function quickchart(key) {\n",
              "          const quickchartButtonEl =\n",
              "            document.querySelector('#' + key + ' button');\n",
              "          quickchartButtonEl.disabled = true;  // To prevent multiple clicks.\n",
              "          quickchartButtonEl.classList.add('colab-df-spinner');\n",
              "          try {\n",
              "            const charts = await google.colab.kernel.invokeFunction(\n",
              "                'suggestCharts', [key], {});\n",
              "          } catch (error) {\n",
              "            console.error('Error during call to suggestCharts:', error);\n",
              "          }\n",
              "          quickchartButtonEl.classList.remove('colab-df-spinner');\n",
              "          quickchartButtonEl.classList.add('colab-df-quickchart-complete');\n",
              "        }\n",
              "        (() => {\n",
              "          let quickchartButtonEl =\n",
              "            document.querySelector('#df-e09d1e05-101f-4c3c-90e4-f87c9ddc7d52 button');\n",
              "          quickchartButtonEl.style.display =\n",
              "            google.colab.kernel.accessAllowed ? 'block' : 'none';\n",
              "        })();\n",
              "      </script>\n",
              "    </div>\n",
              "\n",
              "    </div>\n",
              "  </div>\n"
            ],
            "application/vnd.google.colaboratory.intrinsic+json": {
              "type": "dataframe",
              "summary": "{\n  \"name\": \"display(df[cat_cols]\",\n  \"rows\": 4,\n  \"fields\": [\n    {\n      \"column\": \"username\",\n      \"properties\": {\n        \"dtype\": \"string\",\n        \"num_unique_values\": 4,\n        \"samples\": [\n          557,\n          \"29\",\n          \"1072\"\n        ],\n        \"semantic_type\": \"\",\n        \"description\": \"\"\n      }\n    },\n    {\n      \"column\": \"user_country\",\n      \"properties\": {\n        \"dtype\": \"string\",\n        \"num_unique_values\": 4,\n        \"samples\": [\n          43,\n          \"623\",\n          \"1071\"\n        ],\n        \"semantic_type\": \"\",\n        \"description\": \"\"\n      }\n    },\n    {\n      \"column\": \"room_view\",\n      \"properties\": {\n        \"dtype\": \"string\",\n        \"num_unique_values\": 4,\n        \"samples\": [\n          3,\n          \"552\",\n          \"1054\"\n        ],\n        \"semantic_type\": \"\",\n        \"description\": \"\"\n      }\n    },\n    {\n      \"column\": \"stay_duration\",\n      \"properties\": {\n        \"dtype\": \"string\",\n        \"num_unique_values\": 4,\n        \"samples\": [\n          13,\n          \"616\",\n          \"1072\"\n        ],\n        \"semantic_type\": \"\",\n        \"description\": \"\"\n      }\n    },\n    {\n      \"column\": \"stay_type\",\n      \"properties\": {\n        \"dtype\": \"string\",\n        \"num_unique_values\": 4,\n        \"samples\": [\n          4,\n          \"402\",\n          \"1072\"\n        ],\n        \"semantic_type\": \"\",\n        \"description\": \"\"\n      }\n    },\n    {\n      \"column\": \"review_post_date\",\n      \"properties\": {\n        \"dtype\": \"date\",\n        \"min\": \"1970-01-01 00:00:00.000000008\",\n        \"max\": \"2024-12-09 00:00:00\",\n        \"num_unique_values\": 4,\n        \"samples\": [\n          611,\n          \"8\",\n          \"1072\"\n        ],\n        \"semantic_type\": \"\",\n        \"description\": \"\"\n      }\n    },\n    {\n      \"column\": \"review_title\",\n      \"properties\": {\n        \"dtype\": \"string\",\n        \"num_unique_values\": 4,\n        \"samples\": [\n          308,\n          \"321\",\n          \"1071\"\n        ],\n        \"semantic_type\": \"\",\n        \"description\": \"\"\n      }\n    },\n    {\n      \"column\": \"original_lang\",\n      \"properties\": {\n        \"dtype\": \"string\",\n        \"num_unique_values\": 4,\n        \"samples\": [\n          19,\n          \"862\",\n          \"1072\"\n        ],\n        \"semantic_type\": \"\",\n        \"description\": \"\"\n      }\n    },\n    {\n      \"column\": \"review_text_liked\",\n      \"properties\": {\n        \"dtype\": \"string\",\n        \"num_unique_values\": 4,\n        \"samples\": [\n          476,\n          \"11\",\n          \"533\"\n        ],\n        \"semantic_type\": \"\",\n        \"description\": \"\"\n      }\n    },\n    {\n      \"column\": \"review_text_disliked\",\n      \"properties\": {\n        \"dtype\": \"string\",\n        \"num_unique_values\": 4,\n        \"samples\": [\n          354,\n          \"10\",\n          \"376\"\n        ],\n        \"semantic_type\": \"\",\n        \"description\": \"\"\n      }\n    },\n    {\n      \"column\": \"full_review\",\n      \"properties\": {\n        \"dtype\": \"string\",\n        \"num_unique_values\": 4,\n        \"samples\": [\n          556,\n          \"246\",\n          \"1072\"\n        ],\n        \"semantic_type\": \"\",\n        \"description\": \"\"\n      }\n    },\n    {\n      \"column\": \"en_full_review\",\n      \"properties\": {\n        \"dtype\": \"string\",\n        \"num_unique_values\": 4,\n        \"samples\": [\n          58,\n          \"19\",\n          \"110\"\n        ],\n        \"semantic_type\": \"\",\n        \"description\": \"\"\n      }\n    },\n    {\n      \"column\": \"owner_resp_text\",\n      \"properties\": {\n        \"dtype\": \"string\",\n        \"num_unique_values\": 3,\n        \"samples\": [\n          \"250\",\n          \"Estimado Luis Le agradecemos enormemente sus comentarios y valoraci\\u00f3n en relaci\\u00f3n a su estancia en ibis Quito. Siempre es un placer brindar un servicio de excelencia a nuestros hu\\u00e9spedes y esperamos que nos brinde la oportunidad de que nos visite nuevamente. Saludos\",\n          \"1\"\n        ],\n        \"semantic_type\": \"\",\n        \"description\": \"\"\n      }\n    }\n  ]\n}"
            }
          },
          "metadata": {}
        }
      ]
    },
    {
      "cell_type": "markdown",
      "source": [
        "# 6) Cleanup: Remove Unhelpful Columns\n",
        "What you do: Remove fields you won't use in the KPIs required by the guide (month/year/country and counts).\n",
        "What you should see: df.head(3) with fewer, more readable columns.\n",
        "\n",
        "Text for your justification cell (>=20 words):\n",
        "“We removed full_review, en_full_review, owner_resp_text, and found_unhelpful because they don't contribute to the requested indicators (counts by month, year, and country) and increase the size/noise of the dataset. We kept review_post_date, user_country, rating, stay_type, and stay_duration to describe the timing and origin of the reviews.”"
      ],
      "metadata": {
        "id": "ZYLc-tL21_hm"
      }
    },
    {
      "cell_type": "code",
      "source": [
        "# 6) Drop columns not needed for your analysis/plots\n",
        "cols_to_drop = [\"full_review\", \"en_full_review\", \"owner_resp_text\", \"found_unhelpful\"]\n",
        "cols_to_drop = [c for c in cols_to_drop if c in df.columns]\n",
        "df = df.drop(columns=cols_to_drop)\n",
        "df\n"
      ],
      "metadata": {
        "id": "rHYcc1b8aWU6",
        "colab": {
          "base_uri": "https://localhost:8080/",
          "height": 860
        },
        "outputId": "a375972c-2db8-4ba5-acf4-f124d54b5000"
      },
      "execution_count": 6,
      "outputs": [
        {
          "output_type": "stream",
          "name": "stderr",
          "text": [
            "INFO:root:Processed 121/121\n"
          ]
        },
        {
          "output_type": "stream",
          "name": "stdout",
          "text": [
            "2025-10-04 21:28:38,083 - root - INFO - Processed 121/121\n"
          ]
        },
        {
          "output_type": "execute_result",
          "data": {
            "text/plain": [
              "          username user_country                  room_view stay_duration  \\\n",
              "0          Nivaldo      Ecuador       Standard Double Room      2 nights   \n",
              "1           Javier      Ecuador       Standard Double Room       1 night   \n",
              "2            Yayuk      Finland       Standard Double Room      4 nights   \n",
              "3             Raul     Colombia       Standard Double Room       1 night   \n",
              "4        Alejandro      Ecuador       Standard Double Room      2 nights   \n",
              "...            ...          ...                        ...           ...   \n",
              "1067         Mario    Guatemala  Double Room with Sofa Bed      2 nights   \n",
              "1068  Jean-jacques       France       Standard Double Room      4 nights   \n",
              "1069   Davicho1985      Ecuador  Double Room with Sofa Bed       1 night   \n",
              "1070    Tamarita82      Ecuador  Double Room with Sofa Bed       1 night   \n",
              "1071      Carmenza     Colombia  Double Room with Sofa Bed      4 nights   \n",
              "\n",
              "           stay_type     review_post_date  \\\n",
              "0     Solo traveller  10-04-2025 00:00:00   \n",
              "1             Family  09-28-2025 00:00:00   \n",
              "2     Solo traveller  09-27-2025 00:00:00   \n",
              "3     Solo traveller  09-27-2025 00:00:00   \n",
              "4             Couple  09-26-2025 00:00:00   \n",
              "...              ...                  ...   \n",
              "1067  Solo traveller  10-06-2022 00:00:00   \n",
              "1068          Family  10-06-2022 00:00:00   \n",
              "1069          Family  10-05-2022 00:00:00   \n",
              "1070          Family  10-05-2022 00:00:00   \n",
              "1071          Family  10-04-2022 00:00:00   \n",
              "\n",
              "                                           review_title  rating original_lang  \\\n",
              "0                                              Passable     5.0            es   \n",
              "1                                                Superb     9.0            es   \n",
              "2                                             Very good     8.0         en-us   \n",
              "3     deben hacer mejor limpieza en los pisos para e...     3.0            es   \n",
              "4                                                  Good     7.0            es   \n",
              "...                                                 ...     ...           ...   \n",
              "1067                                        Exceptional    10.0         en-us   \n",
              "1068  Bien dans l’ensemble. Attention à l’attente au...     8.0            fr   \n",
              "1069                                        Exceptional    10.0            es   \n",
              "1070                                        Exceptional    10.0            es   \n",
              "1071                           Falta de responsabilidad     8.0            es   \n",
              "\n",
              "                                   review_text_liked  \\\n",
              "0                                          Ubicación   \n",
              "1                                                NaN   \n",
              "2                                                NaN   \n",
              "3                                  el desayuno bueno   \n",
              "4                   En general el hotel estuvo bien.   \n",
              "...                                              ...   \n",
              "1067                                             NaN   \n",
              "1068       Le calme de la chambre, le petit déjeuner   \n",
              "1069                                             NaN   \n",
              "1070  La ubicación y la variedad del desayuno bufete   \n",
              "1071                          La ubicación del hotel   \n",
              "\n",
              "                                   review_text_disliked  found_helpful  \n",
              "0                   Lo pequeña que estaba la habitación              0  \n",
              "1                                                   NaN              0  \n",
              "2                                                   NaN              0  \n",
              "3     la limpieza en el piso, olor feo a almombras m...              0  \n",
              "4                    El cuarto me pareció muy chiquito.              0  \n",
              "...                                                 ...            ...  \n",
              "1067                                                NaN              0  \n",
              "1068  Le temps attendu pour un dîner. 1h15!!! Un dir...              0  \n",
              "1069                                                NaN              0  \n",
              "1070  Garaje muy parecidos a las habitaciones, pequeñas              0  \n",
              "1071  Que no arreglaron la habitación el primer día ...              0  \n",
              "\n",
              "[1072 rows x 12 columns]"
            ],
            "text/html": [
              "\n",
              "  <div id=\"df-50298228-61ce-486b-8978-0c542100b34b\" class=\"colab-df-container\">\n",
              "    <div>\n",
              "<style scoped>\n",
              "    .dataframe tbody tr th:only-of-type {\n",
              "        vertical-align: middle;\n",
              "    }\n",
              "\n",
              "    .dataframe tbody tr th {\n",
              "        vertical-align: top;\n",
              "    }\n",
              "\n",
              "    .dataframe thead th {\n",
              "        text-align: right;\n",
              "    }\n",
              "</style>\n",
              "<table border=\"1\" class=\"dataframe\">\n",
              "  <thead>\n",
              "    <tr style=\"text-align: right;\">\n",
              "      <th></th>\n",
              "      <th>username</th>\n",
              "      <th>user_country</th>\n",
              "      <th>room_view</th>\n",
              "      <th>stay_duration</th>\n",
              "      <th>stay_type</th>\n",
              "      <th>review_post_date</th>\n",
              "      <th>review_title</th>\n",
              "      <th>rating</th>\n",
              "      <th>original_lang</th>\n",
              "      <th>review_text_liked</th>\n",
              "      <th>review_text_disliked</th>\n",
              "      <th>found_helpful</th>\n",
              "    </tr>\n",
              "  </thead>\n",
              "  <tbody>\n",
              "    <tr>\n",
              "      <th>0</th>\n",
              "      <td>Nivaldo</td>\n",
              "      <td>Ecuador</td>\n",
              "      <td>Standard Double Room</td>\n",
              "      <td>2 nights</td>\n",
              "      <td>Solo traveller</td>\n",
              "      <td>10-04-2025 00:00:00</td>\n",
              "      <td>Passable</td>\n",
              "      <td>5.0</td>\n",
              "      <td>es</td>\n",
              "      <td>Ubicación</td>\n",
              "      <td>Lo pequeña que estaba la habitación</td>\n",
              "      <td>0</td>\n",
              "    </tr>\n",
              "    <tr>\n",
              "      <th>1</th>\n",
              "      <td>Javier</td>\n",
              "      <td>Ecuador</td>\n",
              "      <td>Standard Double Room</td>\n",
              "      <td>1 night</td>\n",
              "      <td>Family</td>\n",
              "      <td>09-28-2025 00:00:00</td>\n",
              "      <td>Superb</td>\n",
              "      <td>9.0</td>\n",
              "      <td>es</td>\n",
              "      <td>NaN</td>\n",
              "      <td>NaN</td>\n",
              "      <td>0</td>\n",
              "    </tr>\n",
              "    <tr>\n",
              "      <th>2</th>\n",
              "      <td>Yayuk</td>\n",
              "      <td>Finland</td>\n",
              "      <td>Standard Double Room</td>\n",
              "      <td>4 nights</td>\n",
              "      <td>Solo traveller</td>\n",
              "      <td>09-27-2025 00:00:00</td>\n",
              "      <td>Very good</td>\n",
              "      <td>8.0</td>\n",
              "      <td>en-us</td>\n",
              "      <td>NaN</td>\n",
              "      <td>NaN</td>\n",
              "      <td>0</td>\n",
              "    </tr>\n",
              "    <tr>\n",
              "      <th>3</th>\n",
              "      <td>Raul</td>\n",
              "      <td>Colombia</td>\n",
              "      <td>Standard Double Room</td>\n",
              "      <td>1 night</td>\n",
              "      <td>Solo traveller</td>\n",
              "      <td>09-27-2025 00:00:00</td>\n",
              "      <td>deben hacer mejor limpieza en los pisos para e...</td>\n",
              "      <td>3.0</td>\n",
              "      <td>es</td>\n",
              "      <td>el desayuno bueno</td>\n",
              "      <td>la limpieza en el piso, olor feo a almombras m...</td>\n",
              "      <td>0</td>\n",
              "    </tr>\n",
              "    <tr>\n",
              "      <th>4</th>\n",
              "      <td>Alejandro</td>\n",
              "      <td>Ecuador</td>\n",
              "      <td>Standard Double Room</td>\n",
              "      <td>2 nights</td>\n",
              "      <td>Couple</td>\n",
              "      <td>09-26-2025 00:00:00</td>\n",
              "      <td>Good</td>\n",
              "      <td>7.0</td>\n",
              "      <td>es</td>\n",
              "      <td>En general el hotel estuvo bien.</td>\n",
              "      <td>El cuarto me pareció muy chiquito.</td>\n",
              "      <td>0</td>\n",
              "    </tr>\n",
              "    <tr>\n",
              "      <th>...</th>\n",
              "      <td>...</td>\n",
              "      <td>...</td>\n",
              "      <td>...</td>\n",
              "      <td>...</td>\n",
              "      <td>...</td>\n",
              "      <td>...</td>\n",
              "      <td>...</td>\n",
              "      <td>...</td>\n",
              "      <td>...</td>\n",
              "      <td>...</td>\n",
              "      <td>...</td>\n",
              "      <td>...</td>\n",
              "    </tr>\n",
              "    <tr>\n",
              "      <th>1067</th>\n",
              "      <td>Mario</td>\n",
              "      <td>Guatemala</td>\n",
              "      <td>Double Room with Sofa Bed</td>\n",
              "      <td>2 nights</td>\n",
              "      <td>Solo traveller</td>\n",
              "      <td>10-06-2022 00:00:00</td>\n",
              "      <td>Exceptional</td>\n",
              "      <td>10.0</td>\n",
              "      <td>en-us</td>\n",
              "      <td>NaN</td>\n",
              "      <td>NaN</td>\n",
              "      <td>0</td>\n",
              "    </tr>\n",
              "    <tr>\n",
              "      <th>1068</th>\n",
              "      <td>Jean-jacques</td>\n",
              "      <td>France</td>\n",
              "      <td>Standard Double Room</td>\n",
              "      <td>4 nights</td>\n",
              "      <td>Family</td>\n",
              "      <td>10-06-2022 00:00:00</td>\n",
              "      <td>Bien dans l’ensemble. Attention à l’attente au...</td>\n",
              "      <td>8.0</td>\n",
              "      <td>fr</td>\n",
              "      <td>Le calme de la chambre, le petit déjeuner</td>\n",
              "      <td>Le temps attendu pour un dîner. 1h15!!! Un dir...</td>\n",
              "      <td>0</td>\n",
              "    </tr>\n",
              "    <tr>\n",
              "      <th>1069</th>\n",
              "      <td>Davicho1985</td>\n",
              "      <td>Ecuador</td>\n",
              "      <td>Double Room with Sofa Bed</td>\n",
              "      <td>1 night</td>\n",
              "      <td>Family</td>\n",
              "      <td>10-05-2022 00:00:00</td>\n",
              "      <td>Exceptional</td>\n",
              "      <td>10.0</td>\n",
              "      <td>es</td>\n",
              "      <td>NaN</td>\n",
              "      <td>NaN</td>\n",
              "      <td>0</td>\n",
              "    </tr>\n",
              "    <tr>\n",
              "      <th>1070</th>\n",
              "      <td>Tamarita82</td>\n",
              "      <td>Ecuador</td>\n",
              "      <td>Double Room with Sofa Bed</td>\n",
              "      <td>1 night</td>\n",
              "      <td>Family</td>\n",
              "      <td>10-05-2022 00:00:00</td>\n",
              "      <td>Exceptional</td>\n",
              "      <td>10.0</td>\n",
              "      <td>es</td>\n",
              "      <td>La ubicación y la variedad del desayuno bufete</td>\n",
              "      <td>Garaje muy parecidos a las habitaciones, pequeñas</td>\n",
              "      <td>0</td>\n",
              "    </tr>\n",
              "    <tr>\n",
              "      <th>1071</th>\n",
              "      <td>Carmenza</td>\n",
              "      <td>Colombia</td>\n",
              "      <td>Double Room with Sofa Bed</td>\n",
              "      <td>4 nights</td>\n",
              "      <td>Family</td>\n",
              "      <td>10-04-2022 00:00:00</td>\n",
              "      <td>Falta de responsabilidad</td>\n",
              "      <td>8.0</td>\n",
              "      <td>es</td>\n",
              "      <td>La ubicación del hotel</td>\n",
              "      <td>Que no arreglaron la habitación el primer día ...</td>\n",
              "      <td>0</td>\n",
              "    </tr>\n",
              "  </tbody>\n",
              "</table>\n",
              "<p>1072 rows × 12 columns</p>\n",
              "</div>\n",
              "    <div class=\"colab-df-buttons\">\n",
              "\n",
              "  <div class=\"colab-df-container\">\n",
              "    <button class=\"colab-df-convert\" onclick=\"convertToInteractive('df-50298228-61ce-486b-8978-0c542100b34b')\"\n",
              "            title=\"Convert this dataframe to an interactive table.\"\n",
              "            style=\"display:none;\">\n",
              "\n",
              "  <svg xmlns=\"http://www.w3.org/2000/svg\" height=\"24px\" viewBox=\"0 -960 960 960\">\n",
              "    <path d=\"M120-120v-720h720v720H120Zm60-500h600v-160H180v160Zm220 220h160v-160H400v160Zm0 220h160v-160H400v160ZM180-400h160v-160H180v160Zm440 0h160v-160H620v160ZM180-180h160v-160H180v160Zm440 0h160v-160H620v160Z\"/>\n",
              "  </svg>\n",
              "    </button>\n",
              "\n",
              "  <style>\n",
              "    .colab-df-container {\n",
              "      display:flex;\n",
              "      gap: 12px;\n",
              "    }\n",
              "\n",
              "    .colab-df-convert {\n",
              "      background-color: #E8F0FE;\n",
              "      border: none;\n",
              "      border-radius: 50%;\n",
              "      cursor: pointer;\n",
              "      display: none;\n",
              "      fill: #1967D2;\n",
              "      height: 32px;\n",
              "      padding: 0 0 0 0;\n",
              "      width: 32px;\n",
              "    }\n",
              "\n",
              "    .colab-df-convert:hover {\n",
              "      background-color: #E2EBFA;\n",
              "      box-shadow: 0px 1px 2px rgba(60, 64, 67, 0.3), 0px 1px 3px 1px rgba(60, 64, 67, 0.15);\n",
              "      fill: #174EA6;\n",
              "    }\n",
              "\n",
              "    .colab-df-buttons div {\n",
              "      margin-bottom: 4px;\n",
              "    }\n",
              "\n",
              "    [theme=dark] .colab-df-convert {\n",
              "      background-color: #3B4455;\n",
              "      fill: #D2E3FC;\n",
              "    }\n",
              "\n",
              "    [theme=dark] .colab-df-convert:hover {\n",
              "      background-color: #434B5C;\n",
              "      box-shadow: 0px 1px 3px 1px rgba(0, 0, 0, 0.15);\n",
              "      filter: drop-shadow(0px 1px 2px rgba(0, 0, 0, 0.3));\n",
              "      fill: #FFFFFF;\n",
              "    }\n",
              "  </style>\n",
              "\n",
              "    <script>\n",
              "      const buttonEl =\n",
              "        document.querySelector('#df-50298228-61ce-486b-8978-0c542100b34b button.colab-df-convert');\n",
              "      buttonEl.style.display =\n",
              "        google.colab.kernel.accessAllowed ? 'block' : 'none';\n",
              "\n",
              "      async function convertToInteractive(key) {\n",
              "        const element = document.querySelector('#df-50298228-61ce-486b-8978-0c542100b34b');\n",
              "        const dataTable =\n",
              "          await google.colab.kernel.invokeFunction('convertToInteractive',\n",
              "                                                    [key], {});\n",
              "        if (!dataTable) return;\n",
              "\n",
              "        const docLinkHtml = 'Like what you see? Visit the ' +\n",
              "          '<a target=\"_blank\" href=https://colab.research.google.com/notebooks/data_table.ipynb>data table notebook</a>'\n",
              "          + ' to learn more about interactive tables.';\n",
              "        element.innerHTML = '';\n",
              "        dataTable['output_type'] = 'display_data';\n",
              "        await google.colab.output.renderOutput(dataTable, element);\n",
              "        const docLink = document.createElement('div');\n",
              "        docLink.innerHTML = docLinkHtml;\n",
              "        element.appendChild(docLink);\n",
              "      }\n",
              "    </script>\n",
              "  </div>\n",
              "\n",
              "\n",
              "    <div id=\"df-0242b72c-1c18-4e7d-8f85-a95277159bc8\">\n",
              "      <button class=\"colab-df-quickchart\" onclick=\"quickchart('df-0242b72c-1c18-4e7d-8f85-a95277159bc8')\"\n",
              "                title=\"Suggest charts\"\n",
              "                style=\"display:none;\">\n",
              "\n",
              "<svg xmlns=\"http://www.w3.org/2000/svg\" height=\"24px\"viewBox=\"0 0 24 24\"\n",
              "     width=\"24px\">\n",
              "    <g>\n",
              "        <path d=\"M19 3H5c-1.1 0-2 .9-2 2v14c0 1.1.9 2 2 2h14c1.1 0 2-.9 2-2V5c0-1.1-.9-2-2-2zM9 17H7v-7h2v7zm4 0h-2V7h2v10zm4 0h-2v-4h2v4z\"/>\n",
              "    </g>\n",
              "</svg>\n",
              "      </button>\n",
              "\n",
              "<style>\n",
              "  .colab-df-quickchart {\n",
              "      --bg-color: #E8F0FE;\n",
              "      --fill-color: #1967D2;\n",
              "      --hover-bg-color: #E2EBFA;\n",
              "      --hover-fill-color: #174EA6;\n",
              "      --disabled-fill-color: #AAA;\n",
              "      --disabled-bg-color: #DDD;\n",
              "  }\n",
              "\n",
              "  [theme=dark] .colab-df-quickchart {\n",
              "      --bg-color: #3B4455;\n",
              "      --fill-color: #D2E3FC;\n",
              "      --hover-bg-color: #434B5C;\n",
              "      --hover-fill-color: #FFFFFF;\n",
              "      --disabled-bg-color: #3B4455;\n",
              "      --disabled-fill-color: #666;\n",
              "  }\n",
              "\n",
              "  .colab-df-quickchart {\n",
              "    background-color: var(--bg-color);\n",
              "    border: none;\n",
              "    border-radius: 50%;\n",
              "    cursor: pointer;\n",
              "    display: none;\n",
              "    fill: var(--fill-color);\n",
              "    height: 32px;\n",
              "    padding: 0;\n",
              "    width: 32px;\n",
              "  }\n",
              "\n",
              "  .colab-df-quickchart:hover {\n",
              "    background-color: var(--hover-bg-color);\n",
              "    box-shadow: 0 1px 2px rgba(60, 64, 67, 0.3), 0 1px 3px 1px rgba(60, 64, 67, 0.15);\n",
              "    fill: var(--button-hover-fill-color);\n",
              "  }\n",
              "\n",
              "  .colab-df-quickchart-complete:disabled,\n",
              "  .colab-df-quickchart-complete:disabled:hover {\n",
              "    background-color: var(--disabled-bg-color);\n",
              "    fill: var(--disabled-fill-color);\n",
              "    box-shadow: none;\n",
              "  }\n",
              "\n",
              "  .colab-df-spinner {\n",
              "    border: 2px solid var(--fill-color);\n",
              "    border-color: transparent;\n",
              "    border-bottom-color: var(--fill-color);\n",
              "    animation:\n",
              "      spin 1s steps(1) infinite;\n",
              "  }\n",
              "\n",
              "  @keyframes spin {\n",
              "    0% {\n",
              "      border-color: transparent;\n",
              "      border-bottom-color: var(--fill-color);\n",
              "      border-left-color: var(--fill-color);\n",
              "    }\n",
              "    20% {\n",
              "      border-color: transparent;\n",
              "      border-left-color: var(--fill-color);\n",
              "      border-top-color: var(--fill-color);\n",
              "    }\n",
              "    30% {\n",
              "      border-color: transparent;\n",
              "      border-left-color: var(--fill-color);\n",
              "      border-top-color: var(--fill-color);\n",
              "      border-right-color: var(--fill-color);\n",
              "    }\n",
              "    40% {\n",
              "      border-color: transparent;\n",
              "      border-right-color: var(--fill-color);\n",
              "      border-top-color: var(--fill-color);\n",
              "    }\n",
              "    60% {\n",
              "      border-color: transparent;\n",
              "      border-right-color: var(--fill-color);\n",
              "    }\n",
              "    80% {\n",
              "      border-color: transparent;\n",
              "      border-right-color: var(--fill-color);\n",
              "      border-bottom-color: var(--fill-color);\n",
              "    }\n",
              "    90% {\n",
              "      border-color: transparent;\n",
              "      border-bottom-color: var(--fill-color);\n",
              "    }\n",
              "  }\n",
              "</style>\n",
              "\n",
              "      <script>\n",
              "        async function quickchart(key) {\n",
              "          const quickchartButtonEl =\n",
              "            document.querySelector('#' + key + ' button');\n",
              "          quickchartButtonEl.disabled = true;  // To prevent multiple clicks.\n",
              "          quickchartButtonEl.classList.add('colab-df-spinner');\n",
              "          try {\n",
              "            const charts = await google.colab.kernel.invokeFunction(\n",
              "                'suggestCharts', [key], {});\n",
              "          } catch (error) {\n",
              "            console.error('Error during call to suggestCharts:', error);\n",
              "          }\n",
              "          quickchartButtonEl.classList.remove('colab-df-spinner');\n",
              "          quickchartButtonEl.classList.add('colab-df-quickchart-complete');\n",
              "        }\n",
              "        (() => {\n",
              "          let quickchartButtonEl =\n",
              "            document.querySelector('#df-0242b72c-1c18-4e7d-8f85-a95277159bc8 button');\n",
              "          quickchartButtonEl.style.display =\n",
              "            google.colab.kernel.accessAllowed ? 'block' : 'none';\n",
              "        })();\n",
              "      </script>\n",
              "    </div>\n",
              "\n",
              "  <div id=\"id_2624a0cb-507a-4f7c-8da4-a658e487175b\">\n",
              "    <style>\n",
              "      .colab-df-generate {\n",
              "        background-color: #E8F0FE;\n",
              "        border: none;\n",
              "        border-radius: 50%;\n",
              "        cursor: pointer;\n",
              "        display: none;\n",
              "        fill: #1967D2;\n",
              "        height: 32px;\n",
              "        padding: 0 0 0 0;\n",
              "        width: 32px;\n",
              "      }\n",
              "\n",
              "      .colab-df-generate:hover {\n",
              "        background-color: #E2EBFA;\n",
              "        box-shadow: 0px 1px 2px rgba(60, 64, 67, 0.3), 0px 1px 3px 1px rgba(60, 64, 67, 0.15);\n",
              "        fill: #174EA6;\n",
              "      }\n",
              "\n",
              "      [theme=dark] .colab-df-generate {\n",
              "        background-color: #3B4455;\n",
              "        fill: #D2E3FC;\n",
              "      }\n",
              "\n",
              "      [theme=dark] .colab-df-generate:hover {\n",
              "        background-color: #434B5C;\n",
              "        box-shadow: 0px 1px 3px 1px rgba(0, 0, 0, 0.15);\n",
              "        filter: drop-shadow(0px 1px 2px rgba(0, 0, 0, 0.3));\n",
              "        fill: #FFFFFF;\n",
              "      }\n",
              "    </style>\n",
              "    <button class=\"colab-df-generate\" onclick=\"generateWithVariable('df')\"\n",
              "            title=\"Generate code using this dataframe.\"\n",
              "            style=\"display:none;\">\n",
              "\n",
              "  <svg xmlns=\"http://www.w3.org/2000/svg\" height=\"24px\"viewBox=\"0 0 24 24\"\n",
              "       width=\"24px\">\n",
              "    <path d=\"M7,19H8.4L18.45,9,17,7.55,7,17.6ZM5,21V16.75L18.45,3.32a2,2,0,0,1,2.83,0l1.4,1.43a1.91,1.91,0,0,1,.58,1.4,1.91,1.91,0,0,1-.58,1.4L9.25,21ZM18.45,9,17,7.55Zm-12,3A5.31,5.31,0,0,0,4.9,8.1,5.31,5.31,0,0,0,1,6.5,5.31,5.31,0,0,0,4.9,4.9,5.31,5.31,0,0,0,6.5,1,5.31,5.31,0,0,0,8.1,4.9,5.31,5.31,0,0,0,12,6.5,5.46,5.46,0,0,0,6.5,12Z\"/>\n",
              "  </svg>\n",
              "    </button>\n",
              "    <script>\n",
              "      (() => {\n",
              "      const buttonEl =\n",
              "        document.querySelector('#id_2624a0cb-507a-4f7c-8da4-a658e487175b button.colab-df-generate');\n",
              "      buttonEl.style.display =\n",
              "        google.colab.kernel.accessAllowed ? 'block' : 'none';\n",
              "\n",
              "      buttonEl.onclick = () => {\n",
              "        google.colab.notebook.generateWithVariable('df');\n",
              "      }\n",
              "      })();\n",
              "    </script>\n",
              "  </div>\n",
              "\n",
              "    </div>\n",
              "  </div>\n"
            ],
            "application/vnd.google.colaboratory.intrinsic+json": {
              "type": "dataframe",
              "variable_name": "df",
              "summary": "{\n  \"name\": \"df\",\n  \"rows\": 1072,\n  \"fields\": [\n    {\n      \"column\": \"username\",\n      \"properties\": {\n        \"dtype\": \"string\",\n        \"num_unique_values\": 557,\n        \"samples\": [\n          \"Victor\",\n          \"Villalva\",\n          \"Yenifer\"\n        ],\n        \"semantic_type\": \"\",\n        \"description\": \"\"\n      }\n    },\n    {\n      \"column\": \"user_country\",\n      \"properties\": {\n        \"dtype\": \"category\",\n        \"num_unique_values\": 43,\n        \"samples\": [\n          \"Luxembourg\",\n          \"India\",\n          \"Israel\"\n        ],\n        \"semantic_type\": \"\",\n        \"description\": \"\"\n      }\n    },\n    {\n      \"column\": \"room_view\",\n      \"properties\": {\n        \"dtype\": \"category\",\n        \"num_unique_values\": 3,\n        \"samples\": [\n          \"Standard Double Room\",\n          \"Double Room with Sofa Bed\",\n          \"Standard Twin Room\"\n        ],\n        \"semantic_type\": \"\",\n        \"description\": \"\"\n      }\n    },\n    {\n      \"column\": \"stay_duration\",\n      \"properties\": {\n        \"dtype\": \"category\",\n        \"num_unique_values\": 13,\n        \"samples\": [\n          \"10 nights\",\n          \"8 nights\",\n          \"2 nights\"\n        ],\n        \"semantic_type\": \"\",\n        \"description\": \"\"\n      }\n    },\n    {\n      \"column\": \"stay_type\",\n      \"properties\": {\n        \"dtype\": \"category\",\n        \"num_unique_values\": 4,\n        \"samples\": [\n          \"Family\",\n          \"Group\",\n          \"Solo traveller\"\n        ],\n        \"semantic_type\": \"\",\n        \"description\": \"\"\n      }\n    },\n    {\n      \"column\": \"review_post_date\",\n      \"properties\": {\n        \"dtype\": \"object\",\n        \"num_unique_values\": 611,\n        \"samples\": [\n          \"05-08-2025 00:00:00\",\n          \"08-12-2024 00:00:00\",\n          \"06-27-2025 00:00:00\"\n        ],\n        \"semantic_type\": \"\",\n        \"description\": \"\"\n      }\n    },\n    {\n      \"column\": \"review_title\",\n      \"properties\": {\n        \"dtype\": \"category\",\n        \"num_unique_values\": 308,\n        \"samples\": [\n          \"\\u4f53\\u9a8c\\u611f\\u4e0d\\u597d\\uff0c\\u9152\\u5e97\\u5927\\u5802\\u7684\\u4eba\\u592a\\u591a\\uff0c\\u623f\\u95f4\\u6bd4\\u8f83\\u6324\\u3002\\u4e0d\\u63a8\\u8350\",\n          \"Fin de semana en Quito\",\n          \"Mal servicio\"\n        ],\n        \"semantic_type\": \"\",\n        \"description\": \"\"\n      }\n    },\n    {\n      \"column\": \"rating\",\n      \"properties\": {\n        \"dtype\": \"number\",\n        \"std\": 1.9174122449906579,\n        \"min\": 1.0,\n        \"max\": 10.0,\n        \"num_unique_values\": 10,\n        \"samples\": [\n          4.0,\n          9.0,\n          10.0\n        ],\n        \"semantic_type\": \"\",\n        \"description\": \"\"\n      }\n    },\n    {\n      \"column\": \"original_lang\",\n      \"properties\": {\n        \"dtype\": \"category\",\n        \"num_unique_values\": 19,\n        \"samples\": [\n          \"es\",\n          \"fr\",\n          \"cs\"\n        ],\n        \"semantic_type\": \"\",\n        \"description\": \"\"\n      }\n    },\n    {\n      \"column\": \"review_text_liked\",\n      \"properties\": {\n        \"dtype\": \"category\",\n        \"num_unique_values\": 476,\n        \"samples\": [\n          \"c\\u00f3modo\",\n          \"Limpieza, seguridad\",\n          \"Es c\\u00e9ntrico y estaba limpio\"\n        ],\n        \"semantic_type\": \"\",\n        \"description\": \"\"\n      }\n    },\n    {\n      \"column\": \"review_text_disliked\",\n      \"properties\": {\n        \"dtype\": \"category\",\n        \"num_unique_values\": 354,\n        \"samples\": [\n          \"Habitaciones muy muy peque\\u00f1as. No tiene armario. En ese sentido, muy inc\\u00f3modo.\",\n          \"una impresora\",\n          \"La ubicaci\\u00f3n\"\n        ],\n        \"semantic_type\": \"\",\n        \"description\": \"\"\n      }\n    },\n    {\n      \"column\": \"found_helpful\",\n      \"properties\": {\n        \"dtype\": \"number\",\n        \"std\": 0,\n        \"min\": 0,\n        \"max\": 2,\n        \"num_unique_values\": 3,\n        \"samples\": [\n          0,\n          1,\n          2\n        ],\n        \"semantic_type\": \"\",\n        \"description\": \"\"\n      }\n    }\n  ]\n}"
            }
          },
          "metadata": {},
          "execution_count": 6
        }
      ]
    },
    {
      "cell_type": "markdown",
      "source": [
        "#7) Inconsistencies (Quality Check)\n",
        "What you do:\n",
        "\n",
        "Look for invalid ratings,\n",
        "\n",
        "Count nulls by column,\n",
        "\n",
        "Estimate duplicates (by simple join).\n",
        "\n",
        "What you should see (your numbers):\n",
        "\n",
        "Ratings out of range: 0.\n",
        "\n",
        "Nulls: review_text_liked 200, review_text_disliked 257, room_view 8…\n",
        "\n",
        "Duplicates: 10 (possible).\n",
        "\n",
        "Text for your findings cell (>=20 words):\n",
        "“We observed 200 nulls in review_text_liked and 257 in review_text_disliked, and 10 possible duplicates for (username, review_post_date, review_title). There were no ratings outside the range of 0–10. The dates were parsable. After cleaning, the dataset was consistent for counts and graphs.”"
      ],
      "metadata": {
        "id": "TPen4pWfMDFG"
      }
    },
    {
      "cell_type": "code",
      "source": [
        "# 7) Basic quality checks: out-of-range ratings, nulls, simple duplicate heuristic\n",
        "if \"rating\" in df.columns:\n",
        "    out_range = df[(df[\"rating\"] < 0) | (df[\"rating\"] > 10)]\n",
        "    print(\"Ratings outside 0..10:\", len(out_range))\n",
        "\n",
        "print(\"Nulls per column:\\n\", df.isna().sum())\n",
        "\n",
        "subset = [c for c in [\"username\",\"review_post_date\",\"review_title\"] if c in df.columns]\n",
        "dup_count = df.duplicated(subset=subset, keep=False).sum() if subset else 0\n",
        "print(\"Possible duplicates (count):\", dup_count)\n"
      ],
      "metadata": {
        "colab": {
          "base_uri": "https://localhost:8080/"
        },
        "id": "ZXLS_pwQMEDW",
        "outputId": "21457ec3-ab1a-492b-9d92-b2ea181b6864"
      },
      "execution_count": 7,
      "outputs": [
        {
          "output_type": "stream",
          "name": "stdout",
          "text": [
            "Ratings outside 0..10: 0\n",
            "Nulls per column:\n",
            " username                  0\n",
            "user_country              1\n",
            "room_view                18\n",
            "stay_duration             0\n",
            "stay_type                 0\n",
            "review_post_date          0\n",
            "review_title              1\n",
            "rating                    0\n",
            "original_lang             0\n",
            "review_text_liked       539\n",
            "review_text_disliked    696\n",
            "found_helpful             0\n",
            "dtype: int64\n",
            "Possible duplicates (count): 39\n"
          ]
        }
      ]
    },
    {
      "cell_type": "markdown",
      "source": [
        "#8) Date → Month (number) and Year\n",
        "What you do: Convert the date string to a datetime and create a numeric month and year.\n",
        "What you should see: The first rows have review_post_date in date format, and month/year columns have numbers (in your screenshot, month=9, year=2025).\n",
        "\n",
        "Why: The guide explicitly requires it (month as a number)."
      ],
      "metadata": {
        "id": "G6ss4xjLMRL8"
      }
    },
    {
      "cell_type": "code",
      "source": [
        "# 8) Parse the review date and create month/year columns\n",
        "date_candidates = [c for c in [\"review_post_date\",\"review_date\",\"date\",\"post_date\"] if c in df.columns]\n",
        "assert date_candidates, \"No typical date column found. Check df.columns.\"\n",
        "DATE_COL = date_candidates[0]\n",
        "print(\"Using date column:\", DATE_COL)\n",
        "\n",
        "df[DATE_COL] = pd.to_datetime(df[DATE_COL], errors=\"coerce\")\n",
        "df[\"month\"] = df[DATE_COL].dt.month   # 1..12\n",
        "df[\"year\"]  = df[DATE_COL].dt.year\n",
        "df[[DATE_COL,\"month\",\"year\"]].head()\n"
      ],
      "metadata": {
        "colab": {
          "base_uri": "https://localhost:8080/",
          "height": 223
        },
        "id": "hfbfE1X2MUq0",
        "outputId": "e09019d6-0b54-4e11-9589-6de21fab4774"
      },
      "execution_count": 8,
      "outputs": [
        {
          "output_type": "stream",
          "name": "stdout",
          "text": [
            "Using date column: review_post_date\n"
          ]
        },
        {
          "output_type": "execute_result",
          "data": {
            "text/plain": [
              "  review_post_date  month  year\n",
              "0       2025-10-04     10  2025\n",
              "1       2025-09-28      9  2025\n",
              "2       2025-09-27      9  2025\n",
              "3       2025-09-27      9  2025\n",
              "4       2025-09-26      9  2025"
            ],
            "text/html": [
              "\n",
              "  <div id=\"df-7e0012e0-b86f-485a-bea3-39aa79a1a1ad\" class=\"colab-df-container\">\n",
              "    <div>\n",
              "<style scoped>\n",
              "    .dataframe tbody tr th:only-of-type {\n",
              "        vertical-align: middle;\n",
              "    }\n",
              "\n",
              "    .dataframe tbody tr th {\n",
              "        vertical-align: top;\n",
              "    }\n",
              "\n",
              "    .dataframe thead th {\n",
              "        text-align: right;\n",
              "    }\n",
              "</style>\n",
              "<table border=\"1\" class=\"dataframe\">\n",
              "  <thead>\n",
              "    <tr style=\"text-align: right;\">\n",
              "      <th></th>\n",
              "      <th>review_post_date</th>\n",
              "      <th>month</th>\n",
              "      <th>year</th>\n",
              "    </tr>\n",
              "  </thead>\n",
              "  <tbody>\n",
              "    <tr>\n",
              "      <th>0</th>\n",
              "      <td>2025-10-04</td>\n",
              "      <td>10</td>\n",
              "      <td>2025</td>\n",
              "    </tr>\n",
              "    <tr>\n",
              "      <th>1</th>\n",
              "      <td>2025-09-28</td>\n",
              "      <td>9</td>\n",
              "      <td>2025</td>\n",
              "    </tr>\n",
              "    <tr>\n",
              "      <th>2</th>\n",
              "      <td>2025-09-27</td>\n",
              "      <td>9</td>\n",
              "      <td>2025</td>\n",
              "    </tr>\n",
              "    <tr>\n",
              "      <th>3</th>\n",
              "      <td>2025-09-27</td>\n",
              "      <td>9</td>\n",
              "      <td>2025</td>\n",
              "    </tr>\n",
              "    <tr>\n",
              "      <th>4</th>\n",
              "      <td>2025-09-26</td>\n",
              "      <td>9</td>\n",
              "      <td>2025</td>\n",
              "    </tr>\n",
              "  </tbody>\n",
              "</table>\n",
              "</div>\n",
              "    <div class=\"colab-df-buttons\">\n",
              "\n",
              "  <div class=\"colab-df-container\">\n",
              "    <button class=\"colab-df-convert\" onclick=\"convertToInteractive('df-7e0012e0-b86f-485a-bea3-39aa79a1a1ad')\"\n",
              "            title=\"Convert this dataframe to an interactive table.\"\n",
              "            style=\"display:none;\">\n",
              "\n",
              "  <svg xmlns=\"http://www.w3.org/2000/svg\" height=\"24px\" viewBox=\"0 -960 960 960\">\n",
              "    <path d=\"M120-120v-720h720v720H120Zm60-500h600v-160H180v160Zm220 220h160v-160H400v160Zm0 220h160v-160H400v160ZM180-400h160v-160H180v160Zm440 0h160v-160H620v160ZM180-180h160v-160H180v160Zm440 0h160v-160H620v160Z\"/>\n",
              "  </svg>\n",
              "    </button>\n",
              "\n",
              "  <style>\n",
              "    .colab-df-container {\n",
              "      display:flex;\n",
              "      gap: 12px;\n",
              "    }\n",
              "\n",
              "    .colab-df-convert {\n",
              "      background-color: #E8F0FE;\n",
              "      border: none;\n",
              "      border-radius: 50%;\n",
              "      cursor: pointer;\n",
              "      display: none;\n",
              "      fill: #1967D2;\n",
              "      height: 32px;\n",
              "      padding: 0 0 0 0;\n",
              "      width: 32px;\n",
              "    }\n",
              "\n",
              "    .colab-df-convert:hover {\n",
              "      background-color: #E2EBFA;\n",
              "      box-shadow: 0px 1px 2px rgba(60, 64, 67, 0.3), 0px 1px 3px 1px rgba(60, 64, 67, 0.15);\n",
              "      fill: #174EA6;\n",
              "    }\n",
              "\n",
              "    .colab-df-buttons div {\n",
              "      margin-bottom: 4px;\n",
              "    }\n",
              "\n",
              "    [theme=dark] .colab-df-convert {\n",
              "      background-color: #3B4455;\n",
              "      fill: #D2E3FC;\n",
              "    }\n",
              "\n",
              "    [theme=dark] .colab-df-convert:hover {\n",
              "      background-color: #434B5C;\n",
              "      box-shadow: 0px 1px 3px 1px rgba(0, 0, 0, 0.15);\n",
              "      filter: drop-shadow(0px 1px 2px rgba(0, 0, 0, 0.3));\n",
              "      fill: #FFFFFF;\n",
              "    }\n",
              "  </style>\n",
              "\n",
              "    <script>\n",
              "      const buttonEl =\n",
              "        document.querySelector('#df-7e0012e0-b86f-485a-bea3-39aa79a1a1ad button.colab-df-convert');\n",
              "      buttonEl.style.display =\n",
              "        google.colab.kernel.accessAllowed ? 'block' : 'none';\n",
              "\n",
              "      async function convertToInteractive(key) {\n",
              "        const element = document.querySelector('#df-7e0012e0-b86f-485a-bea3-39aa79a1a1ad');\n",
              "        const dataTable =\n",
              "          await google.colab.kernel.invokeFunction('convertToInteractive',\n",
              "                                                    [key], {});\n",
              "        if (!dataTable) return;\n",
              "\n",
              "        const docLinkHtml = 'Like what you see? Visit the ' +\n",
              "          '<a target=\"_blank\" href=https://colab.research.google.com/notebooks/data_table.ipynb>data table notebook</a>'\n",
              "          + ' to learn more about interactive tables.';\n",
              "        element.innerHTML = '';\n",
              "        dataTable['output_type'] = 'display_data';\n",
              "        await google.colab.output.renderOutput(dataTable, element);\n",
              "        const docLink = document.createElement('div');\n",
              "        docLink.innerHTML = docLinkHtml;\n",
              "        element.appendChild(docLink);\n",
              "      }\n",
              "    </script>\n",
              "  </div>\n",
              "\n",
              "\n",
              "    <div id=\"df-be5da8d0-7825-4f53-adfc-23eeb7592777\">\n",
              "      <button class=\"colab-df-quickchart\" onclick=\"quickchart('df-be5da8d0-7825-4f53-adfc-23eeb7592777')\"\n",
              "                title=\"Suggest charts\"\n",
              "                style=\"display:none;\">\n",
              "\n",
              "<svg xmlns=\"http://www.w3.org/2000/svg\" height=\"24px\"viewBox=\"0 0 24 24\"\n",
              "     width=\"24px\">\n",
              "    <g>\n",
              "        <path d=\"M19 3H5c-1.1 0-2 .9-2 2v14c0 1.1.9 2 2 2h14c1.1 0 2-.9 2-2V5c0-1.1-.9-2-2-2zM9 17H7v-7h2v7zm4 0h-2V7h2v10zm4 0h-2v-4h2v4z\"/>\n",
              "    </g>\n",
              "</svg>\n",
              "      </button>\n",
              "\n",
              "<style>\n",
              "  .colab-df-quickchart {\n",
              "      --bg-color: #E8F0FE;\n",
              "      --fill-color: #1967D2;\n",
              "      --hover-bg-color: #E2EBFA;\n",
              "      --hover-fill-color: #174EA6;\n",
              "      --disabled-fill-color: #AAA;\n",
              "      --disabled-bg-color: #DDD;\n",
              "  }\n",
              "\n",
              "  [theme=dark] .colab-df-quickchart {\n",
              "      --bg-color: #3B4455;\n",
              "      --fill-color: #D2E3FC;\n",
              "      --hover-bg-color: #434B5C;\n",
              "      --hover-fill-color: #FFFFFF;\n",
              "      --disabled-bg-color: #3B4455;\n",
              "      --disabled-fill-color: #666;\n",
              "  }\n",
              "\n",
              "  .colab-df-quickchart {\n",
              "    background-color: var(--bg-color);\n",
              "    border: none;\n",
              "    border-radius: 50%;\n",
              "    cursor: pointer;\n",
              "    display: none;\n",
              "    fill: var(--fill-color);\n",
              "    height: 32px;\n",
              "    padding: 0;\n",
              "    width: 32px;\n",
              "  }\n",
              "\n",
              "  .colab-df-quickchart:hover {\n",
              "    background-color: var(--hover-bg-color);\n",
              "    box-shadow: 0 1px 2px rgba(60, 64, 67, 0.3), 0 1px 3px 1px rgba(60, 64, 67, 0.15);\n",
              "    fill: var(--button-hover-fill-color);\n",
              "  }\n",
              "\n",
              "  .colab-df-quickchart-complete:disabled,\n",
              "  .colab-df-quickchart-complete:disabled:hover {\n",
              "    background-color: var(--disabled-bg-color);\n",
              "    fill: var(--disabled-fill-color);\n",
              "    box-shadow: none;\n",
              "  }\n",
              "\n",
              "  .colab-df-spinner {\n",
              "    border: 2px solid var(--fill-color);\n",
              "    border-color: transparent;\n",
              "    border-bottom-color: var(--fill-color);\n",
              "    animation:\n",
              "      spin 1s steps(1) infinite;\n",
              "  }\n",
              "\n",
              "  @keyframes spin {\n",
              "    0% {\n",
              "      border-color: transparent;\n",
              "      border-bottom-color: var(--fill-color);\n",
              "      border-left-color: var(--fill-color);\n",
              "    }\n",
              "    20% {\n",
              "      border-color: transparent;\n",
              "      border-left-color: var(--fill-color);\n",
              "      border-top-color: var(--fill-color);\n",
              "    }\n",
              "    30% {\n",
              "      border-color: transparent;\n",
              "      border-left-color: var(--fill-color);\n",
              "      border-top-color: var(--fill-color);\n",
              "      border-right-color: var(--fill-color);\n",
              "    }\n",
              "    40% {\n",
              "      border-color: transparent;\n",
              "      border-right-color: var(--fill-color);\n",
              "      border-top-color: var(--fill-color);\n",
              "    }\n",
              "    60% {\n",
              "      border-color: transparent;\n",
              "      border-right-color: var(--fill-color);\n",
              "    }\n",
              "    80% {\n",
              "      border-color: transparent;\n",
              "      border-right-color: var(--fill-color);\n",
              "      border-bottom-color: var(--fill-color);\n",
              "    }\n",
              "    90% {\n",
              "      border-color: transparent;\n",
              "      border-bottom-color: var(--fill-color);\n",
              "    }\n",
              "  }\n",
              "</style>\n",
              "\n",
              "      <script>\n",
              "        async function quickchart(key) {\n",
              "          const quickchartButtonEl =\n",
              "            document.querySelector('#' + key + ' button');\n",
              "          quickchartButtonEl.disabled = true;  // To prevent multiple clicks.\n",
              "          quickchartButtonEl.classList.add('colab-df-spinner');\n",
              "          try {\n",
              "            const charts = await google.colab.kernel.invokeFunction(\n",
              "                'suggestCharts', [key], {});\n",
              "          } catch (error) {\n",
              "            console.error('Error during call to suggestCharts:', error);\n",
              "          }\n",
              "          quickchartButtonEl.classList.remove('colab-df-spinner');\n",
              "          quickchartButtonEl.classList.add('colab-df-quickchart-complete');\n",
              "        }\n",
              "        (() => {\n",
              "          let quickchartButtonEl =\n",
              "            document.querySelector('#df-be5da8d0-7825-4f53-adfc-23eeb7592777 button');\n",
              "          quickchartButtonEl.style.display =\n",
              "            google.colab.kernel.accessAllowed ? 'block' : 'none';\n",
              "        })();\n",
              "      </script>\n",
              "    </div>\n",
              "\n",
              "    </div>\n",
              "  </div>\n"
            ],
            "application/vnd.google.colaboratory.intrinsic+json": {
              "type": "dataframe",
              "summary": "{\n  \"name\": \"df[[DATE_COL,\\\"month\\\",\\\"year\\\"]]\",\n  \"rows\": 5,\n  \"fields\": [\n    {\n      \"column\": \"review_post_date\",\n      \"properties\": {\n        \"dtype\": \"date\",\n        \"min\": \"2025-09-26 00:00:00\",\n        \"max\": \"2025-10-04 00:00:00\",\n        \"num_unique_values\": 4,\n        \"samples\": [\n          \"2025-09-28 00:00:00\",\n          \"2025-09-26 00:00:00\",\n          \"2025-10-04 00:00:00\"\n        ],\n        \"semantic_type\": \"\",\n        \"description\": \"\"\n      }\n    },\n    {\n      \"column\": \"month\",\n      \"properties\": {\n        \"dtype\": \"int32\",\n        \"num_unique_values\": 2,\n        \"samples\": [\n          9,\n          10\n        ],\n        \"semantic_type\": \"\",\n        \"description\": \"\"\n      }\n    },\n    {\n      \"column\": \"year\",\n      \"properties\": {\n        \"dtype\": \"int32\",\n        \"num_unique_values\": 1,\n        \"samples\": [\n          2025\n        ],\n        \"semantic_type\": \"\",\n        \"description\": \"\"\n      }\n    }\n  ]\n}"
            }
          },
          "metadata": {},
          "execution_count": 8
        }
      ]
    }
  ]
}