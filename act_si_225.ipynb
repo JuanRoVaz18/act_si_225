{
  "nbformat": 4,
  "nbformat_minor": 0,
  "metadata": {
    "colab": {
      "provenance": [],
      "include_colab_link": true
    },
    "kernelspec": {
      "name": "python3",
      "display_name": "Python 3"
    },
    "language_info": {
      "name": "python"
    }
  },
  "cells": [
    {
      "cell_type": "markdown",
      "metadata": {
        "id": "view-in-github",
        "colab_type": "text"
      },
      "source": [
        "<a href=\"https://colab.research.google.com/github/JuanRoVaz18/act_si_225/blob/main/act_si_225.ipynb\" target=\"_parent\"><img src=\"https://colab.research.google.com/assets/colab-badge.svg\" alt=\"Open In Colab\"/></a>"
      ]
    },
    {
      "cell_type": "markdown",
      "source": [
        "#1) Setup (cloning and installation)\n",
        "What you do:\n",
        "\n",
        "git clone downloads the code for the tool (the scraper).\n",
        "\n",
        "%cd enters that folder.\n",
        "\n",
        "pip install -r ... installs the exact library versions the scraper needs"
      ],
      "metadata": {
        "id": "bzIwDsYt04lK"
      }
    },
    {
      "cell_type": "code",
      "execution_count": 1,
      "metadata": {
        "colab": {
          "base_uri": "https://localhost:8080/"
        },
        "id": "SCKKaaQtaDZE",
        "outputId": "74eabd0e-5b96-407f-ddd4-d2a24ecfde24"
      },
      "outputs": [
        {
          "output_type": "stream",
          "name": "stdout",
          "text": [
            "fatal: destination path 'booking-reviews-scraper' already exists and is not an empty directory.\n",
            "/content/booking-reviews-scraper\n",
            "Requirement already satisfied: beautifulsoup4==4.12.2 in /usr/local/lib/python3.12/dist-packages (from -r requirements.txt (line 1)) (4.12.2)\n",
            "Requirement already satisfied: numpy==1.26.2 in /usr/local/lib/python3.12/dist-packages (from -r requirements.txt (line 2)) (1.26.2)\n",
            "Requirement already satisfied: pydantic==2.4.2 in /usr/local/lib/python3.12/dist-packages (from -r requirements.txt (line 3)) (2.4.2)\n",
            "Requirement already satisfied: python_dateutil==2.8.2 in /usr/local/lib/python3.12/dist-packages (from -r requirements.txt (line 4)) (2.8.2)\n",
            "Requirement already satisfied: PyYAML==6.0.1 in /usr/local/lib/python3.12/dist-packages (from -r requirements.txt (line 5)) (6.0.1)\n",
            "Requirement already satisfied: Requests==2.31.0 in /usr/local/lib/python3.12/dist-packages (from -r requirements.txt (line 6)) (2.31.0)\n",
            "Requirement already satisfied: typer==0.9.0 in /usr/local/lib/python3.12/dist-packages (from -r requirements.txt (line 7)) (0.9.0)\n",
            "Requirement already satisfied: typing_extensions==4.8.0 in /usr/local/lib/python3.12/dist-packages (from -r requirements.txt (line 8)) (4.8.0)\n",
            "Requirement already satisfied: soupsieve>1.2 in /usr/local/lib/python3.12/dist-packages (from beautifulsoup4==4.12.2->-r requirements.txt (line 1)) (2.8)\n",
            "Requirement already satisfied: annotated-types>=0.4.0 in /usr/local/lib/python3.12/dist-packages (from pydantic==2.4.2->-r requirements.txt (line 3)) (0.7.0)\n",
            "Requirement already satisfied: pydantic-core==2.10.1 in /usr/local/lib/python3.12/dist-packages (from pydantic==2.4.2->-r requirements.txt (line 3)) (2.10.1)\n",
            "Requirement already satisfied: six>=1.5 in /usr/local/lib/python3.12/dist-packages (from python_dateutil==2.8.2->-r requirements.txt (line 4)) (1.17.0)\n",
            "Requirement already satisfied: charset-normalizer<4,>=2 in /usr/local/lib/python3.12/dist-packages (from Requests==2.31.0->-r requirements.txt (line 6)) (3.4.3)\n",
            "Requirement already satisfied: idna<4,>=2.5 in /usr/local/lib/python3.12/dist-packages (from Requests==2.31.0->-r requirements.txt (line 6)) (3.10)\n",
            "Requirement already satisfied: urllib3<3,>=1.21.1 in /usr/local/lib/python3.12/dist-packages (from Requests==2.31.0->-r requirements.txt (line 6)) (2.5.0)\n",
            "Requirement already satisfied: certifi>=2017.4.17 in /usr/local/lib/python3.12/dist-packages (from Requests==2.31.0->-r requirements.txt (line 6)) (2025.8.3)\n",
            "Requirement already satisfied: click<9.0.0,>=7.1.1 in /usr/local/lib/python3.12/dist-packages (from typer==0.9.0->-r requirements.txt (line 7)) (8.3.0)\n"
          ]
        }
      ],
      "source": [
        "# 1) Clone the scraper and install its dependencies\n",
        "!git clone https://github.com/sudoknight/booking-reviews-scraper.git\n",
        "%cd /content/booking-reviews-scraper\n",
        "!pip install -r requirements.txt\n"
      ]
    },
    {
      "cell_type": "markdown",
      "source": [
        "#2) Parameters and OUTPUT_DIR\n",
        "What you do: Define the extraction parameters and tell the scraper where to save the CSVs.\n",
        "\n",
        "Why: Parameterization = reproducibility. If you don't specify OUTPUT_DIR, the CSV won't appear.\n",
        "\n",
        "What you should see: OUTPUT_DIR: /content/data."
      ],
      "metadata": {
        "id": "cbkUAGeA07OO"
      }
    },
    {
      "cell_type": "code",
      "source": [
        "# 2) Set parameters (hotel slug, country, sort, requested number of reviews) and output folder\n",
        "import yaml, pathlib, os\n",
        "\n",
        "HOTEL_NAME = \"ibis-quito\"       # hotel slug after /hotel/<country>/ in the Booking URL\n",
        "COUNTRY    = \"ec\"               # ISO alpha-2: \"ec\" for Ecuador, \"us\" for USA, etc.\n",
        "SORT_BY    = \"newest_first\"     # or: most_relevant, oldest_first, highest_scores, lowest_scores\n",
        "N_REVIEWS  = 1500               # ask for ~1500 to try to capture ~1200 available; actual may be less\n",
        "\n",
        "OUTPUT_DIR = \"/content/data\"\n",
        "pathlib.Path(OUTPUT_DIR).mkdir(parents=True, exist_ok=True)\n",
        "\n",
        "# write OUTPUT_DIR into the project's config.yml so the scraper saves there\n",
        "cfg_path = \"/content/booking-reviews-scraper/config.yml\"\n",
        "with open(cfg_path) as f:\n",
        "    cfg = yaml.safe_load(f)\n",
        "cfg[\"OUTPUT_DIR\"] = OUTPUT_DIR\n",
        "with open(cfg_path, \"w\") as f:\n",
        "    yaml.safe_dump(cfg, f)\n",
        "\n",
        "print(\"OUTPUT_DIR:\", cfg[\"OUTPUT_DIR\"])\n"
      ],
      "metadata": {
        "colab": {
          "base_uri": "https://localhost:8080/"
        },
        "id": "lFD1D8kaaJuM",
        "outputId": "2770791e-0f2d-42ba-d30b-3e78dfd27e49"
      },
      "execution_count": 2,
      "outputs": [
        {
          "output_type": "stream",
          "name": "stdout",
          "text": [
            "OUTPUT_DIR: /content/data\n"
          ]
        }
      ]
    }
  ]
}